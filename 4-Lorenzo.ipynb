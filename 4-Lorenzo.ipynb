{
 "cells": [
  {
   "cell_type": "markdown",
   "metadata": {},
   "source": [
    "> I don't understand how the for loop works. I would like to create an array with values that I calculate over each iteration of the loop. But it seems the counter i is considered in the loop always with the last value it takes during the loop"
   ]
  },
  {
   "cell_type": "markdown",
   "metadata": {},
   "source": [
    "# Declare an 2l. by 3c. array\n",
    "Here's solution in pure Python, but better things exist (e.g. with numpy)"
   ]
  },
  {
   "cell_type": "code",
   "execution_count": 14,
   "metadata": {
    "collapsed": false
   },
   "outputs": [
    {
     "name": "stdout",
     "output_type": "stream",
     "text": [
      "How many lines?  2\n",
      "How many columns? 3\n",
      "So, right now my_array is [[0, 0, 0], [0, 0, 0]]\n"
     ]
    }
   ],
   "source": [
    "my_array = [[0, 0, 0],[0, 0, 0]]\n",
    "print \"How many lines? \", len(my_array)\n",
    "print \"How many columns?\", len(my_array[0])\n",
    "print \"So, right now my_array is\", my_array"
   ]
  },
  {
   "cell_type": "markdown",
   "metadata": {},
   "source": [
    "# Iterate other each dimension\n",
    "Since my_array has 2 dimensions, we need two loops in our specific case."
   ]
  },
  {
   "cell_type": "code",
   "execution_count": 15,
   "metadata": {
    "collapsed": false
   },
   "outputs": [
    {
     "name": "stdout",
     "output_type": "stream",
     "text": [
      "Where are we ? At line 0 column 0\n",
      "... What's array[ 0 ][ 0 ] originally? It's 0\n",
      "... And what have we done to array[ 0 ][ 0 ] ? Now it's 0.0\n",
      "... Ok, next.\n",
      "Where are we ? At line 0 column 1\n",
      "... What's array[ 0 ][ 1 ] originally? It's 0\n",
      "... And what have we done to array[ 0 ][ 1 ] ? Now it's 0.1\n",
      "... Ok, next.\n",
      "Where are we ? At line 0 column 2\n",
      "... What's array[ 0 ][ 2 ] originally? It's 0\n",
      "... And what have we done to array[ 0 ][ 2 ] ? Now it's 0.2\n",
      "... Ok, next.\n",
      "Where are we ? At line 1 column 0\n",
      "... What's array[ 1 ][ 0 ] originally? It's 0\n",
      "... And what have we done to array[ 1 ][ 0 ] ? Now it's 1.0\n",
      "... Ok, next.\n",
      "Where are we ? At line 1 column 1\n",
      "... What's array[ 1 ][ 1 ] originally? It's 0\n",
      "... And what have we done to array[ 1 ][ 1 ] ? Now it's 1.1\n",
      "... Ok, next.\n",
      "Where are we ? At line 1 column 2\n",
      "... What's array[ 1 ][ 2 ] originally? It's 0\n",
      "... And what have we done to array[ 1 ][ 2 ] ? Now it's 1.2\n",
      "... Ok, next.\n"
     ]
    }
   ],
   "source": [
    "# iteration over lines\n",
    "for l in range(len(my_array)):\n",
    "    # iterationS over columns\n",
    "    for c in range(len(my_array[l])):\n",
    "        \n",
    "        print \"Where are we ? At line\", l, \"column\", c \n",
    "        print \"... What's array[\", l,\"][\",c, \"] originally? It's\", my_array[l][c]\n",
    "        \n",
    "        # change in the corresponding cell of my_array\n",
    "        my_array[l][c] += l+c/10.\n",
    "        \n",
    "        print \"... And what have we done to array[\", l,\"][\",c, \"] ? Now it's\", my_array[l][c]\n",
    "        print \"... Ok, next.\""
   ]
  },
  {
   "cell_type": "markdown",
   "metadata": {},
   "source": [
    ">** Carefull: **\n",
    ">The dot of 10. in the division is mandatory to get the right result.\n",
    "\n",
    "The final state of my_array is:"
   ]
  },
  {
   "cell_type": "code",
   "execution_count": 16,
   "metadata": {
    "collapsed": false
   },
   "outputs": [
    {
     "name": "stdout",
     "output_type": "stream",
     "text": [
      "[[0.0, 0.1, 0.2], [1.0, 1.1, 1.2]]\n"
     ]
    }
   ],
   "source": [
    "print my_array"
   ]
  }
 ],
 "metadata": {
  "kernelspec": {
   "display_name": "Python 2",
   "language": "python",
   "name": "python2"
  },
  "language_info": {
   "codemirror_mode": {
    "name": "ipython",
    "version": 2
   },
   "file_extension": ".py",
   "mimetype": "text/x-python",
   "name": "python",
   "nbconvert_exporter": "python",
   "pygments_lexer": "ipython2",
   "version": "2.7.11"
  }
 },
 "nbformat": 4,
 "nbformat_minor": 0
}
