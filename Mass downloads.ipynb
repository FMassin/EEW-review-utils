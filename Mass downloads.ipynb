{
 "cells": [
  {
   "cell_type": "markdown",
   "metadata": {
    "collapsed": true
   },
   "source": [
    "# Dependencies\n",
    "All dependencies below can be resolved by installing [obspy via Anaconda](https://github.com/obspy/obspy/wiki/Installation-via-Anaconda), in detail the following need to be installed:\n",
    "* python\n",
    "* jupyter\n",
    "* obspy\n",
    "\n",
    "# Download\n",
    "Fetching all the data and metadata available at http://165.98.224.52:8081/fdsnws in a given rectangular domain around Masaya volcano.\n",
    "\n",
    "Data are restricted to a time span given by **starttime** and **endtime**.\n",
    "\n",
    "WARNING : It seems that old data are not yet available **starttime** and **endtime** should be in the last 3 months."
   ]
  },
  {
   "cell_type": "code",
   "execution_count": 3,
   "metadata": {
    "collapsed": false,
    "scrolled": true
   },
   "outputs": [
    {
     "name": "stderr",
     "output_type": "stream",
     "text": [
      "[2016-09-16 12:32:32,224] - obspy.clients.fdsn.mass_downloader - INFO: Initializing FDSN client(s) for http://165.98.224.52:8081/.\n",
      "[2016-09-16 12:32:32,244] - obspy.clients.fdsn.mass_downloader - INFO: Successfully initialized 1 client(s): http://165.98.224.52:8081/.\n",
      "[2016-09-16 12:32:32,245] - obspy.clients.fdsn.mass_downloader - INFO: Total acquired or preexisting stations: 0\n",
      "[2016-09-16 12:32:32,246] - obspy.clients.fdsn.mass_downloader - INFO: Client 'http://165.98.224.52:8081/' - Requesting unreliable availability.\n"
     ]
    },
    {
     "name": "stdout",
     "output_type": "stream",
     "text": [
      "Base URL: http://165.98.224.52:8081\n",
      "Request Headers: {'User-Agent': 'ObsPy 1.0.2 (Darwin-15.6.0-x86_64-i386-64bit, Python 3.5.2)'}\n",
      "Loading discovered services from cache.\n",
      "Downloading http://165.98.224.52:8081/fdsnws/station/1/query?format=text&starttime=2016-09-15T05%3A50%3A00.000000&maxlatitude=20.0&minlatitude=5.0&level=channel&endtime=2016-09-16T06%3A15%3A00.000000&channel=%2A&station=%2A&minlongitude=-100.0&network=%2A&location=%2A&maxlongitude=-75.0 with requesting gzip compression\n"
     ]
    },
    {
     "name": "stderr",
     "output_type": "stream",
     "text": [
      "[2016-09-16 12:32:33,880] - obspy.clients.fdsn.mass_downloader - INFO: Client 'http://165.98.224.52:8081/' - Successfully requested availability (1.63 seconds)\n"
     ]
    },
    {
     "name": "stdout",
     "output_type": "stream",
     "text": [
      "Downloaded http://165.98.224.52:8081/fdsnws/station/1/query?format=text&starttime=2016-09-15T05%3A50%3A00.000000&maxlatitude=20.0&minlatitude=5.0&level=channel&endtime=2016-09-16T06%3A15%3A00.000000&channel=%2A&station=%2A&minlongitude=-100.0&network=%2A&location=%2A&maxlongitude=-75.0 with HTTP code: 200\n"
     ]
    },
    {
     "name": "stderr",
     "output_type": "stream",
     "text": [
      "[2016-09-16 12:32:34,049] - obspy.clients.fdsn.mass_downloader - INFO: Client 'http://165.98.224.52:8081/' - Found 177 stations (513 channels).\n",
      "[2016-09-16 12:32:34,054] - obspy.clients.fdsn.mass_downloader - INFO: Client 'http://165.98.224.52:8081/' - Will attempt to download data from 177 stations.\n",
      "[2016-09-16 12:32:34,125] - obspy.clients.fdsn.mass_downloader - INFO: Client 'http://165.98.224.52:8081/' - Status for 1026 time intervals/channels before downloading: NEEDS_DOWNLOADING\n"
     ]
    },
    {
     "name": "stdout",
     "output_type": "stream",
     "text": [
      "Downloading http://165.98.224.52:8081/fdsnws/dataselect/1/query with requesting gzip compression\n",
      "Sending along the following payload:\n",
      "----------------------------------------------------------------------\n",
      "OV VTCV -- HHE 2016-09-15T05:50:00.000000 2016-09-16T05:50:00.000000\n",
      "----------------------------------------------------------------------\n",
      "Downloading http://165.98.224.52:8081/fdsnws/dataselect/1/query with requesting gzip compression\n",
      "Sending along the following payload:\n",
      "----------------------------------------------------------------------\n",
      "TC LCR2 -- HHN 2016-09-16T05:50:00.000000 2016-09-16T06:15:00.000000\n",
      "TC LCR2 -- HHZ 2016-09-15T05:50:00.000000 2016-09-16T05:50:00.000000\n",
      "----------------------------------------------------------------------\n",
      "Downloading http://165.98.224.52:8081/fdsnws/dataselect/1/query with requesting gzip compression\n",
      "Sending along the following payload:\n",
      "----------------------------------------------------------------------\n",
      "NU BRAN 00 EHE 2016-09-16T05:50:00.000000 2016-09-16T06:15:00.000000\n",
      "NU BRAN 00 EHN 2016-09-15T05:50:00.000000 2016-09-16T05:50:00.000000\n",
      "----------------------------------------------------------------------\n"
     ]
    },
    {
     "name": "stderr",
     "output_type": "stream",
     "text": [
      "[2016-09-16 12:32:37,975] - obspy.clients.fdsn.mass_downloader - INFO: Client 'http://165.98.224.52:8081/' - No data available for request.\n",
      "[2016-09-16 12:32:38,150] - obspy.clients.fdsn.mass_downloader - INFO: Client 'http://165.98.224.52:8081/' - No data available for request.\n"
     ]
    },
    {
     "name": "stdout",
     "output_type": "stream",
     "text": [
      "Downloaded http://165.98.224.52:8081/fdsnws/dataselect/1/query with HTTP code: 204\n",
      "Downloading http://165.98.224.52:8081/fdsnws/dataselect/1/query with requesting gzip compression\n",
      "Sending along the following payload:\n",
      "----------------------------------------------------------------------\n",
      "TC LCR2 -- HHZ 2016-09-16T05:50:00.000000 2016-09-16T06:15:00.000000\n",
      "GE BOAB -- HHE 2016-09-15T05:50:00.000000 2016-09-16T05:50:00.000000\n",
      "----------------------------------------------------------------------\n",
      "Downloaded http://165.98.224.52:8081/fdsnws/dataselect/1/query with HTTP code: 204\n",
      "Downloading http://165.98.224.52:8081/fdsnws/dataselect/1/query with requesting gzip compression\n",
      "Sending along the following payload:\n",
      "----------------------------------------------------------------------\n",
      "NU BRAN 00 EHN 2016-09-16T05:50:00.000000 2016-09-16T06:15:00.000000\n",
      "NU BRAN 00 EHZ 2016-09-15T05:50:00.000000 2016-09-16T05:50:00.000000\n",
      "----------------------------------------------------------------------\n"
     ]
    },
    {
     "name": "stderr",
     "output_type": "stream",
     "text": [
      "[2016-09-16 12:32:41,306] - obspy.clients.fdsn.mass_downloader - INFO: Client 'http://165.98.224.52:8081/' - No data available for request.\n"
     ]
    },
    {
     "name": "stdout",
     "output_type": "stream",
     "text": [
      "Downloaded http://165.98.224.52:8081/fdsnws/dataselect/1/query with HTTP code: 204\n",
      "Downloading http://165.98.224.52:8081/fdsnws/dataselect/1/query with requesting gzip compression\n",
      "Sending along the following payload:\n",
      "----------------------------------------------------------------------\n",
      "OV VTUC -- HHE 2016-09-15T05:50:00.000000 2016-09-16T05:50:00.000000\n",
      "NU BRAN 00 EHZ 2016-09-16T05:50:00.000000 2016-09-16T06:15:00.000000\n",
      "----------------------------------------------------------------------\n",
      "Downloaded http://165.98.224.52:8081/fdsnws/dataselect/1/query with HTTP code: 200\n",
      "Downloaded http://165.98.224.52:8081/fdsnws/dataselect/1/query with HTTP code: 200\n"
     ]
    },
    {
     "name": "stderr",
     "output_type": "stream",
     "text": [
      "[2016-09-16 12:33:18,421] - obspy.clients.fdsn.mass_downloader - INFO: Client 'http://165.98.224.52:8081/' - Successfully downloaded 1 channels (of 1)\n"
     ]
    },
    {
     "name": "stdout",
     "output_type": "stream",
     "text": [
      "Downloading http://165.98.224.52:8081/fdsnws/dataselect/1/query with requesting gzip compression\n",
      "Sending along the following payload:\n",
      "----------------------------------------------------------------------\n",
      "OV VTCV -- HHN 2016-09-15T05:50:00.000000 2016-09-16T05:50:00.000000\n",
      "OV VTCV -- HHE 2016-09-16T05:50:00.000000 2016-09-16T06:15:00.000000\n",
      "----------------------------------------------------------------------\n"
     ]
    },
    {
     "name": "stderr",
     "output_type": "stream",
     "text": [
      "[2016-09-16 12:33:20,292] - obspy.clients.fdsn.mass_downloader - INFO: Client 'http://165.98.224.52:8081/' - Successfully downloaded 1 channels (of 2)\n"
     ]
    },
    {
     "name": "stdout",
     "output_type": "stream",
     "text": [
      "Downloading http://165.98.224.52:8081/fdsnws/dataselect/1/query with requesting gzip compression\n",
      "Sending along the following payload:\n",
      "----------------------------------------------------------------------\n",
      "GE BOAB -- HHN 2016-09-15T05:50:00.000000 2016-09-16T05:50:00.000000\n",
      "GE BOAB -- HHE 2016-09-16T05:50:00.000000 2016-09-16T06:15:00.000000\n",
      "----------------------------------------------------------------------\n",
      "Downloaded http://165.98.224.52:8081/fdsnws/dataselect/1/query with HTTP code: 200\n"
     ]
    },
    {
     "name": "stderr",
     "output_type": "stream",
     "text": [
      "[2016-09-16 12:33:36,042] - obspy.clients.fdsn.mass_downloader - INFO: Client 'http://165.98.224.52:8081/' - Successfully downloaded 1 channels (of 2)\n"
     ]
    },
    {
     "name": "stdout",
     "output_type": "stream",
     "text": [
      "Downloading http://165.98.224.52:8081/fdsnws/dataselect/1/query with requesting gzip compression\n",
      "Sending along the following payload:\n",
      "----------------------------------------------------------------------\n",
      "OV VTUC -- HHE 2016-09-16T05:50:00.000000 2016-09-16T06:15:00.000000\n",
      "OV VTUC -- HHN 2016-09-15T05:50:00.000000 2016-09-16T05:50:00.000000\n",
      "----------------------------------------------------------------------\n",
      "Downloaded http://165.98.224.52:8081/fdsnws/dataselect/1/query with HTTP code: 200\n"
     ]
    },
    {
     "name": "stderr",
     "output_type": "stream",
     "text": [
      "[2016-09-16 12:33:52,393] - obspy.clients.fdsn.mass_downloader - INFO: Client 'http://165.98.224.52:8081/' - Successfully downloaded 2 channels (of 2)\n"
     ]
    },
    {
     "name": "stdout",
     "output_type": "stream",
     "text": [
      "Downloading http://165.98.224.52:8081/fdsnws/dataselect/1/query with requesting gzip compression\n",
      "Sending along the following payload:\n",
      "----------------------------------------------------------------------\n",
      "OV VTCV -- HHZ 2016-09-15T05:50:00.000000 2016-09-16T05:50:00.000000\n",
      "OV VTCV -- HHN 2016-09-16T05:50:00.000000 2016-09-16T06:15:00.000000\n",
      "----------------------------------------------------------------------\n",
      "Downloaded http://165.98.224.52:8081/fdsnws/dataselect/1/query with HTTP code: 200\n"
     ]
    },
    {
     "name": "stderr",
     "output_type": "stream",
     "text": [
      "[2016-09-16 12:33:55,850] - obspy.clients.fdsn.mass_downloader - INFO: Client 'http://165.98.224.52:8081/' - Successfully downloaded 2 channels (of 2)\n"
     ]
    },
    {
     "name": "stdout",
     "output_type": "stream",
     "text": [
      "Downloading http://165.98.224.52:8081/fdsnws/dataselect/1/query with requesting gzip compression\n",
      "Sending along the following payload:\n",
      "----------------------------------------------------------------------\n",
      "GE BOAB -- HHZ 2016-09-15T05:50:00.000000 2016-09-16T05:50:00.000000\n",
      "GE BOAB -- HHN 2016-09-16T05:50:00.000000 2016-09-16T06:15:00.000000\n",
      "----------------------------------------------------------------------\n",
      "Downloaded http://165.98.224.52:8081/fdsnws/dataselect/1/query with HTTP code: 200\n",
      "Downloaded http://165.98.224.52:8081/fdsnws/dataselect/1/query with HTTP code: 200\n"
     ]
    },
    {
     "name": "stderr",
     "output_type": "stream",
     "text": [
      "[2016-09-16 12:34:26,538] - obspy.clients.fdsn.mass_downloader - INFO: Client 'http://165.98.224.52:8081/' - Successfully downloaded 2 channels (of 2)\n"
     ]
    },
    {
     "name": "stdout",
     "output_type": "stream",
     "text": [
      "Downloading http://165.98.224.52:8081/fdsnws/dataselect/1/query with requesting gzip compression\n",
      "Sending along the following payload:\n",
      "----------------------------------------------------------------------\n",
      "GE BOAB -- HHZ 2016-09-16T05:50:00.000000 2016-09-16T06:15:00.000000\n",
      "OV VACR -- HHE 2016-09-15T05:50:00.000000 2016-09-16T05:50:00.000000\n",
      "----------------------------------------------------------------------\n"
     ]
    },
    {
     "name": "stderr",
     "output_type": "stream",
     "text": [
      "[2016-09-16 12:34:27,406] - obspy.clients.fdsn.mass_downloader - INFO: Client 'http://165.98.224.52:8081/' - Successfully downloaded 2 channels (of 2)\n"
     ]
    },
    {
     "name": "stdout",
     "output_type": "stream",
     "text": [
      "Downloading http://165.98.224.52:8081/fdsnws/dataselect/1/query with requesting gzip compression\n",
      "Sending along the following payload:\n",
      "----------------------------------------------------------------------\n",
      "OV VTUC -- HHN 2016-09-16T05:50:00.000000 2016-09-16T06:15:00.000000\n",
      "OV VTUC -- HHZ 2016-09-15T05:50:00.000000 2016-09-16T05:50:00.000000\n",
      "----------------------------------------------------------------------\n"
     ]
    },
    {
     "name": "stderr",
     "output_type": "stream",
     "text": [
      "[2016-09-16 12:34:32,845] - obspy.clients.fdsn.mass_downloader - INFO: Client 'http://165.98.224.52:8081/' - Successfully downloaded 1 channels (of 2)\n"
     ]
    },
    {
     "name": "stdout",
     "output_type": "stream",
     "text": [
      "Downloaded http://165.98.224.52:8081/fdsnws/dataselect/1/query with HTTP code: 200\n",
      "Downloading http://165.98.224.52:8081/fdsnws/dataselect/1/query with requesting gzip compression\n",
      "Sending along the following payload:\n",
      "----------------------------------------------------------------------\n",
      "OV VACR -- HHE 2016-09-16T05:50:00.000000 2016-09-16T06:15:00.000000\n",
      "OV VACR -- HHN 2016-09-15T05:50:00.000000 2016-09-16T05:50:00.000000\n",
      "----------------------------------------------------------------------\n"
     ]
    },
    {
     "name": "stderr",
     "output_type": "stream",
     "text": [
      "[2016-09-16 12:34:33,406] - obspy.clients.fdsn.mass_downloader - INFO: Client 'http://165.98.224.52:8081/' - No data available for request.\n"
     ]
    },
    {
     "name": "stdout",
     "output_type": "stream",
     "text": [
      "Downloaded http://165.98.224.52:8081/fdsnws/dataselect/1/query with HTTP code: 204\n",
      "Downloading http://165.98.224.52:8081/fdsnws/dataselect/1/query with requesting gzip compression\n",
      "Sending along the following payload:\n",
      "----------------------------------------------------------------------\n",
      "OV VACR -- HHZ 2016-09-15T05:50:00.000000 2016-09-16T05:50:00.000000\n",
      "OV VACR -- HHN 2016-09-16T05:50:00.000000 2016-09-16T06:15:00.000000\n",
      "----------------------------------------------------------------------\n"
     ]
    },
    {
     "name": "stderr",
     "output_type": "stream",
     "text": [
      "[2016-09-16 12:34:33,987] - obspy.clients.fdsn.mass_downloader - INFO: Client 'http://165.98.224.52:8081/' - No data available for request.\n"
     ]
    },
    {
     "name": "stdout",
     "output_type": "stream",
     "text": [
      "Downloaded http://165.98.224.52:8081/fdsnws/dataselect/1/query with HTTP code: 204\n",
      "Downloading http://165.98.224.52:8081/fdsnws/dataselect/1/query with requesting gzip compression\n",
      "Sending along the following payload:\n",
      "----------------------------------------------------------------------\n",
      "OV VACR -- HHZ 2016-09-16T05:50:00.000000 2016-09-16T06:15:00.000000\n",
      "NU PLRN 00 EHE 2016-09-15T05:50:00.000000 2016-09-16T05:50:00.000000\n",
      "----------------------------------------------------------------------\n",
      "Downloaded http://165.98.224.52:8081/fdsnws/dataselect/1/query with HTTP code: 200\n"
     ]
    },
    {
     "name": "stderr",
     "output_type": "stream",
     "text": [
      "[2016-09-16 12:34:46,358] - obspy.clients.fdsn.mass_downloader - INFO: Client 'http://165.98.224.52:8081/' - Successfully downloaded 2 channels (of 2)\n"
     ]
    },
    {
     "name": "stdout",
     "output_type": "stream",
     "text": [
      "Downloading http://165.98.224.52:8081/fdsnws/dataselect/1/query with requesting gzip compression\n",
      "Sending along the following payload:\n",
      "----------------------------------------------------------------------\n",
      "OV VTCV -- HHZ 2016-09-16T05:50:00.000000 2016-09-16T06:15:00.000000\n",
      "TC PIRO -- HHE 2016-09-15T05:50:00.000000 2016-09-16T05:50:00.000000\n",
      "----------------------------------------------------------------------\n"
     ]
    },
    {
     "name": "stderr",
     "output_type": "stream",
     "text": [
      "[2016-09-16 12:34:48,083] - obspy.clients.fdsn.mass_downloader - INFO: Client 'http://165.98.224.52:8081/' - Successfully downloaded 1 channels (of 2)\n"
     ]
    },
    {
     "name": "stdout",
     "output_type": "stream",
     "text": [
      "Downloaded http://165.98.224.52:8081/fdsnws/dataselect/1/query with HTTP code: 200\n",
      "Downloading http://165.98.224.52:8081/fdsnws/dataselect/1/query with requesting gzip compression\n",
      "Sending along the following payload:\n",
      "----------------------------------------------------------------------\n",
      "TC PIRO -- HHE 2016-09-16T05:50:00.000000 2016-09-16T06:15:00.000000\n",
      "TC PIRO -- HHN 2016-09-15T05:50:00.000000 2016-09-16T05:50:00.000000\n",
      "----------------------------------------------------------------------\n"
     ]
    },
    {
     "name": "stderr",
     "output_type": "stream",
     "text": [
      "[2016-09-16 12:34:48,563] - obspy.clients.fdsn.mass_downloader - INFO: Client 'http://165.98.224.52:8081/' - No data available for request.\n"
     ]
    },
    {
     "name": "stdout",
     "output_type": "stream",
     "text": [
      "Downloaded http://165.98.224.52:8081/fdsnws/dataselect/1/query with HTTP code: 204\n",
      "Downloading http://165.98.224.52:8081/fdsnws/dataselect/1/query with requesting gzip compression\n",
      "Sending along the following payload:\n",
      "----------------------------------------------------------------------\n",
      "TC PIRO -- HHN 2016-09-16T05:50:00.000000 2016-09-16T06:15:00.000000\n",
      "TC PIRO -- HHZ 2016-09-15T05:50:00.000000 2016-09-16T05:50:00.000000\n",
      "----------------------------------------------------------------------\n"
     ]
    },
    {
     "name": "stderr",
     "output_type": "stream",
     "text": [
      "[2016-09-16 12:34:49,076] - obspy.clients.fdsn.mass_downloader - INFO: Client 'http://165.98.224.52:8081/' - No data available for request.\n"
     ]
    },
    {
     "name": "stdout",
     "output_type": "stream",
     "text": [
      "Downloaded http://165.98.224.52:8081/fdsnws/dataselect/1/query with HTTP code: 204\n",
      "Downloading http://165.98.224.52:8081/fdsnws/dataselect/1/query with requesting gzip compression\n",
      "Sending along the following payload:\n",
      "----------------------------------------------------------------------\n",
      "TC ICR3 -- HHE 2016-09-15T05:50:00.000000 2016-09-16T05:50:00.000000\n",
      "TC PIRO -- HHZ 2016-09-16T05:50:00.000000 2016-09-16T06:15:00.000000\n",
      "----------------------------------------------------------------------\n"
     ]
    },
    {
     "name": "stderr",
     "output_type": "stream",
     "text": [
      "[2016-09-16 12:34:49,630] - obspy.clients.fdsn.mass_downloader - INFO: Client 'http://165.98.224.52:8081/' - No data available for request.\n"
     ]
    },
    {
     "name": "stdout",
     "output_type": "stream",
     "text": [
      "Downloaded http://165.98.224.52:8081/fdsnws/dataselect/1/query with HTTP code: 204\n",
      "Downloading http://165.98.224.52:8081/fdsnws/dataselect/1/query with requesting gzip compression\n",
      "Sending along the following payload:\n",
      "----------------------------------------------------------------------\n",
      "TC ICR3 -- HHE 2016-09-16T05:50:00.000000 2016-09-16T06:15:00.000000\n",
      "TC ICR3 -- HHN 2016-09-15T05:50:00.000000 2016-09-16T05:50:00.000000\n",
      "----------------------------------------------------------------------\n"
     ]
    },
    {
     "name": "stderr",
     "output_type": "stream",
     "text": [
      "[2016-09-16 12:34:50,182] - obspy.clients.fdsn.mass_downloader - INFO: Client 'http://165.98.224.52:8081/' - No data available for request.\n"
     ]
    },
    {
     "name": "stdout",
     "output_type": "stream",
     "text": [
      "Downloaded http://165.98.224.52:8081/fdsnws/dataselect/1/query with HTTP code: 204\n",
      "Downloading http://165.98.224.52:8081/fdsnws/dataselect/1/query with requesting gzip compression\n",
      "Sending along the following payload:\n",
      "----------------------------------------------------------------------\n",
      "TC ICR3 -- HHN 2016-09-16T05:50:00.000000 2016-09-16T06:15:00.000000\n",
      "TC ICR3 -- HHZ 2016-09-15T05:50:00.000000 2016-09-16T05:50:00.000000\n",
      "----------------------------------------------------------------------\n"
     ]
    },
    {
     "name": "stderr",
     "output_type": "stream",
     "text": [
      "[2016-09-16 12:34:50,701] - obspy.clients.fdsn.mass_downloader - INFO: Client 'http://165.98.224.52:8081/' - No data available for request.\n"
     ]
    },
    {
     "name": "stdout",
     "output_type": "stream",
     "text": [
      "Downloaded http://165.98.224.52:8081/fdsnws/dataselect/1/query with HTTP code: 204\n",
      "Downloading http://165.98.224.52:8081/fdsnws/dataselect/1/query with requesting gzip compression\n",
      "Sending along the following payload:\n",
      "----------------------------------------------------------------------\n",
      "TC ICR3 -- HHZ 2016-09-16T05:50:00.000000 2016-09-16T06:15:00.000000\n",
      "OV HATI -- HHE 2016-09-15T05:50:00.000000 2016-09-16T05:50:00.000000\n",
      "----------------------------------------------------------------------\n",
      "Downloaded http://165.98.224.52:8081/fdsnws/dataselect/1/query with HTTP code: 200\n"
     ]
    },
    {
     "name": "stderr",
     "output_type": "stream",
     "text": [
      "[2016-09-16 12:35:07,205] - obspy.clients.fdsn.mass_downloader - INFO: Client 'http://165.98.224.52:8081/' - Successfully downloaded 2 channels (of 2)\n"
     ]
    },
    {
     "name": "stdout",
     "output_type": "stream",
     "text": [
      "Downloading http://165.98.224.52:8081/fdsnws/dataselect/1/query with requesting gzip compression\n",
      "Sending along the following payload:\n",
      "----------------------------------------------------------------------\n",
      "PC PINA -- EHE 2016-09-15T05:50:00.000000 2016-09-16T05:50:00.000000\n",
      "OV VTUC -- HHZ 2016-09-16T05:50:00.000000 2016-09-16T06:15:00.000000\n",
      "----------------------------------------------------------------------\n"
     ]
    },
    {
     "name": "stderr",
     "output_type": "stream",
     "text": [
      "[2016-09-16 12:35:09,059] - obspy.clients.fdsn.mass_downloader - INFO: Client 'http://165.98.224.52:8081/' - Successfully downloaded 1 channels (of 2)\n"
     ]
    },
    {
     "name": "stdout",
     "output_type": "stream",
     "text": [
      "Downloaded http://165.98.224.52:8081/fdsnws/dataselect/1/query with HTTP code: 200\n",
      "Downloading http://165.98.224.52:8081/fdsnws/dataselect/1/query with requesting gzip compression\n",
      "Sending along the following payload:\n",
      "----------------------------------------------------------------------\n",
      "PC PINA -- EHE 2016-09-16T05:50:00.000000 2016-09-16T06:15:00.000000\n",
      "PC PINA -- EHN 2016-09-15T05:50:00.000000 2016-09-16T05:50:00.000000\n",
      "----------------------------------------------------------------------\n"
     ]
    },
    {
     "name": "stderr",
     "output_type": "stream",
     "text": [
      "[2016-09-16 12:35:09,572] - obspy.clients.fdsn.mass_downloader - INFO: Client 'http://165.98.224.52:8081/' - No data available for request.\n"
     ]
    },
    {
     "name": "stdout",
     "output_type": "stream",
     "text": [
      "Downloaded http://165.98.224.52:8081/fdsnws/dataselect/1/query with HTTP code: 204\n",
      "Downloading http://165.98.224.52:8081/fdsnws/dataselect/1/query with requesting gzip compression\n",
      "Sending along the following payload:\n",
      "----------------------------------------------------------------------\n",
      "PC PINA -- EHZ 2016-09-15T05:50:00.000000 2016-09-16T05:50:00.000000\n",
      "PC PINA -- EHN 2016-09-16T05:50:00.000000 2016-09-16T06:15:00.000000\n",
      "----------------------------------------------------------------------\n"
     ]
    },
    {
     "name": "stderr",
     "output_type": "stream",
     "text": [
      "[2016-09-16 12:35:10,095] - obspy.clients.fdsn.mass_downloader - INFO: Client 'http://165.98.224.52:8081/' - No data available for request.\n"
     ]
    },
    {
     "name": "stdout",
     "output_type": "stream",
     "text": [
      "Downloaded http://165.98.224.52:8081/fdsnws/dataselect/1/query with HTTP code: 204\n",
      "Downloading http://165.98.224.52:8081/fdsnws/dataselect/1/query with requesting gzip compression\n",
      "Sending along the following payload:\n",
      "----------------------------------------------------------------------\n",
      "NU APQ3 00 EHE 2016-09-15T05:50:00.000000 2016-09-16T05:50:00.000000\n",
      "PC PINA -- EHZ 2016-09-16T05:50:00.000000 2016-09-16T06:15:00.000000\n",
      "----------------------------------------------------------------------\n",
      "Downloaded http://165.98.224.52:8081/fdsnws/dataselect/1/query with HTTP code: 200\n"
     ]
    },
    {
     "name": "stderr",
     "output_type": "stream",
     "text": [
      "[2016-09-16 12:35:24,269] - obspy.clients.fdsn.mass_downloader - INFO: Client 'http://165.98.224.52:8081/' - Successfully downloaded 1 channels (of 2)\n"
     ]
    },
    {
     "name": "stdout",
     "output_type": "stream",
     "text": [
      "Downloading http://165.98.224.52:8081/fdsnws/dataselect/1/query with requesting gzip compression\n",
      "Sending along the following payload:\n",
      "----------------------------------------------------------------------\n",
      "OV HATI -- HHN 2016-09-15T05:50:00.000000 2016-09-16T05:50:00.000000\n",
      "OV HATI -- HHE 2016-09-16T05:50:00.000000 2016-09-16T06:15:00.000000\n",
      "----------------------------------------------------------------------\n",
      "Downloaded http://165.98.224.52:8081/fdsnws/dataselect/1/query with HTTP code: 200\n"
     ]
    },
    {
     "name": "stderr",
     "output_type": "stream",
     "text": [
      "[2016-09-16 12:35:46,229] - obspy.clients.fdsn.mass_downloader - INFO: Client 'http://165.98.224.52:8081/' - Successfully downloaded 1 channels (of 2)\n"
     ]
    },
    {
     "name": "stdout",
     "output_type": "stream",
     "text": [
      "Downloading http://165.98.224.52:8081/fdsnws/dataselect/1/query with requesting gzip compression\n",
      "Sending along the following payload:\n",
      "----------------------------------------------------------------------\n",
      "NU PLRN 00 EHN 2016-09-15T05:50:00.000000 2016-09-16T05:50:00.000000\n",
      "NU PLRN 00 EHE 2016-09-16T05:50:00.000000 2016-09-16T06:15:00.000000\n",
      "----------------------------------------------------------------------\n",
      "Downloaded http://165.98.224.52:8081/fdsnws/dataselect/1/query with HTTP code: 200\n"
     ]
    },
    {
     "name": "stderr",
     "output_type": "stream",
     "text": [
      "[2016-09-16 12:35:50,185] - obspy.clients.fdsn.mass_downloader - INFO: Client 'http://165.98.224.52:8081/' - Successfully downloaded 1 channels (of 2)\n"
     ]
    },
    {
     "name": "stdout",
     "output_type": "stream",
     "text": [
      "Downloading http://165.98.224.52:8081/fdsnws/dataselect/1/query with requesting gzip compression\n",
      "Sending along the following payload:\n",
      "----------------------------------------------------------------------\n",
      "NU APQ3 00 EHE 2016-09-16T05:50:00.000000 2016-09-16T06:15:00.000000\n",
      "NU APQ3 00 EHN 2016-09-15T05:50:00.000000 2016-09-16T05:50:00.000000\n",
      "----------------------------------------------------------------------\n",
      "Downloaded http://165.98.224.52:8081/fdsnws/dataselect/1/query with HTTP code: 200\n"
     ]
    },
    {
     "name": "stderr",
     "output_type": "stream",
     "text": [
      "[2016-09-16 12:36:02,651] - obspy.clients.fdsn.mass_downloader - INFO: Client 'http://165.98.224.52:8081/' - Successfully downloaded 2 channels (of 2)\n"
     ]
    },
    {
     "name": "stdout",
     "output_type": "stream",
     "text": [
      "Downloading http://165.98.224.52:8081/fdsnws/dataselect/1/query with requesting gzip compression\n",
      "Sending along the following payload:\n",
      "----------------------------------------------------------------------\n",
      "OV HATI -- HHZ 2016-09-15T05:50:00.000000 2016-09-16T05:50:00.000000\n",
      "OV HATI -- HHN 2016-09-16T05:50:00.000000 2016-09-16T06:15:00.000000\n",
      "----------------------------------------------------------------------\n",
      "Downloaded http://165.98.224.52:8081/fdsnws/dataselect/1/query with HTTP code: 200\n"
     ]
    },
    {
     "name": "stderr",
     "output_type": "stream",
     "text": [
      "[2016-09-16 12:36:25,798] - obspy.clients.fdsn.mass_downloader - INFO: Client 'http://165.98.224.52:8081/' - Successfully downloaded 2 channels (of 2)\n"
     ]
    },
    {
     "name": "stdout",
     "output_type": "stream",
     "text": [
      "Downloading http://165.98.224.52:8081/fdsnws/dataselect/1/query with requesting gzip compression\n",
      "Sending along the following payload:\n",
      "----------------------------------------------------------------------\n",
      "OV HATI -- HHZ 2016-09-16T05:50:00.000000 2016-09-16T06:15:00.000000\n",
      "OV CTCR -- HHE 2016-09-15T05:50:00.000000 2016-09-16T05:50:00.000000\n",
      "----------------------------------------------------------------------\n"
     ]
    },
    {
     "name": "stderr",
     "output_type": "stream",
     "text": [
      "[2016-09-16 12:36:27,405] - obspy.clients.fdsn.mass_downloader - INFO: Client 'http://165.98.224.52:8081/' - Successfully downloaded 1 channels (of 2)\n"
     ]
    },
    {
     "name": "stdout",
     "output_type": "stream",
     "text": [
      "Downloaded http://165.98.224.52:8081/fdsnws/dataselect/1/query with HTTP code: 200\n",
      "Downloading http://165.98.224.52:8081/fdsnws/dataselect/1/query with requesting gzip compression\n",
      "Sending along the following payload:\n",
      "----------------------------------------------------------------------\n",
      "OV CTCR -- HHE 2016-09-16T05:50:00.000000 2016-09-16T06:15:00.000000\n",
      "OV CTCR -- HHN 2016-09-15T05:50:00.000000 2016-09-16T05:50:00.000000\n",
      "----------------------------------------------------------------------\n"
     ]
    },
    {
     "name": "stderr",
     "output_type": "stream",
     "text": [
      "[2016-09-16 12:36:27,970] - obspy.clients.fdsn.mass_downloader - INFO: Client 'http://165.98.224.52:8081/' - No data available for request.\n"
     ]
    },
    {
     "name": "stdout",
     "output_type": "stream",
     "text": [
      "Downloaded http://165.98.224.52:8081/fdsnws/dataselect/1/query with HTTP code: 204\n",
      "Downloading http://165.98.224.52:8081/fdsnws/dataselect/1/query with requesting gzip compression\n",
      "Sending along the following payload:\n",
      "----------------------------------------------------------------------\n",
      "OV CTCR -- HHZ 2016-09-15T05:50:00.000000 2016-09-16T05:50:00.000000\n",
      "OV CTCR -- HHN 2016-09-16T05:50:00.000000 2016-09-16T06:15:00.000000\n",
      "----------------------------------------------------------------------\n",
      "Downloaded http://165.98.224.52:8081/fdsnws/dataselect/1/query with HTTP code: 200\n"
     ]
    },
    {
     "name": "stderr",
     "output_type": "stream",
     "text": [
      "[2016-09-16 12:36:28,582] - obspy.clients.fdsn.mass_downloader - INFO: Client 'http://165.98.224.52:8081/' - No data available for request.\n"
     ]
    },
    {
     "name": "stdout",
     "output_type": "stream",
     "text": [
      "Downloaded http://165.98.224.52:8081/fdsnws/dataselect/1/query with HTTP code: 204\n",
      "Downloading http://165.98.224.52:8081/fdsnws/dataselect/1/query with requesting gzip compression\n",
      "Sending along the following payload:\n",
      "----------------------------------------------------------------------\n",
      "NU SIUN -- EHE 2016-09-15T05:50:00.000000 2016-09-16T05:50:00.000000\n",
      "OV CTCR -- HHZ 2016-09-16T05:50:00.000000 2016-09-16T06:15:00.000000\n",
      "----------------------------------------------------------------------\n"
     ]
    },
    {
     "name": "stderr",
     "output_type": "stream",
     "text": [
      "[2016-09-16 12:36:30,651] - obspy.clients.fdsn.mass_downloader - INFO: Client 'http://165.98.224.52:8081/' - Successfully downloaded 2 channels (of 2)\n"
     ]
    },
    {
     "name": "stdout",
     "output_type": "stream",
     "text": [
      "Downloading http://165.98.224.52:8081/fdsnws/dataselect/1/query with requesting gzip compression\n",
      "Sending along the following payload:\n",
      "----------------------------------------------------------------------\n",
      "NU APQ3 00 EHZ 2016-09-15T05:50:00.000000 2016-09-16T05:50:00.000000\n",
      "NU APQ3 00 EHN 2016-09-16T05:50:00.000000 2016-09-16T06:15:00.000000\n",
      "----------------------------------------------------------------------\n",
      "Downloaded http://165.98.224.52:8081/fdsnws/dataselect/1/query with HTTP code: 200\n"
     ]
    },
    {
     "name": "stderr",
     "output_type": "stream",
     "text": [
      "[2016-09-16 12:37:06,941] - obspy.clients.fdsn.mass_downloader - INFO: Client 'http://165.98.224.52:8081/' - Successfully downloaded 2 channels (of 2)\n"
     ]
    },
    {
     "name": "stdout",
     "output_type": "stream",
     "text": [
      "Downloading http://165.98.224.52:8081/fdsnws/dataselect/1/query with requesting gzip compression\n",
      "Sending along the following payload:\n",
      "----------------------------------------------------------------------\n",
      "NU PLRN 00 EHZ 2016-09-15T05:50:00.000000 2016-09-16T05:50:00.000000\n",
      "NU PLRN 00 EHN 2016-09-16T05:50:00.000000 2016-09-16T06:15:00.000000\n",
      "----------------------------------------------------------------------\n",
      "Downloaded http://165.98.224.52:8081/fdsnws/dataselect/1/query with HTTP code: 200\n",
      "Downloaded http://165.98.224.52:8081/fdsnws/dataselect/1/query with HTTP code: 200\n"
     ]
    },
    {
     "name": "stderr",
     "output_type": "stream",
     "text": [
      "[2016-09-16 12:37:31,808] - obspy.clients.fdsn.mass_downloader - INFO: Client 'http://165.98.224.52:8081/' - Successfully downloaded 1 channels (of 2)\n"
     ]
    },
    {
     "name": "stdout",
     "output_type": "stream",
     "text": [
      "Downloading http://165.98.224.52:8081/fdsnws/dataselect/1/query with requesting gzip compression\n",
      "Sending along the following payload:\n",
      "----------------------------------------------------------------------\n",
      "NU SIUN -- EHE 2016-09-16T05:50:00.000000 2016-09-16T06:15:00.000000\n",
      "NU SIUN -- EHN 2016-09-15T05:50:00.000000 2016-09-16T05:50:00.000000\n",
      "----------------------------------------------------------------------\n"
     ]
    },
    {
     "name": "stderr",
     "output_type": "stream",
     "text": [
      "[2016-09-16 12:37:32,613] - obspy.clients.fdsn.mass_downloader - INFO: Client 'http://165.98.224.52:8081/' - Successfully downloaded 2 channels (of 2)\n"
     ]
    },
    {
     "name": "stdout",
     "output_type": "stream",
     "text": [
      "Downloading http://165.98.224.52:8081/fdsnws/dataselect/1/query with requesting gzip compression\n",
      "Sending along the following payload:\n",
      "----------------------------------------------------------------------\n",
      "OV VTCG -- HHE 2016-09-15T05:50:00.000000 2016-09-16T05:50:00.000000\n",
      "NU APQ3 00 EHZ 2016-09-16T05:50:00.000000 2016-09-16T06:15:00.000000\n",
      "----------------------------------------------------------------------\n",
      "Downloaded http://165.98.224.52:8081/fdsnws/dataselect/1/query with HTTP code: 200\n"
     ]
    },
    {
     "name": "stderr",
     "output_type": "stream",
     "text": [
      "[2016-09-16 12:38:14,929] - obspy.clients.fdsn.mass_downloader - INFO: Client 'http://165.98.224.52:8081/' - Successfully downloaded 2 channels (of 2)\n"
     ]
    },
    {
     "name": "stdout",
     "output_type": "stream",
     "text": [
      "Downloading http://165.98.224.52:8081/fdsnws/dataselect/1/query with requesting gzip compression\n",
      "Sending along the following payload:\n",
      "----------------------------------------------------------------------\n",
      "NU PLRN 00 EHZ 2016-09-16T05:50:00.000000 2016-09-16T06:15:00.000000\n",
      "NU CNGA 00 EHE 2016-09-15T05:50:00.000000 2016-09-16T05:50:00.000000\n",
      "----------------------------------------------------------------------\n",
      "Downloaded http://165.98.224.52:8081/fdsnws/dataselect/1/query with HTTP code: 200\n"
     ]
    },
    {
     "name": "stderr",
     "output_type": "stream",
     "text": [
      "[2016-09-16 12:38:34,779] - obspy.clients.fdsn.mass_downloader - INFO: Client 'http://165.98.224.52:8081/' - Successfully downloaded 2 channels (of 2)\n"
     ]
    },
    {
     "name": "stdout",
     "output_type": "stream",
     "text": [
      "Downloading http://165.98.224.52:8081/fdsnws/dataselect/1/query with requesting gzip compression\n",
      "Sending along the following payload:\n",
      "----------------------------------------------------------------------\n",
      "NU SIUN -- EHN 2016-09-16T05:50:00.000000 2016-09-16T06:15:00.000000\n",
      "NU SIUN -- EHZ 2016-09-15T05:50:00.000000 2016-09-16T05:50:00.000000\n",
      "----------------------------------------------------------------------\n",
      "Downloaded http://165.98.224.52:8081/fdsnws/dataselect/1/query with HTTP code: 200\n"
     ]
    },
    {
     "name": "stderr",
     "output_type": "stream",
     "text": [
      "[2016-09-16 12:38:38,474] - obspy.clients.fdsn.mass_downloader - INFO: Client 'http://165.98.224.52:8081/' - Successfully downloaded 2 channels (of 2)\n"
     ]
    },
    {
     "name": "stdout",
     "output_type": "stream",
     "text": [
      "Downloading http://165.98.224.52:8081/fdsnws/dataselect/1/query with requesting gzip compression\n",
      "Sending along the following payload:\n",
      "----------------------------------------------------------------------\n",
      "OV VTCG -- HHE 2016-09-16T05:50:00.000000 2016-09-16T06:15:00.000000\n",
      "OV VTCG -- HHN 2016-09-15T05:50:00.000000 2016-09-16T05:50:00.000000\n",
      "----------------------------------------------------------------------\n",
      "Downloaded http://165.98.224.52:8081/fdsnws/dataselect/1/query with HTTP code: 200\n"
     ]
    },
    {
     "name": "stderr",
     "output_type": "stream",
     "text": [
      "[2016-09-16 12:39:14,901] - obspy.clients.fdsn.mass_downloader - INFO: Client 'http://165.98.224.52:8081/' - Successfully downloaded 2 channels (of 2)\n"
     ]
    },
    {
     "name": "stdout",
     "output_type": "stream",
     "text": [
      "Downloading http://165.98.224.52:8081/fdsnws/dataselect/1/query with requesting gzip compression\n",
      "Sending along the following payload:\n",
      "----------------------------------------------------------------------\n",
      "NU CNGA 00 EHE 2016-09-16T05:50:00.000000 2016-09-16T06:15:00.000000\n",
      "NU CNGA 00 EHN 2016-09-15T05:50:00.000000 2016-09-16T05:50:00.000000\n",
      "----------------------------------------------------------------------\n",
      "Downloaded http://165.98.224.52:8081/fdsnws/dataselect/1/query with HTTP code: 200\n"
     ]
    },
    {
     "name": "stderr",
     "output_type": "stream",
     "text": [
      "[2016-09-16 12:39:26,926] - obspy.clients.fdsn.mass_downloader - INFO: Client 'http://165.98.224.52:8081/' - Successfully downloaded 2 channels (of 2)\n"
     ]
    },
    {
     "name": "stdout",
     "output_type": "stream",
     "text": [
      "Downloading http://165.98.224.52:8081/fdsnws/dataselect/1/query with requesting gzip compression\n",
      "Sending along the following payload:\n",
      "----------------------------------------------------------------------\n",
      "OV VTCG -- HHN 2016-09-16T05:50:00.000000 2016-09-16T06:15:00.000000\n",
      "OV VTCG -- HHZ 2016-09-15T05:50:00.000000 2016-09-16T05:50:00.000000\n",
      "----------------------------------------------------------------------\n",
      "Downloaded http://165.98.224.52:8081/fdsnws/dataselect/1/query with HTTP code: 200\n"
     ]
    },
    {
     "name": "stderr",
     "output_type": "stream",
     "text": [
      "[2016-09-16 12:39:40,827] - obspy.clients.fdsn.mass_downloader - INFO: Client 'http://165.98.224.52:8081/' - Successfully downloaded 2 channels (of 2)\n"
     ]
    },
    {
     "name": "stdout",
     "output_type": "stream",
     "text": [
      "Downloading http://165.98.224.52:8081/fdsnws/dataselect/1/query with requesting gzip compression\n",
      "Sending along the following payload:\n",
      "----------------------------------------------------------------------\n",
      "OV VTUN -- HHE 2016-09-15T05:50:00.000000 2016-09-16T05:50:00.000000\n",
      "NU SIUN -- EHZ 2016-09-16T05:50:00.000000 2016-09-16T06:15:00.000000\n",
      "----------------------------------------------------------------------\n",
      "Downloaded http://165.98.224.52:8081/fdsnws/dataselect/1/query with HTTP code: 200\n"
     ]
    },
    {
     "name": "stderr",
     "output_type": "stream",
     "text": [
      "[2016-09-16 12:40:13,679] - obspy.clients.fdsn.mass_downloader - INFO: Client 'http://165.98.224.52:8081/' - Successfully downloaded 2 channels (of 2)\n"
     ]
    },
    {
     "name": "stdout",
     "output_type": "stream",
     "text": [
      "Downloading http://165.98.224.52:8081/fdsnws/dataselect/1/query with requesting gzip compression\n",
      "Sending along the following payload:\n",
      "----------------------------------------------------------------------\n",
      "NU CNGA 00 EHZ 2016-09-15T05:50:00.000000 2016-09-16T05:50:00.000000\n",
      "NU CNGA 00 EHN 2016-09-16T05:50:00.000000 2016-09-16T06:15:00.000000\n",
      "----------------------------------------------------------------------\n",
      "Downloaded http://165.98.224.52:8081/fdsnws/dataselect/1/query with HTTP code: 200\n"
     ]
    },
    {
     "name": "stderr",
     "output_type": "stream",
     "text": [
      "[2016-09-16 12:40:26,324] - obspy.clients.fdsn.mass_downloader - INFO: Client 'http://165.98.224.52:8081/' - Successfully downloaded 2 channels (of 2)\n"
     ]
    },
    {
     "name": "stdout",
     "output_type": "stream",
     "text": [
      "Downloading http://165.98.224.52:8081/fdsnws/dataselect/1/query with requesting gzip compression\n",
      "Sending along the following payload:\n",
      "----------------------------------------------------------------------\n",
      "OV VTCG -- HHZ 2016-09-16T05:50:00.000000 2016-09-16T06:15:00.000000\n",
      "OV VTLA -- HHE 2016-09-15T05:50:00.000000 2016-09-16T05:50:00.000000\n",
      "----------------------------------------------------------------------\n",
      "Downloaded http://165.98.224.52:8081/fdsnws/dataselect/1/query with HTTP code: 200\n"
     ]
    },
    {
     "name": "stderr",
     "output_type": "stream",
     "text": [
      "[2016-09-16 12:40:43,848] - obspy.clients.fdsn.mass_downloader - INFO: Client 'http://165.98.224.52:8081/' - Successfully downloaded 2 channels (of 2)\n"
     ]
    },
    {
     "name": "stdout",
     "output_type": "stream",
     "text": [
      "Downloading http://165.98.224.52:8081/fdsnws/dataselect/1/query with requesting gzip compression\n",
      "Sending along the following payload:\n",
      "----------------------------------------------------------------------\n",
      "OV VTUN -- HHE 2016-09-16T05:50:00.000000 2016-09-16T06:15:00.000000\n",
      "OV VTUN -- HHN 2016-09-15T05:50:00.000000 2016-09-16T05:50:00.000000\n",
      "----------------------------------------------------------------------\n",
      "Downloaded http://165.98.224.52:8081/fdsnws/dataselect/1/query with HTTP code: 200\n"
     ]
    },
    {
     "name": "stderr",
     "output_type": "stream",
     "text": [
      "[2016-09-16 12:41:11,573] - obspy.clients.fdsn.mass_downloader - INFO: Client 'http://165.98.224.52:8081/' - Successfully downloaded 2 channels (of 2)\n"
     ]
    },
    {
     "name": "stdout",
     "output_type": "stream",
     "text": [
      "Downloading http://165.98.224.52:8081/fdsnws/dataselect/1/query with requesting gzip compression\n",
      "Sending along the following payload:\n",
      "----------------------------------------------------------------------\n",
      "NU MOMN 00 EHE 2016-09-15T05:50:00.000000 2016-09-16T05:50:00.000000\n",
      "NU CNGA 00 EHZ 2016-09-16T05:50:00.000000 2016-09-16T06:15:00.000000\n",
      "----------------------------------------------------------------------\n"
     ]
    },
    {
     "name": "stderr",
     "output_type": "stream",
     "text": [
      "[2016-09-16 12:41:13,680] - obspy.clients.fdsn.mass_downloader - INFO: Client 'http://165.98.224.52:8081/' - Successfully downloaded 1 channels (of 2)\n"
     ]
    },
    {
     "name": "stdout",
     "output_type": "stream",
     "text": [
      "Downloaded http://165.98.224.52:8081/fdsnws/dataselect/1/query with HTTP code: 200\n",
      "Downloading http://165.98.224.52:8081/fdsnws/dataselect/1/query with requesting gzip compression\n",
      "Sending along the following payload:\n",
      "----------------------------------------------------------------------\n",
      "NU MOMN 00 EHE 2016-09-16T05:50:00.000000 2016-09-16T06:15:00.000000\n",
      "NU MOMN 00 EHN 2016-09-15T05:50:00.000000 2016-09-16T05:50:00.000000\n",
      "----------------------------------------------------------------------\n"
     ]
    },
    {
     "name": "stderr",
     "output_type": "stream",
     "text": [
      "[2016-09-16 12:41:14,382] - obspy.clients.fdsn.mass_downloader - INFO: Client 'http://165.98.224.52:8081/' - No data available for request.\n"
     ]
    },
    {
     "name": "stdout",
     "output_type": "stream",
     "text": [
      "Downloaded http://165.98.224.52:8081/fdsnws/dataselect/1/query with HTTP code: 204\n",
      "Downloading http://165.98.224.52:8081/fdsnws/dataselect/1/query with requesting gzip compression\n",
      "Sending along the following payload:\n",
      "----------------------------------------------------------------------\n",
      "NU MOMN 00 EHZ 2016-09-15T05:50:00.000000 2016-09-16T05:50:00.000000\n",
      "NU MOMN 00 EHN 2016-09-16T05:50:00.000000 2016-09-16T06:15:00.000000\n",
      "----------------------------------------------------------------------\n"
     ]
    },
    {
     "name": "stderr",
     "output_type": "stream",
     "text": [
      "[2016-09-16 12:41:14,988] - obspy.clients.fdsn.mass_downloader - INFO: Client 'http://165.98.224.52:8081/' - No data available for request.\n"
     ]
    },
    {
     "name": "stdout",
     "output_type": "stream",
     "text": [
      "Downloaded http://165.98.224.52:8081/fdsnws/dataselect/1/query with HTTP code: 204\n",
      "Downloading http://165.98.224.52:8081/fdsnws/dataselect/1/query with requesting gzip compression\n",
      "Sending along the following payload:\n",
      "----------------------------------------------------------------------\n",
      "NU MOMN 00 EHZ 2016-09-16T05:50:00.000000 2016-09-16T06:15:00.000000\n",
      "TC TRB1 -- HHE 2016-09-15T05:50:00.000000 2016-09-16T05:50:00.000000\n",
      "----------------------------------------------------------------------\n"
     ]
    },
    {
     "name": "stderr",
     "output_type": "stream",
     "text": [
      "[2016-09-16 12:41:15,616] - obspy.clients.fdsn.mass_downloader - INFO: Client 'http://165.98.224.52:8081/' - No data available for request.\n"
     ]
    },
    {
     "name": "stdout",
     "output_type": "stream",
     "text": [
      "Downloaded http://165.98.224.52:8081/fdsnws/dataselect/1/query with HTTP code: 204\n",
      "Downloading http://165.98.224.52:8081/fdsnws/dataselect/1/query with requesting gzip compression\n",
      "Sending along the following payload:\n",
      "----------------------------------------------------------------------\n",
      "TC TRB1 -- HHN 2016-09-15T05:50:00.000000 2016-09-16T05:50:00.000000\n",
      "TC TRB1 -- HHE 2016-09-16T05:50:00.000000 2016-09-16T06:15:00.000000\n",
      "----------------------------------------------------------------------\n"
     ]
    },
    {
     "name": "stderr",
     "output_type": "stream",
     "text": [
      "[2016-09-16 12:41:16,193] - obspy.clients.fdsn.mass_downloader - INFO: Client 'http://165.98.224.52:8081/' - No data available for request.\n"
     ]
    },
    {
     "name": "stdout",
     "output_type": "stream",
     "text": [
      "Downloaded http://165.98.224.52:8081/fdsnws/dataselect/1/query with HTTP code: 204\n",
      "Downloading http://165.98.224.52:8081/fdsnws/dataselect/1/query with requesting gzip compression\n",
      "Sending along the following payload:\n",
      "----------------------------------------------------------------------\n",
      "TC TRB1 -- HHZ 2016-09-15T05:50:00.000000 2016-09-16T05:50:00.000000\n",
      "TC TRB1 -- HHN 2016-09-16T05:50:00.000000 2016-09-16T06:15:00.000000\n",
      "----------------------------------------------------------------------\n"
     ]
    },
    {
     "name": "stderr",
     "output_type": "stream",
     "text": [
      "[2016-09-16 12:41:16,726] - obspy.clients.fdsn.mass_downloader - INFO: Client 'http://165.98.224.52:8081/' - No data available for request.\n"
     ]
    },
    {
     "name": "stdout",
     "output_type": "stream",
     "text": [
      "Downloaded http://165.98.224.52:8081/fdsnws/dataselect/1/query with HTTP code: 204\n",
      "Downloading http://165.98.224.52:8081/fdsnws/dataselect/1/query with requesting gzip compression\n",
      "Sending along the following payload:\n",
      "----------------------------------------------------------------------\n",
      "TC TRB1 -- HHZ 2016-09-16T05:50:00.000000 2016-09-16T06:15:00.000000\n",
      "NU CONN -- EHZ 2016-09-15T05:50:00.000000 2016-09-16T05:50:00.000000\n",
      "----------------------------------------------------------------------\n"
     ]
    },
    {
     "name": "stderr",
     "output_type": "stream",
     "text": [
      "[2016-09-16 12:41:17,331] - obspy.clients.fdsn.mass_downloader - INFO: Client 'http://165.98.224.52:8081/' - No data available for request.\n"
     ]
    },
    {
     "name": "stdout",
     "output_type": "stream",
     "text": [
      "Downloaded http://165.98.224.52:8081/fdsnws/dataselect/1/query with HTTP code: 204\n",
      "Downloading http://165.98.224.52:8081/fdsnws/dataselect/1/query with requesting gzip compression\n",
      "Sending along the following payload:\n",
      "----------------------------------------------------------------------\n",
      "NU MOM2 00 EHE 2016-09-15T05:50:00.000000 2016-09-16T05:50:00.000000\n",
      "NU CONN -- EHZ 2016-09-16T05:50:00.000000 2016-09-16T06:15:00.000000\n",
      "----------------------------------------------------------------------\n"
     ]
    },
    {
     "name": "stderr",
     "output_type": "stream",
     "text": [
      "[2016-09-16 12:41:17,926] - obspy.clients.fdsn.mass_downloader - INFO: Client 'http://165.98.224.52:8081/' - No data available for request.\n"
     ]
    },
    {
     "name": "stdout",
     "output_type": "stream",
     "text": [
      "Downloaded http://165.98.224.52:8081/fdsnws/dataselect/1/query with HTTP code: 204\n",
      "Downloading http://165.98.224.52:8081/fdsnws/dataselect/1/query with requesting gzip compression\n",
      "Sending along the following payload:\n",
      "----------------------------------------------------------------------\n",
      "NU MOM2 00 EHN 2016-09-15T05:50:00.000000 2016-09-16T05:50:00.000000\n",
      "NU MOM2 00 EHE 2016-09-16T05:50:00.000000 2016-09-16T06:15:00.000000\n",
      "----------------------------------------------------------------------\n"
     ]
    },
    {
     "name": "stderr",
     "output_type": "stream",
     "text": [
      "[2016-09-16 12:41:18,513] - obspy.clients.fdsn.mass_downloader - INFO: Client 'http://165.98.224.52:8081/' - No data available for request.\n"
     ]
    },
    {
     "name": "stdout",
     "output_type": "stream",
     "text": [
      "Downloaded http://165.98.224.52:8081/fdsnws/dataselect/1/query with HTTP code: 204\n",
      "Downloading http://165.98.224.52:8081/fdsnws/dataselect/1/query with requesting gzip compression\n",
      "Sending along the following payload:\n",
      "----------------------------------------------------------------------\n",
      "NU MOM2 00 EHN 2016-09-16T05:50:00.000000 2016-09-16T06:15:00.000000\n",
      "NU MOM2 00 EHZ 2016-09-15T05:50:00.000000 2016-09-16T05:50:00.000000\n",
      "----------------------------------------------------------------------\n"
     ]
    },
    {
     "name": "stderr",
     "output_type": "stream",
     "text": [
      "[2016-09-16 12:41:19,109] - obspy.clients.fdsn.mass_downloader - INFO: Client 'http://165.98.224.52:8081/' - No data available for request.\n"
     ]
    },
    {
     "name": "stdout",
     "output_type": "stream",
     "text": [
      "Downloaded http://165.98.224.52:8081/fdsnws/dataselect/1/query with HTTP code: 204\n",
      "Downloading http://165.98.224.52:8081/fdsnws/dataselect/1/query with requesting gzip compression\n",
      "Sending along the following payload:\n",
      "----------------------------------------------------------------------\n",
      "NU MOM2 00 EHZ 2016-09-16T05:50:00.000000 2016-09-16T06:15:00.000000\n",
      "TC CVT1 -- HHE 2016-09-15T05:50:00.000000 2016-09-16T05:50:00.000000\n",
      "----------------------------------------------------------------------\n"
     ]
    },
    {
     "name": "stderr",
     "output_type": "stream",
     "text": [
      "[2016-09-16 12:41:19,670] - obspy.clients.fdsn.mass_downloader - INFO: Client 'http://165.98.224.52:8081/' - No data available for request.\n"
     ]
    },
    {
     "name": "stdout",
     "output_type": "stream",
     "text": [
      "Downloaded http://165.98.224.52:8081/fdsnws/dataselect/1/query with HTTP code: 204\n",
      "Downloading http://165.98.224.52:8081/fdsnws/dataselect/1/query with requesting gzip compression\n",
      "Sending along the following payload:\n",
      "----------------------------------------------------------------------\n",
      "TC CVT1 -- HHE 2016-09-16T05:50:00.000000 2016-09-16T06:15:00.000000\n",
      "TC CVT1 -- HHN 2016-09-15T05:50:00.000000 2016-09-16T05:50:00.000000\n",
      "----------------------------------------------------------------------\n"
     ]
    },
    {
     "name": "stderr",
     "output_type": "stream",
     "text": [
      "[2016-09-16 12:41:20,195] - obspy.clients.fdsn.mass_downloader - INFO: Client 'http://165.98.224.52:8081/' - No data available for request.\n"
     ]
    },
    {
     "name": "stdout",
     "output_type": "stream",
     "text": [
      "Downloaded http://165.98.224.52:8081/fdsnws/dataselect/1/query with HTTP code: 204\n",
      "Downloading http://165.98.224.52:8081/fdsnws/dataselect/1/query with requesting gzip compression\n",
      "Sending along the following payload:\n",
      "----------------------------------------------------------------------\n",
      "TC CVT1 -- HHN 2016-09-16T05:50:00.000000 2016-09-16T06:15:00.000000\n",
      "TC CVT1 -- HHZ 2016-09-15T05:50:00.000000 2016-09-16T05:50:00.000000\n",
      "----------------------------------------------------------------------\n"
     ]
    },
    {
     "name": "stderr",
     "output_type": "stream",
     "text": [
      "[2016-09-16 12:41:20,804] - obspy.clients.fdsn.mass_downloader - INFO: Client 'http://165.98.224.52:8081/' - No data available for request.\n"
     ]
    },
    {
     "name": "stdout",
     "output_type": "stream",
     "text": [
      "Downloaded http://165.98.224.52:8081/fdsnws/dataselect/1/query with HTTP code: 204\n",
      "Downloading http://165.98.224.52:8081/fdsnws/dataselect/1/query with requesting gzip compression\n",
      "Sending along the following payload:\n",
      "----------------------------------------------------------------------\n",
      "TC CVT1 -- HHZ 2016-09-16T05:50:00.000000 2016-09-16T06:15:00.000000\n",
      "TC PTJ1 -- HHE 2016-09-15T05:50:00.000000 2016-09-16T05:50:00.000000\n",
      "----------------------------------------------------------------------\n"
     ]
    },
    {
     "name": "stderr",
     "output_type": "stream",
     "text": [
      "[2016-09-16 12:41:21,393] - obspy.clients.fdsn.mass_downloader - INFO: Client 'http://165.98.224.52:8081/' - No data available for request.\n"
     ]
    },
    {
     "name": "stdout",
     "output_type": "stream",
     "text": [
      "Downloaded http://165.98.224.52:8081/fdsnws/dataselect/1/query with HTTP code: 204\n",
      "Downloading http://165.98.224.52:8081/fdsnws/dataselect/1/query with requesting gzip compression\n",
      "Sending along the following payload:\n",
      "----------------------------------------------------------------------\n",
      "TC PTJ1 -- HHN 2016-09-15T05:50:00.000000 2016-09-16T05:50:00.000000\n",
      "TC PTJ1 -- HHE 2016-09-16T05:50:00.000000 2016-09-16T06:15:00.000000\n",
      "----------------------------------------------------------------------\n"
     ]
    },
    {
     "name": "stderr",
     "output_type": "stream",
     "text": [
      "[2016-09-16 12:41:21,930] - obspy.clients.fdsn.mass_downloader - INFO: Client 'http://165.98.224.52:8081/' - No data available for request.\n"
     ]
    },
    {
     "name": "stdout",
     "output_type": "stream",
     "text": [
      "Downloaded http://165.98.224.52:8081/fdsnws/dataselect/1/query with HTTP code: 204\n",
      "Downloading http://165.98.224.52:8081/fdsnws/dataselect/1/query with requesting gzip compression\n",
      "Sending along the following payload:\n",
      "----------------------------------------------------------------------\n",
      "TC PTJ1 -- HHZ 2016-09-15T05:50:00.000000 2016-09-16T05:50:00.000000\n",
      "TC PTJ1 -- HHN 2016-09-16T05:50:00.000000 2016-09-16T06:15:00.000000\n",
      "----------------------------------------------------------------------\n"
     ]
    },
    {
     "name": "stderr",
     "output_type": "stream",
     "text": [
      "[2016-09-16 12:41:22,569] - obspy.clients.fdsn.mass_downloader - INFO: Client 'http://165.98.224.52:8081/' - No data available for request.\n"
     ]
    },
    {
     "name": "stdout",
     "output_type": "stream",
     "text": [
      "Downloaded http://165.98.224.52:8081/fdsnws/dataselect/1/query with HTTP code: 204\n",
      "Downloading http://165.98.224.52:8081/fdsnws/dataselect/1/query with requesting gzip compression\n",
      "Sending along the following payload:\n",
      "----------------------------------------------------------------------\n",
      "TC PTJ1 -- HHZ 2016-09-16T05:50:00.000000 2016-09-16T06:15:00.000000\n",
      "OV HDC3 -- HHE 2016-09-15T05:50:00.000000 2016-09-16T05:50:00.000000\n",
      "----------------------------------------------------------------------\n",
      "Downloaded http://165.98.224.52:8081/fdsnws/dataselect/1/query with HTTP code: 200\n"
     ]
    },
    {
     "name": "stderr",
     "output_type": "stream",
     "text": [
      "[2016-09-16 12:41:39,852] - obspy.clients.fdsn.mass_downloader - INFO: Client 'http://165.98.224.52:8081/' - Successfully downloaded 2 channels (of 2)\n"
     ]
    },
    {
     "name": "stdout",
     "output_type": "stream",
     "text": [
      "Downloading http://165.98.224.52:8081/fdsnws/dataselect/1/query with requesting gzip compression\n",
      "Sending along the following payload:\n",
      "----------------------------------------------------------------------\n",
      "OV VTLA -- HHN 2016-09-15T05:50:00.000000 2016-09-16T05:50:00.000000\n",
      "OV VTLA -- HHE 2016-09-16T05:50:00.000000 2016-09-16T06:15:00.000000\n",
      "----------------------------------------------------------------------\n",
      "Downloaded http://165.98.224.52:8081/fdsnws/dataselect/1/query with HTTP code: 200\n"
     ]
    },
    {
     "name": "stderr",
     "output_type": "stream",
     "text": [
      "[2016-09-16 12:41:58,627] - obspy.clients.fdsn.mass_downloader - INFO: Client 'http://165.98.224.52:8081/' - Successfully downloaded 2 channels (of 2)\n"
     ]
    },
    {
     "name": "stdout",
     "output_type": "stream",
     "text": [
      "Downloading http://165.98.224.52:8081/fdsnws/dataselect/1/query with requesting gzip compression\n",
      "Sending along the following payload:\n",
      "----------------------------------------------------------------------\n",
      "OV VTUN -- HHN 2016-09-16T05:50:00.000000 2016-09-16T06:15:00.000000\n",
      "OV VTUN -- HHZ 2016-09-15T05:50:00.000000 2016-09-16T05:50:00.000000\n",
      "----------------------------------------------------------------------\n",
      "Downloaded http://165.98.224.52:8081/fdsnws/dataselect/1/query with HTTP code: 200\n",
      "Downloaded http://165.98.224.52:8081/fdsnws/dataselect/1/query with HTTP code: 200\n"
     ]
    },
    {
     "name": "stderr",
     "output_type": "stream",
     "text": [
      "[2016-09-16 12:42:35,808] - obspy.clients.fdsn.mass_downloader - INFO: Client 'http://165.98.224.52:8081/' - Successfully downloaded 2 channels (of 2)\n"
     ]
    },
    {
     "name": "stdout",
     "output_type": "stream",
     "text": [
      "Downloading http://165.98.224.52:8081/fdsnws/dataselect/1/query with requesting gzip compression\n",
      "Sending along the following payload:\n",
      "----------------------------------------------------------------------\n",
      "OV VTLA -- HHZ 2016-09-15T05:50:00.000000 2016-09-16T05:50:00.000000\n",
      "OV VTLA -- HHN 2016-09-16T05:50:00.000000 2016-09-16T06:15:00.000000\n",
      "----------------------------------------------------------------------\n"
     ]
    },
    {
     "name": "stderr",
     "output_type": "stream",
     "text": [
      "[2016-09-16 12:42:39,328] - obspy.clients.fdsn.mass_downloader - INFO: Client 'http://165.98.224.52:8081/' - Successfully downloaded 1 channels (of 2)\n"
     ]
    },
    {
     "name": "stdout",
     "output_type": "stream",
     "text": [
      "Downloading http://165.98.224.52:8081/fdsnws/dataselect/1/query with requesting gzip compression\n",
      "Sending along the following payload:\n",
      "----------------------------------------------------------------------\n",
      "OV HDC3 -- HHE 2016-09-16T05:50:00.000000 2016-09-16T06:15:00.000000\n",
      "OV HDC3 -- HHN 2016-09-15T05:50:00.000000 2016-09-16T05:50:00.000000\n",
      "----------------------------------------------------------------------\n",
      "Downloaded http://165.98.224.52:8081/fdsnws/dataselect/1/query with HTTP code: 200\n"
     ]
    },
    {
     "name": "stderr",
     "output_type": "stream",
     "text": [
      "[2016-09-16 12:43:04,718] - obspy.clients.fdsn.mass_downloader - INFO: Client 'http://165.98.224.52:8081/' - Successfully downloaded 2 channels (of 2)\n"
     ]
    },
    {
     "name": "stdout",
     "output_type": "stream",
     "text": [
      "Downloading http://165.98.224.52:8081/fdsnws/dataselect/1/query with requesting gzip compression\n",
      "Sending along the following payload:\n",
      "----------------------------------------------------------------------\n",
      "NU TISN 00 EHZ 2016-09-15T05:50:00.000000 2016-09-16T05:50:00.000000\n",
      "OV VTUN -- HHZ 2016-09-16T05:50:00.000000 2016-09-16T06:15:00.000000\n",
      "----------------------------------------------------------------------\n",
      "Downloaded http://165.98.224.52:8081/fdsnws/dataselect/1/query with HTTP code: 200\n"
     ]
    },
    {
     "name": "stderr",
     "output_type": "stream",
     "text": [
      "[2016-09-16 12:43:20,547] - obspy.clients.fdsn.mass_downloader - INFO: Client 'http://165.98.224.52:8081/' - Successfully downloaded 2 channels (of 2)\n"
     ]
    },
    {
     "name": "stdout",
     "output_type": "stream",
     "text": [
      "Downloading http://165.98.224.52:8081/fdsnws/dataselect/1/query with requesting gzip compression\n",
      "Sending along the following payload:\n",
      "----------------------------------------------------------------------\n",
      "NU TISN 00 EHZ 2016-09-16T05:50:00.000000 2016-09-16T06:15:00.000000\n",
      "NU UBNT 00 EHE 2016-09-15T05:50:00.000000 2016-09-16T05:50:00.000000\n",
      "----------------------------------------------------------------------\n"
     ]
    },
    {
     "name": "stderr",
     "output_type": "stream",
     "text": [
      "[2016-09-16 12:43:22,256] - obspy.clients.fdsn.mass_downloader - INFO: Client 'http://165.98.224.52:8081/' - Successfully downloaded 1 channels (of 2)\n"
     ]
    },
    {
     "name": "stdout",
     "output_type": "stream",
     "text": [
      "Downloaded http://165.98.224.52:8081/fdsnws/dataselect/1/query with HTTP code: 200\n",
      "Downloading http://165.98.224.52:8081/fdsnws/dataselect/1/query with requesting gzip compression\n",
      "Sending along the following payload:\n",
      "----------------------------------------------------------------------\n",
      "NU UBNT 00 EHE 2016-09-16T05:50:00.000000 2016-09-16T06:15:00.000000\n",
      "NU UBNT 00 EHN 2016-09-15T05:50:00.000000 2016-09-16T05:50:00.000000\n",
      "----------------------------------------------------------------------\n"
     ]
    },
    {
     "name": "stderr",
     "output_type": "stream",
     "text": [
      "[2016-09-16 12:43:22,861] - obspy.clients.fdsn.mass_downloader - INFO: Client 'http://165.98.224.52:8081/' - No data available for request.\n"
     ]
    },
    {
     "name": "stdout",
     "output_type": "stream",
     "text": [
      "Downloaded http://165.98.224.52:8081/fdsnws/dataselect/1/query with HTTP code: 204\n",
      "Downloading http://165.98.224.52:8081/fdsnws/dataselect/1/query with requesting gzip compression\n",
      "Sending along the following payload:\n",
      "----------------------------------------------------------------------\n",
      "NU UBNT 00 EHN 2016-09-16T05:50:00.000000 2016-09-16T06:15:00.000000\n",
      "NU UBNT 00 EHZ 2016-09-15T05:50:00.000000 2016-09-16T05:50:00.000000\n",
      "----------------------------------------------------------------------\n"
     ]
    },
    {
     "name": "stderr",
     "output_type": "stream",
     "text": [
      "[2016-09-16 12:43:23,438] - obspy.clients.fdsn.mass_downloader - INFO: Client 'http://165.98.224.52:8081/' - No data available for request.\n"
     ]
    },
    {
     "name": "stdout",
     "output_type": "stream",
     "text": [
      "Downloaded http://165.98.224.52:8081/fdsnws/dataselect/1/query with HTTP code: 204\n",
      "Downloading http://165.98.224.52:8081/fdsnws/dataselect/1/query with requesting gzip compression\n",
      "Sending along the following payload:\n",
      "----------------------------------------------------------------------\n",
      "SV NUBE -- HHE 2016-09-15T05:50:00.000000 2016-09-16T05:50:00.000000\n",
      "NU UBNT 00 EHZ 2016-09-16T05:50:00.000000 2016-09-16T06:15:00.000000\n",
      "----------------------------------------------------------------------\n"
     ]
    },
    {
     "name": "stderr",
     "output_type": "stream",
     "text": [
      "[2016-09-16 12:43:23,999] - obspy.clients.fdsn.mass_downloader - INFO: Client 'http://165.98.224.52:8081/' - No data available for request.\n"
     ]
    },
    {
     "name": "stdout",
     "output_type": "stream",
     "text": [
      "Downloaded http://165.98.224.52:8081/fdsnws/dataselect/1/query with HTTP code: 204\n",
      "Downloading http://165.98.224.52:8081/fdsnws/dataselect/1/query with requesting gzip compression\n",
      "Sending along the following payload:\n",
      "----------------------------------------------------------------------\n",
      "SV NUBE -- HHE 2016-09-16T05:50:00.000000 2016-09-16T06:15:00.000000\n",
      "SV NUBE -- HHN 2016-09-15T05:50:00.000000 2016-09-16T05:50:00.000000\n",
      "----------------------------------------------------------------------\n"
     ]
    },
    {
     "name": "stderr",
     "output_type": "stream",
     "text": [
      "[2016-09-16 12:43:24,523] - obspy.clients.fdsn.mass_downloader - INFO: Client 'http://165.98.224.52:8081/' - No data available for request.\n"
     ]
    },
    {
     "name": "stdout",
     "output_type": "stream",
     "text": [
      "Downloaded http://165.98.224.52:8081/fdsnws/dataselect/1/query with HTTP code: 204\n",
      "Downloading http://165.98.224.52:8081/fdsnws/dataselect/1/query with requesting gzip compression\n",
      "Sending along the following payload:\n",
      "----------------------------------------------------------------------\n",
      "SV NUBE -- HHZ 2016-09-15T05:50:00.000000 2016-09-16T05:50:00.000000\n",
      "SV NUBE -- HHN 2016-09-16T05:50:00.000000 2016-09-16T06:15:00.000000\n",
      "----------------------------------------------------------------------\n"
     ]
    },
    {
     "name": "stderr",
     "output_type": "stream",
     "text": [
      "[2016-09-16 12:43:25,035] - obspy.clients.fdsn.mass_downloader - INFO: Client 'http://165.98.224.52:8081/' - No data available for request.\n"
     ]
    },
    {
     "name": "stdout",
     "output_type": "stream",
     "text": [
      "Downloaded http://165.98.224.52:8081/fdsnws/dataselect/1/query with HTTP code: 204\n",
      "Downloading http://165.98.224.52:8081/fdsnws/dataselect/1/query with requesting gzip compression\n",
      "Sending along the following payload:\n",
      "----------------------------------------------------------------------\n",
      "TC TCS0 -- HHE 2016-09-15T05:50:00.000000 2016-09-16T05:50:00.000000\n",
      "SV NUBE -- HHZ 2016-09-16T05:50:00.000000 2016-09-16T06:15:00.000000\n",
      "----------------------------------------------------------------------\n"
     ]
    },
    {
     "name": "stderr",
     "output_type": "stream",
     "text": [
      "[2016-09-16 12:43:25,559] - obspy.clients.fdsn.mass_downloader - INFO: Client 'http://165.98.224.52:8081/' - No data available for request.\n"
     ]
    },
    {
     "name": "stdout",
     "output_type": "stream",
     "text": [
      "Downloaded http://165.98.224.52:8081/fdsnws/dataselect/1/query with HTTP code: 204\n",
      "Downloading http://165.98.224.52:8081/fdsnws/dataselect/1/query with requesting gzip compression\n",
      "Sending along the following payload:\n",
      "----------------------------------------------------------------------\n",
      "TC TCS0 -- HHE 2016-09-16T05:50:00.000000 2016-09-16T06:15:00.000000\n",
      "TC TCS0 -- HHN 2016-09-15T05:50:00.000000 2016-09-16T05:50:00.000000\n",
      "----------------------------------------------------------------------\n"
     ]
    },
    {
     "name": "stderr",
     "output_type": "stream",
     "text": [
      "[2016-09-16 12:43:26,124] - obspy.clients.fdsn.mass_downloader - INFO: Client 'http://165.98.224.52:8081/' - No data available for request.\n"
     ]
    },
    {
     "name": "stdout",
     "output_type": "stream",
     "text": [
      "Downloaded http://165.98.224.52:8081/fdsnws/dataselect/1/query with HTTP code: 204\n",
      "Downloading http://165.98.224.52:8081/fdsnws/dataselect/1/query with requesting gzip compression\n",
      "Sending along the following payload:\n",
      "----------------------------------------------------------------------\n",
      "TC TCS0 -- HHN 2016-09-16T05:50:00.000000 2016-09-16T06:15:00.000000\n",
      "TC TCS0 -- HHZ 2016-09-15T05:50:00.000000 2016-09-16T05:50:00.000000\n",
      "----------------------------------------------------------------------\n"
     ]
    },
    {
     "name": "stderr",
     "output_type": "stream",
     "text": [
      "[2016-09-16 12:43:26,635] - obspy.clients.fdsn.mass_downloader - INFO: Client 'http://165.98.224.52:8081/' - No data available for request.\n"
     ]
    },
    {
     "name": "stdout",
     "output_type": "stream",
     "text": [
      "Downloaded http://165.98.224.52:8081/fdsnws/dataselect/1/query with HTTP code: 204\n",
      "Downloading http://165.98.224.52:8081/fdsnws/dataselect/1/query with requesting gzip compression\n",
      "Sending along the following payload:\n",
      "----------------------------------------------------------------------\n",
      "OV POTG -- HHE 2016-09-15T05:50:00.000000 2016-09-16T05:50:00.000000\n",
      "TC TCS0 -- HHZ 2016-09-16T05:50:00.000000 2016-09-16T06:15:00.000000\n",
      "----------------------------------------------------------------------\n",
      "Downloaded http://165.98.224.52:8081/fdsnws/dataselect/1/query with HTTP code: 200\n",
      "Downloaded http://165.98.224.52:8081/fdsnws/dataselect/1/query with HTTP code: 200\n"
     ]
    },
    {
     "name": "stderr",
     "output_type": "stream",
     "text": [
      "[2016-09-16 12:43:41,261] - obspy.clients.fdsn.mass_downloader - INFO: Client 'http://165.98.224.52:8081/' - Successfully downloaded 2 channels (of 2)\n"
     ]
    },
    {
     "name": "stdout",
     "output_type": "stream",
     "text": [
      "Downloading http://165.98.224.52:8081/fdsnws/dataselect/1/query with requesting gzip compression\n",
      "Sending along the following payload:\n",
      "----------------------------------------------------------------------\n",
      "OV VTLA -- HHZ 2016-09-16T05:50:00.000000 2016-09-16T06:15:00.000000\n",
      "NU MORN 00 EHE 2016-09-15T05:50:00.000000 2016-09-16T05:50:00.000000\n",
      "----------------------------------------------------------------------\n"
     ]
    },
    {
     "name": "stderr",
     "output_type": "stream",
     "text": [
      "[2016-09-16 12:43:41,750] - obspy.clients.fdsn.mass_downloader - INFO: Client 'http://165.98.224.52:8081/' - Successfully downloaded 2 channels (of 2)\n"
     ]
    },
    {
     "name": "stdout",
     "output_type": "stream",
     "text": [
      "Downloading http://165.98.224.52:8081/fdsnws/dataselect/1/query with requesting gzip compression\n",
      "Sending along the following payload:\n",
      "----------------------------------------------------------------------\n",
      "OV HDC3 -- HHZ 2016-09-15T05:50:00.000000 2016-09-16T05:50:00.000000\n",
      "OV HDC3 -- HHN 2016-09-16T05:50:00.000000 2016-09-16T06:15:00.000000\n",
      "----------------------------------------------------------------------\n",
      "Downloaded http://165.98.224.52:8081/fdsnws/dataselect/1/query with HTTP code: 200\n"
     ]
    },
    {
     "name": "stderr",
     "output_type": "stream",
     "text": [
      "[2016-09-16 12:44:20,205] - obspy.clients.fdsn.mass_downloader - INFO: Client 'http://165.98.224.52:8081/' - Successfully downloaded 1 channels (of 2)\n"
     ]
    },
    {
     "name": "stdout",
     "output_type": "stream",
     "text": [
      "Downloading http://165.98.224.52:8081/fdsnws/dataselect/1/query with requesting gzip compression\n",
      "Sending along the following payload:\n",
      "----------------------------------------------------------------------\n",
      "OV POTG -- HHN 2016-09-15T05:50:00.000000 2016-09-16T05:50:00.000000\n",
      "OV POTG -- HHE 2016-09-16T05:50:00.000000 2016-09-16T06:15:00.000000\n",
      "----------------------------------------------------------------------\n",
      "Downloaded http://165.98.224.52:8081/fdsnws/dataselect/1/query with HTTP code: 200\n",
      "Downloaded http://165.98.224.52:8081/fdsnws/dataselect/1/query with HTTP code: 200\n"
     ]
    },
    {
     "name": "stderr",
     "output_type": "stream",
     "text": [
      "[2016-09-16 12:44:37,852] - obspy.clients.fdsn.mass_downloader - INFO: Client 'http://165.98.224.52:8081/' - Successfully downloaded 2 channels (of 2)\n"
     ]
    },
    {
     "name": "stdout",
     "output_type": "stream",
     "text": [
      "Downloading http://165.98.224.52:8081/fdsnws/dataselect/1/query with requesting gzip compression\n",
      "Sending along the following payload:\n",
      "----------------------------------------------------------------------\n",
      "TC SRA1 -- HHE 2016-09-15T05:50:00.000000 2016-09-16T05:50:00.000000\n",
      "OV HDC3 -- HHZ 2016-09-16T05:50:00.000000 2016-09-16T06:15:00.000000\n",
      "----------------------------------------------------------------------\n"
     ]
    },
    {
     "name": "stderr",
     "output_type": "stream",
     "text": [
      "[2016-09-16 12:44:39,069] - obspy.clients.fdsn.mass_downloader - INFO: Client 'http://165.98.224.52:8081/' - Successfully downloaded 2 channels (of 2)\n"
     ]
    },
    {
     "name": "stdout",
     "output_type": "stream",
     "text": [
      "Downloading http://165.98.224.52:8081/fdsnws/dataselect/1/query with requesting gzip compression\n",
      "Sending along the following payload:\n",
      "----------------------------------------------------------------------\n",
      "NU MORN 00 EHE 2016-09-16T05:50:00.000000 2016-09-16T06:15:00.000000\n",
      "NU MORN 00 EHN 2016-09-15T05:50:00.000000 2016-09-16T05:50:00.000000\n",
      "----------------------------------------------------------------------\n"
     ]
    },
    {
     "name": "stderr",
     "output_type": "stream",
     "text": [
      "[2016-09-16 12:44:44,425] - obspy.clients.fdsn.mass_downloader - INFO: Client 'http://165.98.224.52:8081/' - Successfully downloaded 1 channels (of 2)\n"
     ]
    },
    {
     "name": "stdout",
     "output_type": "stream",
     "text": [
      "Downloaded http://165.98.224.52:8081/fdsnws/dataselect/1/query with HTTP code: 200\n",
      "Downloading http://165.98.224.52:8081/fdsnws/dataselect/1/query with requesting gzip compression\n",
      "Sending along the following payload:\n",
      "----------------------------------------------------------------------\n",
      "TC SRA1 -- HHE 2016-09-16T05:50:00.000000 2016-09-16T06:15:00.000000\n",
      "TC SRA1 -- HHN 2016-09-15T05:50:00.000000 2016-09-16T05:50:00.000000\n",
      "----------------------------------------------------------------------\n"
     ]
    },
    {
     "name": "stderr",
     "output_type": "stream",
     "text": [
      "[2016-09-16 12:44:44,949] - obspy.clients.fdsn.mass_downloader - INFO: Client 'http://165.98.224.52:8081/' - No data available for request.\n"
     ]
    },
    {
     "name": "stdout",
     "output_type": "stream",
     "text": [
      "Downloaded http://165.98.224.52:8081/fdsnws/dataselect/1/query with HTTP code: 204\n",
      "Downloading http://165.98.224.52:8081/fdsnws/dataselect/1/query with requesting gzip compression\n",
      "Sending along the following payload:\n",
      "----------------------------------------------------------------------\n",
      "TC SRA1 -- HHN 2016-09-16T05:50:00.000000 2016-09-16T06:15:00.000000\n",
      "TC SRA1 -- HHZ 2016-09-15T05:50:00.000000 2016-09-16T05:50:00.000000\n",
      "----------------------------------------------------------------------\n"
     ]
    },
    {
     "name": "stderr",
     "output_type": "stream",
     "text": [
      "[2016-09-16 12:44:45,508] - obspy.clients.fdsn.mass_downloader - INFO: Client 'http://165.98.224.52:8081/' - No data available for request.\n"
     ]
    },
    {
     "name": "stdout",
     "output_type": "stream",
     "text": [
      "Downloaded http://165.98.224.52:8081/fdsnws/dataselect/1/query with HTTP code: 204\n",
      "Downloading http://165.98.224.52:8081/fdsnws/dataselect/1/query with requesting gzip compression\n",
      "Sending along the following payload:\n",
      "----------------------------------------------------------------------\n",
      "OV VPTE -- HHE 2016-09-15T05:50:00.000000 2016-09-16T05:50:00.000000\n",
      "TC SRA1 -- HHZ 2016-09-16T05:50:00.000000 2016-09-16T06:15:00.000000\n",
      "----------------------------------------------------------------------\n",
      "Downloaded http://165.98.224.52:8081/fdsnws/dataselect/1/query with HTTP code: 200\n"
     ]
    },
    {
     "name": "stderr",
     "output_type": "stream",
     "text": [
      "[2016-09-16 12:45:03,068] - obspy.clients.fdsn.mass_downloader - INFO: Client 'http://165.98.224.52:8081/' - Successfully downloaded 2 channels (of 2)\n"
     ]
    },
    {
     "name": "stdout",
     "output_type": "stream",
     "text": [
      "Downloading http://165.98.224.52:8081/fdsnws/dataselect/1/query with requesting gzip compression\n",
      "Sending along the following payload:\n",
      "----------------------------------------------------------------------\n",
      "OV POTG -- HHN 2016-09-16T05:50:00.000000 2016-09-16T06:15:00.000000\n",
      "OV POTG -- HHZ 2016-09-15T05:50:00.000000 2016-09-16T05:50:00.000000\n",
      "----------------------------------------------------------------------\n",
      "Downloaded http://165.98.224.52:8081/fdsnws/dataselect/1/query with HTTP code: 200\n"
     ]
    },
    {
     "name": "stderr",
     "output_type": "stream",
     "text": [
      "[2016-09-16 12:45:27,285] - obspy.clients.fdsn.mass_downloader - INFO: Client 'http://165.98.224.52:8081/' - Successfully downloaded 1 channels (of 2)\n"
     ]
    },
    {
     "name": "stdout",
     "output_type": "stream",
     "text": [
      "Downloading http://165.98.224.52:8081/fdsnws/dataselect/1/query with requesting gzip compression\n",
      "Sending along the following payload:\n",
      "----------------------------------------------------------------------\n",
      "OV VPTE -- HHE 2016-09-16T05:50:00.000000 2016-09-16T06:15:00.000000\n",
      "OV VPTE -- HHN 2016-09-15T05:50:00.000000 2016-09-16T05:50:00.000000\n",
      "----------------------------------------------------------------------\n",
      "Downloaded http://165.98.224.52:8081/fdsnws/dataselect/1/query with HTTP code: 200\n"
     ]
    },
    {
     "name": "stderr",
     "output_type": "stream",
     "text": [
      "[2016-09-16 12:45:39,989] - obspy.clients.fdsn.mass_downloader - INFO: Client 'http://165.98.224.52:8081/' - Successfully downloaded 2 channels (of 2)\n"
     ]
    },
    {
     "name": "stdout",
     "output_type": "stream",
     "text": [
      "Downloading http://165.98.224.52:8081/fdsnws/dataselect/1/query with requesting gzip compression\n",
      "Sending along the following payload:\n",
      "----------------------------------------------------------------------\n",
      "NU MORN 00 EHZ 2016-09-15T05:50:00.000000 2016-09-16T05:50:00.000000\n",
      "NU MORN 00 EHN 2016-09-16T05:50:00.000000 2016-09-16T06:15:00.000000\n",
      "----------------------------------------------------------------------\n",
      "Downloaded http://165.98.224.52:8081/fdsnws/dataselect/1/query with HTTP code: 200\n"
     ]
    },
    {
     "name": "stderr",
     "output_type": "stream",
     "text": [
      "[2016-09-16 12:45:48,544] - obspy.clients.fdsn.mass_downloader - INFO: Client 'http://165.98.224.52:8081/' - Successfully downloaded 2 channels (of 2)\n"
     ]
    },
    {
     "name": "stdout",
     "output_type": "stream",
     "text": [
      "Downloading http://165.98.224.52:8081/fdsnws/dataselect/1/query with requesting gzip compression\n",
      "Sending along the following payload:\n",
      "----------------------------------------------------------------------\n",
      "GI PETP -- HHE 2016-09-15T05:50:00.000000 2016-09-16T05:50:00.000000\n",
      "OV POTG -- HHZ 2016-09-16T05:50:00.000000 2016-09-16T06:15:00.000000\n",
      "----------------------------------------------------------------------\n"
     ]
    },
    {
     "name": "stderr",
     "output_type": "stream",
     "text": [
      "[2016-09-16 12:45:50,474] - obspy.clients.fdsn.mass_downloader - INFO: Client 'http://165.98.224.52:8081/' - Successfully downloaded 1 channels (of 2)\n"
     ]
    },
    {
     "name": "stdout",
     "output_type": "stream",
     "text": [
      "Downloaded http://165.98.224.52:8081/fdsnws/dataselect/1/query with HTTP code: 200\n",
      "Downloading http://165.98.224.52:8081/fdsnws/dataselect/1/query with requesting gzip compression\n",
      "Sending along the following payload:\n",
      "----------------------------------------------------------------------\n",
      "GI PETP -- HHE 2016-09-16T05:50:00.000000 2016-09-16T06:15:00.000000\n",
      "GI PETP -- HHN 2016-09-15T05:50:00.000000 2016-09-16T05:50:00.000000\n",
      "----------------------------------------------------------------------\n"
     ]
    },
    {
     "name": "stderr",
     "output_type": "stream",
     "text": [
      "[2016-09-16 12:45:50,922] - obspy.clients.fdsn.mass_downloader - INFO: Client 'http://165.98.224.52:8081/' - No data available for request.\n"
     ]
    },
    {
     "name": "stdout",
     "output_type": "stream",
     "text": [
      "Downloaded http://165.98.224.52:8081/fdsnws/dataselect/1/query with HTTP code: 204\n",
      "Downloading http://165.98.224.52:8081/fdsnws/dataselect/1/query with requesting gzip compression\n",
      "Sending along the following payload:\n",
      "----------------------------------------------------------------------\n",
      "GI PETP -- HHN 2016-09-16T05:50:00.000000 2016-09-16T06:15:00.000000\n",
      "GI PETP -- HHZ 2016-09-15T05:50:00.000000 2016-09-16T05:50:00.000000\n",
      "----------------------------------------------------------------------\n"
     ]
    },
    {
     "name": "stderr",
     "output_type": "stream",
     "text": [
      "[2016-09-16 12:45:51,407] - obspy.clients.fdsn.mass_downloader - INFO: Client 'http://165.98.224.52:8081/' - No data available for request.\n"
     ]
    },
    {
     "name": "stdout",
     "output_type": "stream",
     "text": [
      "Downloaded http://165.98.224.52:8081/fdsnws/dataselect/1/query with HTTP code: 204\n",
      "Downloading http://165.98.224.52:8081/fdsnws/dataselect/1/query with requesting gzip compression\n",
      "Sending along the following payload:\n",
      "----------------------------------------------------------------------\n",
      "SV TACO -- HHE 2016-09-15T05:50:00.000000 2016-09-16T05:50:00.000000\n",
      "GI PETP -- HHZ 2016-09-16T05:50:00.000000 2016-09-16T06:15:00.000000\n",
      "----------------------------------------------------------------------\n"
     ]
    },
    {
     "name": "stderr",
     "output_type": "stream",
     "text": [
      "[2016-09-16 12:45:51,908] - obspy.clients.fdsn.mass_downloader - INFO: Client 'http://165.98.224.52:8081/' - No data available for request.\n"
     ]
    },
    {
     "name": "stdout",
     "output_type": "stream",
     "text": [
      "Downloaded http://165.98.224.52:8081/fdsnws/dataselect/1/query with HTTP code: 204\n",
      "Downloading http://165.98.224.52:8081/fdsnws/dataselect/1/query with requesting gzip compression\n",
      "Sending along the following payload:\n",
      "----------------------------------------------------------------------\n",
      "SV TACO -- HHN 2016-09-15T05:50:00.000000 2016-09-16T05:50:00.000000\n",
      "SV TACO -- HHE 2016-09-16T05:50:00.000000 2016-09-16T06:15:00.000000\n",
      "----------------------------------------------------------------------\n"
     ]
    },
    {
     "name": "stderr",
     "output_type": "stream",
     "text": [
      "[2016-09-16 12:45:52,423] - obspy.clients.fdsn.mass_downloader - INFO: Client 'http://165.98.224.52:8081/' - No data available for request.\n"
     ]
    },
    {
     "name": "stdout",
     "output_type": "stream",
     "text": [
      "Downloaded http://165.98.224.52:8081/fdsnws/dataselect/1/query with HTTP code: 204\n",
      "Downloading http://165.98.224.52:8081/fdsnws/dataselect/1/query with requesting gzip compression\n",
      "Sending along the following payload:\n",
      "----------------------------------------------------------------------\n",
      "SV TACO -- HHN 2016-09-16T05:50:00.000000 2016-09-16T06:15:00.000000\n",
      "SV TACO -- HHZ 2016-09-15T05:50:00.000000 2016-09-16T05:50:00.000000\n",
      "----------------------------------------------------------------------\n"
     ]
    },
    {
     "name": "stderr",
     "output_type": "stream",
     "text": [
      "[2016-09-16 12:45:52,895] - obspy.clients.fdsn.mass_downloader - INFO: Client 'http://165.98.224.52:8081/' - No data available for request.\n"
     ]
    },
    {
     "name": "stdout",
     "output_type": "stream",
     "text": [
      "Downloaded http://165.98.224.52:8081/fdsnws/dataselect/1/query with HTTP code: 204\n",
      "Downloading http://165.98.224.52:8081/fdsnws/dataselect/1/query with requesting gzip compression\n",
      "Sending along the following payload:\n",
      "----------------------------------------------------------------------\n",
      "TC LCR2 -- HHE 2016-09-15T05:50:00.000000 2016-09-16T05:50:00.000000\n",
      "SV TACO -- HHZ 2016-09-16T05:50:00.000000 2016-09-16T06:15:00.000000\n",
      "----------------------------------------------------------------------\n"
     ]
    },
    {
     "name": "stderr",
     "output_type": "stream",
     "text": [
      "[2016-09-16 12:45:53,639] - obspy.clients.fdsn.mass_downloader - INFO: Client 'http://165.98.224.52:8081/' - No data available for request.\n"
     ]
    },
    {
     "name": "stdout",
     "output_type": "stream",
     "text": [
      "Downloaded http://165.98.224.52:8081/fdsnws/dataselect/1/query with HTTP code: 204\n",
      "Downloading http://165.98.224.52:8081/fdsnws/dataselect/1/query with requesting gzip compression\n",
      "Sending along the following payload:\n",
      "----------------------------------------------------------------------\n",
      "TC LCR2 -- HHE 2016-09-16T05:50:00.000000 2016-09-16T06:15:00.000000\n",
      "TC LCR2 -- HHN 2016-09-15T05:50:00.000000 2016-09-16T05:50:00.000000\n",
      "----------------------------------------------------------------------\n"
     ]
    },
    {
     "name": "stderr",
     "output_type": "stream",
     "text": [
      "[2016-09-16 12:45:54,159] - obspy.clients.fdsn.mass_downloader - INFO: Client 'http://165.98.224.52:8081/' - No data available for request.\n"
     ]
    },
    {
     "name": "stdout",
     "output_type": "stream",
     "text": [
      "Downloaded http://165.98.224.52:8081/fdsnws/dataselect/1/query with HTTP code: 204\n",
      "Downloading http://165.98.224.52:8081/fdsnws/dataselect/1/query with requesting gzip compression\n",
      "Sending along the following payload:\n",
      "----------------------------------------------------------------------\n",
      "OV OCHAL -- HHE 2016-09-16T05:50:00.000000 2016-09-16T06:15:00.000000\n",
      "OV OCHAL -- HHN 2016-09-15T05:50:00.000000 2016-09-16T05:50:00.000000\n",
      "----------------------------------------------------------------------\n"
     ]
    },
    {
     "name": "stderr",
     "output_type": "stream",
     "text": [
      "[2016-09-16 12:45:54,727] - obspy.clients.fdsn.mass_downloader - INFO: Client 'http://165.98.224.52:8081/' - No data available for request.\n"
     ]
    },
    {
     "name": "stdout",
     "output_type": "stream",
     "text": [
      "Downloaded http://165.98.224.52:8081/fdsnws/dataselect/1/query with HTTP code: 204\n",
      "Downloading http://165.98.224.52:8081/fdsnws/dataselect/1/query with requesting gzip compression\n",
      "Sending along the following payload:\n",
      "----------------------------------------------------------------------\n",
      "OV OCHAL -- HHZ 2016-09-15T05:50:00.000000 2016-09-16T05:50:00.000000\n",
      "OV OCHAL -- HHN 2016-09-16T05:50:00.000000 2016-09-16T06:15:00.000000\n",
      "----------------------------------------------------------------------\n"
     ]
    },
    {
     "name": "stderr",
     "output_type": "stream",
     "text": [
      "[2016-09-16 12:45:55,286] - obspy.clients.fdsn.mass_downloader - INFO: Client 'http://165.98.224.52:8081/' - No data available for request.\n"
     ]
    },
    {
     "name": "stdout",
     "output_type": "stream",
     "text": [
      "Downloaded http://165.98.224.52:8081/fdsnws/dataselect/1/query with HTTP code: 204\n",
      "Downloading http://165.98.224.52:8081/fdsnws/dataselect/1/query with requesting gzip compression\n",
      "Sending along the following payload:\n",
      "----------------------------------------------------------------------\n",
      "OV OCHAL -- HHZ 2016-09-16T05:50:00.000000 2016-09-16T06:15:00.000000\n",
      "NU INE2 00 EHE 2016-09-15T05:50:00.000000 2016-09-16T05:50:00.000000\n",
      "----------------------------------------------------------------------\n"
     ]
    },
    {
     "name": "stderr",
     "output_type": "stream",
     "text": [
      "[2016-09-16 12:45:55,856] - obspy.clients.fdsn.mass_downloader - INFO: Client 'http://165.98.224.52:8081/' - No data available for request.\n"
     ]
    },
    {
     "name": "stdout",
     "output_type": "stream",
     "text": [
      "Downloaded http://165.98.224.52:8081/fdsnws/dataselect/1/query with HTTP code: 204\n",
      "Downloading http://165.98.224.52:8081/fdsnws/dataselect/1/query with requesting gzip compression\n",
      "Sending along the following payload:\n",
      "----------------------------------------------------------------------\n",
      "NU INE2 00 EHN 2016-09-15T05:50:00.000000 2016-09-16T05:50:00.000000\n",
      "NU INE2 00 EHE 2016-09-16T05:50:00.000000 2016-09-16T06:15:00.000000\n",
      "----------------------------------------------------------------------\n"
     ]
    },
    {
     "name": "stderr",
     "output_type": "stream",
     "text": [
      "[2016-09-16 12:45:56,447] - obspy.clients.fdsn.mass_downloader - INFO: Client 'http://165.98.224.52:8081/' - No data available for request.\n"
     ]
    },
    {
     "name": "stdout",
     "output_type": "stream",
     "text": [
      "Downloaded http://165.98.224.52:8081/fdsnws/dataselect/1/query with HTTP code: 204\n",
      "Downloading http://165.98.224.52:8081/fdsnws/dataselect/1/query with requesting gzip compression\n",
      "Sending along the following payload:\n",
      "----------------------------------------------------------------------\n",
      "NU INE2 00 EHZ 2016-09-15T05:50:00.000000 2016-09-16T05:50:00.000000\n",
      "NU INE2 00 EHN 2016-09-16T05:50:00.000000 2016-09-16T06:15:00.000000\n",
      "----------------------------------------------------------------------\n"
     ]
    },
    {
     "name": "stderr",
     "output_type": "stream",
     "text": [
      "[2016-09-16 12:45:57,035] - obspy.clients.fdsn.mass_downloader - INFO: Client 'http://165.98.224.52:8081/' - No data available for request.\n"
     ]
    },
    {
     "name": "stdout",
     "output_type": "stream",
     "text": [
      "Downloaded http://165.98.224.52:8081/fdsnws/dataselect/1/query with HTTP code: 204\n",
      "Downloading http://165.98.224.52:8081/fdsnws/dataselect/1/query with requesting gzip compression\n",
      "Sending along the following payload:\n",
      "----------------------------------------------------------------------\n",
      "NU INE2 00 EHZ 2016-09-16T05:50:00.000000 2016-09-16T06:15:00.000000\n",
      "OV VPVF -- HHE 2016-09-15T05:50:00.000000 2016-09-16T05:50:00.000000\n",
      "----------------------------------------------------------------------\n",
      "Downloaded http://165.98.224.52:8081/fdsnws/dataselect/1/query with HTTP code: 200\n"
     ]
    },
    {
     "name": "stderr",
     "output_type": "stream",
     "text": [
      "[2016-09-16 12:46:08,076] - obspy.clients.fdsn.mass_downloader - INFO: Client 'http://165.98.224.52:8081/' - Successfully downloaded 2 channels (of 2)\n"
     ]
    },
    {
     "name": "stdout",
     "output_type": "stream",
     "text": [
      "Downloading http://165.98.224.52:8081/fdsnws/dataselect/1/query with requesting gzip compression\n",
      "Sending along the following payload:\n",
      "----------------------------------------------------------------------\n",
      "OV VPTE -- HHN 2016-09-16T05:50:00.000000 2016-09-16T06:15:00.000000\n",
      "OV VPTE -- HHZ 2016-09-15T05:50:00.000000 2016-09-16T05:50:00.000000\n",
      "----------------------------------------------------------------------\n",
      "Downloaded http://165.98.224.52:8081/fdsnws/dataselect/1/query with HTTP code: 200\n"
     ]
    },
    {
     "name": "stderr",
     "output_type": "stream",
     "text": [
      "[2016-09-16 12:46:24,220] - obspy.clients.fdsn.mass_downloader - INFO: Client 'http://165.98.224.52:8081/' - Successfully downloaded 2 channels (of 2)\n"
     ]
    },
    {
     "name": "stdout",
     "output_type": "stream",
     "text": [
      "Downloading http://165.98.224.52:8081/fdsnws/dataselect/1/query with requesting gzip compression\n",
      "Sending along the following payload:\n",
      "----------------------------------------------------------------------\n",
      "NU MORN 00 EHZ 2016-09-16T05:50:00.000000 2016-09-16T06:15:00.000000\n",
      "NU HM03 00 EHE 2016-09-15T05:50:00.000000 2016-09-16T05:50:00.000000\n",
      "----------------------------------------------------------------------\n"
     ]
    },
    {
     "name": "stderr",
     "output_type": "stream",
     "text": [
      "[2016-09-16 12:46:26,040] - obspy.clients.fdsn.mass_downloader - INFO: Client 'http://165.98.224.52:8081/' - Successfully downloaded 1 channels (of 2)\n"
     ]
    },
    {
     "name": "stdout",
     "output_type": "stream",
     "text": [
      "Downloaded http://165.98.224.52:8081/fdsnws/dataselect/1/query with HTTP code: 200\n",
      "Downloading http://165.98.224.52:8081/fdsnws/dataselect/1/query with requesting gzip compression\n",
      "Sending along the following payload:\n",
      "----------------------------------------------------------------------\n",
      "NU HM03 00 EHN 2016-09-15T05:50:00.000000 2016-09-16T05:50:00.000000\n",
      "NU HM03 00 EHE 2016-09-16T05:50:00.000000 2016-09-16T06:15:00.000000\n",
      "----------------------------------------------------------------------\n"
     ]
    },
    {
     "name": "stderr",
     "output_type": "stream",
     "text": [
      "[2016-09-16 12:46:26,588] - obspy.clients.fdsn.mass_downloader - INFO: Client 'http://165.98.224.52:8081/' - No data available for request.\n"
     ]
    },
    {
     "name": "stdout",
     "output_type": "stream",
     "text": [
      "Downloaded http://165.98.224.52:8081/fdsnws/dataselect/1/query with HTTP code: 204\n",
      "Downloading http://165.98.224.52:8081/fdsnws/dataselect/1/query with requesting gzip compression\n",
      "Sending along the following payload:\n",
      "----------------------------------------------------------------------\n",
      "NU HM03 00 EHN 2016-09-16T05:50:00.000000 2016-09-16T06:15:00.000000\n",
      "NU HM03 00 EHZ 2016-09-15T05:50:00.000000 2016-09-16T05:50:00.000000\n",
      "----------------------------------------------------------------------\n"
     ]
    },
    {
     "name": "stderr",
     "output_type": "stream",
     "text": [
      "[2016-09-16 12:46:27,159] - obspy.clients.fdsn.mass_downloader - INFO: Client 'http://165.98.224.52:8081/' - No data available for request.\n"
     ]
    },
    {
     "name": "stdout",
     "output_type": "stream",
     "text": [
      "Downloaded http://165.98.224.52:8081/fdsnws/dataselect/1/query with HTTP code: 204\n",
      "Downloading http://165.98.224.52:8081/fdsnws/dataselect/1/query with requesting gzip compression\n",
      "Sending along the following payload:\n",
      "----------------------------------------------------------------------\n",
      "NU HM03 00 EHZ 2016-09-16T05:50:00.000000 2016-09-16T06:15:00.000000\n",
      "OV VAVL -- HHE 2016-09-15T05:50:00.000000 2016-09-16T05:50:00.000000\n",
      "----------------------------------------------------------------------\n"
     ]
    },
    {
     "name": "stderr",
     "output_type": "stream",
     "text": [
      "[2016-09-16 12:46:27,743] - obspy.clients.fdsn.mass_downloader - INFO: Client 'http://165.98.224.52:8081/' - No data available for request.\n"
     ]
    },
    {
     "name": "stdout",
     "output_type": "stream",
     "text": [
      "Downloaded http://165.98.224.52:8081/fdsnws/dataselect/1/query with HTTP code: 204\n",
      "Downloading http://165.98.224.52:8081/fdsnws/dataselect/1/query with requesting gzip compression\n",
      "Sending along the following payload:\n",
      "----------------------------------------------------------------------\n",
      "OV VAVL -- HHE 2016-09-16T05:50:00.000000 2016-09-16T06:15:00.000000\n",
      "OV VAVL -- HHN 2016-09-15T05:50:00.000000 2016-09-16T05:50:00.000000\n",
      "----------------------------------------------------------------------\n"
     ]
    },
    {
     "name": "stderr",
     "output_type": "stream",
     "text": [
      "[2016-09-16 12:46:28,593] - obspy.clients.fdsn.mass_downloader - INFO: Client 'http://165.98.224.52:8081/' - No data available for request.\n"
     ]
    },
    {
     "name": "stdout",
     "output_type": "stream",
     "text": [
      "Downloaded http://165.98.224.52:8081/fdsnws/dataselect/1/query with HTTP code: 204\n",
      "Downloading http://165.98.224.52:8081/fdsnws/dataselect/1/query with requesting gzip compression\n",
      "Sending along the following payload:\n",
      "----------------------------------------------------------------------\n",
      "OV VAVL -- HHZ 2016-09-15T05:50:00.000000 2016-09-16T05:50:00.000000\n",
      "OV VAVL -- HHN 2016-09-16T05:50:00.000000 2016-09-16T06:15:00.000000\n",
      "----------------------------------------------------------------------\n"
     ]
    },
    {
     "name": "stderr",
     "output_type": "stream",
     "text": [
      "[2016-09-16 12:46:29,143] - obspy.clients.fdsn.mass_downloader - INFO: Client 'http://165.98.224.52:8081/' - No data available for request.\n"
     ]
    },
    {
     "name": "stdout",
     "output_type": "stream",
     "text": [
      "Downloaded http://165.98.224.52:8081/fdsnws/dataselect/1/query with HTTP code: 204\n",
      "Downloading http://165.98.224.52:8081/fdsnws/dataselect/1/query with requesting gzip compression\n",
      "Sending along the following payload:\n",
      "----------------------------------------------------------------------\n",
      "OV VAVL -- HHZ 2016-09-16T05:50:00.000000 2016-09-16T06:15:00.000000\n",
      "PC FRIJ -- EHE 2016-09-15T05:50:00.000000 2016-09-16T05:50:00.000000\n",
      "----------------------------------------------------------------------\n"
     ]
    },
    {
     "name": "stderr",
     "output_type": "stream",
     "text": [
      "[2016-09-16 12:46:29,683] - obspy.clients.fdsn.mass_downloader - INFO: Client 'http://165.98.224.52:8081/' - No data available for request.\n"
     ]
    },
    {
     "name": "stdout",
     "output_type": "stream",
     "text": [
      "Downloaded http://165.98.224.52:8081/fdsnws/dataselect/1/query with HTTP code: 204\n",
      "Downloading http://165.98.224.52:8081/fdsnws/dataselect/1/query with requesting gzip compression\n",
      "Sending along the following payload:\n",
      "----------------------------------------------------------------------\n",
      "PC FRIJ -- EHN 2016-09-15T05:50:00.000000 2016-09-16T05:50:00.000000\n",
      "PC FRIJ -- EHE 2016-09-16T05:50:00.000000 2016-09-16T06:15:00.000000\n",
      "----------------------------------------------------------------------\n"
     ]
    },
    {
     "name": "stderr",
     "output_type": "stream",
     "text": [
      "[2016-09-16 12:46:30,201] - obspy.clients.fdsn.mass_downloader - INFO: Client 'http://165.98.224.52:8081/' - No data available for request.\n"
     ]
    },
    {
     "name": "stdout",
     "output_type": "stream",
     "text": [
      "Downloaded http://165.98.224.52:8081/fdsnws/dataselect/1/query with HTTP code: 204\n",
      "Downloading http://165.98.224.52:8081/fdsnws/dataselect/1/query with requesting gzip compression\n",
      "Sending along the following payload:\n",
      "----------------------------------------------------------------------\n",
      "PC FRIJ -- EHZ 2016-09-15T05:50:00.000000 2016-09-16T05:50:00.000000\n",
      "PC FRIJ -- EHN 2016-09-16T05:50:00.000000 2016-09-16T06:15:00.000000\n",
      "----------------------------------------------------------------------\n"
     ]
    },
    {
     "name": "stderr",
     "output_type": "stream",
     "text": [
      "[2016-09-16 12:46:30,738] - obspy.clients.fdsn.mass_downloader - INFO: Client 'http://165.98.224.52:8081/' - No data available for request.\n"
     ]
    },
    {
     "name": "stdout",
     "output_type": "stream",
     "text": [
      "Downloaded http://165.98.224.52:8081/fdsnws/dataselect/1/query with HTTP code: 204\n",
      "Downloading http://165.98.224.52:8081/fdsnws/dataselect/1/query with requesting gzip compression\n",
      "Sending along the following payload:\n",
      "----------------------------------------------------------------------\n",
      "PC FRIJ -- EHZ 2016-09-16T05:50:00.000000 2016-09-16T06:15:00.000000\n",
      "NU RCON -- HHE 2016-09-15T05:50:00.000000 2016-09-16T05:50:00.000000\n",
      "----------------------------------------------------------------------\n"
     ]
    },
    {
     "name": "stderr",
     "output_type": "stream",
     "text": [
      "[2016-09-16 12:46:31,293] - obspy.clients.fdsn.mass_downloader - INFO: Client 'http://165.98.224.52:8081/' - No data available for request.\n"
     ]
    },
    {
     "name": "stdout",
     "output_type": "stream",
     "text": [
      "Downloaded http://165.98.224.52:8081/fdsnws/dataselect/1/query with HTTP code: 204\n",
      "Downloading http://165.98.224.52:8081/fdsnws/dataselect/1/query with requesting gzip compression\n",
      "Sending along the following payload:\n",
      "----------------------------------------------------------------------\n",
      "NU RCON -- HHN 2016-09-15T05:50:00.000000 2016-09-16T05:50:00.000000\n",
      "NU RCON -- HHE 2016-09-16T05:50:00.000000 2016-09-16T06:15:00.000000\n",
      "----------------------------------------------------------------------\n"
     ]
    },
    {
     "name": "stderr",
     "output_type": "stream",
     "text": [
      "[2016-09-16 12:46:31,878] - obspy.clients.fdsn.mass_downloader - INFO: Client 'http://165.98.224.52:8081/' - No data available for request.\n"
     ]
    },
    {
     "name": "stdout",
     "output_type": "stream",
     "text": [
      "Downloaded http://165.98.224.52:8081/fdsnws/dataselect/1/query with HTTP code: 204\n",
      "Downloading http://165.98.224.52:8081/fdsnws/dataselect/1/query with requesting gzip compression\n",
      "Sending along the following payload:\n",
      "----------------------------------------------------------------------\n",
      "NU RCON -- HHZ 2016-09-15T05:50:00.000000 2016-09-16T05:50:00.000000\n",
      "NU RCON -- HHN 2016-09-16T05:50:00.000000 2016-09-16T06:15:00.000000\n",
      "----------------------------------------------------------------------\n"
     ]
    },
    {
     "name": "stderr",
     "output_type": "stream",
     "text": [
      "[2016-09-16 12:46:32,458] - obspy.clients.fdsn.mass_downloader - INFO: Client 'http://165.98.224.52:8081/' - No data available for request.\n"
     ]
    },
    {
     "name": "stdout",
     "output_type": "stream",
     "text": [
      "Downloaded http://165.98.224.52:8081/fdsnws/dataselect/1/query with HTTP code: 204\n",
      "Downloading http://165.98.224.52:8081/fdsnws/dataselect/1/query with requesting gzip compression\n",
      "Sending along the following payload:\n",
      "----------------------------------------------------------------------\n",
      "NU RCON -- HHZ 2016-09-16T05:50:00.000000 2016-09-16T06:15:00.000000\n",
      "OV RIMA -- HHE 2016-09-15T05:50:00.000000 2016-09-16T05:50:00.000000\n",
      "----------------------------------------------------------------------\n",
      "Downloaded http://165.98.224.52:8081/fdsnws/dataselect/1/query with HTTP code: 200\n"
     ]
    },
    {
     "name": "stderr",
     "output_type": "stream",
     "text": [
      "[2016-09-16 12:46:42,020] - obspy.clients.fdsn.mass_downloader - INFO: Client 'http://165.98.224.52:8081/' - Successfully downloaded 2 channels (of 2)\n"
     ]
    },
    {
     "name": "stdout",
     "output_type": "stream",
     "text": [
      "Downloading http://165.98.224.52:8081/fdsnws/dataselect/1/query with requesting gzip compression\n",
      "Sending along the following payload:\n",
      "----------------------------------------------------------------------\n",
      "OV VPTE -- HHZ 2016-09-16T05:50:00.000000 2016-09-16T06:15:00.000000\n",
      "SV JAYA -- HHE 2016-09-15T05:50:00.000000 2016-09-16T05:50:00.000000\n",
      "----------------------------------------------------------------------\n"
     ]
    },
    {
     "name": "stderr",
     "output_type": "stream",
     "text": [
      "[2016-09-16 12:46:43,704] - obspy.clients.fdsn.mass_downloader - INFO: Client 'http://165.98.224.52:8081/' - Successfully downloaded 1 channels (of 2)\n"
     ]
    },
    {
     "name": "stdout",
     "output_type": "stream",
     "text": [
      "Downloaded http://165.98.224.52:8081/fdsnws/dataselect/1/query with HTTP code: 200\n",
      "Downloading http://165.98.224.52:8081/fdsnws/dataselect/1/query with requesting gzip compression\n",
      "Sending along the following payload:\n",
      "----------------------------------------------------------------------\n",
      "SV JAYA -- HHN 2016-09-15T05:50:00.000000 2016-09-16T05:50:00.000000\n",
      "SV JAYA -- HHE 2016-09-16T05:50:00.000000 2016-09-16T06:15:00.000000\n",
      "----------------------------------------------------------------------\n"
     ]
    },
    {
     "name": "stderr",
     "output_type": "stream",
     "text": [
      "[2016-09-16 12:46:44,227] - obspy.clients.fdsn.mass_downloader - INFO: Client 'http://165.98.224.52:8081/' - No data available for request.\n"
     ]
    },
    {
     "name": "stdout",
     "output_type": "stream",
     "text": [
      "Downloaded http://165.98.224.52:8081/fdsnws/dataselect/1/query with HTTP code: 204\n",
      "Downloading http://165.98.224.52:8081/fdsnws/dataselect/1/query with requesting gzip compression\n",
      "Sending along the following payload:\n",
      "----------------------------------------------------------------------\n",
      "SV JAYA -- HHZ 2016-09-15T05:50:00.000000 2016-09-16T05:50:00.000000\n",
      "SV JAYA -- HHN 2016-09-16T05:50:00.000000 2016-09-16T06:15:00.000000\n",
      "----------------------------------------------------------------------\n",
      "Downloaded http://165.98.224.52:8081/fdsnws/dataselect/1/query with HTTP code: 200\n"
     ]
    },
    {
     "name": "stderr",
     "output_type": "stream",
     "text": [
      "[2016-09-16 12:46:44,743] - obspy.clients.fdsn.mass_downloader - INFO: Client 'http://165.98.224.52:8081/' - No data available for request.\n"
     ]
    },
    {
     "name": "stdout",
     "output_type": "stream",
     "text": [
      "Downloaded http://165.98.224.52:8081/fdsnws/dataselect/1/query with HTTP code: 204\n",
      "Downloading http://165.98.224.52:8081/fdsnws/dataselect/1/query with requesting gzip compression\n",
      "Sending along the following payload:\n",
      "----------------------------------------------------------------------\n",
      "SV JAYA -- HHZ 2016-09-16T05:50:00.000000 2016-09-16T06:15:00.000000\n",
      "NU BRAN 00 EHE 2016-09-15T05:50:00.000000 2016-09-16T05:50:00.000000\n",
      "----------------------------------------------------------------------\n"
     ]
    },
    {
     "name": "stderr",
     "output_type": "stream",
     "text": [
      "[2016-09-16 12:46:45,283] - obspy.clients.fdsn.mass_downloader - INFO: Client 'http://165.98.224.52:8081/' - No data available for request.\n"
     ]
    },
    {
     "name": "stdout",
     "output_type": "stream",
     "text": [
      "Downloaded http://165.98.224.52:8081/fdsnws/dataselect/1/query with HTTP code: 204\n",
      "Downloading http://165.98.224.52:8081/fdsnws/dataselect/1/query with requesting gzip compression\n",
      "Sending along the following payload:\n",
      "----------------------------------------------------------------------\n",
      "NU APQ4 00 EHE 2016-09-15T05:50:00.000000 2016-09-16T05:50:00.000000\n",
      "NU BLUN -- HHZ 2016-09-16T05:50:00.000000 2016-09-16T06:15:00.000000\n",
      "----------------------------------------------------------------------\n"
     ]
    },
    {
     "name": "stderr",
     "output_type": "stream",
     "text": [
      "[2016-09-16 12:46:47,117] - obspy.clients.fdsn.mass_downloader - INFO: Client 'http://165.98.224.52:8081/' - Successfully downloaded 1 channels (of 2)\n"
     ]
    },
    {
     "name": "stdout",
     "output_type": "stream",
     "text": [
      "Downloading http://165.98.224.52:8081/fdsnws/dataselect/1/query with requesting gzip compression\n",
      "Sending along the following payload:\n",
      "----------------------------------------------------------------------\n",
      "OV VPVF -- HHN 2016-09-15T05:50:00.000000 2016-09-16T05:50:00.000000\n",
      "OV VPVF -- HHE 2016-09-16T05:50:00.000000 2016-09-16T06:15:00.000000\n",
      "----------------------------------------------------------------------\n",
      "Downloaded http://165.98.224.52:8081/fdsnws/dataselect/1/query with HTTP code: 200\n",
      "Downloaded http://165.98.224.52:8081/fdsnws/dataselect/1/query with HTTP code: 200\n"
     ]
    },
    {
     "name": "stderr",
     "output_type": "stream",
     "text": [
      "[2016-09-16 12:47:29,085] - obspy.clients.fdsn.mass_downloader - INFO: Client 'http://165.98.224.52:8081/' - Successfully downloaded 1 channels (of 2)\n"
     ]
    },
    {
     "name": "stdout",
     "output_type": "stream",
     "text": [
      "Downloading http://165.98.224.52:8081/fdsnws/dataselect/1/query with requesting gzip compression\n",
      "Sending along the following payload:\n",
      "----------------------------------------------------------------------\n",
      "OV RIMA -- HHN 2016-09-15T05:50:00.000000 2016-09-16T05:50:00.000000\n",
      "OV RIMA -- HHE 2016-09-16T05:50:00.000000 2016-09-16T06:15:00.000000\n",
      "----------------------------------------------------------------------\n"
     ]
    },
    {
     "name": "stderr",
     "output_type": "stream",
     "text": [
      "[2016-09-16 12:47:30,680] - obspy.clients.fdsn.mass_downloader - INFO: Client 'http://165.98.224.52:8081/' - Successfully downloaded 1 channels (of 2)\n"
     ]
    },
    {
     "name": "stdout",
     "output_type": "stream",
     "text": [
      "Downloading http://165.98.224.52:8081/fdsnws/dataselect/1/query with requesting gzip compression\n",
      "Sending along the following payload:\n",
      "----------------------------------------------------------------------\n",
      "NU APQ4 00 EHE 2016-09-16T05:50:00.000000 2016-09-16T06:15:00.000000\n",
      "NU APQ4 00 EHN 2016-09-15T05:50:00.000000 2016-09-16T05:50:00.000000\n",
      "----------------------------------------------------------------------\n",
      "Downloaded http://165.98.224.52:8081/fdsnws/dataselect/1/query with HTTP code: 200\n"
     ]
    },
    {
     "name": "stderr",
     "output_type": "stream",
     "text": [
      "[2016-09-16 12:47:45,011] - obspy.clients.fdsn.mass_downloader - INFO: Client 'http://165.98.224.52:8081/' - Successfully downloaded 2 channels (of 2)\n"
     ]
    },
    {
     "name": "stdout",
     "output_type": "stream",
     "text": [
      "Downloading http://165.98.224.52:8081/fdsnws/dataselect/1/query with requesting gzip compression\n",
      "Sending along the following payload:\n",
      "----------------------------------------------------------------------\n",
      "OV VPVF -- HHN 2016-09-16T05:50:00.000000 2016-09-16T06:15:00.000000\n",
      "OV VPVF -- HHZ 2016-09-15T05:50:00.000000 2016-09-16T05:50:00.000000\n",
      "----------------------------------------------------------------------\n",
      "Downloaded http://165.98.224.52:8081/fdsnws/dataselect/1/query with HTTP code: 200\n"
     ]
    },
    {
     "name": "stderr",
     "output_type": "stream",
     "text": [
      "[2016-09-16 12:48:19,038] - obspy.clients.fdsn.mass_downloader - INFO: Client 'http://165.98.224.52:8081/' - Successfully downloaded 2 channels (of 2)\n"
     ]
    },
    {
     "name": "stdout",
     "output_type": "stream",
     "text": [
      "Downloading http://165.98.224.52:8081/fdsnws/dataselect/1/query with requesting gzip compression\n",
      "Sending along the following payload:\n",
      "----------------------------------------------------------------------\n",
      "OV MRVA -- HHE 2016-09-15T05:50:00.000000 2016-09-16T05:50:00.000000\n",
      "OV VPVF -- HHZ 2016-09-16T05:50:00.000000 2016-09-16T06:15:00.000000\n",
      "----------------------------------------------------------------------\n",
      "Downloaded http://165.98.224.52:8081/fdsnws/dataselect/1/query with HTTP code: 200\n",
      "Downloaded http://165.98.224.52:8081/fdsnws/dataselect/1/query with HTTP code: 200\n"
     ]
    },
    {
     "name": "stderr",
     "output_type": "stream",
     "text": [
      "[2016-09-16 12:48:34,500] - obspy.clients.fdsn.mass_downloader - INFO: Client 'http://165.98.224.52:8081/' - Successfully downloaded 2 channels (of 2)\n"
     ]
    },
    {
     "name": "stdout",
     "output_type": "stream",
     "text": [
      "Downloading http://165.98.224.52:8081/fdsnws/dataselect/1/query with requesting gzip compression\n",
      "Sending along the following payload:\n",
      "----------------------------------------------------------------------\n",
      "NU APQ4 00 EHN 2016-09-16T05:50:00.000000 2016-09-16T06:15:00.000000\n",
      "NU APQ4 00 EHZ 2016-09-15T05:50:00.000000 2016-09-16T05:50:00.000000\n",
      "----------------------------------------------------------------------\n"
     ]
    },
    {
     "name": "stderr",
     "output_type": "stream",
     "text": [
      "[2016-09-16 12:48:36,379] - obspy.clients.fdsn.mass_downloader - INFO: Client 'http://165.98.224.52:8081/' - Successfully downloaded 2 channels (of 2)\n"
     ]
    },
    {
     "name": "stdout",
     "output_type": "stream",
     "text": [
      "Downloading http://165.98.224.52:8081/fdsnws/dataselect/1/query with requesting gzip compression\n",
      "Sending along the following payload:\n",
      "----------------------------------------------------------------------\n",
      "OV RIMA -- HHZ 2016-09-15T05:50:00.000000 2016-09-16T05:50:00.000000\n",
      "OV RIMA -- HHN 2016-09-16T05:50:00.000000 2016-09-16T06:15:00.000000\n",
      "----------------------------------------------------------------------\n",
      "Downloaded http://165.98.224.52:8081/fdsnws/dataselect/1/query with HTTP code: 200\n"
     ]
    },
    {
     "name": "stderr",
     "output_type": "stream",
     "text": [
      "[2016-09-16 12:48:54,032] - obspy.clients.fdsn.mass_downloader - INFO: Client 'http://165.98.224.52:8081/' - Successfully downloaded 2 channels (of 2)\n"
     ]
    },
    {
     "name": "stdout",
     "output_type": "stream",
     "text": [
      "Downloading http://165.98.224.52:8081/fdsnws/dataselect/1/query with requesting gzip compression\n",
      "Sending along the following payload:\n",
      "----------------------------------------------------------------------\n",
      "OV MRVA -- HHE 2016-09-16T05:50:00.000000 2016-09-16T06:15:00.000000\n",
      "OV MRVA -- HHN 2016-09-15T05:50:00.000000 2016-09-16T05:50:00.000000\n",
      "----------------------------------------------------------------------\n",
      "Downloaded http://165.98.224.52:8081/fdsnws/dataselect/1/query with HTTP code: 200\n",
      "Downloaded http://165.98.224.52:8081/fdsnws/dataselect/1/query with HTTP code: 200\n",
      "Downloaded http://165.98.224.52:8081/fdsnws/dataselect/1/query with HTTP code: 200\n"
     ]
    },
    {
     "name": "stderr",
     "output_type": "stream",
     "text": [
      "[2016-09-16 12:49:27,653] - obspy.clients.fdsn.mass_downloader - INFO: Client 'http://165.98.224.52:8081/' - Successfully downloaded 2 channels (of 2)\n"
     ]
    },
    {
     "name": "stdout",
     "output_type": "stream",
     "text": [
      "Downloading http://165.98.224.52:8081/fdsnws/dataselect/1/query with requesting gzip compression\n",
      "Sending along the following payload:\n",
      "----------------------------------------------------------------------\n",
      "OV RIMA -- HHZ 2016-09-16T05:50:00.000000 2016-09-16T06:15:00.000000\n",
      "OV VICA -- HHE 2016-09-15T05:50:00.000000 2016-09-16T05:50:00.000000\n",
      "----------------------------------------------------------------------\n"
     ]
    },
    {
     "name": "stderr",
     "output_type": "stream",
     "text": [
      "[2016-09-16 12:49:28,030] - obspy.clients.fdsn.mass_downloader - INFO: Client 'http://165.98.224.52:8081/' - Successfully downloaded 2 channels (of 2)\n"
     ]
    },
    {
     "name": "stdout",
     "output_type": "stream",
     "text": [
      "Downloading http://165.98.224.52:8081/fdsnws/dataselect/1/query with requesting gzip compression\n",
      "Sending along the following payload:\n",
      "----------------------------------------------------------------------\n",
      "OV MRVA -- HHZ 2016-09-15T05:50:00.000000 2016-09-16T05:50:00.000000\n",
      "OV MRVA -- HHN 2016-09-16T05:50:00.000000 2016-09-16T06:15:00.000000\n",
      "----------------------------------------------------------------------\n"
     ]
    },
    {
     "name": "stderr",
     "output_type": "stream",
     "text": [
      "[2016-09-16 12:49:29,635] - obspy.clients.fdsn.mass_downloader - INFO: Client 'http://165.98.224.52:8081/' - Successfully downloaded 2 channels (of 2)\n"
     ]
    },
    {
     "name": "stdout",
     "output_type": "stream",
     "text": [
      "Downloading http://165.98.224.52:8081/fdsnws/dataselect/1/query with requesting gzip compression\n",
      "Sending along the following payload:\n",
      "----------------------------------------------------------------------\n",
      "HN YUSH -- EHE 2016-09-15T05:50:00.000000 2016-09-16T05:50:00.000000\n",
      "NU APQ4 00 EHZ 2016-09-16T05:50:00.000000 2016-09-16T06:15:00.000000\n",
      "----------------------------------------------------------------------\n"
     ]
    },
    {
     "name": "stderr",
     "output_type": "stream",
     "text": [
      "[2016-09-16 12:49:37,587] - obspy.clients.fdsn.mass_downloader - INFO: Client 'http://165.98.224.52:8081/' - Successfully downloaded 1 channels (of 2)\n"
     ]
    },
    {
     "name": "stdout",
     "output_type": "stream",
     "text": [
      "Downloaded http://165.98.224.52:8081/fdsnws/dataselect/1/query with HTTP code: 200\n",
      "Downloading http://165.98.224.52:8081/fdsnws/dataselect/1/query with requesting gzip compression\n",
      "Sending along the following payload:\n",
      "----------------------------------------------------------------------\n",
      "HN YUSH -- EHE 2016-09-16T05:50:00.000000 2016-09-16T06:15:00.000000\n",
      "HN YUSH -- EHN 2016-09-15T05:50:00.000000 2016-09-16T05:50:00.000000\n",
      "----------------------------------------------------------------------\n"
     ]
    },
    {
     "name": "stderr",
     "output_type": "stream",
     "text": [
      "[2016-09-16 12:49:38,081] - obspy.clients.fdsn.mass_downloader - INFO: Client 'http://165.98.224.52:8081/' - No data available for request.\n"
     ]
    },
    {
     "name": "stdout",
     "output_type": "stream",
     "text": [
      "Downloaded http://165.98.224.52:8081/fdsnws/dataselect/1/query with HTTP code: 204\n",
      "Downloading http://165.98.224.52:8081/fdsnws/dataselect/1/query with requesting gzip compression\n",
      "Sending along the following payload:\n",
      "----------------------------------------------------------------------\n",
      "HN YUSH -- EHN 2016-09-16T05:50:00.000000 2016-09-16T06:15:00.000000\n",
      "HN YUSH -- EHZ 2016-09-15T05:50:00.000000 2016-09-16T05:50:00.000000\n",
      "----------------------------------------------------------------------\n"
     ]
    },
    {
     "name": "stderr",
     "output_type": "stream",
     "text": [
      "[2016-09-16 12:49:38,578] - obspy.clients.fdsn.mass_downloader - INFO: Client 'http://165.98.224.52:8081/' - No data available for request.\n"
     ]
    },
    {
     "name": "stdout",
     "output_type": "stream",
     "text": [
      "Downloaded http://165.98.224.52:8081/fdsnws/dataselect/1/query with HTTP code: 204\n",
      "Downloading http://165.98.224.52:8081/fdsnws/dataselect/1/query with requesting gzip compression\n",
      "Sending along the following payload:\n",
      "----------------------------------------------------------------------\n",
      "SV CNCH -- HHE 2016-09-15T05:50:00.000000 2016-09-16T05:50:00.000000\n",
      "HN YUSH -- EHZ 2016-09-16T05:50:00.000000 2016-09-16T06:15:00.000000\n",
      "----------------------------------------------------------------------\n",
      "Downloaded http://165.98.224.52:8081/fdsnws/dataselect/1/query with HTTP code: 200\n"
     ]
    },
    {
     "name": "stderr",
     "output_type": "stream",
     "text": [
      "[2016-09-16 12:50:13,985] - obspy.clients.fdsn.mass_downloader - INFO: Client 'http://165.98.224.52:8081/' - Successfully downloaded 2 channels (of 2)\n"
     ]
    },
    {
     "name": "stdout",
     "output_type": "stream",
     "text": [
      "Downloading http://165.98.224.52:8081/fdsnws/dataselect/1/query with requesting gzip compression\n",
      "Sending along the following payload:\n",
      "----------------------------------------------------------------------\n",
      "OV MRVA -- HHZ 2016-09-16T05:50:00.000000 2016-09-16T06:15:00.000000\n",
      "NU MGAN -- HHE 2016-09-15T05:50:00.000000 2016-09-16T05:50:00.000000\n",
      "----------------------------------------------------------------------\n",
      "Downloaded http://165.98.224.52:8081/fdsnws/dataselect/1/query with HTTP code: 200\n"
     ]
    },
    {
     "name": "stderr",
     "output_type": "stream",
     "text": [
      "[2016-09-16 12:50:19,591] - obspy.clients.fdsn.mass_downloader - INFO: Client 'http://165.98.224.52:8081/' - Successfully downloaded 1 channels (of 2)\n"
     ]
    },
    {
     "name": "stdout",
     "output_type": "stream",
     "text": [
      "Downloading http://165.98.224.52:8081/fdsnws/dataselect/1/query with requesting gzip compression\n",
      "Sending along the following payload:\n",
      "----------------------------------------------------------------------\n",
      "SV CNCH -- HHN 2016-09-15T05:50:00.000000 2016-09-16T05:50:00.000000\n",
      "SV CNCH -- HHE 2016-09-16T05:50:00.000000 2016-09-16T06:15:00.000000\n",
      "----------------------------------------------------------------------\n",
      "Downloaded http://165.98.224.52:8081/fdsnws/dataselect/1/query with HTTP code: 200\n"
     ]
    },
    {
     "name": "stderr",
     "output_type": "stream",
     "text": [
      "[2016-09-16 12:50:32,290] - obspy.clients.fdsn.mass_downloader - INFO: Client 'http://165.98.224.52:8081/' - Successfully downloaded 2 channels (of 2)\n"
     ]
    },
    {
     "name": "stdout",
     "output_type": "stream",
     "text": [
      "Downloading http://165.98.224.52:8081/fdsnws/dataselect/1/query with requesting gzip compression\n",
      "Sending along the following payload:\n",
      "----------------------------------------------------------------------\n",
      "OV VICA -- HHE 2016-09-16T05:50:00.000000 2016-09-16T06:15:00.000000\n",
      "OV VICA -- HHN 2016-09-15T05:50:00.000000 2016-09-16T05:50:00.000000\n",
      "----------------------------------------------------------------------\n",
      "Downloaded http://165.98.224.52:8081/fdsnws/dataselect/1/query with HTTP code: 200\n"
     ]
    },
    {
     "name": "stderr",
     "output_type": "stream",
     "text": [
      "[2016-09-16 12:50:42,883] - obspy.clients.fdsn.mass_downloader - INFO: Client 'http://165.98.224.52:8081/' - Successfully downloaded 2 channels (of 2)\n"
     ]
    },
    {
     "name": "stdout",
     "output_type": "stream",
     "text": [
      "Downloading http://165.98.224.52:8081/fdsnws/dataselect/1/query with requesting gzip compression\n",
      "Sending along the following payload:\n",
      "----------------------------------------------------------------------\n",
      "NU MGAN -- HHN 2016-09-15T05:50:00.000000 2016-09-16T05:50:00.000000\n",
      "NU MGAN -- HHE 2016-09-16T05:50:00.000000 2016-09-16T06:15:00.000000\n",
      "----------------------------------------------------------------------\n",
      "Downloaded http://165.98.224.52:8081/fdsnws/dataselect/1/query with HTTP code: 200\n"
     ]
    },
    {
     "name": "stderr",
     "output_type": "stream",
     "text": [
      "[2016-09-16 12:51:02,427] - obspy.clients.fdsn.mass_downloader - INFO: Client 'http://165.98.224.52:8081/' - Successfully downloaded 2 channels (of 2)\n"
     ]
    },
    {
     "name": "stdout",
     "output_type": "stream",
     "text": [
      "Downloading http://165.98.224.52:8081/fdsnws/dataselect/1/query with requesting gzip compression\n",
      "Sending along the following payload:\n",
      "----------------------------------------------------------------------\n",
      "NU MGAN -- HHZ 2016-09-15T05:50:00.000000 2016-09-16T05:50:00.000000\n",
      "NU MGAN -- HHN 2016-09-16T05:50:00.000000 2016-09-16T06:15:00.000000\n",
      "----------------------------------------------------------------------\n",
      "Downloaded http://165.98.224.52:8081/fdsnws/dataselect/1/query with HTTP code: 200\n"
     ]
    },
    {
     "name": "stderr",
     "output_type": "stream",
     "text": [
      "[2016-09-16 12:51:06,308] - obspy.clients.fdsn.mass_downloader - INFO: Client 'http://165.98.224.52:8081/' - Successfully downloaded 2 channels (of 2)\n"
     ]
    },
    {
     "name": "stdout",
     "output_type": "stream",
     "text": [
      "Downloading http://165.98.224.52:8081/fdsnws/dataselect/1/query with requesting gzip compression\n",
      "Sending along the following payload:\n",
      "----------------------------------------------------------------------\n",
      "SV CNCH -- HHZ 2016-09-15T05:50:00.000000 2016-09-16T05:50:00.000000\n",
      "SV CNCH -- HHN 2016-09-16T05:50:00.000000 2016-09-16T06:15:00.000000\n",
      "----------------------------------------------------------------------\n",
      "Downloaded http://165.98.224.52:8081/fdsnws/dataselect/1/query with HTTP code: 200\n"
     ]
    },
    {
     "name": "stderr",
     "output_type": "stream",
     "text": [
      "[2016-09-16 12:51:22,308] - obspy.clients.fdsn.mass_downloader - INFO: Client 'http://165.98.224.52:8081/' - Successfully downloaded 2 channels (of 2)\n"
     ]
    },
    {
     "name": "stdout",
     "output_type": "stream",
     "text": [
      "Downloading http://165.98.224.52:8081/fdsnws/dataselect/1/query with requesting gzip compression\n",
      "Sending along the following payload:\n",
      "----------------------------------------------------------------------\n",
      "NU MGAN -- HHZ 2016-09-16T05:50:00.000000 2016-09-16T06:15:00.000000\n",
      "OV HZTE -- HHE 2016-09-15T05:50:00.000000 2016-09-16T05:50:00.000000\n",
      "----------------------------------------------------------------------\n",
      "Downloaded http://165.98.224.52:8081/fdsnws/dataselect/1/query with HTTP code: 200\n"
     ]
    },
    {
     "name": "stderr",
     "output_type": "stream",
     "text": [
      "[2016-09-16 12:51:33,134] - obspy.clients.fdsn.mass_downloader - INFO: Client 'http://165.98.224.52:8081/' - Successfully downloaded 2 channels (of 2)\n"
     ]
    },
    {
     "name": "stdout",
     "output_type": "stream",
     "text": [
      "Downloading http://165.98.224.52:8081/fdsnws/dataselect/1/query with requesting gzip compression\n",
      "Sending along the following payload:\n",
      "----------------------------------------------------------------------\n",
      "OV VICA -- HHN 2016-09-16T05:50:00.000000 2016-09-16T06:15:00.000000\n",
      "OV VICA -- HHZ 2016-09-15T05:50:00.000000 2016-09-16T05:50:00.000000\n",
      "----------------------------------------------------------------------\n",
      "Downloaded http://165.98.224.52:8081/fdsnws/dataselect/1/query with HTTP code: 200\n"
     ]
    },
    {
     "name": "stderr",
     "output_type": "stream",
     "text": [
      "[2016-09-16 12:51:55,131] - obspy.clients.fdsn.mass_downloader - INFO: Client 'http://165.98.224.52:8081/' - Successfully downloaded 2 channels (of 2)\n"
     ]
    },
    {
     "name": "stdout",
     "output_type": "stream",
     "text": [
      "Downloading http://165.98.224.52:8081/fdsnws/dataselect/1/query with requesting gzip compression\n",
      "Sending along the following payload:\n",
      "----------------------------------------------------------------------\n",
      "SV CNCH -- HHZ 2016-09-16T05:50:00.000000 2016-09-16T06:15:00.000000\n",
      "NU MOM3 00 EHE 2016-09-15T05:50:00.000000 2016-09-16T05:50:00.000000\n",
      "----------------------------------------------------------------------\n",
      "Downloaded http://165.98.224.52:8081/fdsnws/dataselect/1/query with HTTP code: 200\n"
     ]
    },
    {
     "name": "stderr",
     "output_type": "stream",
     "text": [
      "[2016-09-16 12:52:09,845] - obspy.clients.fdsn.mass_downloader - INFO: Client 'http://165.98.224.52:8081/' - Successfully downloaded 2 channels (of 2)\n"
     ]
    },
    {
     "name": "stdout",
     "output_type": "stream",
     "text": [
      "Downloading http://165.98.224.52:8081/fdsnws/dataselect/1/query with requesting gzip compression\n",
      "Sending along the following payload:\n",
      "----------------------------------------------------------------------\n",
      "OV HZTE -- HHN 2016-09-15T05:50:00.000000 2016-09-16T05:50:00.000000\n",
      "OV HZTE -- HHE 2016-09-16T05:50:00.000000 2016-09-16T06:15:00.000000\n",
      "----------------------------------------------------------------------\n",
      "Downloaded http://165.98.224.52:8081/fdsnws/dataselect/1/query with HTTP code: 200\n"
     ]
    },
    {
     "name": "stderr",
     "output_type": "stream",
     "text": [
      "[2016-09-16 12:52:14,113] - obspy.clients.fdsn.mass_downloader - INFO: Client 'http://165.98.224.52:8081/' - Successfully downloaded 2 channels (of 2)\n"
     ]
    },
    {
     "name": "stdout",
     "output_type": "stream",
     "text": [
      "Downloading http://165.98.224.52:8081/fdsnws/dataselect/1/query with requesting gzip compression\n",
      "Sending along the following payload:\n",
      "----------------------------------------------------------------------\n",
      "NU POLN 00 EHE 2016-09-15T05:50:00.000000 2016-09-16T05:50:00.000000\n",
      "OV VICA -- HHZ 2016-09-16T05:50:00.000000 2016-09-16T06:15:00.000000\n",
      "----------------------------------------------------------------------\n",
      "Downloaded http://165.98.224.52:8081/fdsnws/dataselect/1/query with HTTP code: 200\n"
     ]
    },
    {
     "name": "stderr",
     "output_type": "stream",
     "text": [
      "[2016-09-16 12:52:15,782] - obspy.clients.fdsn.mass_downloader - INFO: Client 'http://165.98.224.52:8081/' - Successfully downloaded 2 channels (of 2)\n"
     ]
    },
    {
     "name": "stdout",
     "output_type": "stream",
     "text": [
      "Downloading http://165.98.224.52:8081/fdsnws/dataselect/1/query with requesting gzip compression\n",
      "Sending along the following payload:\n",
      "----------------------------------------------------------------------\n",
      "NU MOM3 00 EHE 2016-09-16T05:50:00.000000 2016-09-16T06:15:00.000000\n",
      "NU MOM3 00 EHN 2016-09-15T05:50:00.000000 2016-09-16T05:50:00.000000\n",
      "----------------------------------------------------------------------\n"
     ]
    },
    {
     "name": "stderr",
     "output_type": "stream",
     "text": [
      "[2016-09-16 12:52:20,936] - obspy.clients.fdsn.mass_downloader - INFO: Client 'http://165.98.224.52:8081/' - Successfully downloaded 1 channels (of 2)\n"
     ]
    },
    {
     "name": "stdout",
     "output_type": "stream",
     "text": [
      "Downloaded http://165.98.224.52:8081/fdsnws/dataselect/1/query with HTTP code: 200\n",
      "Downloading http://165.98.224.52:8081/fdsnws/dataselect/1/query with requesting gzip compression\n",
      "Sending along the following payload:\n",
      "----------------------------------------------------------------------\n",
      "NU POLN 00 EHN 2016-09-15T05:50:00.000000 2016-09-16T05:50:00.000000\n",
      "NU POLN 00 EHE 2016-09-16T05:50:00.000000 2016-09-16T06:15:00.000000\n",
      "----------------------------------------------------------------------\n"
     ]
    },
    {
     "name": "stderr",
     "output_type": "stream",
     "text": [
      "[2016-09-16 12:52:21,564] - obspy.clients.fdsn.mass_downloader - INFO: Client 'http://165.98.224.52:8081/' - No data available for request.\n"
     ]
    },
    {
     "name": "stdout",
     "output_type": "stream",
     "text": [
      "Downloaded http://165.98.224.52:8081/fdsnws/dataselect/1/query with HTTP code: 204\n",
      "Downloading http://165.98.224.52:8081/fdsnws/dataselect/1/query with requesting gzip compression\n",
      "Sending along the following payload:\n",
      "----------------------------------------------------------------------\n",
      "NU POLN 00 EHN 2016-09-16T05:50:00.000000 2016-09-16T06:15:00.000000\n",
      "NU POLN 00 EHZ 2016-09-15T05:50:00.000000 2016-09-16T05:50:00.000000\n",
      "----------------------------------------------------------------------\n"
     ]
    },
    {
     "name": "stderr",
     "output_type": "stream",
     "text": [
      "[2016-09-16 12:52:22,176] - obspy.clients.fdsn.mass_downloader - INFO: Client 'http://165.98.224.52:8081/' - No data available for request.\n"
     ]
    },
    {
     "name": "stdout",
     "output_type": "stream",
     "text": [
      "Downloaded http://165.98.224.52:8081/fdsnws/dataselect/1/query with HTTP code: 204\n",
      "Downloading http://165.98.224.52:8081/fdsnws/dataselect/1/query with requesting gzip compression\n",
      "Sending along the following payload:\n",
      "----------------------------------------------------------------------\n",
      "NU POLN 00 EHZ 2016-09-16T05:50:00.000000 2016-09-16T06:15:00.000000\n",
      "OV OCHAL -- HHE 2016-09-15T05:50:00.000000 2016-09-16T05:50:00.000000\n",
      "----------------------------------------------------------------------\n"
     ]
    },
    {
     "name": "stderr",
     "output_type": "stream",
     "text": [
      "[2016-09-16 12:52:22,730] - obspy.clients.fdsn.mass_downloader - INFO: Client 'http://165.98.224.52:8081/' - No data available for request.\n"
     ]
    },
    {
     "name": "stdout",
     "output_type": "stream",
     "text": [
      "Downloaded http://165.98.224.52:8081/fdsnws/dataselect/1/query with HTTP code: 204\n",
      "Downloading http://165.98.224.52:8081/fdsnws/dataselect/1/query with requesting gzip compression\n",
      "Sending along the following payload:\n",
      "----------------------------------------------------------------------\n",
      "GI IZAB -- HHZ 2016-09-15T05:50:00.000000 2016-09-16T05:50:00.000000\n",
      "GI IZAB -- HHN 2016-09-16T05:50:00.000000 2016-09-16T06:15:00.000000\n",
      "----------------------------------------------------------------------\n"
     ]
    },
    {
     "name": "stderr",
     "output_type": "stream",
     "text": [
      "[2016-09-16 12:52:23,251] - obspy.clients.fdsn.mass_downloader - INFO: Client 'http://165.98.224.52:8081/' - No data available for request.\n"
     ]
    },
    {
     "name": "stdout",
     "output_type": "stream",
     "text": [
      "Downloaded http://165.98.224.52:8081/fdsnws/dataselect/1/query with HTTP code: 204\n",
      "Downloading http://165.98.224.52:8081/fdsnws/dataselect/1/query with requesting gzip compression\n",
      "Sending along the following payload:\n",
      "----------------------------------------------------------------------\n",
      "GI IZAB -- HHZ 2016-09-16T05:50:00.000000 2016-09-16T06:15:00.000000\n",
      "OV CRPO -- HHE 2016-09-15T05:50:00.000000 2016-09-16T05:50:00.000000\n",
      "----------------------------------------------------------------------\n"
     ]
    },
    {
     "name": "stderr",
     "output_type": "stream",
     "text": [
      "[2016-09-16 12:52:23,779] - obspy.clients.fdsn.mass_downloader - INFO: Client 'http://165.98.224.52:8081/' - No data available for request.\n"
     ]
    },
    {
     "name": "stdout",
     "output_type": "stream",
     "text": [
      "Downloaded http://165.98.224.52:8081/fdsnws/dataselect/1/query with HTTP code: 204\n",
      "Downloading http://165.98.224.52:8081/fdsnws/dataselect/1/query with requesting gzip compression\n",
      "Sending along the following payload:\n",
      "----------------------------------------------------------------------\n",
      "OV CRPO -- HHN 2016-09-15T05:50:00.000000 2016-09-16T05:50:00.000000\n",
      "OV CRPO -- HHE 2016-09-16T05:50:00.000000 2016-09-16T06:15:00.000000\n",
      "----------------------------------------------------------------------\n"
     ]
    },
    {
     "name": "stderr",
     "output_type": "stream",
     "text": [
      "[2016-09-16 12:52:24,370] - obspy.clients.fdsn.mass_downloader - INFO: Client 'http://165.98.224.52:8081/' - No data available for request.\n"
     ]
    },
    {
     "name": "stdout",
     "output_type": "stream",
     "text": [
      "Downloaded http://165.98.224.52:8081/fdsnws/dataselect/1/query with HTTP code: 204\n",
      "Downloading http://165.98.224.52:8081/fdsnws/dataselect/1/query with requesting gzip compression\n",
      "Sending along the following payload:\n",
      "----------------------------------------------------------------------\n",
      "OV CRPO -- HHN 2016-09-16T05:50:00.000000 2016-09-16T06:15:00.000000\n",
      "OV CRPO -- HHZ 2016-09-15T05:50:00.000000 2016-09-16T05:50:00.000000\n",
      "----------------------------------------------------------------------\n"
     ]
    },
    {
     "name": "stderr",
     "output_type": "stream",
     "text": [
      "[2016-09-16 12:52:24,937] - obspy.clients.fdsn.mass_downloader - INFO: Client 'http://165.98.224.52:8081/' - No data available for request.\n"
     ]
    },
    {
     "name": "stdout",
     "output_type": "stream",
     "text": [
      "Downloaded http://165.98.224.52:8081/fdsnws/dataselect/1/query with HTTP code: 204\n",
      "Downloading http://165.98.224.52:8081/fdsnws/dataselect/1/query with requesting gzip compression\n",
      "Sending along the following payload:\n",
      "----------------------------------------------------------------------\n",
      "HN SARH -- EHE 2016-09-15T05:50:00.000000 2016-09-16T05:50:00.000000\n",
      "OV CRPO -- HHZ 2016-09-16T05:50:00.000000 2016-09-16T06:15:00.000000\n",
      "----------------------------------------------------------------------\n"
     ]
    },
    {
     "name": "stderr",
     "output_type": "stream",
     "text": [
      "[2016-09-16 12:52:25,446] - obspy.clients.fdsn.mass_downloader - INFO: Client 'http://165.98.224.52:8081/' - No data available for request.\n"
     ]
    },
    {
     "name": "stdout",
     "output_type": "stream",
     "text": [
      "Downloaded http://165.98.224.52:8081/fdsnws/dataselect/1/query with HTTP code: 204\n",
      "Downloading http://165.98.224.52:8081/fdsnws/dataselect/1/query with requesting gzip compression\n",
      "Sending along the following payload:\n",
      "----------------------------------------------------------------------\n",
      "HN SARH -- EHN 2016-09-15T05:50:00.000000 2016-09-16T05:50:00.000000\n",
      "HN SARH -- EHE 2016-09-16T05:50:00.000000 2016-09-16T06:15:00.000000\n",
      "----------------------------------------------------------------------\n"
     ]
    },
    {
     "name": "stderr",
     "output_type": "stream",
     "text": [
      "[2016-09-16 12:52:25,946] - obspy.clients.fdsn.mass_downloader - INFO: Client 'http://165.98.224.52:8081/' - No data available for request.\n"
     ]
    },
    {
     "name": "stdout",
     "output_type": "stream",
     "text": [
      "Downloaded http://165.98.224.52:8081/fdsnws/dataselect/1/query with HTTP code: 204\n",
      "Downloading http://165.98.224.52:8081/fdsnws/dataselect/1/query with requesting gzip compression\n",
      "Sending along the following payload:\n",
      "----------------------------------------------------------------------\n",
      "HN SARH -- EHN 2016-09-16T05:50:00.000000 2016-09-16T06:15:00.000000\n",
      "HN SARH -- EHZ 2016-09-15T05:50:00.000000 2016-09-16T05:50:00.000000\n",
      "----------------------------------------------------------------------\n"
     ]
    },
    {
     "name": "stderr",
     "output_type": "stream",
     "text": [
      "[2016-09-16 12:52:26,471] - obspy.clients.fdsn.mass_downloader - INFO: Client 'http://165.98.224.52:8081/' - No data available for request.\n"
     ]
    },
    {
     "name": "stdout",
     "output_type": "stream",
     "text": [
      "Downloaded http://165.98.224.52:8081/fdsnws/dataselect/1/query with HTTP code: 204\n",
      "Downloading http://165.98.224.52:8081/fdsnws/dataselect/1/query with requesting gzip compression\n",
      "Sending along the following payload:\n",
      "----------------------------------------------------------------------\n",
      "HN SARH -- EHZ 2016-09-16T05:50:00.000000 2016-09-16T06:15:00.000000\n",
      "NU APYN 00 EHE 2016-09-15T05:50:00.000000 2016-09-16T05:50:00.000000\n",
      "----------------------------------------------------------------------\n",
      "Downloaded http://165.98.224.52:8081/fdsnws/dataselect/1/query with HTTP code: 200\n"
     ]
    },
    {
     "name": "stderr",
     "output_type": "stream",
     "text": [
      "[2016-09-16 12:52:55,530] - obspy.clients.fdsn.mass_downloader - INFO: Client 'http://165.98.224.52:8081/' - Successfully downloaded 2 channels (of 2)\n"
     ]
    },
    {
     "name": "stdout",
     "output_type": "stream",
     "text": [
      "Downloading http://165.98.224.52:8081/fdsnws/dataselect/1/query with requesting gzip compression\n",
      "Sending along the following payload:\n",
      "----------------------------------------------------------------------\n",
      "OV HZTE -- HHZ 2016-09-15T05:50:00.000000 2016-09-16T05:50:00.000000\n",
      "OV HZTE -- HHN 2016-09-16T05:50:00.000000 2016-09-16T06:15:00.000000\n",
      "----------------------------------------------------------------------\n",
      "Downloaded http://165.98.224.52:8081/fdsnws/dataselect/1/query with HTTP code: 200\n",
      "Downloaded http://165.98.224.52:8081/fdsnws/dataselect/1/query with HTTP code: 200\n"
     ]
    },
    {
     "name": "stderr",
     "output_type": "stream",
     "text": [
      "[2016-09-16 12:53:30,110] - obspy.clients.fdsn.mass_downloader - INFO: Client 'http://165.98.224.52:8081/' - Successfully downloaded 2 channels (of 2)\n"
     ]
    },
    {
     "name": "stdout",
     "output_type": "stream",
     "text": [
      "Downloading http://165.98.224.52:8081/fdsnws/dataselect/1/query with requesting gzip compression\n",
      "Sending along the following payload:\n",
      "----------------------------------------------------------------------\n",
      "NU MOM3 00 EHN 2016-09-16T05:50:00.000000 2016-09-16T06:15:00.000000\n",
      "NU MOM3 00 EHZ 2016-09-15T05:50:00.000000 2016-09-16T05:50:00.000000\n",
      "----------------------------------------------------------------------\n"
     ]
    },
    {
     "name": "stderr",
     "output_type": "stream",
     "text": [
      "[2016-09-16 12:53:30,651] - obspy.clients.fdsn.mass_downloader - INFO: Client 'http://165.98.224.52:8081/' - Successfully downloaded 1 channels (of 2)\n"
     ]
    },
    {
     "name": "stdout",
     "output_type": "stream",
     "text": [
      "Downloading http://165.98.224.52:8081/fdsnws/dataselect/1/query with requesting gzip compression\n",
      "Sending along the following payload:\n",
      "----------------------------------------------------------------------\n",
      "NU APYN 00 EHE 2016-09-16T05:50:00.000000 2016-09-16T06:15:00.000000\n",
      "NU APYN 00 EHN 2016-09-15T05:50:00.000000 2016-09-16T05:50:00.000000\n",
      "----------------------------------------------------------------------\n",
      "Downloaded http://165.98.224.52:8081/fdsnws/dataselect/1/query with HTTP code: 200\n"
     ]
    },
    {
     "name": "stderr",
     "output_type": "stream",
     "text": [
      "[2016-09-16 12:53:32,048] - obspy.clients.fdsn.mass_downloader - INFO: Client 'http://165.98.224.52:8081/' - Successfully downloaded 2 channels (of 2)\n"
     ]
    },
    {
     "name": "stdout",
     "output_type": "stream",
     "text": [
      "Downloading http://165.98.224.52:8081/fdsnws/dataselect/1/query with requesting gzip compression\n",
      "Sending along the following payload:\n",
      "----------------------------------------------------------------------\n",
      "OV HZTE -- HHZ 2016-09-16T05:50:00.000000 2016-09-16T06:15:00.000000\n",
      "NU PLMN 00 EHE 2016-09-15T05:50:00.000000 2016-09-16T05:50:00.000000\n",
      "----------------------------------------------------------------------\n"
     ]
    },
    {
     "name": "stderr",
     "output_type": "stream",
     "text": [
      "[2016-09-16 12:53:39,908] - obspy.clients.fdsn.mass_downloader - INFO: Client 'http://165.98.224.52:8081/' - Successfully downloaded 1 channels (of 2)\n"
     ]
    },
    {
     "name": "stdout",
     "output_type": "stream",
     "text": [
      "Downloaded http://165.98.224.52:8081/fdsnws/dataselect/1/query with HTTP code: 200\n",
      "Downloading http://165.98.224.52:8081/fdsnws/dataselect/1/query with requesting gzip compression\n",
      "Sending along the following payload:\n",
      "----------------------------------------------------------------------\n",
      "NU PLMN 00 EHE 2016-09-16T05:50:00.000000 2016-09-16T06:15:00.000000\n",
      "NU PLMN 00 EHN 2016-09-15T05:50:00.000000 2016-09-16T05:50:00.000000\n",
      "----------------------------------------------------------------------\n"
     ]
    },
    {
     "name": "stderr",
     "output_type": "stream",
     "text": [
      "[2016-09-16 12:53:40,480] - obspy.clients.fdsn.mass_downloader - INFO: Client 'http://165.98.224.52:8081/' - No data available for request.\n"
     ]
    },
    {
     "name": "stdout",
     "output_type": "stream",
     "text": [
      "Downloaded http://165.98.224.52:8081/fdsnws/dataselect/1/query with HTTP code: 204\n",
      "Downloading http://165.98.224.52:8081/fdsnws/dataselect/1/query with requesting gzip compression\n",
      "Sending along the following payload:\n",
      "----------------------------------------------------------------------\n",
      "NU PLMN 00 EHZ 2016-09-15T05:50:00.000000 2016-09-16T05:50:00.000000\n",
      "NU PLMN 00 EHN 2016-09-16T05:50:00.000000 2016-09-16T06:15:00.000000\n",
      "----------------------------------------------------------------------\n"
     ]
    },
    {
     "name": "stderr",
     "output_type": "stream",
     "text": [
      "[2016-09-16 12:53:41,089] - obspy.clients.fdsn.mass_downloader - INFO: Client 'http://165.98.224.52:8081/' - No data available for request.\n"
     ]
    },
    {
     "name": "stdout",
     "output_type": "stream",
     "text": [
      "Downloaded http://165.98.224.52:8081/fdsnws/dataselect/1/query with HTTP code: 204\n",
      "Downloading http://165.98.224.52:8081/fdsnws/dataselect/1/query with requesting gzip compression\n",
      "Sending along the following payload:\n",
      "----------------------------------------------------------------------\n",
      "NU PLMN 00 EHZ 2016-09-16T05:50:00.000000 2016-09-16T06:15:00.000000\n",
      "TC ICCO -- HHE 2016-09-15T05:50:00.000000 2016-09-16T05:50:00.000000\n",
      "----------------------------------------------------------------------\n"
     ]
    },
    {
     "name": "stderr",
     "output_type": "stream",
     "text": [
      "[2016-09-16 12:53:41,613] - obspy.clients.fdsn.mass_downloader - INFO: Client 'http://165.98.224.52:8081/' - No data available for request.\n"
     ]
    },
    {
     "name": "stdout",
     "output_type": "stream",
     "text": [
      "Downloaded http://165.98.224.52:8081/fdsnws/dataselect/1/query with HTTP code: 204\n",
      "Downloading http://165.98.224.52:8081/fdsnws/dataselect/1/query with requesting gzip compression\n",
      "Sending along the following payload:\n",
      "----------------------------------------------------------------------\n",
      "TC ICCO -- HHN 2016-09-15T05:50:00.000000 2016-09-16T05:50:00.000000\n",
      "TC ICCO -- HHE 2016-09-16T05:50:00.000000 2016-09-16T06:15:00.000000\n",
      "----------------------------------------------------------------------\n"
     ]
    },
    {
     "name": "stderr",
     "output_type": "stream",
     "text": [
      "[2016-09-16 12:53:42,064] - obspy.clients.fdsn.mass_downloader - INFO: Client 'http://165.98.224.52:8081/' - No data available for request.\n"
     ]
    },
    {
     "name": "stdout",
     "output_type": "stream",
     "text": [
      "Downloaded http://165.98.224.52:8081/fdsnws/dataselect/1/query with HTTP code: 204\n",
      "Downloading http://165.98.224.52:8081/fdsnws/dataselect/1/query with requesting gzip compression\n",
      "Sending along the following payload:\n",
      "----------------------------------------------------------------------\n",
      "TC ICCO -- HHZ 2016-09-15T05:50:00.000000 2016-09-16T05:50:00.000000\n",
      "TC ICCO -- HHN 2016-09-16T05:50:00.000000 2016-09-16T06:15:00.000000\n",
      "----------------------------------------------------------------------\n"
     ]
    },
    {
     "name": "stderr",
     "output_type": "stream",
     "text": [
      "[2016-09-16 12:53:42,563] - obspy.clients.fdsn.mass_downloader - INFO: Client 'http://165.98.224.52:8081/' - No data available for request.\n"
     ]
    },
    {
     "name": "stdout",
     "output_type": "stream",
     "text": [
      "Downloaded http://165.98.224.52:8081/fdsnws/dataselect/1/query with HTTP code: 204\n",
      "Downloading http://165.98.224.52:8081/fdsnws/dataselect/1/query with requesting gzip compression\n",
      "Sending along the following payload:\n",
      "----------------------------------------------------------------------\n",
      "TC ICCO -- HHZ 2016-09-16T05:50:00.000000 2016-09-16T06:15:00.000000\n",
      "NU NANN -- HHE 2016-09-15T05:50:00.000000 2016-09-16T05:50:00.000000\n",
      "----------------------------------------------------------------------\n"
     ]
    },
    {
     "name": "stderr",
     "output_type": "stream",
     "text": [
      "[2016-09-16 12:53:43,043] - obspy.clients.fdsn.mass_downloader - INFO: Client 'http://165.98.224.52:8081/' - No data available for request.\n"
     ]
    },
    {
     "name": "stdout",
     "output_type": "stream",
     "text": [
      "Downloaded http://165.98.224.52:8081/fdsnws/dataselect/1/query with HTTP code: 204\n",
      "Downloading http://165.98.224.52:8081/fdsnws/dataselect/1/query with requesting gzip compression\n",
      "Sending along the following payload:\n",
      "----------------------------------------------------------------------\n",
      "NU NANN -- HHE 2016-09-16T05:50:00.000000 2016-09-16T06:15:00.000000\n",
      "NU NANN -- HHN 2016-09-15T05:50:00.000000 2016-09-16T05:50:00.000000\n",
      "----------------------------------------------------------------------\n"
     ]
    },
    {
     "name": "stderr",
     "output_type": "stream",
     "text": [
      "[2016-09-16 12:53:43,588] - obspy.clients.fdsn.mass_downloader - INFO: Client 'http://165.98.224.52:8081/' - No data available for request.\n"
     ]
    },
    {
     "name": "stdout",
     "output_type": "stream",
     "text": [
      "Downloaded http://165.98.224.52:8081/fdsnws/dataselect/1/query with HTTP code: 204\n",
      "Downloading http://165.98.224.52:8081/fdsnws/dataselect/1/query with requesting gzip compression\n",
      "Sending along the following payload:\n",
      "----------------------------------------------------------------------\n",
      "NU NANN -- HHZ 2016-09-15T05:50:00.000000 2016-09-16T05:50:00.000000\n",
      "NU NANN -- HHN 2016-09-16T05:50:00.000000 2016-09-16T06:15:00.000000\n",
      "----------------------------------------------------------------------\n"
     ]
    },
    {
     "name": "stderr",
     "output_type": "stream",
     "text": [
      "[2016-09-16 12:53:44,202] - obspy.clients.fdsn.mass_downloader - INFO: Client 'http://165.98.224.52:8081/' - No data available for request.\n"
     ]
    },
    {
     "name": "stdout",
     "output_type": "stream",
     "text": [
      "Downloaded http://165.98.224.52:8081/fdsnws/dataselect/1/query with HTTP code: 204\n",
      "Downloading http://165.98.224.52:8081/fdsnws/dataselect/1/query with requesting gzip compression\n",
      "Sending along the following payload:\n",
      "----------------------------------------------------------------------\n",
      "NU NANN -- HHZ 2016-09-16T05:50:00.000000 2016-09-16T06:15:00.000000\n",
      "TC CVTR -- HHE 2016-09-15T05:50:00.000000 2016-09-16T05:50:00.000000\n",
      "----------------------------------------------------------------------\n",
      "Downloaded http://165.98.224.52:8081/fdsnws/dataselect/1/query with HTTP code: 200\n"
     ]
    },
    {
     "name": "stderr",
     "output_type": "stream",
     "text": [
      "[2016-09-16 12:54:18,271] - obspy.clients.fdsn.mass_downloader - INFO: Client 'http://165.98.224.52:8081/' - Successfully downloaded 2 channels (of 2)\n"
     ]
    },
    {
     "name": "stdout",
     "output_type": "stream",
     "text": [
      "Downloading http://165.98.224.52:8081/fdsnws/dataselect/1/query with requesting gzip compression\n",
      "Sending along the following payload:\n",
      "----------------------------------------------------------------------\n",
      "TC SJS1 -- HHE 2016-09-15T05:50:00.000000 2016-09-16T05:50:00.000000\n",
      "NU MOM3 00 EHZ 2016-09-16T05:50:00.000000 2016-09-16T06:15:00.000000\n",
      "----------------------------------------------------------------------\n"
     ]
    },
    {
     "name": "stderr",
     "output_type": "stream",
     "text": [
      "[2016-09-16 12:54:20,119] - obspy.clients.fdsn.mass_downloader - INFO: Client 'http://165.98.224.52:8081/' - Successfully downloaded 1 channels (of 2)\n"
     ]
    },
    {
     "name": "stdout",
     "output_type": "stream",
     "text": [
      "Downloaded http://165.98.224.52:8081/fdsnws/dataselect/1/query with HTTP code: 200\n",
      "Downloading http://165.98.224.52:8081/fdsnws/dataselect/1/query with requesting gzip compression\n",
      "Sending along the following payload:\n",
      "----------------------------------------------------------------------\n",
      "TC SJS1 -- HHN 2016-09-15T05:50:00.000000 2016-09-16T05:50:00.000000\n",
      "TC SJS1 -- HHE 2016-09-16T05:50:00.000000 2016-09-16T06:15:00.000000\n",
      "----------------------------------------------------------------------\n"
     ]
    },
    {
     "name": "stderr",
     "output_type": "stream",
     "text": [
      "[2016-09-16 12:54:20,692] - obspy.clients.fdsn.mass_downloader - INFO: Client 'http://165.98.224.52:8081/' - No data available for request.\n"
     ]
    },
    {
     "name": "stdout",
     "output_type": "stream",
     "text": [
      "Downloaded http://165.98.224.52:8081/fdsnws/dataselect/1/query with HTTP code: 204\n",
      "Downloading http://165.98.224.52:8081/fdsnws/dataselect/1/query with requesting gzip compression\n",
      "Sending along the following payload:\n",
      "----------------------------------------------------------------------\n",
      "TC SJS1 -- HHZ 2016-09-15T05:50:00.000000 2016-09-16T05:50:00.000000\n",
      "TC SJS1 -- HHN 2016-09-16T05:50:00.000000 2016-09-16T06:15:00.000000\n",
      "----------------------------------------------------------------------\n"
     ]
    },
    {
     "name": "stderr",
     "output_type": "stream",
     "text": [
      "[2016-09-16 12:54:21,204] - obspy.clients.fdsn.mass_downloader - INFO: Client 'http://165.98.224.52:8081/' - No data available for request.\n"
     ]
    },
    {
     "name": "stdout",
     "output_type": "stream",
     "text": [
      "Downloaded http://165.98.224.52:8081/fdsnws/dataselect/1/query with HTTP code: 204\n",
      "Downloading http://165.98.224.52:8081/fdsnws/dataselect/1/query with requesting gzip compression\n",
      "Sending along the following payload:\n",
      "----------------------------------------------------------------------\n",
      "TC SJS1 -- HHZ 2016-09-16T05:50:00.000000 2016-09-16T06:15:00.000000\n",
      "NU SAPN -- HHE 2016-09-15T05:50:00.000000 2016-09-16T05:50:00.000000\n",
      "----------------------------------------------------------------------\n"
     ]
    },
    {
     "name": "stderr",
     "output_type": "stream",
     "text": [
      "[2016-09-16 12:54:21,735] - obspy.clients.fdsn.mass_downloader - INFO: Client 'http://165.98.224.52:8081/' - No data available for request.\n"
     ]
    },
    {
     "name": "stdout",
     "output_type": "stream",
     "text": [
      "Downloaded http://165.98.224.52:8081/fdsnws/dataselect/1/query with HTTP code: 204\n",
      "Downloading http://165.98.224.52:8081/fdsnws/dataselect/1/query with requesting gzip compression\n",
      "Sending along the following payload:\n",
      "----------------------------------------------------------------------\n",
      "NU SAPN -- HHE 2016-09-16T05:50:00.000000 2016-09-16T06:15:00.000000\n",
      "NU SAPN -- HHN 2016-09-15T05:50:00.000000 2016-09-16T05:50:00.000000\n",
      "----------------------------------------------------------------------\n"
     ]
    },
    {
     "name": "stderr",
     "output_type": "stream",
     "text": [
      "[2016-09-16 12:54:22,312] - obspy.clients.fdsn.mass_downloader - INFO: Client 'http://165.98.224.52:8081/' - No data available for request.\n"
     ]
    },
    {
     "name": "stdout",
     "output_type": "stream",
     "text": [
      "Downloaded http://165.98.224.52:8081/fdsnws/dataselect/1/query with HTTP code: 204\n",
      "Downloading http://165.98.224.52:8081/fdsnws/dataselect/1/query with requesting gzip compression\n",
      "Sending along the following payload:\n",
      "----------------------------------------------------------------------\n",
      "NU SAPN -- HHZ 2016-09-15T05:50:00.000000 2016-09-16T05:50:00.000000\n",
      "NU SAPN -- HHN 2016-09-16T05:50:00.000000 2016-09-16T06:15:00.000000\n",
      "----------------------------------------------------------------------\n"
     ]
    },
    {
     "name": "stderr",
     "output_type": "stream",
     "text": [
      "[2016-09-16 12:54:22,910] - obspy.clients.fdsn.mass_downloader - INFO: Client 'http://165.98.224.52:8081/' - No data available for request.\n"
     ]
    },
    {
     "name": "stdout",
     "output_type": "stream",
     "text": [
      "Downloaded http://165.98.224.52:8081/fdsnws/dataselect/1/query with HTTP code: 204\n",
      "Downloading http://165.98.224.52:8081/fdsnws/dataselect/1/query with requesting gzip compression\n",
      "Sending along the following payload:\n",
      "----------------------------------------------------------------------\n",
      "NU SAPN -- HHZ 2016-09-16T05:50:00.000000 2016-09-16T06:15:00.000000\n",
      "NU HUEN -- HHE 2016-09-15T05:50:00.000000 2016-09-16T05:50:00.000000\n",
      "----------------------------------------------------------------------\n",
      "Downloaded http://165.98.224.52:8081/fdsnws/dataselect/1/query with HTTP code: 200\n"
     ]
    },
    {
     "name": "stderr",
     "output_type": "stream",
     "text": [
      "[2016-09-16 12:54:28,112] - obspy.clients.fdsn.mass_downloader - INFO: Client 'http://165.98.224.52:8081/' - Successfully downloaded 1 channels (of 2)\n"
     ]
    },
    {
     "name": "stdout",
     "output_type": "stream",
     "text": [
      "Downloading http://165.98.224.52:8081/fdsnws/dataselect/1/query with requesting gzip compression\n",
      "Sending along the following payload:\n",
      "----------------------------------------------------------------------\n",
      "TC CVTR -- HHN 2016-09-15T05:50:00.000000 2016-09-16T05:50:00.000000\n",
      "TC CVTR -- HHE 2016-09-16T05:50:00.000000 2016-09-16T06:15:00.000000\n",
      "----------------------------------------------------------------------\n",
      "Downloaded http://165.98.224.52:8081/fdsnws/dataselect/1/query with HTTP code: 200\n"
     ]
    },
    {
     "name": "stderr",
     "output_type": "stream",
     "text": [
      "[2016-09-16 12:54:44,926] - obspy.clients.fdsn.mass_downloader - INFO: Client 'http://165.98.224.52:8081/' - Successfully downloaded 2 channels (of 2)\n"
     ]
    },
    {
     "name": "stdout",
     "output_type": "stream",
     "text": [
      "Downloading http://165.98.224.52:8081/fdsnws/dataselect/1/query with requesting gzip compression\n",
      "Sending along the following payload:\n",
      "----------------------------------------------------------------------\n",
      "NU APYN 00 EHZ 2016-09-15T05:50:00.000000 2016-09-16T05:50:00.000000\n",
      "NU APYN 00 EHN 2016-09-16T05:50:00.000000 2016-09-16T06:15:00.000000\n",
      "----------------------------------------------------------------------\n",
      "Downloaded http://165.98.224.52:8081/fdsnws/dataselect/1/query with HTTP code: 200\n"
     ]
    },
    {
     "name": "stderr",
     "output_type": "stream",
     "text": [
      "[2016-09-16 12:54:51,892] - obspy.clients.fdsn.mass_downloader - INFO: Client 'http://165.98.224.52:8081/' - Successfully downloaded 1 channels (of 2)\n"
     ]
    },
    {
     "name": "stdout",
     "output_type": "stream",
     "text": [
      "Downloading http://165.98.224.52:8081/fdsnws/dataselect/1/query with requesting gzip compression\n",
      "Sending along the following payload:\n",
      "----------------------------------------------------------------------\n",
      "NU HUEN -- HHN 2016-09-15T05:50:00.000000 2016-09-16T05:50:00.000000\n",
      "NU HUEN -- HHE 2016-09-16T05:50:00.000000 2016-09-16T06:15:00.000000\n",
      "----------------------------------------------------------------------\n",
      "Downloaded http://165.98.224.52:8081/fdsnws/dataselect/1/query with HTTP code: 200\n"
     ]
    },
    {
     "name": "stderr",
     "output_type": "stream",
     "text": [
      "[2016-09-16 12:55:15,221] - obspy.clients.fdsn.mass_downloader - INFO: Client 'http://165.98.224.52:8081/' - Successfully downloaded 2 channels (of 2)\n"
     ]
    },
    {
     "name": "stdout",
     "output_type": "stream",
     "text": [
      "Downloading http://165.98.224.52:8081/fdsnws/dataselect/1/query with requesting gzip compression\n",
      "Sending along the following payload:\n",
      "----------------------------------------------------------------------\n",
      "TC CVTR -- HHN 2016-09-16T05:50:00.000000 2016-09-16T06:15:00.000000\n",
      "TC CVTR -- HHZ 2016-09-15T05:50:00.000000 2016-09-16T05:50:00.000000\n",
      "----------------------------------------------------------------------\n",
      "Downloaded http://165.98.224.52:8081/fdsnws/dataselect/1/query with HTTP code: 200\n"
     ]
    },
    {
     "name": "stderr",
     "output_type": "stream",
     "text": [
      "[2016-09-16 12:55:21,456] - obspy.clients.fdsn.mass_downloader - INFO: Client 'http://165.98.224.52:8081/' - Successfully downloaded 2 channels (of 2)\n"
     ]
    },
    {
     "name": "stdout",
     "output_type": "stream",
     "text": [
      "Downloading http://165.98.224.52:8081/fdsnws/dataselect/1/query with requesting gzip compression\n",
      "Sending along the following payload:\n",
      "----------------------------------------------------------------------\n",
      "NU HUEN -- HHZ 2016-09-15T05:50:00.000000 2016-09-16T05:50:00.000000\n",
      "NU HUEN -- HHN 2016-09-16T05:50:00.000000 2016-09-16T06:15:00.000000\n",
      "----------------------------------------------------------------------\n",
      "Downloaded http://165.98.224.52:8081/fdsnws/dataselect/1/query with HTTP code: 200\n"
     ]
    },
    {
     "name": "stderr",
     "output_type": "stream",
     "text": [
      "[2016-09-16 12:55:51,362] - obspy.clients.fdsn.mass_downloader - INFO: Client 'http://165.98.224.52:8081/' - Successfully downloaded 2 channels (of 2)\n"
     ]
    },
    {
     "name": "stdout",
     "output_type": "stream",
     "text": [
      "Downloading http://165.98.224.52:8081/fdsnws/dataselect/1/query with requesting gzip compression\n",
      "Sending along the following payload:\n",
      "----------------------------------------------------------------------\n",
      "NU APYN 00 EHZ 2016-09-16T05:50:00.000000 2016-09-16T06:15:00.000000\n",
      "GI CHIE -- HHE 2016-09-15T05:50:00.000000 2016-09-16T05:50:00.000000\n",
      "----------------------------------------------------------------------\n",
      "Downloaded http://165.98.224.52:8081/fdsnws/dataselect/1/query with HTTP code: 200\n"
     ]
    },
    {
     "name": "stderr",
     "output_type": "stream",
     "text": [
      "[2016-09-16 12:56:01,197] - obspy.clients.fdsn.mass_downloader - INFO: Client 'http://165.98.224.52:8081/' - Successfully downloaded 2 channels (of 2)\n"
     ]
    },
    {
     "name": "stdout",
     "output_type": "stream",
     "text": [
      "Downloading http://165.98.224.52:8081/fdsnws/dataselect/1/query with requesting gzip compression\n",
      "Sending along the following payload:\n",
      "----------------------------------------------------------------------\n",
      "NU TEL3 00 EHZ 2016-09-15T05:50:00.000000 2016-09-16T05:50:00.000000\n",
      "TC CVTR -- HHZ 2016-09-16T05:50:00.000000 2016-09-16T06:15:00.000000\n",
      "----------------------------------------------------------------------\n",
      "Downloaded http://165.98.224.52:8081/fdsnws/dataselect/1/query with HTTP code: 200\n"
     ]
    },
    {
     "name": "stderr",
     "output_type": "stream",
     "text": [
      "[2016-09-16 12:56:08,872] - obspy.clients.fdsn.mass_downloader - INFO: Client 'http://165.98.224.52:8081/' - Successfully downloaded 2 channels (of 2)\n"
     ]
    },
    {
     "name": "stdout",
     "output_type": "stream",
     "text": [
      "Downloading http://165.98.224.52:8081/fdsnws/dataselect/1/query with requesting gzip compression\n",
      "Sending along the following payload:\n",
      "----------------------------------------------------------------------\n",
      "NU HUEN -- HHZ 2016-09-16T05:50:00.000000 2016-09-16T06:15:00.000000\n",
      "HN MCAH -- EHE 2016-09-15T05:50:00.000000 2016-09-16T05:50:00.000000\n",
      "----------------------------------------------------------------------\n"
     ]
    },
    {
     "name": "stderr",
     "output_type": "stream",
     "text": [
      "[2016-09-16 12:56:11,038] - obspy.clients.fdsn.mass_downloader - INFO: Client 'http://165.98.224.52:8081/' - Successfully downloaded 1 channels (of 2)\n"
     ]
    },
    {
     "name": "stdout",
     "output_type": "stream",
     "text": [
      "Downloaded http://165.98.224.52:8081/fdsnws/dataselect/1/query with HTTP code: 200\n",
      "Downloading http://165.98.224.52:8081/fdsnws/dataselect/1/query with requesting gzip compression\n",
      "Sending along the following payload:\n",
      "----------------------------------------------------------------------\n",
      "HN MCAH -- EHE 2016-09-16T05:50:00.000000 2016-09-16T06:15:00.000000\n",
      "HN MCAH -- EHN 2016-09-15T05:50:00.000000 2016-09-16T05:50:00.000000\n",
      "----------------------------------------------------------------------\n"
     ]
    },
    {
     "name": "stderr",
     "output_type": "stream",
     "text": [
      "[2016-09-16 12:56:11,525] - obspy.clients.fdsn.mass_downloader - INFO: Client 'http://165.98.224.52:8081/' - No data available for request.\n"
     ]
    },
    {
     "name": "stdout",
     "output_type": "stream",
     "text": [
      "Downloaded http://165.98.224.52:8081/fdsnws/dataselect/1/query with HTTP code: 204\n",
      "Downloading http://165.98.224.52:8081/fdsnws/dataselect/1/query with requesting gzip compression\n",
      "Sending along the following payload:\n",
      "----------------------------------------------------------------------\n",
      "HN MCAH -- EHN 2016-09-16T05:50:00.000000 2016-09-16T06:15:00.000000\n",
      "HN MCAH -- EHZ 2016-09-15T05:50:00.000000 2016-09-16T05:50:00.000000\n",
      "----------------------------------------------------------------------\n"
     ]
    },
    {
     "name": "stderr",
     "output_type": "stream",
     "text": [
      "[2016-09-16 12:56:12,038] - obspy.clients.fdsn.mass_downloader - INFO: Client 'http://165.98.224.52:8081/' - No data available for request.\n"
     ]
    },
    {
     "name": "stdout",
     "output_type": "stream",
     "text": [
      "Downloaded http://165.98.224.52:8081/fdsnws/dataselect/1/query with HTTP code: 204\n",
      "Downloading http://165.98.224.52:8081/fdsnws/dataselect/1/query with requesting gzip compression\n",
      "Sending along the following payload:\n",
      "----------------------------------------------------------------------\n",
      "NU ILCN 00 EHE 2016-09-15T05:50:00.000000 2016-09-16T05:50:00.000000\n",
      "HN MCAH -- EHZ 2016-09-16T05:50:00.000000 2016-09-16T06:15:00.000000\n",
      "----------------------------------------------------------------------\n"
     ]
    },
    {
     "name": "stderr",
     "output_type": "stream",
     "text": [
      "[2016-09-16 12:56:12,757] - obspy.clients.fdsn.mass_downloader - INFO: Client 'http://165.98.224.52:8081/' - No data available for request.\n"
     ]
    },
    {
     "name": "stdout",
     "output_type": "stream",
     "text": [
      "Downloaded http://165.98.224.52:8081/fdsnws/dataselect/1/query with HTTP code: 204\n",
      "Downloading http://165.98.224.52:8081/fdsnws/dataselect/1/query with requesting gzip compression\n",
      "Sending along the following payload:\n",
      "----------------------------------------------------------------------\n",
      "NU ILCN 00 EHE 2016-09-16T05:50:00.000000 2016-09-16T06:15:00.000000\n",
      "NU ILCN 00 EHN 2016-09-15T05:50:00.000000 2016-09-16T05:50:00.000000\n",
      "----------------------------------------------------------------------\n"
     ]
    },
    {
     "name": "stderr",
     "output_type": "stream",
     "text": [
      "[2016-09-16 12:56:13,346] - obspy.clients.fdsn.mass_downloader - INFO: Client 'http://165.98.224.52:8081/' - No data available for request.\n"
     ]
    },
    {
     "name": "stdout",
     "output_type": "stream",
     "text": [
      "Downloaded http://165.98.224.52:8081/fdsnws/dataselect/1/query with HTTP code: 204\n",
      "Downloading http://165.98.224.52:8081/fdsnws/dataselect/1/query with requesting gzip compression\n",
      "Sending along the following payload:\n",
      "----------------------------------------------------------------------\n",
      "NU ILCN 00 EHN 2016-09-16T05:50:00.000000 2016-09-16T06:15:00.000000\n",
      "NU ILCN 00 EHZ 2016-09-15T05:50:00.000000 2016-09-16T05:50:00.000000\n",
      "----------------------------------------------------------------------\n"
     ]
    },
    {
     "name": "stderr",
     "output_type": "stream",
     "text": [
      "[2016-09-16 12:56:13,946] - obspy.clients.fdsn.mass_downloader - INFO: Client 'http://165.98.224.52:8081/' - No data available for request.\n"
     ]
    },
    {
     "name": "stdout",
     "output_type": "stream",
     "text": [
      "Downloaded http://165.98.224.52:8081/fdsnws/dataselect/1/query with HTTP code: 204\n",
      "Downloading http://165.98.224.52:8081/fdsnws/dataselect/1/query with requesting gzip compression\n",
      "Sending along the following payload:\n",
      "----------------------------------------------------------------------\n",
      "MX CCIG -- BHE 2016-09-15T05:50:00.000000 2016-09-16T06:15:00.000000\n",
      "MX CCIG -- BHN 2016-09-15T05:50:00.000000 2016-09-16T06:15:00.000000\n",
      "MX CCIG -- BHZ 2016-09-15T05:50:00.000000 2016-09-16T05:50:00.000000\n",
      "NU ILCN 00 EHZ 2016-09-16T05:50:00.000000 2016-09-16T06:15:00.000000\n",
      "----------------------------------------------------------------------\n",
      "Downloaded http://165.98.224.52:8081/fdsnws/dataselect/1/query with HTTP code: 200\n"
     ]
    },
    {
     "name": "stderr",
     "output_type": "stream",
     "text": [
      "[2016-09-16 12:56:39,879] - obspy.clients.fdsn.mass_downloader - INFO: Client 'http://165.98.224.52:8081/' - Successfully downloaded 5 channels (of 6)\n"
     ]
    },
    {
     "name": "stdout",
     "output_type": "stream",
     "text": [
      "Downloading http://165.98.224.52:8081/fdsnws/dataselect/1/query with requesting gzip compression\n",
      "Sending along the following payload:\n",
      "----------------------------------------------------------------------\n",
      "SV SNET -- HHE 2016-09-15T05:50:00.000000 2016-09-16T05:50:00.000000\n",
      "MX CCIG -- BHZ 2016-09-16T05:50:00.000000 2016-09-16T06:15:00.000000\n",
      "----------------------------------------------------------------------\n",
      "Downloaded http://165.98.224.52:8081/fdsnws/dataselect/1/query with HTTP code: 200\n"
     ]
    },
    {
     "name": "stderr",
     "output_type": "stream",
     "text": [
      "[2016-09-16 12:56:58,123] - obspy.clients.fdsn.mass_downloader - INFO: Client 'http://165.98.224.52:8081/' - Successfully downloaded 2 channels (of 2)\n"
     ]
    },
    {
     "name": "stdout",
     "output_type": "stream",
     "text": [
      "Downloading http://165.98.224.52:8081/fdsnws/dataselect/1/query with requesting gzip compression\n",
      "Sending along the following payload:\n",
      "----------------------------------------------------------------------\n",
      "GI CHIE -- HHN 2016-09-15T05:50:00.000000 2016-09-16T05:50:00.000000\n",
      "GI CHIE -- HHE 2016-09-16T05:50:00.000000 2016-09-16T06:15:00.000000\n",
      "----------------------------------------------------------------------\n",
      "Downloaded http://165.98.224.52:8081/fdsnws/dataselect/1/query with HTTP code: 200\n"
     ]
    },
    {
     "name": "stderr",
     "output_type": "stream",
     "text": [
      "[2016-09-16 12:57:14,126] - obspy.clients.fdsn.mass_downloader - INFO: Client 'http://165.98.224.52:8081/' - Successfully downloaded 2 channels (of 2)\n"
     ]
    },
    {
     "name": "stdout",
     "output_type": "stream",
     "text": [
      "Downloading http://165.98.224.52:8081/fdsnws/dataselect/1/query with requesting gzip compression\n",
      "Sending along the following payload:\n",
      "----------------------------------------------------------------------\n",
      "TC EGUA -- HHE 2016-09-15T05:50:00.000000 2016-09-16T05:50:00.000000\n",
      "NU TEL3 00 EHZ 2016-09-16T05:50:00.000000 2016-09-16T06:15:00.000000\n",
      "----------------------------------------------------------------------\n"
     ]
    },
    {
     "name": "stderr",
     "output_type": "stream",
     "text": [
      "[2016-09-16 12:57:16,246] - obspy.clients.fdsn.mass_downloader - INFO: Client 'http://165.98.224.52:8081/' - Successfully downloaded 1 channels (of 2)\n"
     ]
    },
    {
     "name": "stdout",
     "output_type": "stream",
     "text": [
      "Downloaded http://165.98.224.52:8081/fdsnws/dataselect/1/query with HTTP code: 200\n",
      "Downloading http://165.98.224.52:8081/fdsnws/dataselect/1/query with requesting gzip compression\n",
      "Sending along the following payload:\n",
      "----------------------------------------------------------------------\n",
      "TC EGUA -- HHE 2016-09-16T05:50:00.000000 2016-09-16T06:15:00.000000\n",
      "TC EGUA -- HHN 2016-09-15T05:50:00.000000 2016-09-16T05:50:00.000000\n",
      "----------------------------------------------------------------------\n"
     ]
    },
    {
     "name": "stderr",
     "output_type": "stream",
     "text": [
      "[2016-09-16 12:57:16,896] - obspy.clients.fdsn.mass_downloader - INFO: Client 'http://165.98.224.52:8081/' - No data available for request.\n"
     ]
    },
    {
     "name": "stdout",
     "output_type": "stream",
     "text": [
      "Downloaded http://165.98.224.52:8081/fdsnws/dataselect/1/query with HTTP code: 204\n",
      "Downloading http://165.98.224.52:8081/fdsnws/dataselect/1/query with requesting gzip compression\n",
      "Sending along the following payload:\n",
      "----------------------------------------------------------------------\n",
      "TC EGUA -- HHN 2016-09-16T05:50:00.000000 2016-09-16T06:15:00.000000\n",
      "TC EGUA -- HHZ 2016-09-15T05:50:00.000000 2016-09-16T05:50:00.000000\n",
      "----------------------------------------------------------------------\n"
     ]
    },
    {
     "name": "stderr",
     "output_type": "stream",
     "text": [
      "[2016-09-16 12:57:17,561] - obspy.clients.fdsn.mass_downloader - INFO: Client 'http://165.98.224.52:8081/' - No data available for request.\n"
     ]
    },
    {
     "name": "stdout",
     "output_type": "stream",
     "text": [
      "Downloaded http://165.98.224.52:8081/fdsnws/dataselect/1/query with HTTP code: 204\n",
      "Downloading http://165.98.224.52:8081/fdsnws/dataselect/1/query with requesting gzip compression\n",
      "Sending along the following payload:\n",
      "----------------------------------------------------------------------\n",
      "OV VTCE -- HHE 2016-09-15T05:50:00.000000 2016-09-16T05:50:00.000000\n",
      "TC EGUA -- HHZ 2016-09-16T05:50:00.000000 2016-09-16T06:15:00.000000\n",
      "----------------------------------------------------------------------\n",
      "Downloaded http://165.98.224.52:8081/fdsnws/dataselect/1/query with HTTP code: 200\n",
      "Downloaded http://165.98.224.52:8081/fdsnws/dataselect/1/query with HTTP code: 200\n"
     ]
    },
    {
     "name": "stderr",
     "output_type": "stream",
     "text": [
      "[2016-09-16 12:58:00,154] - obspy.clients.fdsn.mass_downloader - INFO: Client 'http://165.98.224.52:8081/' - Successfully downloaded 2 channels (of 2)\n"
     ]
    },
    {
     "name": "stdout",
     "output_type": "stream",
     "text": [
      "Downloading http://165.98.224.52:8081/fdsnws/dataselect/1/query with requesting gzip compression\n",
      "Sending along the following payload:\n",
      "----------------------------------------------------------------------\n",
      "GI CHIE -- HHZ 2016-09-15T05:50:00.000000 2016-09-16T05:50:00.000000\n",
      "GI CHIE -- HHN 2016-09-16T05:50:00.000000 2016-09-16T06:15:00.000000\n",
      "----------------------------------------------------------------------\n"
     ]
    },
    {
     "name": "stderr",
     "output_type": "stream",
     "text": [
      "[2016-09-16 12:58:01,857] - obspy.clients.fdsn.mass_downloader - INFO: Client 'http://165.98.224.52:8081/' - Successfully downloaded 2 channels (of 2)\n"
     ]
    },
    {
     "name": "stdout",
     "output_type": "stream",
     "text": [
      "Downloading http://165.98.224.52:8081/fdsnws/dataselect/1/query with requesting gzip compression\n",
      "Sending along the following payload:\n",
      "----------------------------------------------------------------------\n",
      "SV SNET -- HHN 2016-09-15T05:50:00.000000 2016-09-16T05:50:00.000000\n",
      "SV SNET -- HHE 2016-09-16T05:50:00.000000 2016-09-16T06:15:00.000000\n",
      "----------------------------------------------------------------------\n",
      "Downloaded http://165.98.224.52:8081/fdsnws/dataselect/1/query with HTTP code: 200\n"
     ]
    },
    {
     "name": "stderr",
     "output_type": "stream",
     "text": [
      "[2016-09-16 12:58:21,361] - obspy.clients.fdsn.mass_downloader - INFO: Client 'http://165.98.224.52:8081/' - Successfully downloaded 1 channels (of 2)\n"
     ]
    },
    {
     "name": "stdout",
     "output_type": "stream",
     "text": [
      "Downloading http://165.98.224.52:8081/fdsnws/dataselect/1/query with requesting gzip compression\n",
      "Sending along the following payload:\n",
      "----------------------------------------------------------------------\n",
      "OV VTCE -- HHE 2016-09-16T05:50:00.000000 2016-09-16T06:15:00.000000\n",
      "OV VTCE -- HHN 2016-09-15T05:50:00.000000 2016-09-16T05:50:00.000000\n",
      "----------------------------------------------------------------------\n",
      "Downloaded http://165.98.224.52:8081/fdsnws/dataselect/1/query with HTTP code: 200\n"
     ]
    },
    {
     "name": "stderr",
     "output_type": "stream",
     "text": [
      "[2016-09-16 12:58:46,518] - obspy.clients.fdsn.mass_downloader - INFO: Client 'http://165.98.224.52:8081/' - Successfully downloaded 2 channels (of 2)\n"
     ]
    },
    {
     "name": "stdout",
     "output_type": "stream",
     "text": [
      "Downloading http://165.98.224.52:8081/fdsnws/dataselect/1/query with requesting gzip compression\n",
      "Sending along the following payload:\n",
      "----------------------------------------------------------------------\n",
      "GI CHIE -- HHZ 2016-09-16T05:50:00.000000 2016-09-16T06:15:00.000000\n",
      "NU CSGN 00 EHZ 2016-09-15T05:50:00.000000 2016-09-16T05:50:00.000000\n",
      "----------------------------------------------------------------------\n"
     ]
    },
    {
     "name": "stderr",
     "output_type": "stream",
     "text": [
      "[2016-09-16 13:56:14,887] - obspy.clients.fdsn.mass_downloader - ERROR: Client 'http://165.98.224.52:8081/' - timed out\n",
      "[2016-09-16 13:56:14,928] - obspy.clients.fdsn.mass_downloader - ERROR: Client 'http://165.98.224.52:8081/' - timed out\n",
      "[2016-09-16 13:56:14,958] - obspy.clients.fdsn.mass_downloader - ERROR: Client 'http://165.98.224.52:8081/' - timed out\n"
     ]
    },
    {
     "name": "stdout",
     "output_type": "stream",
     "text": [
      "Downloading http://165.98.224.52:8081/fdsnws/dataselect/1/query with requesting gzip compression\n",
      "Sending along the following payload:\n",
      "----------------------------------------------------------------------\n",
      "SV SNET -- HHZ 2016-09-15T05:50:00.000000 2016-09-16T05:50:00.000000\n",
      "SV SNET -- HHN 2016-09-16T05:50:00.000000 2016-09-16T06:15:00.000000\n",
      "----------------------------------------------------------------------\n",
      "Downloading http://165.98.224.52:8081/fdsnws/dataselect/1/query with requesting gzip compression\n",
      "Sending along the following payload:\n",
      "----------------------------------------------------------------------\n",
      "NU CSGN 00 EHZ 2016-09-16T05:50:00.000000 2016-09-16T06:15:00.000000\n",
      "CM HEL 00 BHZ 2016-09-15T05:50:00.000000 2016-09-16T05:50:00.000000\n",
      "CM HEL 00 BHE 2016-09-15T05:50:00.000000 2016-09-16T06:15:00.000000\n",
      "CM HEL 00 BHN 2016-09-15T05:50:00.000000 2016-09-16T06:15:00.000000\n",
      "----------------------------------------------------------------------\n",
      "Downloading http://165.98.224.52:8081/fdsnws/dataselect/1/query with requesting gzip compression\n",
      "Sending along the following payload:\n",
      "----------------------------------------------------------------------\n",
      "OV VTCE -- HHZ 2016-09-15T05:50:00.000000 2016-09-16T05:50:00.000000\n",
      "OV VTCE -- HHN 2016-09-16T05:50:00.000000 2016-09-16T06:15:00.000000\n",
      "----------------------------------------------------------------------\n",
      "Downloaded http://165.98.224.52:8081/fdsnws/dataselect/1/query with HTTP code: 200\n"
     ]
    },
    {
     "name": "stderr",
     "output_type": "stream",
     "text": [
      "[2016-09-16 13:56:42,355] - obspy.clients.fdsn.mass_downloader - INFO: Client 'http://165.98.224.52:8081/' - Successfully downloaded 6 channels (of 6)\n"
     ]
    },
    {
     "name": "stdout",
     "output_type": "stream",
     "text": [
      "Downloading http://165.98.224.52:8081/fdsnws/dataselect/1/query with requesting gzip compression\n",
      "Sending along the following payload:\n",
      "----------------------------------------------------------------------\n",
      "NU OMEN 00 EHE 2016-09-15T05:50:00.000000 2016-09-16T05:50:00.000000\n",
      "CM HEL 00 BHZ 2016-09-16T05:50:00.000000 2016-09-16T06:15:00.000000\n",
      "----------------------------------------------------------------------\n",
      "Downloaded http://165.98.224.52:8081/fdsnws/dataselect/1/query with HTTP code: 200\n"
     ]
    },
    {
     "name": "stderr",
     "output_type": "stream",
     "text": [
      "[2016-09-16 13:56:56,663] - obspy.clients.fdsn.mass_downloader - INFO: Client 'http://165.98.224.52:8081/' - Successfully downloaded 2 channels (of 2)\n"
     ]
    },
    {
     "name": "stdout",
     "output_type": "stream",
     "text": [
      "Downloading http://165.98.224.52:8081/fdsnws/dataselect/1/query with requesting gzip compression\n",
      "Sending along the following payload:\n",
      "----------------------------------------------------------------------\n",
      "OV VTCE -- HHZ 2016-09-16T05:50:00.000000 2016-09-16T06:15:00.000000\n",
      "OV CDM -- HHE 2016-09-15T05:50:00.000000 2016-09-16T05:50:00.000000\n",
      "----------------------------------------------------------------------\n",
      "Downloaded http://165.98.224.52:8081/fdsnws/dataselect/1/query with HTTP code: 200\n"
     ]
    },
    {
     "name": "stderr",
     "output_type": "stream",
     "text": [
      "[2016-09-16 13:57:18,979] - obspy.clients.fdsn.mass_downloader - INFO: Client 'http://165.98.224.52:8081/' - Successfully downloaded 2 channels (of 2)\n"
     ]
    },
    {
     "name": "stdout",
     "output_type": "stream",
     "text": [
      "Downloading http://165.98.224.52:8081/fdsnws/dataselect/1/query with requesting gzip compression\n",
      "Sending along the following payload:\n",
      "----------------------------------------------------------------------\n",
      "NU CRIN -- HHE 2016-09-15T05:50:00.000000 2016-09-16T05:50:00.000000\n",
      "SV SNET -- HHZ 2016-09-16T05:50:00.000000 2016-09-16T06:15:00.000000\n",
      "----------------------------------------------------------------------\n",
      "Downloaded http://165.98.224.52:8081/fdsnws/dataselect/1/query with HTTP code: 200\n"
     ]
    },
    {
     "name": "stderr",
     "output_type": "stream",
     "text": [
      "[2016-09-16 13:57:21,730] - obspy.clients.fdsn.mass_downloader - INFO: Client 'http://165.98.224.52:8081/' - Successfully downloaded 2 channels (of 2)\n"
     ]
    },
    {
     "name": "stdout",
     "output_type": "stream",
     "text": [
      "Downloading http://165.98.224.52:8081/fdsnws/dataselect/1/query with requesting gzip compression\n",
      "Sending along the following payload:\n",
      "----------------------------------------------------------------------\n",
      "NU OMEN 00 EHE 2016-09-16T05:50:00.000000 2016-09-16T06:15:00.000000\n",
      "NU OMEN 00 EHN 2016-09-15T05:50:00.000000 2016-09-16T05:50:00.000000\n",
      "----------------------------------------------------------------------\n",
      "Downloaded http://165.98.224.52:8081/fdsnws/dataselect/1/query with HTTP code: 200\n"
     ]
    },
    {
     "name": "stderr",
     "output_type": "stream",
     "text": [
      "[2016-09-16 13:57:56,995] - obspy.clients.fdsn.mass_downloader - INFO: Client 'http://165.98.224.52:8081/' - Successfully downloaded 2 channels (of 2)\n"
     ]
    },
    {
     "name": "stdout",
     "output_type": "stream",
     "text": [
      "Downloading http://165.98.224.52:8081/fdsnws/dataselect/1/query with requesting gzip compression\n",
      "Sending along the following payload:\n",
      "----------------------------------------------------------------------\n",
      "NU OMEN 00 EHN 2016-09-16T05:50:00.000000 2016-09-16T06:15:00.000000\n",
      "NU OMEN 00 EHZ 2016-09-15T05:50:00.000000 2016-09-16T05:50:00.000000\n",
      "----------------------------------------------------------------------\n",
      "Downloaded http://165.98.224.52:8081/fdsnws/dataselect/1/query with HTTP code: 200\n",
      "Downloaded http://165.98.224.52:8081/fdsnws/dataselect/1/query with HTTP code: 200\n"
     ]
    },
    {
     "name": "stderr",
     "output_type": "stream",
     "text": [
      "[2016-09-16 13:58:09,849] - obspy.clients.fdsn.mass_downloader - INFO: Client 'http://165.98.224.52:8081/' - Successfully downloaded 2 channels (of 2)\n"
     ]
    },
    {
     "name": "stdout",
     "output_type": "stream",
     "text": [
      "Downloading http://165.98.224.52:8081/fdsnws/dataselect/1/query with requesting gzip compression\n",
      "Sending along the following payload:\n",
      "----------------------------------------------------------------------\n",
      "OV CDM -- HHE 2016-09-16T05:50:00.000000 2016-09-16T06:15:00.000000\n",
      "OV CDM -- HHN 2016-09-15T05:50:00.000000 2016-09-16T05:50:00.000000\n",
      "----------------------------------------------------------------------\n"
     ]
    },
    {
     "name": "stderr",
     "output_type": "stream",
     "text": [
      "[2016-09-16 13:58:10,378] - obspy.clients.fdsn.mass_downloader - INFO: Client 'http://165.98.224.52:8081/' - Successfully downloaded 2 channels (of 2)\n"
     ]
    },
    {
     "name": "stdout",
     "output_type": "stream",
     "text": [
      "Downloading http://165.98.224.52:8081/fdsnws/dataselect/1/query with requesting gzip compression\n",
      "Sending along the following payload:\n",
      "----------------------------------------------------------------------\n",
      "NU CRIN -- HHE 2016-09-16T05:50:00.000000 2016-09-16T06:15:00.000000\n",
      "NU CRIN -- HHN 2016-09-15T05:50:00.000000 2016-09-16T05:50:00.000000\n",
      "----------------------------------------------------------------------\n",
      "Downloaded http://165.98.224.52:8081/fdsnws/dataselect/1/query with HTTP code: 200\n"
     ]
    },
    {
     "name": "stderr",
     "output_type": "stream",
     "text": [
      "[2016-09-16 13:58:38,038] - obspy.clients.fdsn.mass_downloader - INFO: Client 'http://165.98.224.52:8081/' - Successfully downloaded 2 channels (of 2)\n"
     ]
    },
    {
     "name": "stdout",
     "output_type": "stream",
     "text": [
      "Downloading http://165.98.224.52:8081/fdsnws/dataselect/1/query with requesting gzip compression\n",
      "Sending along the following payload:\n",
      "----------------------------------------------------------------------\n",
      "NU CNGN -- HHE 2016-09-15T05:50:00.000000 2016-09-16T05:50:00.000000\n",
      "NU OMEN 00 EHZ 2016-09-16T05:50:00.000000 2016-09-16T06:15:00.000000\n",
      "----------------------------------------------------------------------\n",
      "Downloaded http://165.98.224.52:8081/fdsnws/dataselect/1/query with HTTP code: 200\n"
     ]
    },
    {
     "name": "stderr",
     "output_type": "stream",
     "text": [
      "[2016-09-16 13:58:59,774] - obspy.clients.fdsn.mass_downloader - INFO: Client 'http://165.98.224.52:8081/' - Successfully downloaded 2 channels (of 2)\n"
     ]
    },
    {
     "name": "stdout",
     "output_type": "stream",
     "text": [
      "Downloading http://165.98.224.52:8081/fdsnws/dataselect/1/query with requesting gzip compression\n",
      "Sending along the following payload:\n",
      "----------------------------------------------------------------------\n",
      "NU CRIN -- HHN 2016-09-16T05:50:00.000000 2016-09-16T06:15:00.000000\n",
      "NU CRIN -- HHZ 2016-09-15T05:50:00.000000 2016-09-16T05:50:00.000000\n",
      "----------------------------------------------------------------------\n",
      "Downloaded http://165.98.224.52:8081/fdsnws/dataselect/1/query with HTTP code: 200\n"
     ]
    },
    {
     "name": "stderr",
     "output_type": "stream",
     "text": [
      "[2016-09-16 13:59:19,712] - obspy.clients.fdsn.mass_downloader - INFO: Client 'http://165.98.224.52:8081/' - Successfully downloaded 2 channels (of 2)\n"
     ]
    },
    {
     "name": "stdout",
     "output_type": "stream",
     "text": [
      "Downloading http://165.98.224.52:8081/fdsnws/dataselect/1/query with requesting gzip compression\n",
      "Sending along the following payload:\n",
      "----------------------------------------------------------------------\n",
      "OV CDM -- HHN 2016-09-16T05:50:00.000000 2016-09-16T06:15:00.000000\n",
      "OV CDM -- HHZ 2016-09-15T05:50:00.000000 2016-09-16T05:50:00.000000\n",
      "----------------------------------------------------------------------\n",
      "Downloaded http://165.98.224.52:8081/fdsnws/dataselect/1/query with HTTP code: 200\n"
     ]
    },
    {
     "name": "stderr",
     "output_type": "stream",
     "text": [
      "[2016-09-16 13:59:34,810] - obspy.clients.fdsn.mass_downloader - INFO: Client 'http://165.98.224.52:8081/' - Successfully downloaded 2 channels (of 2)\n"
     ]
    },
    {
     "name": "stdout",
     "output_type": "stream",
     "text": [
      "Downloading http://165.98.224.52:8081/fdsnws/dataselect/1/query with requesting gzip compression\n",
      "Sending along the following payload:\n",
      "----------------------------------------------------------------------\n",
      "NU CNGN -- HHN 2016-09-15T05:50:00.000000 2016-09-16T05:50:00.000000\n",
      "NU CNGN -- HHE 2016-09-16T05:50:00.000000 2016-09-16T06:15:00.000000\n",
      "----------------------------------------------------------------------\n",
      "Downloaded http://165.98.224.52:8081/fdsnws/dataselect/1/query with HTTP code: 200\n"
     ]
    },
    {
     "name": "stderr",
     "output_type": "stream",
     "text": [
      "[2016-09-16 13:59:48,598] - obspy.clients.fdsn.mass_downloader - INFO: Client 'http://165.98.224.52:8081/' - Successfully downloaded 2 channels (of 2)\n"
     ]
    },
    {
     "name": "stdout",
     "output_type": "stream",
     "text": [
      "Downloading http://165.98.224.52:8081/fdsnws/dataselect/1/query with requesting gzip compression\n",
      "Sending along the following payload:\n",
      "----------------------------------------------------------------------\n",
      "PC CGOR -- EHE 2016-09-15T05:50:00.000000 2016-09-16T05:50:00.000000\n",
      "NU CRIN -- HHZ 2016-09-16T05:50:00.000000 2016-09-16T06:15:00.000000\n",
      "----------------------------------------------------------------------\n"
     ]
    },
    {
     "name": "stderr",
     "output_type": "stream",
     "text": [
      "[2016-09-16 13:59:50,504] - obspy.clients.fdsn.mass_downloader - INFO: Client 'http://165.98.224.52:8081/' - Successfully downloaded 1 channels (of 2)\n"
     ]
    },
    {
     "name": "stdout",
     "output_type": "stream",
     "text": [
      "Downloaded http://165.98.224.52:8081/fdsnws/dataselect/1/query with HTTP code: 200\n",
      "Downloading http://165.98.224.52:8081/fdsnws/dataselect/1/query with requesting gzip compression\n",
      "Sending along the following payload:\n",
      "----------------------------------------------------------------------\n",
      "PC CGOR -- EHE 2016-09-16T05:50:00.000000 2016-09-16T06:15:00.000000\n",
      "PC CGOR -- EHN 2016-09-15T05:50:00.000000 2016-09-16T05:50:00.000000\n",
      "----------------------------------------------------------------------\n"
     ]
    },
    {
     "name": "stderr",
     "output_type": "stream",
     "text": [
      "[2016-09-16 13:59:50,946] - obspy.clients.fdsn.mass_downloader - INFO: Client 'http://165.98.224.52:8081/' - No data available for request.\n"
     ]
    },
    {
     "name": "stdout",
     "output_type": "stream",
     "text": [
      "Downloaded http://165.98.224.52:8081/fdsnws/dataselect/1/query with HTTP code: 204\n",
      "Downloading http://165.98.224.52:8081/fdsnws/dataselect/1/query with requesting gzip compression\n",
      "Sending along the following payload:\n",
      "----------------------------------------------------------------------\n",
      "PC CGOR -- EHN 2016-09-16T05:50:00.000000 2016-09-16T06:15:00.000000\n",
      "PC CGOR -- EHZ 2016-09-15T05:50:00.000000 2016-09-16T05:50:00.000000\n",
      "----------------------------------------------------------------------\n"
     ]
    },
    {
     "name": "stderr",
     "output_type": "stream",
     "text": [
      "[2016-09-16 13:59:51,400] - obspy.clients.fdsn.mass_downloader - INFO: Client 'http://165.98.224.52:8081/' - No data available for request.\n"
     ]
    },
    {
     "name": "stdout",
     "output_type": "stream",
     "text": [
      "Downloaded http://165.98.224.52:8081/fdsnws/dataselect/1/query with HTTP code: 204\n",
      "Downloading http://165.98.224.52:8081/fdsnws/dataselect/1/query with requesting gzip compression\n",
      "Sending along the following payload:\n",
      "----------------------------------------------------------------------\n",
      "OV VTRE -- HHE 2016-09-15T05:50:00.000000 2016-09-16T05:50:00.000000\n",
      "PC CGOR -- EHZ 2016-09-16T05:50:00.000000 2016-09-16T06:15:00.000000\n",
      "----------------------------------------------------------------------\n"
     ]
    },
    {
     "name": "stderr",
     "output_type": "stream",
     "text": [
      "[2016-09-16 13:59:51,894] - obspy.clients.fdsn.mass_downloader - INFO: Client 'http://165.98.224.52:8081/' - No data available for request.\n"
     ]
    },
    {
     "name": "stdout",
     "output_type": "stream",
     "text": [
      "Downloaded http://165.98.224.52:8081/fdsnws/dataselect/1/query with HTTP code: 204\n",
      "Downloading http://165.98.224.52:8081/fdsnws/dataselect/1/query with requesting gzip compression\n",
      "Sending along the following payload:\n",
      "----------------------------------------------------------------------\n",
      "OV VTRE -- HHE 2016-09-16T05:50:00.000000 2016-09-16T06:15:00.000000\n",
      "OV VTRE -- HHN 2016-09-15T05:50:00.000000 2016-09-16T05:50:00.000000\n",
      "----------------------------------------------------------------------\n"
     ]
    },
    {
     "name": "stderr",
     "output_type": "stream",
     "text": [
      "[2016-09-16 13:59:52,421] - obspy.clients.fdsn.mass_downloader - INFO: Client 'http://165.98.224.52:8081/' - No data available for request.\n"
     ]
    },
    {
     "name": "stdout",
     "output_type": "stream",
     "text": [
      "Downloaded http://165.98.224.52:8081/fdsnws/dataselect/1/query with HTTP code: 204\n",
      "Downloading http://165.98.224.52:8081/fdsnws/dataselect/1/query with requesting gzip compression\n",
      "Sending along the following payload:\n",
      "----------------------------------------------------------------------\n",
      "OV VTRE -- HHN 2016-09-16T05:50:00.000000 2016-09-16T06:15:00.000000\n",
      "OV VTRE -- HHZ 2016-09-15T05:50:00.000000 2016-09-16T05:50:00.000000\n",
      "----------------------------------------------------------------------\n"
     ]
    },
    {
     "name": "stderr",
     "output_type": "stream",
     "text": [
      "[2016-09-16 13:59:52,936] - obspy.clients.fdsn.mass_downloader - INFO: Client 'http://165.98.224.52:8081/' - No data available for request.\n"
     ]
    },
    {
     "name": "stdout",
     "output_type": "stream",
     "text": [
      "Downloaded http://165.98.224.52:8081/fdsnws/dataselect/1/query with HTTP code: 204\n",
      "Downloading http://165.98.224.52:8081/fdsnws/dataselect/1/query with requesting gzip compression\n",
      "Sending along the following payload:\n",
      "----------------------------------------------------------------------\n",
      "OV VTRE -- HHZ 2016-09-16T05:50:00.000000 2016-09-16T06:15:00.000000\n",
      "GI IZAB -- HHE 2016-09-15T05:50:00.000000 2016-09-16T05:50:00.000000\n",
      "----------------------------------------------------------------------\n"
     ]
    },
    {
     "name": "stderr",
     "output_type": "stream",
     "text": [
      "[2016-09-16 13:59:53,465] - obspy.clients.fdsn.mass_downloader - INFO: Client 'http://165.98.224.52:8081/' - No data available for request.\n"
     ]
    },
    {
     "name": "stdout",
     "output_type": "stream",
     "text": [
      "Downloaded http://165.98.224.52:8081/fdsnws/dataselect/1/query with HTTP code: 204\n",
      "Downloading http://165.98.224.52:8081/fdsnws/dataselect/1/query with requesting gzip compression\n",
      "Sending along the following payload:\n",
      "----------------------------------------------------------------------\n",
      "GI IZAB -- HHN 2016-09-15T05:50:00.000000 2016-09-16T05:50:00.000000\n",
      "GI IZAB -- HHE 2016-09-16T05:50:00.000000 2016-09-16T06:15:00.000000\n",
      "----------------------------------------------------------------------\n"
     ]
    },
    {
     "name": "stderr",
     "output_type": "stream",
     "text": [
      "[2016-09-16 13:59:53,957] - obspy.clients.fdsn.mass_downloader - INFO: Client 'http://165.98.224.52:8081/' - No data available for request.\n"
     ]
    },
    {
     "name": "stdout",
     "output_type": "stream",
     "text": [
      "Downloaded http://165.98.224.52:8081/fdsnws/dataselect/1/query with HTTP code: 204\n",
      "Downloading http://165.98.224.52:8081/fdsnws/dataselect/1/query with requesting gzip compression\n",
      "Sending along the following payload:\n",
      "----------------------------------------------------------------------\n",
      "PC FLAM -- EHZ 2016-09-15T05:50:00.000000 2016-09-16T05:50:00.000000\n",
      "PC FLAM -- EHN 2016-09-16T05:50:00.000000 2016-09-16T06:15:00.000000\n",
      "----------------------------------------------------------------------\n"
     ]
    },
    {
     "name": "stderr",
     "output_type": "stream",
     "text": [
      "[2016-09-16 13:59:54,562] - obspy.clients.fdsn.mass_downloader - INFO: Client 'http://165.98.224.52:8081/' - No data available for request.\n"
     ]
    },
    {
     "name": "stdout",
     "output_type": "stream",
     "text": [
      "Downloaded http://165.98.224.52:8081/fdsnws/dataselect/1/query with HTTP code: 204\n",
      "Downloading http://165.98.224.52:8081/fdsnws/dataselect/1/query with requesting gzip compression\n",
      "Sending along the following payload:\n",
      "----------------------------------------------------------------------\n",
      "PC FLAM -- EHZ 2016-09-16T05:50:00.000000 2016-09-16T06:15:00.000000\n",
      "NU MIRN 00 EHZ 2016-09-15T05:50:00.000000 2016-09-16T05:50:00.000000\n",
      "----------------------------------------------------------------------\n"
     ]
    },
    {
     "name": "stderr",
     "output_type": "stream",
     "text": [
      "[2016-09-16 13:59:55,098] - obspy.clients.fdsn.mass_downloader - INFO: Client 'http://165.98.224.52:8081/' - No data available for request.\n"
     ]
    },
    {
     "name": "stdout",
     "output_type": "stream",
     "text": [
      "Downloaded http://165.98.224.52:8081/fdsnws/dataselect/1/query with HTTP code: 204\n",
      "Downloading http://165.98.224.52:8081/fdsnws/dataselect/1/query with requesting gzip compression\n",
      "Sending along the following payload:\n",
      "----------------------------------------------------------------------\n",
      "NU SOMN -- HHE 2016-09-15T05:50:00.000000 2016-09-16T05:50:00.000000\n",
      "NU MIRN 00 EHZ 2016-09-16T05:50:00.000000 2016-09-16T06:15:00.000000\n",
      "----------------------------------------------------------------------\n"
     ]
    },
    {
     "name": "stderr",
     "output_type": "stream",
     "text": [
      "[2016-09-16 13:59:55,612] - obspy.clients.fdsn.mass_downloader - INFO: Client 'http://165.98.224.52:8081/' - No data available for request.\n"
     ]
    },
    {
     "name": "stdout",
     "output_type": "stream",
     "text": [
      "Downloaded http://165.98.224.52:8081/fdsnws/dataselect/1/query with HTTP code: 204\n",
      "Downloading http://165.98.224.52:8081/fdsnws/dataselect/1/query with requesting gzip compression\n",
      "Sending along the following payload:\n",
      "----------------------------------------------------------------------\n",
      "NU SOMN -- HHE 2016-09-16T05:50:00.000000 2016-09-16T06:15:00.000000\n",
      "NU SOMN -- HHN 2016-09-15T05:50:00.000000 2016-09-16T05:50:00.000000\n",
      "----------------------------------------------------------------------\n"
     ]
    },
    {
     "name": "stderr",
     "output_type": "stream",
     "text": [
      "[2016-09-16 13:59:56,205] - obspy.clients.fdsn.mass_downloader - INFO: Client 'http://165.98.224.52:8081/' - No data available for request.\n"
     ]
    },
    {
     "name": "stdout",
     "output_type": "stream",
     "text": [
      "Downloaded http://165.98.224.52:8081/fdsnws/dataselect/1/query with HTTP code: 204\n",
      "Downloading http://165.98.224.52:8081/fdsnws/dataselect/1/query with requesting gzip compression\n",
      "Sending along the following payload:\n",
      "----------------------------------------------------------------------\n",
      "NU SOMN -- HHZ 2016-09-15T05:50:00.000000 2016-09-16T05:50:00.000000\n",
      "NU SOMN -- HHN 2016-09-16T05:50:00.000000 2016-09-16T06:15:00.000000\n",
      "----------------------------------------------------------------------\n"
     ]
    },
    {
     "name": "stderr",
     "output_type": "stream",
     "text": [
      "[2016-09-16 13:59:56,773] - obspy.clients.fdsn.mass_downloader - INFO: Client 'http://165.98.224.52:8081/' - No data available for request.\n"
     ]
    },
    {
     "name": "stdout",
     "output_type": "stream",
     "text": [
      "Downloaded http://165.98.224.52:8081/fdsnws/dataselect/1/query with HTTP code: 204\n",
      "Downloading http://165.98.224.52:8081/fdsnws/dataselect/1/query with requesting gzip compression\n",
      "Sending along the following payload:\n",
      "----------------------------------------------------------------------\n",
      "HN CEIBH -- EHE 2016-09-15T05:50:00.000000 2016-09-16T05:50:00.000000\n",
      "NU SOMN -- HHZ 2016-09-16T05:50:00.000000 2016-09-16T06:15:00.000000\n",
      "----------------------------------------------------------------------\n"
     ]
    },
    {
     "name": "stderr",
     "output_type": "stream",
     "text": [
      "[2016-09-16 13:59:57,299] - obspy.clients.fdsn.mass_downloader - INFO: Client 'http://165.98.224.52:8081/' - No data available for request.\n"
     ]
    },
    {
     "name": "stdout",
     "output_type": "stream",
     "text": [
      "Downloaded http://165.98.224.52:8081/fdsnws/dataselect/1/query with HTTP code: 204\n",
      "Downloading http://165.98.224.52:8081/fdsnws/dataselect/1/query with requesting gzip compression\n",
      "Sending along the following payload:\n",
      "----------------------------------------------------------------------\n",
      "HN CEIBH -- EHE 2016-09-16T05:50:00.000000 2016-09-16T06:15:00.000000\n",
      "HN CEIBH -- EHN 2016-09-15T05:50:00.000000 2016-09-16T05:50:00.000000\n",
      "----------------------------------------------------------------------\n"
     ]
    },
    {
     "name": "stderr",
     "output_type": "stream",
     "text": [
      "[2016-09-16 13:59:57,712] - obspy.clients.fdsn.mass_downloader - INFO: Client 'http://165.98.224.52:8081/' - No data available for request.\n"
     ]
    },
    {
     "name": "stdout",
     "output_type": "stream",
     "text": [
      "Downloaded http://165.98.224.52:8081/fdsnws/dataselect/1/query with HTTP code: 204\n",
      "Downloading http://165.98.224.52:8081/fdsnws/dataselect/1/query with requesting gzip compression\n",
      "Sending along the following payload:\n",
      "----------------------------------------------------------------------\n",
      "HN CEIBH -- EHN 2016-09-16T05:50:00.000000 2016-09-16T06:15:00.000000\n",
      "HN CEIBH -- EHZ 2016-09-15T05:50:00.000000 2016-09-16T05:50:00.000000\n",
      "----------------------------------------------------------------------\n"
     ]
    },
    {
     "name": "stderr",
     "output_type": "stream",
     "text": [
      "[2016-09-16 13:59:58,164] - obspy.clients.fdsn.mass_downloader - INFO: Client 'http://165.98.224.52:8081/' - No data available for request.\n"
     ]
    },
    {
     "name": "stdout",
     "output_type": "stream",
     "text": [
      "Downloaded http://165.98.224.52:8081/fdsnws/dataselect/1/query with HTTP code: 204\n",
      "Downloading http://165.98.224.52:8081/fdsnws/dataselect/1/query with requesting gzip compression\n",
      "Sending along the following payload:\n",
      "----------------------------------------------------------------------\n",
      "OV NARJ -- HHE 2016-09-15T05:50:00.000000 2016-09-16T05:50:00.000000\n",
      "HN CEIBH -- EHZ 2016-09-16T05:50:00.000000 2016-09-16T06:15:00.000000\n",
      "----------------------------------------------------------------------\n"
     ]
    },
    {
     "name": "stderr",
     "output_type": "stream",
     "text": [
      "[2016-09-16 13:59:58,621] - obspy.clients.fdsn.mass_downloader - INFO: Client 'http://165.98.224.52:8081/' - No data available for request.\n"
     ]
    },
    {
     "name": "stdout",
     "output_type": "stream",
     "text": [
      "Downloaded http://165.98.224.52:8081/fdsnws/dataselect/1/query with HTTP code: 204\n",
      "Downloading http://165.98.224.52:8081/fdsnws/dataselect/1/query with requesting gzip compression\n",
      "Sending along the following payload:\n",
      "----------------------------------------------------------------------\n",
      "OV NARJ -- HHE 2016-09-16T05:50:00.000000 2016-09-16T06:15:00.000000\n",
      "OV NARJ -- HHN 2016-09-15T05:50:00.000000 2016-09-16T05:50:00.000000\n",
      "----------------------------------------------------------------------\n"
     ]
    },
    {
     "name": "stderr",
     "output_type": "stream",
     "text": [
      "[2016-09-16 13:59:59,060] - obspy.clients.fdsn.mass_downloader - INFO: Client 'http://165.98.224.52:8081/' - No data available for request.\n"
     ]
    },
    {
     "name": "stdout",
     "output_type": "stream",
     "text": [
      "Downloaded http://165.98.224.52:8081/fdsnws/dataselect/1/query with HTTP code: 204\n",
      "Downloading http://165.98.224.52:8081/fdsnws/dataselect/1/query with requesting gzip compression\n",
      "Sending along the following payload:\n",
      "----------------------------------------------------------------------\n",
      "OV NARJ -- HHZ 2016-09-15T05:50:00.000000 2016-09-16T05:50:00.000000\n",
      "OV NARJ -- HHN 2016-09-16T05:50:00.000000 2016-09-16T06:15:00.000000\n",
      "----------------------------------------------------------------------\n"
     ]
    },
    {
     "name": "stderr",
     "output_type": "stream",
     "text": [
      "[2016-09-16 13:59:59,494] - obspy.clients.fdsn.mass_downloader - INFO: Client 'http://165.98.224.52:8081/' - No data available for request.\n"
     ]
    },
    {
     "name": "stdout",
     "output_type": "stream",
     "text": [
      "Downloaded http://165.98.224.52:8081/fdsnws/dataselect/1/query with HTTP code: 204\n",
      "Downloading http://165.98.224.52:8081/fdsnws/dataselect/1/query with requesting gzip compression\n",
      "Sending along the following payload:\n",
      "----------------------------------------------------------------------\n",
      "OV CDITO -- HHE 2016-09-15T05:50:00.000000 2016-09-16T05:50:00.000000\n",
      "OV NARJ -- HHZ 2016-09-16T05:50:00.000000 2016-09-16T06:15:00.000000\n",
      "----------------------------------------------------------------------\n",
      "Downloaded http://165.98.224.52:8081/fdsnws/dataselect/1/query with HTTP code: 200\n"
     ]
    },
    {
     "name": "stderr",
     "output_type": "stream",
     "text": [
      "[2016-09-16 14:00:07,710] - obspy.clients.fdsn.mass_downloader - INFO: Client 'http://165.98.224.52:8081/' - Successfully downloaded 2 channels (of 2)\n"
     ]
    },
    {
     "name": "stdout",
     "output_type": "stream",
     "text": [
      "Downloading http://165.98.224.52:8081/fdsnws/dataselect/1/query with requesting gzip compression\n",
      "Sending along the following payload:\n",
      "----------------------------------------------------------------------\n",
      "NU BLUN -- HHE 2016-09-15T05:50:00.000000 2016-09-16T05:50:00.000000\n",
      "OV CDM -- HHZ 2016-09-16T05:50:00.000000 2016-09-16T06:15:00.000000\n",
      "----------------------------------------------------------------------\n"
     ]
    },
    {
     "name": "stderr",
     "output_type": "stream",
     "text": [
      "[2016-09-16 14:00:09,604] - obspy.clients.fdsn.mass_downloader - INFO: Client 'http://165.98.224.52:8081/' - Successfully downloaded 1 channels (of 2)\n"
     ]
    },
    {
     "name": "stdout",
     "output_type": "stream",
     "text": [
      "Downloaded http://165.98.224.52:8081/fdsnws/dataselect/1/query with HTTP code: 200\n",
      "Downloading http://165.98.224.52:8081/fdsnws/dataselect/1/query with requesting gzip compression\n",
      "Sending along the following payload:\n",
      "----------------------------------------------------------------------\n",
      "NU BLUN -- HHN 2016-09-15T05:50:00.000000 2016-09-16T05:50:00.000000\n",
      "NU BLUN -- HHE 2016-09-16T05:50:00.000000 2016-09-16T06:15:00.000000\n",
      "----------------------------------------------------------------------\n"
     ]
    },
    {
     "name": "stderr",
     "output_type": "stream",
     "text": [
      "[2016-09-16 14:00:10,251] - obspy.clients.fdsn.mass_downloader - INFO: Client 'http://165.98.224.52:8081/' - No data available for request.\n"
     ]
    },
    {
     "name": "stdout",
     "output_type": "stream",
     "text": [
      "Downloaded http://165.98.224.52:8081/fdsnws/dataselect/1/query with HTTP code: 204\n",
      "Downloading http://165.98.224.52:8081/fdsnws/dataselect/1/query with requesting gzip compression\n",
      "Sending along the following payload:\n",
      "----------------------------------------------------------------------\n",
      "NU BLUN -- HHN 2016-09-16T05:50:00.000000 2016-09-16T06:15:00.000000\n",
      "NU BLUN -- HHZ 2016-09-15T05:50:00.000000 2016-09-16T05:50:00.000000\n",
      "----------------------------------------------------------------------\n"
     ]
    },
    {
     "name": "stderr",
     "output_type": "stream",
     "text": [
      "[2016-09-16 14:00:10,838] - obspy.clients.fdsn.mass_downloader - INFO: Client 'http://165.98.224.52:8081/' - No data available for request.\n"
     ]
    },
    {
     "name": "stdout",
     "output_type": "stream",
     "text": [
      "Downloaded http://165.98.224.52:8081/fdsnws/dataselect/1/query with HTTP code: 204\n",
      "Downloading http://165.98.224.52:8081/fdsnws/dataselect/1/query with requesting gzip compression\n",
      "Sending along the following payload:\n",
      "----------------------------------------------------------------------\n",
      "OV RIOS -- HHZ 2016-09-16T05:50:00.000000 2016-09-16T06:15:00.000000\n",
      "NU ESPN -- HHE 2016-09-15T05:50:00.000000 2016-09-16T05:50:00.000000\n",
      "----------------------------------------------------------------------\n"
     ]
    },
    {
     "name": "stderr",
     "output_type": "stream",
     "text": [
      "[2016-09-16 14:00:11,529] - obspy.clients.fdsn.mass_downloader - INFO: Client 'http://165.98.224.52:8081/' - No data available for request.\n"
     ]
    },
    {
     "name": "stdout",
     "output_type": "stream",
     "text": [
      "Downloaded http://165.98.224.52:8081/fdsnws/dataselect/1/query with HTTP code: 204\n",
      "Downloading http://165.98.224.52:8081/fdsnws/dataselect/1/query with requesting gzip compression\n",
      "Sending along the following payload:\n",
      "----------------------------------------------------------------------\n",
      "NU ESPN -- HHN 2016-09-15T05:50:00.000000 2016-09-16T05:50:00.000000\n",
      "NU ESPN -- HHE 2016-09-16T05:50:00.000000 2016-09-16T06:15:00.000000\n",
      "----------------------------------------------------------------------\n"
     ]
    },
    {
     "name": "stderr",
     "output_type": "stream",
     "text": [
      "[2016-09-16 14:00:12,117] - obspy.clients.fdsn.mass_downloader - INFO: Client 'http://165.98.224.52:8081/' - No data available for request.\n"
     ]
    },
    {
     "name": "stdout",
     "output_type": "stream",
     "text": [
      "Downloaded http://165.98.224.52:8081/fdsnws/dataselect/1/query with HTTP code: 204\n",
      "Downloading http://165.98.224.52:8081/fdsnws/dataselect/1/query with requesting gzip compression\n",
      "Sending along the following payload:\n",
      "----------------------------------------------------------------------\n",
      "NU ESPN -- HHN 2016-09-16T05:50:00.000000 2016-09-16T06:15:00.000000\n",
      "NU ESPN -- HHZ 2016-09-15T05:50:00.000000 2016-09-16T05:50:00.000000\n",
      "----------------------------------------------------------------------\n"
     ]
    },
    {
     "name": "stderr",
     "output_type": "stream",
     "text": [
      "[2016-09-16 14:00:12,692] - obspy.clients.fdsn.mass_downloader - INFO: Client 'http://165.98.224.52:8081/' - No data available for request.\n"
     ]
    },
    {
     "name": "stdout",
     "output_type": "stream",
     "text": [
      "Downloaded http://165.98.224.52:8081/fdsnws/dataselect/1/query with HTTP code: 204\n",
      "Downloading http://165.98.224.52:8081/fdsnws/dataselect/1/query with requesting gzip compression\n",
      "Sending along the following payload:\n",
      "----------------------------------------------------------------------\n",
      "HN JUTIH -- EHE 2016-09-15T05:50:00.000000 2016-09-16T05:50:00.000000\n",
      "NU ESPN -- HHZ 2016-09-16T05:50:00.000000 2016-09-16T06:15:00.000000\n",
      "----------------------------------------------------------------------\n"
     ]
    },
    {
     "name": "stderr",
     "output_type": "stream",
     "text": [
      "[2016-09-16 14:00:13,231] - obspy.clients.fdsn.mass_downloader - INFO: Client 'http://165.98.224.52:8081/' - No data available for request.\n"
     ]
    },
    {
     "name": "stdout",
     "output_type": "stream",
     "text": [
      "Downloaded http://165.98.224.52:8081/fdsnws/dataselect/1/query with HTTP code: 204\n",
      "Downloading http://165.98.224.52:8081/fdsnws/dataselect/1/query with requesting gzip compression\n",
      "Sending along the following payload:\n",
      "----------------------------------------------------------------------\n",
      "HN JUTIH -- EHN 2016-09-15T05:50:00.000000 2016-09-16T05:50:00.000000\n",
      "HN JUTIH -- EHE 2016-09-16T05:50:00.000000 2016-09-16T06:15:00.000000\n",
      "----------------------------------------------------------------------\n"
     ]
    },
    {
     "name": "stderr",
     "output_type": "stream",
     "text": [
      "[2016-09-16 14:00:13,725] - obspy.clients.fdsn.mass_downloader - INFO: Client 'http://165.98.224.52:8081/' - No data available for request.\n"
     ]
    },
    {
     "name": "stdout",
     "output_type": "stream",
     "text": [
      "Downloaded http://165.98.224.52:8081/fdsnws/dataselect/1/query with HTTP code: 204\n",
      "Downloading http://165.98.224.52:8081/fdsnws/dataselect/1/query with requesting gzip compression\n",
      "Sending along the following payload:\n",
      "----------------------------------------------------------------------\n",
      "HN JUTIH -- EHN 2016-09-16T05:50:00.000000 2016-09-16T06:15:00.000000\n",
      "HN JUTIH -- EHZ 2016-09-15T05:50:00.000000 2016-09-16T05:50:00.000000\n",
      "----------------------------------------------------------------------\n"
     ]
    },
    {
     "name": "stderr",
     "output_type": "stream",
     "text": [
      "[2016-09-16 14:00:14,227] - obspy.clients.fdsn.mass_downloader - INFO: Client 'http://165.98.224.52:8081/' - No data available for request.\n"
     ]
    },
    {
     "name": "stdout",
     "output_type": "stream",
     "text": [
      "Downloaded http://165.98.224.52:8081/fdsnws/dataselect/1/query with HTTP code: 204\n",
      "Downloading http://165.98.224.52:8081/fdsnws/dataselect/1/query with requesting gzip compression\n",
      "Sending along the following payload:\n",
      "----------------------------------------------------------------------\n",
      "HN JUTIH -- EHZ 2016-09-16T05:50:00.000000 2016-09-16T06:15:00.000000\n",
      "GI PETF -- HHE 2016-09-15T05:50:00.000000 2016-09-16T05:50:00.000000\n",
      "----------------------------------------------------------------------\n",
      "Downloaded http://165.98.224.52:8081/fdsnws/dataselect/1/query with HTTP code: 200\n",
      "Downloaded http://165.98.224.52:8081/fdsnws/dataselect/1/query with HTTP code: 200\n"
     ]
    },
    {
     "name": "stderr",
     "output_type": "stream",
     "text": [
      "[2016-09-16 14:00:40,844] - obspy.clients.fdsn.mass_downloader - INFO: Client 'http://165.98.224.52:8081/' - Successfully downloaded 1 channels (of 2)\n"
     ]
    },
    {
     "name": "stdout",
     "output_type": "stream",
     "text": [
      "Downloading http://165.98.224.52:8081/fdsnws/dataselect/1/query with requesting gzip compression\n",
      "Sending along the following payload:\n",
      "----------------------------------------------------------------------\n",
      "GI PETF -- HHE 2016-09-16T05:50:00.000000 2016-09-16T06:15:00.000000\n",
      "GI PETF -- HHN 2016-09-15T05:50:00.000000 2016-09-16T05:50:00.000000\n",
      "----------------------------------------------------------------------\n"
     ]
    },
    {
     "name": "stderr",
     "output_type": "stream",
     "text": [
      "[2016-09-16 14:00:42,362] - obspy.clients.fdsn.mass_downloader - INFO: Client 'http://165.98.224.52:8081/' - Successfully downloaded 2 channels (of 2)\n"
     ]
    },
    {
     "name": "stdout",
     "output_type": "stream",
     "text": [
      "Downloading http://165.98.224.52:8081/fdsnws/dataselect/1/query with requesting gzip compression\n",
      "Sending along the following payload:\n",
      "----------------------------------------------------------------------\n",
      "NU CNGN -- HHN 2016-09-16T05:50:00.000000 2016-09-16T06:15:00.000000\n",
      "NU CNGN -- HHZ 2016-09-15T05:50:00.000000 2016-09-16T05:50:00.000000\n",
      "----------------------------------------------------------------------\n",
      "Downloaded http://165.98.224.52:8081/fdsnws/dataselect/1/query with HTTP code: 200\n"
     ]
    },
    {
     "name": "stderr",
     "output_type": "stream",
     "text": [
      "[2016-09-16 14:00:52,257] - obspy.clients.fdsn.mass_downloader - INFO: Client 'http://165.98.224.52:8081/' - Successfully downloaded 1 channels (of 2)\n"
     ]
    },
    {
     "name": "stdout",
     "output_type": "stream",
     "text": [
      "Downloading http://165.98.224.52:8081/fdsnws/dataselect/1/query with requesting gzip compression\n",
      "Sending along the following payload:\n",
      "----------------------------------------------------------------------\n",
      "OV CDITO -- HHE 2016-09-16T05:50:00.000000 2016-09-16T06:15:00.000000\n",
      "OV CDITO -- HHN 2016-09-15T05:50:00.000000 2016-09-16T05:50:00.000000\n",
      "----------------------------------------------------------------------\n",
      "Downloaded http://165.98.224.52:8081/fdsnws/dataselect/1/query with HTTP code: 200\n"
     ]
    },
    {
     "name": "stderr",
     "output_type": "stream",
     "text": [
      "[2016-09-16 14:01:22,961] - obspy.clients.fdsn.mass_downloader - INFO: Client 'http://165.98.224.52:8081/' - Successfully downloaded 2 channels (of 2)\n"
     ]
    },
    {
     "name": "stdout",
     "output_type": "stream",
     "text": [
      "Downloading http://165.98.224.52:8081/fdsnws/dataselect/1/query with requesting gzip compression\n",
      "Sending along the following payload:\n",
      "----------------------------------------------------------------------\n",
      "GI PETF -- HHN 2016-09-16T05:50:00.000000 2016-09-16T06:15:00.000000\n",
      "GI PETF -- HHZ 2016-09-15T05:50:00.000000 2016-09-16T05:50:00.000000\n",
      "----------------------------------------------------------------------\n",
      "Downloaded http://165.98.224.52:8081/fdsnws/dataselect/1/query with HTTP code: 200\n",
      "Downloaded http://165.98.224.52:8081/fdsnws/dataselect/1/query with HTTP code: 200\n"
     ]
    },
    {
     "name": "stderr",
     "output_type": "stream",
     "text": [
      "[2016-09-16 14:01:36,298] - obspy.clients.fdsn.mass_downloader - INFO: Client 'http://165.98.224.52:8081/' - Successfully downloaded 2 channels (of 2)\n"
     ]
    },
    {
     "name": "stdout",
     "output_type": "stream",
     "text": [
      "Downloading http://165.98.224.52:8081/fdsnws/dataselect/1/query with requesting gzip compression\n",
      "Sending along the following payload:\n",
      "----------------------------------------------------------------------\n",
      "NU MSHP 00 EHE 2016-09-15T05:50:00.000000 2016-09-16T05:50:00.000000\n",
      "NU CNGN -- HHZ 2016-09-16T05:50:00.000000 2016-09-16T06:15:00.000000\n",
      "----------------------------------------------------------------------\n"
     ]
    },
    {
     "name": "stderr",
     "output_type": "stream",
     "text": [
      "[2016-09-16 14:01:38,308] - obspy.clients.fdsn.mass_downloader - INFO: Client 'http://165.98.224.52:8081/' - Successfully downloaded 1 channels (of 2)\n"
     ]
    },
    {
     "name": "stdout",
     "output_type": "stream",
     "text": [
      "Downloaded http://165.98.224.52:8081/fdsnws/dataselect/1/query with HTTP code: 200\n",
      "Downloading http://165.98.224.52:8081/fdsnws/dataselect/1/query with requesting gzip compression\n",
      "Sending along the following payload:\n",
      "----------------------------------------------------------------------\n",
      "NU MSHP 00 EHE 2016-09-16T05:50:00.000000 2016-09-16T06:15:00.000000\n",
      "NU MSHP 00 EHN 2016-09-15T05:50:00.000000 2016-09-16T05:50:00.000000\n",
      "----------------------------------------------------------------------\n"
     ]
    },
    {
     "name": "stderr",
     "output_type": "stream",
     "text": [
      "[2016-09-16 14:01:38,472] - obspy.clients.fdsn.mass_downloader - INFO: Client 'http://165.98.224.52:8081/' - Successfully downloaded 2 channels (of 2)\n"
     ]
    },
    {
     "name": "stdout",
     "output_type": "stream",
     "text": [
      "Downloading http://165.98.224.52:8081/fdsnws/dataselect/1/query with requesting gzip compression\n",
      "Sending along the following payload:\n",
      "----------------------------------------------------------------------\n",
      "OV CDITO -- HHN 2016-09-16T05:50:00.000000 2016-09-16T06:15:00.000000\n",
      "OV CDITO -- HHZ 2016-09-15T05:50:00.000000 2016-09-16T05:50:00.000000\n",
      "----------------------------------------------------------------------\n"
     ]
    },
    {
     "name": "stderr",
     "output_type": "stream",
     "text": [
      "[2016-09-16 14:01:38,820] - obspy.clients.fdsn.mass_downloader - INFO: Client 'http://165.98.224.52:8081/' - No data available for request.\n"
     ]
    },
    {
     "name": "stdout",
     "output_type": "stream",
     "text": [
      "Downloaded http://165.98.224.52:8081/fdsnws/dataselect/1/query with HTTP code: 204\n",
      "Downloading http://165.98.224.52:8081/fdsnws/dataselect/1/query with requesting gzip compression\n",
      "Sending along the following payload:\n",
      "----------------------------------------------------------------------\n",
      "NU MSHP 00 EHN 2016-09-16T05:50:00.000000 2016-09-16T06:15:00.000000\n",
      "NU MSHP 00 EHZ 2016-09-15T05:50:00.000000 2016-09-16T05:50:00.000000\n",
      "----------------------------------------------------------------------\n"
     ]
    },
    {
     "name": "stderr",
     "output_type": "stream",
     "text": [
      "[2016-09-16 14:01:42,784] - obspy.clients.fdsn.mass_downloader - INFO: Client 'http://165.98.224.52:8081/' - No data available for request.\n"
     ]
    },
    {
     "name": "stdout",
     "output_type": "stream",
     "text": [
      "Downloaded http://165.98.224.52:8081/fdsnws/dataselect/1/query with HTTP code: 204\n",
      "Downloading http://165.98.224.52:8081/fdsnws/dataselect/1/query with requesting gzip compression\n",
      "Sending along the following payload:\n",
      "----------------------------------------------------------------------\n",
      "GI SRIX -- HHE 2016-09-15T05:50:00.000000 2016-09-16T05:50:00.000000\n",
      "NU MSHP 00 EHZ 2016-09-16T05:50:00.000000 2016-09-16T06:15:00.000000\n",
      "----------------------------------------------------------------------\n"
     ]
    },
    {
     "name": "stderr",
     "output_type": "stream",
     "text": [
      "[2016-09-16 14:01:43,309] - obspy.clients.fdsn.mass_downloader - INFO: Client 'http://165.98.224.52:8081/' - No data available for request.\n"
     ]
    },
    {
     "name": "stdout",
     "output_type": "stream",
     "text": [
      "Downloaded http://165.98.224.52:8081/fdsnws/dataselect/1/query with HTTP code: 204\n",
      "Downloading http://165.98.224.52:8081/fdsnws/dataselect/1/query with requesting gzip compression\n",
      "Sending along the following payload:\n",
      "----------------------------------------------------------------------\n",
      "GI SRIX -- HHN 2016-09-15T05:50:00.000000 2016-09-16T05:50:00.000000\n",
      "GI SRIX -- HHE 2016-09-16T05:50:00.000000 2016-09-16T06:15:00.000000\n",
      "----------------------------------------------------------------------\n"
     ]
    },
    {
     "name": "stderr",
     "output_type": "stream",
     "text": [
      "[2016-09-16 14:01:43,787] - obspy.clients.fdsn.mass_downloader - INFO: Client 'http://165.98.224.52:8081/' - No data available for request.\n"
     ]
    },
    {
     "name": "stdout",
     "output_type": "stream",
     "text": [
      "Downloaded http://165.98.224.52:8081/fdsnws/dataselect/1/query with HTTP code: 204\n",
      "Downloading http://165.98.224.52:8081/fdsnws/dataselect/1/query with requesting gzip compression\n",
      "Sending along the following payload:\n",
      "----------------------------------------------------------------------\n",
      "GI SRIX -- HHZ 2016-09-15T05:50:00.000000 2016-09-16T05:50:00.000000\n",
      "GI SRIX -- HHN 2016-09-16T05:50:00.000000 2016-09-16T06:15:00.000000\n",
      "----------------------------------------------------------------------\n"
     ]
    },
    {
     "name": "stderr",
     "output_type": "stream",
     "text": [
      "[2016-09-16 14:01:44,238] - obspy.clients.fdsn.mass_downloader - INFO: Client 'http://165.98.224.52:8081/' - No data available for request.\n"
     ]
    },
    {
     "name": "stdout",
     "output_type": "stream",
     "text": [
      "Downloaded http://165.98.224.52:8081/fdsnws/dataselect/1/query with HTTP code: 204\n",
      "Downloading http://165.98.224.52:8081/fdsnws/dataselect/1/query with requesting gzip compression\n",
      "Sending along the following payload:\n",
      "----------------------------------------------------------------------\n",
      "GI SRIX -- HHZ 2016-09-16T05:50:00.000000 2016-09-16T06:15:00.000000\n",
      "OV VIRE -- HHE 2016-09-15T05:50:00.000000 2016-09-16T05:50:00.000000\n",
      "----------------------------------------------------------------------\n",
      "Downloaded http://165.98.224.52:8081/fdsnws/dataselect/1/query with HTTP code: 200\n"
     ]
    },
    {
     "name": "stderr",
     "output_type": "stream",
     "text": [
      "[2016-09-16 14:02:06,118] - obspy.clients.fdsn.mass_downloader - INFO: Client 'http://165.98.224.52:8081/' - Successfully downloaded 2 channels (of 2)\n"
     ]
    },
    {
     "name": "stdout",
     "output_type": "stream",
     "text": [
      "Downloading http://165.98.224.52:8081/fdsnws/dataselect/1/query with requesting gzip compression\n",
      "Sending along the following payload:\n",
      "----------------------------------------------------------------------\n",
      "NU CRUN 00 EHZ 2016-09-15T05:50:00.000000 2016-09-16T05:50:00.000000\n",
      "GI PETF -- HHZ 2016-09-16T05:50:00.000000 2016-09-16T06:15:00.000000\n",
      "----------------------------------------------------------------------\n",
      "Downloaded http://165.98.224.52:8081/fdsnws/dataselect/1/query with HTTP code: 200\n"
     ]
    },
    {
     "name": "stderr",
     "output_type": "stream",
     "text": [
      "[2016-09-16 14:02:20,929] - obspy.clients.fdsn.mass_downloader - INFO: Client 'http://165.98.224.52:8081/' - Successfully downloaded 2 channels (of 2)\n"
     ]
    },
    {
     "name": "stdout",
     "output_type": "stream",
     "text": [
      "Downloading http://165.98.224.52:8081/fdsnws/dataselect/1/query with requesting gzip compression\n",
      "Sending along the following payload:\n",
      "----------------------------------------------------------------------\n",
      "NU AZCN -- EHE 2016-09-15T05:50:00.000000 2016-09-16T05:50:00.000000\n",
      "OV CDITO -- HHZ 2016-09-16T05:50:00.000000 2016-09-16T06:15:00.000000\n",
      "----------------------------------------------------------------------\n"
     ]
    },
    {
     "name": "stderr",
     "output_type": "stream",
     "text": [
      "[2016-09-16 14:02:22,846] - obspy.clients.fdsn.mass_downloader - INFO: Client 'http://165.98.224.52:8081/' - Successfully downloaded 1 channels (of 2)\n"
     ]
    },
    {
     "name": "stdout",
     "output_type": "stream",
     "text": [
      "Downloaded http://165.98.224.52:8081/fdsnws/dataselect/1/query with HTTP code: 200\n",
      "Downloading http://165.98.224.52:8081/fdsnws/dataselect/1/query with requesting gzip compression\n",
      "Sending along the following payload:\n",
      "----------------------------------------------------------------------\n",
      "NU AZCN -- EHE 2016-09-16T05:50:00.000000 2016-09-16T06:15:00.000000\n",
      "NU AZCN -- EHN 2016-09-15T05:50:00.000000 2016-09-16T05:50:00.000000\n",
      "----------------------------------------------------------------------\n"
     ]
    },
    {
     "name": "stderr",
     "output_type": "stream",
     "text": [
      "[2016-09-16 14:02:23,408] - obspy.clients.fdsn.mass_downloader - INFO: Client 'http://165.98.224.52:8081/' - No data available for request.\n"
     ]
    },
    {
     "name": "stdout",
     "output_type": "stream",
     "text": [
      "Downloaded http://165.98.224.52:8081/fdsnws/dataselect/1/query with HTTP code: 204\n",
      "Downloading http://165.98.224.52:8081/fdsnws/dataselect/1/query with requesting gzip compression\n",
      "Sending along the following payload:\n",
      "----------------------------------------------------------------------\n",
      "NU AZCN -- EHZ 2016-09-15T05:50:00.000000 2016-09-16T05:50:00.000000\n",
      "NU AZCN -- EHN 2016-09-16T05:50:00.000000 2016-09-16T06:15:00.000000\n",
      "----------------------------------------------------------------------\n"
     ]
    },
    {
     "name": "stderr",
     "output_type": "stream",
     "text": [
      "[2016-09-16 14:02:23,972] - obspy.clients.fdsn.mass_downloader - INFO: Client 'http://165.98.224.52:8081/' - No data available for request.\n"
     ]
    },
    {
     "name": "stdout",
     "output_type": "stream",
     "text": [
      "Downloaded http://165.98.224.52:8081/fdsnws/dataselect/1/query with HTTP code: 204\n",
      "Downloading http://165.98.224.52:8081/fdsnws/dataselect/1/query with requesting gzip compression\n",
      "Sending along the following payload:\n",
      "----------------------------------------------------------------------\n",
      "NU AZCN -- EHZ 2016-09-16T05:50:00.000000 2016-09-16T06:15:00.000000\n",
      "OV RIFO -- HHE 2016-09-15T05:50:00.000000 2016-09-16T05:50:00.000000\n",
      "----------------------------------------------------------------------\n"
     ]
    },
    {
     "name": "stderr",
     "output_type": "stream",
     "text": [
      "[2016-09-16 14:02:24,570] - obspy.clients.fdsn.mass_downloader - INFO: Client 'http://165.98.224.52:8081/' - No data available for request.\n"
     ]
    },
    {
     "name": "stdout",
     "output_type": "stream",
     "text": [
      "Downloaded http://165.98.224.52:8081/fdsnws/dataselect/1/query with HTTP code: 204\n",
      "Downloading http://165.98.224.52:8081/fdsnws/dataselect/1/query with requesting gzip compression\n",
      "Sending along the following payload:\n",
      "----------------------------------------------------------------------\n",
      "OV RIFO -- HHE 2016-09-16T05:50:00.000000 2016-09-16T06:15:00.000000\n",
      "OV RIFO -- HHN 2016-09-15T05:50:00.000000 2016-09-16T05:50:00.000000\n",
      "----------------------------------------------------------------------\n"
     ]
    },
    {
     "name": "stderr",
     "output_type": "stream",
     "text": [
      "[2016-09-16 14:02:25,137] - obspy.clients.fdsn.mass_downloader - INFO: Client 'http://165.98.224.52:8081/' - No data available for request.\n"
     ]
    },
    {
     "name": "stdout",
     "output_type": "stream",
     "text": [
      "Downloaded http://165.98.224.52:8081/fdsnws/dataselect/1/query with HTTP code: 204\n",
      "Downloading http://165.98.224.52:8081/fdsnws/dataselect/1/query with requesting gzip compression\n",
      "Sending along the following payload:\n",
      "----------------------------------------------------------------------\n",
      "OV RIFO -- HHZ 2016-09-15T05:50:00.000000 2016-09-16T05:50:00.000000\n",
      "OV RIFO -- HHN 2016-09-16T05:50:00.000000 2016-09-16T06:15:00.000000\n",
      "----------------------------------------------------------------------\n"
     ]
    },
    {
     "name": "stderr",
     "output_type": "stream",
     "text": [
      "[2016-09-16 14:02:25,670] - obspy.clients.fdsn.mass_downloader - INFO: Client 'http://165.98.224.52:8081/' - No data available for request.\n"
     ]
    },
    {
     "name": "stdout",
     "output_type": "stream",
     "text": [
      "Downloaded http://165.98.224.52:8081/fdsnws/dataselect/1/query with HTTP code: 204\n",
      "Downloading http://165.98.224.52:8081/fdsnws/dataselect/1/query with requesting gzip compression\n",
      "Sending along the following payload:\n",
      "----------------------------------------------------------------------\n",
      "OV RIFO -- HHZ 2016-09-16T05:50:00.000000 2016-09-16T06:15:00.000000\n",
      "SV PACA -- HHE 2016-09-15T05:50:00.000000 2016-09-16T05:50:00.000000\n",
      "----------------------------------------------------------------------\n",
      "Downloaded http://165.98.224.52:8081/fdsnws/dataselect/1/query with HTTP code: 200\n"
     ]
    },
    {
     "name": "stderr",
     "output_type": "stream",
     "text": [
      "[2016-09-16 14:02:48,734] - obspy.clients.fdsn.mass_downloader - INFO: Client 'http://165.98.224.52:8081/' - Successfully downloaded 1 channels (of 2)\n"
     ]
    },
    {
     "name": "stdout",
     "output_type": "stream",
     "text": [
      "Downloading http://165.98.224.52:8081/fdsnws/dataselect/1/query with requesting gzip compression\n",
      "Sending along the following payload:\n",
      "----------------------------------------------------------------------\n",
      "SV PACA -- HHE 2016-09-16T05:50:00.000000 2016-09-16T06:15:00.000000\n",
      "SV PACA -- HHN 2016-09-15T05:50:00.000000 2016-09-16T05:50:00.000000\n",
      "----------------------------------------------------------------------\n",
      "Downloaded http://165.98.224.52:8081/fdsnws/dataselect/1/query with HTTP code: 200\n"
     ]
    },
    {
     "name": "stderr",
     "output_type": "stream",
     "text": [
      "[2016-09-16 14:02:58,590] - obspy.clients.fdsn.mass_downloader - INFO: Client 'http://165.98.224.52:8081/' - Successfully downloaded 2 channels (of 2)\n"
     ]
    },
    {
     "name": "stdout",
     "output_type": "stream",
     "text": [
      "Downloading http://165.98.224.52:8081/fdsnws/dataselect/1/query with requesting gzip compression\n",
      "Sending along the following payload:\n",
      "----------------------------------------------------------------------\n",
      "NU CRUN 00 EHZ 2016-09-16T05:50:00.000000 2016-09-16T06:15:00.000000\n",
      "NU LIMN -- HHE 2016-09-15T05:50:00.000000 2016-09-16T05:50:00.000000\n",
      "----------------------------------------------------------------------\n",
      "Downloaded http://165.98.224.52:8081/fdsnws/dataselect/1/query with HTTP code: 200\n",
      "Downloaded http://165.98.224.52:8081/fdsnws/dataselect/1/query with HTTP code: 200\n"
     ]
    },
    {
     "name": "stderr",
     "output_type": "stream",
     "text": [
      "[2016-09-16 14:03:18,723] - obspy.clients.fdsn.mass_downloader - INFO: Client 'http://165.98.224.52:8081/' - Successfully downloaded 2 channels (of 2)\n"
     ]
    },
    {
     "name": "stdout",
     "output_type": "stream",
     "text": [
      "Downloading http://165.98.224.52:8081/fdsnws/dataselect/1/query with requesting gzip compression\n",
      "Sending along the following payload:\n",
      "----------------------------------------------------------------------\n",
      "SV PACA -- HHN 2016-09-16T05:50:00.000000 2016-09-16T06:15:00.000000\n",
      "SV PACA -- HHZ 2016-09-15T05:50:00.000000 2016-09-16T05:50:00.000000\n",
      "----------------------------------------------------------------------\n"
     ]
    },
    {
     "name": "stderr",
     "output_type": "stream",
     "text": [
      "[2016-09-16 14:03:24,349] - obspy.clients.fdsn.mass_downloader - INFO: Client 'http://165.98.224.52:8081/' - Successfully downloaded 1 channels (of 2)\n"
     ]
    },
    {
     "name": "stdout",
     "output_type": "stream",
     "text": [
      "Downloading http://165.98.224.52:8081/fdsnws/dataselect/1/query with requesting gzip compression\n",
      "Sending along the following payload:\n",
      "----------------------------------------------------------------------\n",
      "OV VIRE -- HHE 2016-09-16T05:50:00.000000 2016-09-16T06:15:00.000000\n",
      "OV VIRE -- HHN 2016-09-15T05:50:00.000000 2016-09-16T05:50:00.000000\n",
      "----------------------------------------------------------------------\n",
      "Downloaded http://165.98.224.52:8081/fdsnws/dataselect/1/query with HTTP code: 200\n"
     ]
    },
    {
     "name": "stderr",
     "output_type": "stream",
     "text": [
      "[2016-09-16 14:03:39,309] - obspy.clients.fdsn.mass_downloader - INFO: Client 'http://165.98.224.52:8081/' - Successfully downloaded 2 channels (of 2)\n"
     ]
    },
    {
     "name": "stdout",
     "output_type": "stream",
     "text": [
      "Downloading http://165.98.224.52:8081/fdsnws/dataselect/1/query with requesting gzip compression\n",
      "Sending along the following payload:\n",
      "----------------------------------------------------------------------\n",
      "NU LIMN -- HHN 2016-09-15T05:50:00.000000 2016-09-16T05:50:00.000000\n",
      "NU LIMN -- HHE 2016-09-16T05:50:00.000000 2016-09-16T06:15:00.000000\n",
      "----------------------------------------------------------------------\n",
      "Downloaded http://165.98.224.52:8081/fdsnws/dataselect/1/query with HTTP code: 200\n"
     ]
    },
    {
     "name": "stderr",
     "output_type": "stream",
     "text": [
      "[2016-09-16 14:03:56,381] - obspy.clients.fdsn.mass_downloader - INFO: Client 'http://165.98.224.52:8081/' - Successfully downloaded 2 channels (of 2)\n"
     ]
    },
    {
     "name": "stdout",
     "output_type": "stream",
     "text": [
      "Downloading http://165.98.224.52:8081/fdsnws/dataselect/1/query with requesting gzip compression\n",
      "Sending along the following payload:\n",
      "----------------------------------------------------------------------\n",
      "SV PACA -- HHZ 2016-09-16T05:50:00.000000 2016-09-16T06:15:00.000000\n",
      "NU QUEN 00 EHE 2016-09-15T05:50:00.000000 2016-09-16T05:50:00.000000\n",
      "----------------------------------------------------------------------\n"
     ]
    },
    {
     "name": "stderr",
     "output_type": "stream",
     "text": [
      "[2016-09-16 14:03:58,191] - obspy.clients.fdsn.mass_downloader - INFO: Client 'http://165.98.224.52:8081/' - Successfully downloaded 1 channels (of 2)\n"
     ]
    },
    {
     "name": "stdout",
     "output_type": "stream",
     "text": [
      "Downloaded http://165.98.224.52:8081/fdsnws/dataselect/1/query with HTTP code: 200\n",
      "Downloading http://165.98.224.52:8081/fdsnws/dataselect/1/query with requesting gzip compression\n",
      "Sending along the following payload:\n",
      "----------------------------------------------------------------------\n",
      "NU QUEN 00 EHN 2016-09-15T05:50:00.000000 2016-09-16T05:50:00.000000\n",
      "NU QUEN 00 EHE 2016-09-16T05:50:00.000000 2016-09-16T06:15:00.000000\n",
      "----------------------------------------------------------------------\n"
     ]
    },
    {
     "name": "stderr",
     "output_type": "stream",
     "text": [
      "[2016-09-16 14:03:58,768] - obspy.clients.fdsn.mass_downloader - INFO: Client 'http://165.98.224.52:8081/' - No data available for request.\n"
     ]
    },
    {
     "name": "stdout",
     "output_type": "stream",
     "text": [
      "Downloaded http://165.98.224.52:8081/fdsnws/dataselect/1/query with HTTP code: 204\n",
      "Downloading http://165.98.224.52:8081/fdsnws/dataselect/1/query with requesting gzip compression\n",
      "Sending along the following payload:\n",
      "----------------------------------------------------------------------\n",
      "NU QUEN 00 EHN 2016-09-16T05:50:00.000000 2016-09-16T06:15:00.000000\n",
      "NU QUEN 00 EHZ 2016-09-15T05:50:00.000000 2016-09-16T05:50:00.000000\n",
      "----------------------------------------------------------------------\n"
     ]
    },
    {
     "name": "stderr",
     "output_type": "stream",
     "text": [
      "[2016-09-16 14:03:59,383] - obspy.clients.fdsn.mass_downloader - INFO: Client 'http://165.98.224.52:8081/' - No data available for request.\n"
     ]
    },
    {
     "name": "stdout",
     "output_type": "stream",
     "text": [
      "Downloaded http://165.98.224.52:8081/fdsnws/dataselect/1/query with HTTP code: 204\n",
      "Downloading http://165.98.224.52:8081/fdsnws/dataselect/1/query with requesting gzip compression\n",
      "Sending along the following payload:\n",
      "----------------------------------------------------------------------\n",
      "NU QUEN 00 EHZ 2016-09-16T05:50:00.000000 2016-09-16T06:15:00.000000\n",
      "NU APQN -- HHE 2016-09-15T05:50:00.000000 2016-09-16T05:50:00.000000\n",
      "----------------------------------------------------------------------\n"
     ]
    },
    {
     "name": "stderr",
     "output_type": "stream",
     "text": [
      "[2016-09-16 14:04:00,108] - obspy.clients.fdsn.mass_downloader - INFO: Client 'http://165.98.224.52:8081/' - No data available for request.\n"
     ]
    },
    {
     "name": "stdout",
     "output_type": "stream",
     "text": [
      "Downloaded http://165.98.224.52:8081/fdsnws/dataselect/1/query with HTTP code: 204\n",
      "Downloading http://165.98.224.52:8081/fdsnws/dataselect/1/query with requesting gzip compression\n",
      "Sending along the following payload:\n",
      "----------------------------------------------------------------------\n",
      "NU APQN -- HHN 2016-09-15T05:50:00.000000 2016-09-16T05:50:00.000000\n",
      "NU APQN -- HHE 2016-09-16T05:50:00.000000 2016-09-16T06:15:00.000000\n",
      "----------------------------------------------------------------------\n"
     ]
    },
    {
     "name": "stderr",
     "output_type": "stream",
     "text": [
      "[2016-09-16 14:04:00,735] - obspy.clients.fdsn.mass_downloader - INFO: Client 'http://165.98.224.52:8081/' - No data available for request.\n"
     ]
    },
    {
     "name": "stdout",
     "output_type": "stream",
     "text": [
      "Downloaded http://165.98.224.52:8081/fdsnws/dataselect/1/query with HTTP code: 204\n",
      "Downloading http://165.98.224.52:8081/fdsnws/dataselect/1/query with requesting gzip compression\n",
      "Sending along the following payload:\n",
      "----------------------------------------------------------------------\n",
      "NU APQN -- HHZ 2016-09-15T05:50:00.000000 2016-09-16T05:50:00.000000\n",
      "NU APQN -- HHN 2016-09-16T05:50:00.000000 2016-09-16T06:15:00.000000\n",
      "----------------------------------------------------------------------\n"
     ]
    },
    {
     "name": "stderr",
     "output_type": "stream",
     "text": [
      "[2016-09-16 14:04:01,328] - obspy.clients.fdsn.mass_downloader - INFO: Client 'http://165.98.224.52:8081/' - No data available for request.\n"
     ]
    },
    {
     "name": "stdout",
     "output_type": "stream",
     "text": [
      "Downloaded http://165.98.224.52:8081/fdsnws/dataselect/1/query with HTTP code: 204\n",
      "Downloading http://165.98.224.52:8081/fdsnws/dataselect/1/query with requesting gzip compression\n",
      "Sending along the following payload:\n",
      "----------------------------------------------------------------------\n",
      "NU APQN -- HHZ 2016-09-16T05:50:00.000000 2016-09-16T06:15:00.000000\n",
      "OV BATAN -- HHE 2016-09-15T05:50:00.000000 2016-09-16T05:50:00.000000\n",
      "----------------------------------------------------------------------\n",
      "Downloaded http://165.98.224.52:8081/fdsnws/dataselect/1/query with HTTP code: 200\n"
     ]
    },
    {
     "name": "stderr",
     "output_type": "stream",
     "text": [
      "[2016-09-16 14:04:08,898] - obspy.clients.fdsn.mass_downloader - INFO: Client 'http://165.98.224.52:8081/' - Successfully downloaded 2 channels (of 2)\n"
     ]
    },
    {
     "name": "stdout",
     "output_type": "stream",
     "text": [
      "Downloading http://165.98.224.52:8081/fdsnws/dataselect/1/query with requesting gzip compression\n",
      "Sending along the following payload:\n",
      "----------------------------------------------------------------------\n",
      "NU LIMN -- HHZ 2016-09-15T05:50:00.000000 2016-09-16T05:50:00.000000\n",
      "NU LIMN -- HHN 2016-09-16T05:50:00.000000 2016-09-16T06:15:00.000000\n",
      "----------------------------------------------------------------------\n",
      "Downloaded http://165.98.224.52:8081/fdsnws/dataselect/1/query with HTTP code: 200\n",
      "Downloaded http://165.98.224.52:8081/fdsnws/dataselect/1/query with HTTP code: 200\n"
     ]
    },
    {
     "name": "stderr",
     "output_type": "stream",
     "text": [
      "[2016-09-16 14:04:33,885] - obspy.clients.fdsn.mass_downloader - INFO: Client 'http://165.98.224.52:8081/' - Successfully downloaded 2 channels (of 2)\n"
     ]
    },
    {
     "name": "stdout",
     "output_type": "stream",
     "text": [
      "Downloading http://165.98.224.52:8081/fdsnws/dataselect/1/query with requesting gzip compression\n",
      "Sending along the following payload:\n",
      "----------------------------------------------------------------------\n",
      "NU LIMN -- HHZ 2016-09-16T05:50:00.000000 2016-09-16T06:15:00.000000\n",
      "NU ESTN -- HHE 2016-09-15T05:50:00.000000 2016-09-16T05:50:00.000000\n",
      "----------------------------------------------------------------------\n"
     ]
    },
    {
     "name": "stderr",
     "output_type": "stream",
     "text": [
      "[2016-09-16 14:04:35,415] - obspy.clients.fdsn.mass_downloader - INFO: Client 'http://165.98.224.52:8081/' - Successfully downloaded 1 channels (of 2)\n"
     ]
    },
    {
     "name": "stdout",
     "output_type": "stream",
     "text": [
      "Downloaded http://165.98.224.52:8081/fdsnws/dataselect/1/query with HTTP code: 200\n",
      "Downloading http://165.98.224.52:8081/fdsnws/dataselect/1/query with requesting gzip compression\n",
      "Sending along the following payload:\n",
      "----------------------------------------------------------------------\n",
      "NU ESTN -- HHN 2016-09-15T05:50:00.000000 2016-09-16T05:50:00.000000\n",
      "NU ESTN -- HHE 2016-09-16T05:50:00.000000 2016-09-16T06:15:00.000000\n",
      "----------------------------------------------------------------------\n"
     ]
    },
    {
     "name": "stderr",
     "output_type": "stream",
     "text": [
      "[2016-09-16 14:04:36,012] - obspy.clients.fdsn.mass_downloader - INFO: Client 'http://165.98.224.52:8081/' - No data available for request.\n"
     ]
    },
    {
     "name": "stdout",
     "output_type": "stream",
     "text": [
      "Downloaded http://165.98.224.52:8081/fdsnws/dataselect/1/query with HTTP code: 204\n",
      "Downloading http://165.98.224.52:8081/fdsnws/dataselect/1/query with requesting gzip compression\n",
      "Sending along the following payload:\n",
      "----------------------------------------------------------------------\n",
      "NU ESTN -- HHN 2016-09-16T05:50:00.000000 2016-09-16T06:15:00.000000\n",
      "NU ESTN -- HHZ 2016-09-15T05:50:00.000000 2016-09-16T05:50:00.000000\n",
      "----------------------------------------------------------------------\n"
     ]
    },
    {
     "name": "stderr",
     "output_type": "stream",
     "text": [
      "[2016-09-16 14:04:36,575] - obspy.clients.fdsn.mass_downloader - INFO: Client 'http://165.98.224.52:8081/' - No data available for request.\n"
     ]
    },
    {
     "name": "stdout",
     "output_type": "stream",
     "text": [
      "Downloaded http://165.98.224.52:8081/fdsnws/dataselect/1/query with HTTP code: 204\n",
      "Downloading http://165.98.224.52:8081/fdsnws/dataselect/1/query with requesting gzip compression\n",
      "Sending along the following payload:\n",
      "----------------------------------------------------------------------\n",
      "OV VIMO -- HHE 2016-09-15T05:50:00.000000 2016-09-16T05:50:00.000000\n",
      "NU ESTN -- HHZ 2016-09-16T05:50:00.000000 2016-09-16T06:15:00.000000\n",
      "----------------------------------------------------------------------\n"
     ]
    },
    {
     "name": "stderr",
     "output_type": "stream",
     "text": [
      "[2016-09-16 14:04:37,151] - obspy.clients.fdsn.mass_downloader - INFO: Client 'http://165.98.224.52:8081/' - No data available for request.\n",
      "[2016-09-16 14:04:37,294] - obspy.clients.fdsn.mass_downloader - INFO: Client 'http://165.98.224.52:8081/' - Successfully downloaded 1 channels (of 2)\n"
     ]
    },
    {
     "name": "stdout",
     "output_type": "stream",
     "text": [
      "Downloaded http://165.98.224.52:8081/fdsnws/dataselect/1/query with HTTP code: 204\n",
      "Downloading http://165.98.224.52:8081/fdsnws/dataselect/1/query with requesting gzip compression\n",
      "Sending along the following payload:\n",
      "----------------------------------------------------------------------\n",
      "OV VIMO -- HHE 2016-09-16T05:50:00.000000 2016-09-16T06:15:00.000000\n",
      "OV VIMO -- HHN 2016-09-15T05:50:00.000000 2016-09-16T05:50:00.000000\n",
      "----------------------------------------------------------------------\n",
      "Downloading http://165.98.224.52:8081/fdsnws/dataselect/1/query with requesting gzip compression\n",
      "Sending along the following payload:\n",
      "----------------------------------------------------------------------\n",
      "OV BATAN -- HHN 2016-09-15T05:50:00.000000 2016-09-16T05:50:00.000000\n",
      "OV BATAN -- HHE 2016-09-16T05:50:00.000000 2016-09-16T06:15:00.000000\n",
      "----------------------------------------------------------------------\n"
     ]
    },
    {
     "name": "stderr",
     "output_type": "stream",
     "text": [
      "[2016-09-16 14:04:37,609] - obspy.clients.fdsn.mass_downloader - INFO: Client 'http://165.98.224.52:8081/' - No data available for request.\n"
     ]
    },
    {
     "name": "stdout",
     "output_type": "stream",
     "text": [
      "Downloaded http://165.98.224.52:8081/fdsnws/dataselect/1/query with HTTP code: 204\n",
      "Downloading http://165.98.224.52:8081/fdsnws/dataselect/1/query with requesting gzip compression\n",
      "Sending along the following payload:\n",
      "----------------------------------------------------------------------\n",
      "OV VIMO -- HHN 2016-09-16T05:50:00.000000 2016-09-16T06:15:00.000000\n",
      "OV VIMO -- HHZ 2016-09-15T05:50:00.000000 2016-09-16T05:50:00.000000\n",
      "----------------------------------------------------------------------\n"
     ]
    },
    {
     "name": "stderr",
     "output_type": "stream",
     "text": [
      "[2016-09-16 14:04:41,655] - obspy.clients.fdsn.mass_downloader - INFO: Client 'http://165.98.224.52:8081/' - No data available for request.\n"
     ]
    },
    {
     "name": "stdout",
     "output_type": "stream",
     "text": [
      "Downloaded http://165.98.224.52:8081/fdsnws/dataselect/1/query with HTTP code: 204\n",
      "Downloading http://165.98.224.52:8081/fdsnws/dataselect/1/query with requesting gzip compression\n",
      "Sending along the following payload:\n",
      "----------------------------------------------------------------------\n",
      "OV HAYA -- HHE 2016-09-15T05:50:00.000000 2016-09-16T05:50:00.000000\n",
      "OV VIMO -- HHZ 2016-09-16T05:50:00.000000 2016-09-16T06:15:00.000000\n",
      "----------------------------------------------------------------------\n"
     ]
    },
    {
     "name": "stderr",
     "output_type": "stream",
     "text": [
      "[2016-09-16 14:04:42,201] - obspy.clients.fdsn.mass_downloader - INFO: Client 'http://165.98.224.52:8081/' - No data available for request.\n"
     ]
    },
    {
     "name": "stdout",
     "output_type": "stream",
     "text": [
      "Downloaded http://165.98.224.52:8081/fdsnws/dataselect/1/query with HTTP code: 204\n",
      "Downloading http://165.98.224.52:8081/fdsnws/dataselect/1/query with requesting gzip compression\n",
      "Sending along the following payload:\n",
      "----------------------------------------------------------------------\n",
      "OV HAYA -- HHN 2016-09-15T05:50:00.000000 2016-09-16T05:50:00.000000\n",
      "OV HAYA -- HHE 2016-09-16T05:50:00.000000 2016-09-16T06:15:00.000000\n",
      "----------------------------------------------------------------------\n"
     ]
    },
    {
     "name": "stderr",
     "output_type": "stream",
     "text": [
      "[2016-09-16 14:04:42,734] - obspy.clients.fdsn.mass_downloader - INFO: Client 'http://165.98.224.52:8081/' - No data available for request.\n"
     ]
    },
    {
     "name": "stdout",
     "output_type": "stream",
     "text": [
      "Downloaded http://165.98.224.52:8081/fdsnws/dataselect/1/query with HTTP code: 204\n",
      "Downloading http://165.98.224.52:8081/fdsnws/dataselect/1/query with requesting gzip compression\n",
      "Sending along the following payload:\n",
      "----------------------------------------------------------------------\n",
      "OV HAYA -- HHN 2016-09-16T05:50:00.000000 2016-09-16T06:15:00.000000\n",
      "OV HAYA -- HHZ 2016-09-15T05:50:00.000000 2016-09-16T05:50:00.000000\n",
      "----------------------------------------------------------------------\n"
     ]
    },
    {
     "name": "stderr",
     "output_type": "stream",
     "text": [
      "[2016-09-16 14:04:43,255] - obspy.clients.fdsn.mass_downloader - INFO: Client 'http://165.98.224.52:8081/' - No data available for request.\n"
     ]
    },
    {
     "name": "stdout",
     "output_type": "stream",
     "text": [
      "Downloaded http://165.98.224.52:8081/fdsnws/dataselect/1/query with HTTP code: 204\n",
      "Downloading http://165.98.224.52:8081/fdsnws/dataselect/1/query with requesting gzip compression\n",
      "Sending along the following payload:\n",
      "----------------------------------------------------------------------\n",
      "CU BCIP 00 BHZ 2016-09-15T05:50:00.000000 2016-09-16T05:50:00.000000\n",
      "CU BCIP 00 BH1 2016-09-15T05:50:00.000000 2016-09-16T06:15:00.000000\n",
      "OV HAYA -- HHZ 2016-09-16T05:50:00.000000 2016-09-16T06:15:00.000000\n",
      "CU BCIP 00 BH2 2016-09-15T05:50:00.000000 2016-09-16T06:15:00.000000\n",
      "----------------------------------------------------------------------\n",
      "Downloaded http://165.98.224.52:8081/fdsnws/dataselect/1/query with HTTP code: 200\n"
     ]
    },
    {
     "name": "stderr",
     "output_type": "stream",
     "text": [
      "[2016-09-16 14:05:04,475] - obspy.clients.fdsn.mass_downloader - INFO: Client 'http://165.98.224.52:8081/' - Successfully downloaded 2 channels (of 2)\n"
     ]
    },
    {
     "name": "stdout",
     "output_type": "stream",
     "text": [
      "Downloading http://165.98.224.52:8081/fdsnws/dataselect/1/query with requesting gzip compression\n",
      "Sending along the following payload:\n",
      "----------------------------------------------------------------------\n",
      "OV BATAN -- HHZ 2016-09-15T05:50:00.000000 2016-09-16T05:50:00.000000\n",
      "OV BATAN -- HHN 2016-09-16T05:50:00.000000 2016-09-16T06:15:00.000000\n",
      "----------------------------------------------------------------------\n",
      "Downloaded http://165.98.224.52:8081/fdsnws/dataselect/1/query with HTTP code: 200\n"
     ]
    },
    {
     "name": "stderr",
     "output_type": "stream",
     "text": [
      "[2016-09-16 14:05:17,932] - obspy.clients.fdsn.mass_downloader - INFO: Client 'http://165.98.224.52:8081/' - Successfully downloaded 2 channels (of 2)\n"
     ]
    },
    {
     "name": "stdout",
     "output_type": "stream",
     "text": [
      "Downloading http://165.98.224.52:8081/fdsnws/dataselect/1/query with requesting gzip compression\n",
      "Sending along the following payload:\n",
      "----------------------------------------------------------------------\n",
      "OV VIRE -- HHZ 2016-09-15T05:50:00.000000 2016-09-16T05:50:00.000000\n",
      "OV VIRE -- HHN 2016-09-16T05:50:00.000000 2016-09-16T06:15:00.000000\n",
      "----------------------------------------------------------------------\n",
      "Downloaded http://165.98.224.52:8081/fdsnws/dataselect/1/query with HTTP code: 200\n"
     ]
    },
    {
     "name": "stderr",
     "output_type": "stream",
     "text": [
      "[2016-09-16 14:05:29,068] - obspy.clients.fdsn.mass_downloader - INFO: Client 'http://165.98.224.52:8081/' - Successfully downloaded 5 channels (of 6)\n"
     ]
    },
    {
     "name": "stdout",
     "output_type": "stream",
     "text": [
      "Downloading http://165.98.224.52:8081/fdsnws/dataselect/1/query with requesting gzip compression\n",
      "Sending along the following payload:\n",
      "----------------------------------------------------------------------\n",
      "CU BCIP 00 BHZ 2016-09-16T05:50:00.000000 2016-09-16T06:15:00.000000\n",
      "PC CAZU -- HHE 2016-09-15T05:50:00.000000 2016-09-16T05:50:00.000000\n",
      "----------------------------------------------------------------------\n"
     ]
    },
    {
     "name": "stderr",
     "output_type": "stream",
     "text": [
      "[2016-09-16 14:05:30,465] - obspy.clients.fdsn.mass_downloader - INFO: Client 'http://165.98.224.52:8081/' - Successfully downloaded 1 channels (of 2)\n"
     ]
    },
    {
     "name": "stdout",
     "output_type": "stream",
     "text": [
      "Downloaded http://165.98.224.52:8081/fdsnws/dataselect/1/query with HTTP code: 200\n",
      "Downloading http://165.98.224.52:8081/fdsnws/dataselect/1/query with requesting gzip compression\n",
      "Sending along the following payload:\n",
      "----------------------------------------------------------------------\n",
      "PC CAZU -- HHN 2016-09-15T05:50:00.000000 2016-09-16T05:50:00.000000\n",
      "PC CAZU -- HHE 2016-09-16T05:50:00.000000 2016-09-16T06:15:00.000000\n",
      "----------------------------------------------------------------------\n"
     ]
    },
    {
     "name": "stderr",
     "output_type": "stream",
     "text": [
      "[2016-09-16 14:05:30,976] - obspy.clients.fdsn.mass_downloader - INFO: Client 'http://165.98.224.52:8081/' - No data available for request.\n"
     ]
    },
    {
     "name": "stdout",
     "output_type": "stream",
     "text": [
      "Downloaded http://165.98.224.52:8081/fdsnws/dataselect/1/query with HTTP code: 204\n",
      "Downloading http://165.98.224.52:8081/fdsnws/dataselect/1/query with requesting gzip compression\n",
      "Sending along the following payload:\n",
      "----------------------------------------------------------------------\n",
      "PC CAZU -- HHZ 2016-09-15T05:50:00.000000 2016-09-16T05:50:00.000000\n",
      "PC CAZU -- HHN 2016-09-16T05:50:00.000000 2016-09-16T06:15:00.000000\n",
      "----------------------------------------------------------------------\n"
     ]
    },
    {
     "name": "stderr",
     "output_type": "stream",
     "text": [
      "[2016-09-16 14:05:31,499] - obspy.clients.fdsn.mass_downloader - INFO: Client 'http://165.98.224.52:8081/' - No data available for request.\n"
     ]
    },
    {
     "name": "stdout",
     "output_type": "stream",
     "text": [
      "Downloaded http://165.98.224.52:8081/fdsnws/dataselect/1/query with HTTP code: 204\n",
      "Downloading http://165.98.224.52:8081/fdsnws/dataselect/1/query with requesting gzip compression\n",
      "Sending along the following payload:\n",
      "----------------------------------------------------------------------\n",
      "PC CAZU -- HHZ 2016-09-16T05:50:00.000000 2016-09-16T06:15:00.000000\n",
      "NU ROCN 00 EHE 2016-09-15T05:50:00.000000 2016-09-16T05:50:00.000000\n",
      "----------------------------------------------------------------------\n",
      "Downloaded http://165.98.224.52:8081/fdsnws/dataselect/1/query with HTTP code: 200\n"
     ]
    },
    {
     "name": "stderr",
     "output_type": "stream",
     "text": [
      "[2016-09-16 14:05:48,140] - obspy.clients.fdsn.mass_downloader - INFO: Client 'http://165.98.224.52:8081/' - Successfully downloaded 2 channels (of 2)\n"
     ]
    },
    {
     "name": "stdout",
     "output_type": "stream",
     "text": [
      "Downloading http://165.98.224.52:8081/fdsnws/dataselect/1/query with requesting gzip compression\n",
      "Sending along the following payload:\n",
      "----------------------------------------------------------------------\n",
      "G HDC 00 BHZ 2016-09-15T05:50:00.000000 2016-09-16T05:50:00.000000\n",
      "OV BATAN -- HHZ 2016-09-16T05:50:00.000000 2016-09-16T06:15:00.000000\n",
      "G HDC 00 BHN 2016-09-15T05:50:00.000000 2016-09-16T06:15:00.000000\n",
      "G HDC 00 BHE 2016-09-15T05:50:00.000000 2016-09-16T06:15:00.000000\n",
      "----------------------------------------------------------------------\n"
     ]
    },
    {
     "name": "stderr",
     "output_type": "stream",
     "text": [
      "[2016-09-16 14:05:50,144] - obspy.clients.fdsn.mass_downloader - INFO: Client 'http://165.98.224.52:8081/' - Successfully downloaded 1 channels (of 6)\n"
     ]
    },
    {
     "name": "stdout",
     "output_type": "stream",
     "text": [
      "Downloaded http://165.98.224.52:8081/fdsnws/dataselect/1/query with HTTP code: 200\n",
      "Downloading http://165.98.224.52:8081/fdsnws/dataselect/1/query with requesting gzip compression\n",
      "Sending along the following payload:\n",
      "----------------------------------------------------------------------\n",
      "G HDC 00 BHZ 2016-09-16T05:50:00.000000 2016-09-16T06:15:00.000000\n",
      "PC MLIR -- EHE 2016-09-15T05:50:00.000000 2016-09-16T05:50:00.000000\n",
      "----------------------------------------------------------------------\n"
     ]
    },
    {
     "name": "stderr",
     "output_type": "stream",
     "text": [
      "[2016-09-16 14:05:50,660] - obspy.clients.fdsn.mass_downloader - INFO: Client 'http://165.98.224.52:8081/' - No data available for request.\n"
     ]
    },
    {
     "name": "stdout",
     "output_type": "stream",
     "text": [
      "Downloaded http://165.98.224.52:8081/fdsnws/dataselect/1/query with HTTP code: 204\n",
      "Downloading http://165.98.224.52:8081/fdsnws/dataselect/1/query with requesting gzip compression\n",
      "Sending along the following payload:\n",
      "----------------------------------------------------------------------\n",
      "PC MLIR -- EHE 2016-09-16T05:50:00.000000 2016-09-16T06:15:00.000000\n",
      "PC MLIR -- EHN 2016-09-15T05:50:00.000000 2016-09-16T05:50:00.000000\n",
      "----------------------------------------------------------------------\n"
     ]
    },
    {
     "name": "stderr",
     "output_type": "stream",
     "text": [
      "[2016-09-16 14:05:51,232] - obspy.clients.fdsn.mass_downloader - INFO: Client 'http://165.98.224.52:8081/' - No data available for request.\n"
     ]
    },
    {
     "name": "stdout",
     "output_type": "stream",
     "text": [
      "Downloaded http://165.98.224.52:8081/fdsnws/dataselect/1/query with HTTP code: 204\n",
      "Downloading http://165.98.224.52:8081/fdsnws/dataselect/1/query with requesting gzip compression\n",
      "Sending along the following payload:\n",
      "----------------------------------------------------------------------\n",
      "PC MLIR -- EHN 2016-09-16T05:50:00.000000 2016-09-16T06:15:00.000000\n",
      "PC MLIR -- EHZ 2016-09-15T05:50:00.000000 2016-09-16T05:50:00.000000\n",
      "----------------------------------------------------------------------\n"
     ]
    },
    {
     "name": "stderr",
     "output_type": "stream",
     "text": [
      "[2016-09-16 14:05:51,727] - obspy.clients.fdsn.mass_downloader - INFO: Client 'http://165.98.224.52:8081/' - No data available for request.\n"
     ]
    },
    {
     "name": "stdout",
     "output_type": "stream",
     "text": [
      "Downloaded http://165.98.224.52:8081/fdsnws/dataselect/1/query with HTTP code: 204\n",
      "Downloading http://165.98.224.52:8081/fdsnws/dataselect/1/query with requesting gzip compression\n",
      "Sending along the following payload:\n",
      "----------------------------------------------------------------------\n",
      "NU NADN 00 EHE 2016-09-15T05:50:00.000000 2016-09-16T05:50:00.000000\n",
      "PC MLIR -- EHZ 2016-09-16T05:50:00.000000 2016-09-16T06:15:00.000000\n",
      "----------------------------------------------------------------------\n",
      "Downloaded http://165.98.224.52:8081/fdsnws/dataselect/1/query with HTTP code: 200\n"
     ]
    },
    {
     "name": "stderr",
     "output_type": "stream",
     "text": [
      "[2016-09-16 14:06:23,745] - obspy.clients.fdsn.mass_downloader - INFO: Client 'http://165.98.224.52:8081/' - Successfully downloaded 1 channels (of 2)\n"
     ]
    },
    {
     "name": "stdout",
     "output_type": "stream",
     "text": [
      "Downloading http://165.98.224.52:8081/fdsnws/dataselect/1/query with requesting gzip compression\n",
      "Sending along the following payload:\n",
      "----------------------------------------------------------------------\n",
      "NU ROCN 00 EHN 2016-09-15T05:50:00.000000 2016-09-16T05:50:00.000000\n",
      "NU ROCN 00 EHE 2016-09-16T05:50:00.000000 2016-09-16T06:15:00.000000\n",
      "----------------------------------------------------------------------\n",
      "Downloaded http://165.98.224.52:8081/fdsnws/dataselect/1/query with HTTP code: 200\n",
      "Downloaded http://165.98.224.52:8081/fdsnws/dataselect/1/query with HTTP code: 200\n"
     ]
    },
    {
     "name": "stderr",
     "output_type": "stream",
     "text": [
      "[2016-09-16 14:06:44,381] - obspy.clients.fdsn.mass_downloader - INFO: Client 'http://165.98.224.52:8081/' - Successfully downloaded 1 channels (of 2)\n"
     ]
    },
    {
     "name": "stdout",
     "output_type": "stream",
     "text": [
      "Downloading http://165.98.224.52:8081/fdsnws/dataselect/1/query with requesting gzip compression\n",
      "Sending along the following payload:\n",
      "----------------------------------------------------------------------\n",
      "NU NADN 00 EHN 2016-09-15T05:50:00.000000 2016-09-16T05:50:00.000000\n",
      "NU NADN 00 EHE 2016-09-16T05:50:00.000000 2016-09-16T06:15:00.000000\n",
      "----------------------------------------------------------------------\n"
     ]
    },
    {
     "name": "stderr",
     "output_type": "stream",
     "text": [
      "[2016-09-16 14:06:44,698] - obspy.clients.fdsn.mass_downloader - INFO: Client 'http://165.98.224.52:8081/' - Successfully downloaded 2 channels (of 2)\n"
     ]
    },
    {
     "name": "stdout",
     "output_type": "stream",
     "text": [
      "Downloading http://165.98.224.52:8081/fdsnws/dataselect/1/query with requesting gzip compression\n",
      "Sending along the following payload:\n",
      "----------------------------------------------------------------------\n",
      "OV VIRE -- HHZ 2016-09-16T05:50:00.000000 2016-09-16T06:15:00.000000\n",
      "NU MATN -- HHE 2016-09-15T05:50:00.000000 2016-09-16T05:50:00.000000\n",
      "----------------------------------------------------------------------\n",
      "Downloaded http://165.98.224.52:8081/fdsnws/dataselect/1/query with HTTP code: 200\n"
     ]
    },
    {
     "name": "stderr",
     "output_type": "stream",
     "text": [
      "[2016-09-16 14:07:19,672] - obspy.clients.fdsn.mass_downloader - INFO: Client 'http://165.98.224.52:8081/' - Successfully downloaded 2 channels (of 2)\n"
     ]
    },
    {
     "name": "stdout",
     "output_type": "stream",
     "text": [
      "Downloading http://165.98.224.52:8081/fdsnws/dataselect/1/query with requesting gzip compression\n",
      "Sending along the following payload:\n",
      "----------------------------------------------------------------------\n",
      "NU ROCN 00 EHN 2016-09-16T05:50:00.000000 2016-09-16T06:15:00.000000\n",
      "NU ROCN 00 EHZ 2016-09-15T05:50:00.000000 2016-09-16T05:50:00.000000\n",
      "----------------------------------------------------------------------\n",
      "Downloaded http://165.98.224.52:8081/fdsnws/dataselect/1/query with HTTP code: 200\n"
     ]
    },
    {
     "name": "stderr",
     "output_type": "stream",
     "text": [
      "[2016-09-16 14:07:31,904] - obspy.clients.fdsn.mass_downloader - INFO: Client 'http://165.98.224.52:8081/' - Successfully downloaded 2 channels (of 2)\n"
     ]
    },
    {
     "name": "stdout",
     "output_type": "stream",
     "text": [
      "Downloading http://165.98.224.52:8081/fdsnws/dataselect/1/query with requesting gzip compression\n",
      "Sending along the following payload:\n",
      "----------------------------------------------------------------------\n",
      "NU MATN -- HHN 2016-09-15T05:50:00.000000 2016-09-16T05:50:00.000000\n",
      "NU MATN -- HHE 2016-09-16T05:50:00.000000 2016-09-16T06:15:00.000000\n",
      "----------------------------------------------------------------------\n",
      "Downloaded http://165.98.224.52:8081/fdsnws/dataselect/1/query with HTTP code: 200\n"
     ]
    },
    {
     "name": "stderr",
     "output_type": "stream",
     "text": [
      "[2016-09-16 14:07:47,688] - obspy.clients.fdsn.mass_downloader - INFO: Client 'http://165.98.224.52:8081/' - Successfully downloaded 2 channels (of 2)\n"
     ]
    },
    {
     "name": "stdout",
     "output_type": "stream",
     "text": [
      "Downloading http://165.98.224.52:8081/fdsnws/dataselect/1/query with requesting gzip compression\n",
      "Sending along the following payload:\n",
      "----------------------------------------------------------------------\n",
      "NU NADN 00 EHZ 2016-09-15T05:50:00.000000 2016-09-16T05:50:00.000000\n",
      "NU NADN 00 EHN 2016-09-16T05:50:00.000000 2016-09-16T06:15:00.000000\n",
      "----------------------------------------------------------------------\n",
      "Downloaded http://165.98.224.52:8081/fdsnws/dataselect/1/query with HTTP code: 200\n"
     ]
    },
    {
     "name": "stderr",
     "output_type": "stream",
     "text": [
      "[2016-09-16 14:08:20,099] - obspy.clients.fdsn.mass_downloader - INFO: Client 'http://165.98.224.52:8081/' - Successfully downloaded 2 channels (of 2)\n"
     ]
    },
    {
     "name": "stdout",
     "output_type": "stream",
     "text": [
      "Downloading http://165.98.224.52:8081/fdsnws/dataselect/1/query with requesting gzip compression\n",
      "Sending along the following payload:\n",
      "----------------------------------------------------------------------\n",
      "NU MATN -- HHN 2016-09-16T05:50:00.000000 2016-09-16T06:15:00.000000\n",
      "NU MATN -- HHZ 2016-09-15T05:50:00.000000 2016-09-16T05:50:00.000000\n",
      "----------------------------------------------------------------------\n",
      "Downloaded http://165.98.224.52:8081/fdsnws/dataselect/1/query with HTTP code: 200\n"
     ]
    },
    {
     "name": "stderr",
     "output_type": "stream",
     "text": [
      "[2016-09-16 14:08:28,613] - obspy.clients.fdsn.mass_downloader - INFO: Client 'http://165.98.224.52:8081/' - Successfully downloaded 2 channels (of 2)\n"
     ]
    },
    {
     "name": "stdout",
     "output_type": "stream",
     "text": [
      "Downloading http://165.98.224.52:8081/fdsnws/dataselect/1/query with requesting gzip compression\n",
      "Sending along the following payload:\n",
      "----------------------------------------------------------------------\n",
      "NU JAPN 00 EHE 2016-09-15T05:50:00.000000 2016-09-16T05:50:00.000000\n",
      "NU ROCN 00 EHZ 2016-09-16T05:50:00.000000 2016-09-16T06:15:00.000000\n",
      "----------------------------------------------------------------------\n",
      "Downloaded http://165.98.224.52:8081/fdsnws/dataselect/1/query with HTTP code: 200\n"
     ]
    },
    {
     "name": "stderr",
     "output_type": "stream",
     "text": [
      "[2016-09-16 14:08:48,981] - obspy.clients.fdsn.mass_downloader - INFO: Client 'http://165.98.224.52:8081/' - Successfully downloaded 2 channels (of 2)\n"
     ]
    },
    {
     "name": "stdout",
     "output_type": "stream",
     "text": [
      "Downloading http://165.98.224.52:8081/fdsnws/dataselect/1/query with requesting gzip compression\n",
      "Sending along the following payload:\n",
      "----------------------------------------------------------------------\n",
      "NU NADN 00 EHZ 2016-09-16T05:50:00.000000 2016-09-16T06:15:00.000000\n",
      "OV RIOS -- HHE 2016-09-15T05:50:00.000000 2016-09-16T05:50:00.000000\n",
      "----------------------------------------------------------------------\n"
     ]
    },
    {
     "name": "stderr",
     "output_type": "stream",
     "text": [
      "[2016-09-16 14:08:51,923] - obspy.clients.fdsn.mass_downloader - INFO: Client 'http://165.98.224.52:8081/' - Successfully downloaded 1 channels (of 2)\n"
     ]
    },
    {
     "name": "stdout",
     "output_type": "stream",
     "text": [
      "Downloaded http://165.98.224.52:8081/fdsnws/dataselect/1/query with HTTP code: 200\n",
      "Downloading http://165.98.224.52:8081/fdsnws/dataselect/1/query with requesting gzip compression\n",
      "Sending along the following payload:\n",
      "----------------------------------------------------------------------\n",
      "OV RIOS -- HHE 2016-09-16T05:50:00.000000 2016-09-16T06:15:00.000000\n",
      "OV RIOS -- HHN 2016-09-15T05:50:00.000000 2016-09-16T05:50:00.000000\n",
      "----------------------------------------------------------------------\n"
     ]
    },
    {
     "name": "stderr",
     "output_type": "stream",
     "text": [
      "[2016-09-16 14:08:52,457] - obspy.clients.fdsn.mass_downloader - INFO: Client 'http://165.98.224.52:8081/' - No data available for request.\n"
     ]
    },
    {
     "name": "stdout",
     "output_type": "stream",
     "text": [
      "Downloaded http://165.98.224.52:8081/fdsnws/dataselect/1/query with HTTP code: 204\n",
      "Downloading http://165.98.224.52:8081/fdsnws/dataselect/1/query with requesting gzip compression\n",
      "Sending along the following payload:\n",
      "----------------------------------------------------------------------\n",
      "OV RIOS -- HHZ 2016-09-15T05:50:00.000000 2016-09-16T05:50:00.000000\n",
      "OV RIOS -- HHN 2016-09-16T05:50:00.000000 2016-09-16T06:15:00.000000\n",
      "----------------------------------------------------------------------\n"
     ]
    },
    {
     "name": "stderr",
     "output_type": "stream",
     "text": [
      "[2016-09-16 14:08:53,013] - obspy.clients.fdsn.mass_downloader - INFO: Client 'http://165.98.224.52:8081/' - No data available for request.\n"
     ]
    },
    {
     "name": "stdout",
     "output_type": "stream",
     "text": [
      "Downloaded http://165.98.224.52:8081/fdsnws/dataselect/1/query with HTTP code: 204\n",
      "Downloading http://165.98.224.52:8081/fdsnws/dataselect/1/query with requesting gzip compression\n",
      "Sending along the following payload:\n",
      "----------------------------------------------------------------------\n",
      "TC RGM0 -- HHE 2016-09-16T05:50:00.000000 2016-09-16T06:15:00.000000\n",
      "TC RGM0 -- HHN 2016-09-15T05:50:00.000000 2016-09-16T05:50:00.000000\n",
      "----------------------------------------------------------------------\n",
      "Downloaded http://165.98.224.52:8081/fdsnws/dataselect/1/query with HTTP code: 200\n"
     ]
    },
    {
     "name": "stderr",
     "output_type": "stream",
     "text": [
      "[2016-09-16 14:09:04,155] - obspy.clients.fdsn.mass_downloader - INFO: Client 'http://165.98.224.52:8081/' - Successfully downloaded 2 channels (of 2)\n"
     ]
    },
    {
     "name": "stdout",
     "output_type": "stream",
     "text": [
      "Downloading http://165.98.224.52:8081/fdsnws/dataselect/1/query with requesting gzip compression\n",
      "Sending along the following payload:\n",
      "----------------------------------------------------------------------\n",
      "NU ALTN 00 EHZ 2016-09-15T05:50:00.000000 2016-09-16T05:50:00.000000\n",
      "NU MATN -- HHZ 2016-09-16T05:50:00.000000 2016-09-16T06:15:00.000000\n",
      "----------------------------------------------------------------------\n",
      "Downloaded http://165.98.224.52:8081/fdsnws/dataselect/1/query with HTTP code: 200\n"
     ]
    },
    {
     "name": "stderr",
     "output_type": "stream",
     "text": [
      "[2016-09-16 14:09:18,489] - obspy.clients.fdsn.mass_downloader - INFO: Client 'http://165.98.224.52:8081/' - Successfully downloaded 2 channels (of 2)\n"
     ]
    },
    {
     "name": "stdout",
     "output_type": "stream",
     "text": [
      "Downloading http://165.98.224.52:8081/fdsnws/dataselect/1/query with requesting gzip compression\n",
      "Sending along the following payload:\n",
      "----------------------------------------------------------------------\n",
      "NU JAPN 00 EHE 2016-09-16T05:50:00.000000 2016-09-16T06:15:00.000000\n",
      "NU JAPN 00 EHN 2016-09-15T05:50:00.000000 2016-09-16T05:50:00.000000\n",
      "----------------------------------------------------------------------\n",
      "Downloaded http://165.98.224.52:8081/fdsnws/dataselect/1/query with HTTP code: 200\n"
     ]
    },
    {
     "name": "stderr",
     "output_type": "stream",
     "text": [
      "[2016-09-16 14:09:31,464] - obspy.clients.fdsn.mass_downloader - INFO: Client 'http://165.98.224.52:8081/' - Successfully downloaded 2 channels (of 2)\n"
     ]
    },
    {
     "name": "stdout",
     "output_type": "stream",
     "text": [
      "Downloading http://165.98.224.52:8081/fdsnws/dataselect/1/query with requesting gzip compression\n",
      "Sending along the following payload:\n",
      "----------------------------------------------------------------------\n",
      "NU ALTN 00 EHZ 2016-09-16T05:50:00.000000 2016-09-16T06:15:00.000000\n",
      "NU RCPN -- EHE 2016-09-15T05:50:00.000000 2016-09-16T05:50:00.000000\n",
      "----------------------------------------------------------------------\n",
      "Downloaded http://165.98.224.52:8081/fdsnws/dataselect/1/query with HTTP code: 200\n"
     ]
    },
    {
     "name": "stderr",
     "output_type": "stream",
     "text": [
      "[2016-09-16 14:09:54,101] - obspy.clients.fdsn.mass_downloader - INFO: Client 'http://165.98.224.52:8081/' - Successfully downloaded 2 channels (of 2)\n"
     ]
    },
    {
     "name": "stdout",
     "output_type": "stream",
     "text": [
      "Downloading http://165.98.224.52:8081/fdsnws/dataselect/1/query with requesting gzip compression\n",
      "Sending along the following payload:\n",
      "----------------------------------------------------------------------\n",
      "TC RGM0 -- HHZ 2016-09-15T05:50:00.000000 2016-09-16T05:50:00.000000\n",
      "TC RGM0 -- HHN 2016-09-16T05:50:00.000000 2016-09-16T06:15:00.000000\n",
      "----------------------------------------------------------------------\n",
      "Downloaded http://165.98.224.52:8081/fdsnws/dataselect/1/query with HTTP code: 200\n",
      "Downloaded http://165.98.224.52:8081/fdsnws/dataselect/1/query with HTTP code: 200\n"
     ]
    },
    {
     "name": "stderr",
     "output_type": "stream",
     "text": [
      "[2016-09-16 14:10:04,014] - obspy.clients.fdsn.mass_downloader - INFO: Client 'http://165.98.224.52:8081/' - Successfully downloaded 1 channels (of 2)\n"
     ]
    },
    {
     "name": "stdout",
     "output_type": "stream",
     "text": [
      "Downloading http://165.98.224.52:8081/fdsnws/dataselect/1/query with requesting gzip compression\n",
      "Sending along the following payload:\n",
      "----------------------------------------------------------------------\n",
      "NU RCPN -- EHE 2016-09-16T05:50:00.000000 2016-09-16T06:15:00.000000\n",
      "NU RCPN -- EHN 2016-09-15T05:50:00.000000 2016-09-16T05:50:00.000000\n",
      "----------------------------------------------------------------------\n"
     ]
    },
    {
     "name": "stderr",
     "output_type": "stream",
     "text": [
      "[2016-09-16 14:10:04,690] - obspy.clients.fdsn.mass_downloader - INFO: Client 'http://165.98.224.52:8081/' - Successfully downloaded 2 channels (of 2)\n"
     ]
    },
    {
     "name": "stdout",
     "output_type": "stream",
     "text": [
      "Downloading http://165.98.224.52:8081/fdsnws/dataselect/1/query with requesting gzip compression\n",
      "Sending along the following payload:\n",
      "----------------------------------------------------------------------\n",
      "NU JAPN 00 EHN 2016-09-16T05:50:00.000000 2016-09-16T06:15:00.000000\n",
      "NU JAPN 00 EHZ 2016-09-15T05:50:00.000000 2016-09-16T05:50:00.000000\n",
      "----------------------------------------------------------------------\n",
      "Downloaded http://165.98.224.52:8081/fdsnws/dataselect/1/query with HTTP code: 200\n"
     ]
    },
    {
     "name": "stderr",
     "output_type": "stream",
     "text": [
      "[2016-09-16 14:10:34,552] - obspy.clients.fdsn.mass_downloader - INFO: Client 'http://165.98.224.52:8081/' - Successfully downloaded 2 channels (of 2)\n"
     ]
    },
    {
     "name": "stdout",
     "output_type": "stream",
     "text": [
      "Downloading http://165.98.224.52:8081/fdsnws/dataselect/1/query with requesting gzip compression\n",
      "Sending along the following payload:\n",
      "----------------------------------------------------------------------\n",
      "NU RCPN -- EHZ 2016-09-15T05:50:00.000000 2016-09-16T05:50:00.000000\n",
      "NU RCPN -- EHN 2016-09-16T05:50:00.000000 2016-09-16T06:15:00.000000\n",
      "----------------------------------------------------------------------\n",
      "Downloaded http://165.98.224.52:8081/fdsnws/dataselect/1/query with HTTP code: 200\n",
      "Downloaded http://165.98.224.52:8081/fdsnws/dataselect/1/query with HTTP code: 200\n"
     ]
    },
    {
     "name": "stderr",
     "output_type": "stream",
     "text": [
      "[2016-09-16 14:10:39,425] - obspy.clients.fdsn.mass_downloader - INFO: Client 'http://165.98.224.52:8081/' - Successfully downloaded 2 channels (of 2)\n"
     ]
    },
    {
     "name": "stdout",
     "output_type": "stream",
     "text": [
      "Downloading http://165.98.224.52:8081/fdsnws/dataselect/1/query with requesting gzip compression\n",
      "Sending along the following payload:\n",
      "----------------------------------------------------------------------\n",
      "TC MARA -- HHE 2016-09-15T05:50:00.000000 2016-09-16T05:50:00.000000\n",
      "NU JAPN 00 EHZ 2016-09-16T05:50:00.000000 2016-09-16T06:15:00.000000\n",
      "----------------------------------------------------------------------\n"
     ]
    },
    {
     "name": "stderr",
     "output_type": "stream",
     "text": [
      "[2016-09-16 14:10:40,026] - obspy.clients.fdsn.mass_downloader - INFO: Client 'http://165.98.224.52:8081/' - Successfully downloaded 2 channels (of 2)\n"
     ]
    },
    {
     "name": "stdout",
     "output_type": "stream",
     "text": [
      "Downloading http://165.98.224.52:8081/fdsnws/dataselect/1/query with requesting gzip compression\n",
      "Sending along the following payload:\n",
      "----------------------------------------------------------------------\n",
      "TC RGM0 -- HHZ 2016-09-16T05:50:00.000000 2016-09-16T06:15:00.000000\n",
      "NU HERN -- HHE 2016-09-15T05:50:00.000000 2016-09-16T05:50:00.000000\n",
      "----------------------------------------------------------------------\n"
     ]
    },
    {
     "name": "stderr",
     "output_type": "stream",
     "text": [
      "[2016-09-16 14:10:46,501] - obspy.clients.fdsn.mass_downloader - INFO: Client 'http://165.98.224.52:8081/' - Successfully downloaded 1 channels (of 2)\n"
     ]
    },
    {
     "name": "stdout",
     "output_type": "stream",
     "text": [
      "Downloaded http://165.98.224.52:8081/fdsnws/dataselect/1/query with HTTP code: 200\n",
      "Downloading http://165.98.224.52:8081/fdsnws/dataselect/1/query with requesting gzip compression\n",
      "Sending along the following payload:\n",
      "----------------------------------------------------------------------\n",
      "TC MARA -- HHN 2016-09-15T05:50:00.000000 2016-09-16T05:50:00.000000\n",
      "TC MARA -- HHE 2016-09-16T05:50:00.000000 2016-09-16T06:15:00.000000\n",
      "----------------------------------------------------------------------\n"
     ]
    },
    {
     "name": "stderr",
     "output_type": "stream",
     "text": [
      "[2016-09-16 14:10:46,963] - obspy.clients.fdsn.mass_downloader - INFO: Client 'http://165.98.224.52:8081/' - No data available for request.\n"
     ]
    },
    {
     "name": "stdout",
     "output_type": "stream",
     "text": [
      "Downloaded http://165.98.224.52:8081/fdsnws/dataselect/1/query with HTTP code: 204\n",
      "Downloading http://165.98.224.52:8081/fdsnws/dataselect/1/query with requesting gzip compression\n",
      "Sending along the following payload:\n",
      "----------------------------------------------------------------------\n",
      "TC MARA -- HHN 2016-09-16T05:50:00.000000 2016-09-16T06:15:00.000000\n",
      "TC MARA -- HHZ 2016-09-15T05:50:00.000000 2016-09-16T05:50:00.000000\n",
      "----------------------------------------------------------------------\n"
     ]
    },
    {
     "name": "stderr",
     "output_type": "stream",
     "text": [
      "[2016-09-16 14:10:47,479] - obspy.clients.fdsn.mass_downloader - INFO: Client 'http://165.98.224.52:8081/' - No data available for request.\n"
     ]
    },
    {
     "name": "stdout",
     "output_type": "stream",
     "text": [
      "Downloaded http://165.98.224.52:8081/fdsnws/dataselect/1/query with HTTP code: 204\n",
      "Downloading http://165.98.224.52:8081/fdsnws/dataselect/1/query with requesting gzip compression\n",
      "Sending along the following payload:\n",
      "----------------------------------------------------------------------\n",
      "OV PJIM -- HHE 2016-09-15T05:50:00.000000 2016-09-16T05:50:00.000000\n",
      "TC MARA -- HHZ 2016-09-16T05:50:00.000000 2016-09-16T06:15:00.000000\n",
      "----------------------------------------------------------------------\n"
     ]
    },
    {
     "name": "stderr",
     "output_type": "stream",
     "text": [
      "[2016-09-16 14:10:47,990] - obspy.clients.fdsn.mass_downloader - INFO: Client 'http://165.98.224.52:8081/' - No data available for request.\n"
     ]
    },
    {
     "name": "stdout",
     "output_type": "stream",
     "text": [
      "Downloaded http://165.98.224.52:8081/fdsnws/dataselect/1/query with HTTP code: 204\n",
      "Downloading http://165.98.224.52:8081/fdsnws/dataselect/1/query with requesting gzip compression\n",
      "Sending along the following payload:\n",
      "----------------------------------------------------------------------\n",
      "OV PJIM -- HHE 2016-09-16T05:50:00.000000 2016-09-16T06:15:00.000000\n",
      "OV PJIM -- HHN 2016-09-15T05:50:00.000000 2016-09-16T05:50:00.000000\n",
      "----------------------------------------------------------------------\n"
     ]
    },
    {
     "name": "stderr",
     "output_type": "stream",
     "text": [
      "[2016-09-16 14:10:48,527] - obspy.clients.fdsn.mass_downloader - INFO: Client 'http://165.98.224.52:8081/' - No data available for request.\n"
     ]
    },
    {
     "name": "stdout",
     "output_type": "stream",
     "text": [
      "Downloaded http://165.98.224.52:8081/fdsnws/dataselect/1/query with HTTP code: 204\n",
      "Downloading http://165.98.224.52:8081/fdsnws/dataselect/1/query with requesting gzip compression\n",
      "Sending along the following payload:\n",
      "----------------------------------------------------------------------\n",
      "OV PJIM -- HHN 2016-09-16T05:50:00.000000 2016-09-16T06:15:00.000000\n",
      "OV PJIM -- HHZ 2016-09-15T05:50:00.000000 2016-09-16T05:50:00.000000\n",
      "----------------------------------------------------------------------\n"
     ]
    },
    {
     "name": "stderr",
     "output_type": "stream",
     "text": [
      "[2016-09-16 14:10:49,107] - obspy.clients.fdsn.mass_downloader - INFO: Client 'http://165.98.224.52:8081/' - No data available for request.\n"
     ]
    },
    {
     "name": "stdout",
     "output_type": "stream",
     "text": [
      "Downloaded http://165.98.224.52:8081/fdsnws/dataselect/1/query with HTTP code: 204\n",
      "Downloading http://165.98.224.52:8081/fdsnws/dataselect/1/query with requesting gzip compression\n",
      "Sending along the following payload:\n",
      "----------------------------------------------------------------------\n",
      "OV SRBA -- HHE 2016-09-15T05:50:00.000000 2016-09-16T05:50:00.000000\n",
      "OV PJIM -- HHZ 2016-09-16T05:50:00.000000 2016-09-16T06:15:00.000000\n",
      "----------------------------------------------------------------------\n",
      "Downloaded http://165.98.224.52:8081/fdsnws/dataselect/1/query with HTTP code: 200\n"
     ]
    },
    {
     "name": "stderr",
     "output_type": "stream",
     "text": [
      "[2016-09-16 14:11:03,606] - obspy.clients.fdsn.mass_downloader - INFO: Client 'http://165.98.224.52:8081/' - Successfully downloaded 2 channels (of 2)\n"
     ]
    },
    {
     "name": "stdout",
     "output_type": "stream",
     "text": [
      "Downloading http://165.98.224.52:8081/fdsnws/dataselect/1/query with requesting gzip compression\n",
      "Sending along the following payload:\n",
      "----------------------------------------------------------------------\n",
      "OV COVE -- HHE 2016-09-15T05:50:00.000000 2016-09-16T05:50:00.000000\n",
      "NU RCPN -- EHZ 2016-09-16T05:50:00.000000 2016-09-16T06:15:00.000000\n",
      "----------------------------------------------------------------------\n",
      "Downloaded http://165.98.224.52:8081/fdsnws/dataselect/1/query with HTTP code: 200\n"
     ]
    },
    {
     "name": "stderr",
     "output_type": "stream",
     "text": [
      "[2016-09-16 14:11:29,788] - obspy.clients.fdsn.mass_downloader - INFO: Client 'http://165.98.224.52:8081/' - Successfully downloaded 2 channels (of 2)\n"
     ]
    },
    {
     "name": "stdout",
     "output_type": "stream",
     "text": [
      "Downloading http://165.98.224.52:8081/fdsnws/dataselect/1/query with requesting gzip compression\n",
      "Sending along the following payload:\n",
      "----------------------------------------------------------------------\n",
      "NU HERN -- HHN 2016-09-15T05:50:00.000000 2016-09-16T05:50:00.000000\n",
      "NU HERN -- HHE 2016-09-16T05:50:00.000000 2016-09-16T06:15:00.000000\n",
      "----------------------------------------------------------------------\n",
      "Downloaded http://165.98.224.52:8081/fdsnws/dataselect/1/query with HTTP code: 200\n"
     ]
    },
    {
     "name": "stderr",
     "output_type": "stream",
     "text": [
      "[2016-09-16 14:11:39,391] - obspy.clients.fdsn.mass_downloader - INFO: Client 'http://165.98.224.52:8081/' - Successfully downloaded 1 channels (of 2)\n"
     ]
    },
    {
     "name": "stdout",
     "output_type": "stream",
     "text": [
      "Downloading http://165.98.224.52:8081/fdsnws/dataselect/1/query with requesting gzip compression\n",
      "Sending along the following payload:\n",
      "----------------------------------------------------------------------\n",
      "OV SRBA -- HHN 2016-09-15T05:50:00.000000 2016-09-16T05:50:00.000000\n",
      "OV SRBA -- HHE 2016-09-16T05:50:00.000000 2016-09-16T06:15:00.000000\n",
      "----------------------------------------------------------------------\n",
      "Downloaded http://165.98.224.52:8081/fdsnws/dataselect/1/query with HTTP code: 200\n"
     ]
    },
    {
     "name": "stderr",
     "output_type": "stream",
     "text": [
      "[2016-09-16 14:12:08,343] - obspy.clients.fdsn.mass_downloader - INFO: Client 'http://165.98.224.52:8081/' - Successfully downloaded 2 channels (of 2)\n"
     ]
    },
    {
     "name": "stdout",
     "output_type": "stream",
     "text": [
      "Downloading http://165.98.224.52:8081/fdsnws/dataselect/1/query with requesting gzip compression\n",
      "Sending along the following payload:\n",
      "----------------------------------------------------------------------\n",
      "OV COVE -- HHE 2016-09-16T05:50:00.000000 2016-09-16T06:15:00.000000\n",
      "OV COVE -- HHN 2016-09-15T05:50:00.000000 2016-09-16T05:50:00.000000\n",
      "----------------------------------------------------------------------\n",
      "Downloaded http://165.98.224.52:8081/fdsnws/dataselect/1/query with HTTP code: 200\n"
     ]
    },
    {
     "name": "stderr",
     "output_type": "stream",
     "text": [
      "[2016-09-16 14:12:20,521] - obspy.clients.fdsn.mass_downloader - INFO: Client 'http://165.98.224.52:8081/' - Successfully downloaded 2 channels (of 2)\n"
     ]
    },
    {
     "name": "stdout",
     "output_type": "stream",
     "text": [
      "Downloading http://165.98.224.52:8081/fdsnws/dataselect/1/query with requesting gzip compression\n",
      "Sending along the following payload:\n",
      "----------------------------------------------------------------------\n",
      "NU HERN -- HHN 2016-09-16T05:50:00.000000 2016-09-16T06:15:00.000000\n",
      "NU HERN -- HHZ 2016-09-15T05:50:00.000000 2016-09-16T05:50:00.000000\n",
      "----------------------------------------------------------------------\n",
      "Downloaded http://165.98.224.52:8081/fdsnws/dataselect/1/query with HTTP code: 200\n"
     ]
    },
    {
     "name": "stderr",
     "output_type": "stream",
     "text": [
      "[2016-09-16 14:12:32,476] - obspy.clients.fdsn.mass_downloader - INFO: Client 'http://165.98.224.52:8081/' - Successfully downloaded 2 channels (of 2)\n"
     ]
    },
    {
     "name": "stdout",
     "output_type": "stream",
     "text": [
      "Downloading http://165.98.224.52:8081/fdsnws/dataselect/1/query with requesting gzip compression\n",
      "Sending along the following payload:\n",
      "----------------------------------------------------------------------\n",
      "OV SRBA -- HHZ 2016-09-15T05:50:00.000000 2016-09-16T05:50:00.000000\n",
      "OV SRBA -- HHN 2016-09-16T05:50:00.000000 2016-09-16T06:15:00.000000\n",
      "----------------------------------------------------------------------\n",
      "Downloaded http://165.98.224.52:8081/fdsnws/dataselect/1/query with HTTP code: 200\n"
     ]
    },
    {
     "name": "stderr",
     "output_type": "stream",
     "text": [
      "[2016-09-16 14:12:53,805] - obspy.clients.fdsn.mass_downloader - INFO: Client 'http://165.98.224.52:8081/' - Successfully downloaded 2 channels (of 2)\n"
     ]
    },
    {
     "name": "stdout",
     "output_type": "stream",
     "text": [
      "Downloading http://165.98.224.52:8081/fdsnws/dataselect/1/query with requesting gzip compression\n",
      "Sending along the following payload:\n",
      "----------------------------------------------------------------------\n",
      "OV COVE -- HHZ 2016-09-15T05:50:00.000000 2016-09-16T05:50:00.000000\n",
      "OV COVE -- HHN 2016-09-16T05:50:00.000000 2016-09-16T06:15:00.000000\n",
      "----------------------------------------------------------------------\n",
      "Downloaded http://165.98.224.52:8081/fdsnws/dataselect/1/query with HTTP code: 200\n",
      "Downloaded http://165.98.224.52:8081/fdsnws/dataselect/1/query with HTTP code: 200\n"
     ]
    },
    {
     "name": "stderr",
     "output_type": "stream",
     "text": [
      "[2016-09-16 14:13:14,058] - obspy.clients.fdsn.mass_downloader - INFO: Client 'http://165.98.224.52:8081/' - Successfully downloaded 2 channels (of 2)\n"
     ]
    },
    {
     "name": "stdout",
     "output_type": "stream",
     "text": [
      "Downloading http://165.98.224.52:8081/fdsnws/dataselect/1/query with requesting gzip compression\n",
      "Sending along the following payload:\n",
      "----------------------------------------------------------------------\n",
      "NU HERN -- HHZ 2016-09-16T05:50:00.000000 2016-09-16T06:15:00.000000\n",
      "HN AMPH -- EHE 2016-09-15T05:50:00.000000 2016-09-16T05:50:00.000000\n",
      "----------------------------------------------------------------------\n"
     ]
    },
    {
     "name": "stderr",
     "output_type": "stream",
     "text": [
      "[2016-09-16 14:13:14,555] - obspy.clients.fdsn.mass_downloader - INFO: Client 'http://165.98.224.52:8081/' - Successfully downloaded 2 channels (of 2)\n"
     ]
    },
    {
     "name": "stdout",
     "output_type": "stream",
     "text": [
      "Downloading http://165.98.224.52:8081/fdsnws/dataselect/1/query with requesting gzip compression\n",
      "Sending along the following payload:\n",
      "----------------------------------------------------------------------\n",
      "OV SRBA -- HHZ 2016-09-16T05:50:00.000000 2016-09-16T06:15:00.000000\n",
      "TC RGM0 -- HHE 2016-09-15T05:50:00.000000 2016-09-16T05:50:00.000000\n",
      "----------------------------------------------------------------------\n"
     ]
    },
    {
     "name": "stderr",
     "output_type": "stream",
     "text": [
      "[2016-09-16 14:13:19,797] - obspy.clients.fdsn.mass_downloader - INFO: Client 'http://165.98.224.52:8081/' - Successfully downloaded 1 channels (of 2)\n"
     ]
    },
    {
     "name": "stdout",
     "output_type": "stream",
     "text": [
      "Downloaded http://165.98.224.52:8081/fdsnws/dataselect/1/query with HTTP code: 200\n",
      "Downloading http://165.98.224.52:8081/fdsnws/dataselect/1/query with requesting gzip compression\n",
      "Sending along the following payload:\n",
      "----------------------------------------------------------------------\n",
      "HN AMPH -- EHN 2016-09-15T05:50:00.000000 2016-09-16T05:50:00.000000\n",
      "HN AMPH -- EHE 2016-09-16T05:50:00.000000 2016-09-16T06:15:00.000000\n",
      "----------------------------------------------------------------------\n"
     ]
    },
    {
     "name": "stderr",
     "output_type": "stream",
     "text": [
      "[2016-09-16 14:13:20,294] - obspy.clients.fdsn.mass_downloader - INFO: Client 'http://165.98.224.52:8081/' - No data available for request.\n"
     ]
    },
    {
     "name": "stdout",
     "output_type": "stream",
     "text": [
      "Downloaded http://165.98.224.52:8081/fdsnws/dataselect/1/query with HTTP code: 204\n",
      "Downloading http://165.98.224.52:8081/fdsnws/dataselect/1/query with requesting gzip compression\n",
      "Sending along the following payload:\n",
      "----------------------------------------------------------------------\n",
      "HN AMPH -- EHZ 2016-09-15T05:50:00.000000 2016-09-16T05:50:00.000000\n",
      "HN AMPH -- EHN 2016-09-16T05:50:00.000000 2016-09-16T06:15:00.000000\n",
      "----------------------------------------------------------------------\n"
     ]
    },
    {
     "name": "stderr",
     "output_type": "stream",
     "text": [
      "[2016-09-16 14:13:20,797] - obspy.clients.fdsn.mass_downloader - INFO: Client 'http://165.98.224.52:8081/' - No data available for request.\n"
     ]
    },
    {
     "name": "stdout",
     "output_type": "stream",
     "text": [
      "Downloaded http://165.98.224.52:8081/fdsnws/dataselect/1/query with HTTP code: 204\n",
      "Downloading http://165.98.224.52:8081/fdsnws/dataselect/1/query with requesting gzip compression\n",
      "Sending along the following payload:\n",
      "----------------------------------------------------------------------\n",
      "HN AMPH -- EHZ 2016-09-16T05:50:00.000000 2016-09-16T06:15:00.000000\n",
      "NU CSAN -- HHE 2016-09-15T05:50:00.000000 2016-09-16T05:50:00.000000\n",
      "----------------------------------------------------------------------\n"
     ]
    },
    {
     "name": "stderr",
     "output_type": "stream",
     "text": [
      "[2016-09-16 14:13:21,346] - obspy.clients.fdsn.mass_downloader - INFO: Client 'http://165.98.224.52:8081/' - No data available for request.\n"
     ]
    },
    {
     "name": "stdout",
     "output_type": "stream",
     "text": [
      "Downloaded http://165.98.224.52:8081/fdsnws/dataselect/1/query with HTTP code: 204\n",
      "Downloading http://165.98.224.52:8081/fdsnws/dataselect/1/query with requesting gzip compression\n",
      "Sending along the following payload:\n",
      "----------------------------------------------------------------------\n",
      "NU CSAN -- HHN 2016-09-15T05:50:00.000000 2016-09-16T05:50:00.000000\n",
      "NU CSAN -- HHE 2016-09-16T05:50:00.000000 2016-09-16T06:15:00.000000\n",
      "----------------------------------------------------------------------\n"
     ]
    },
    {
     "name": "stderr",
     "output_type": "stream",
     "text": [
      "[2016-09-16 14:13:21,991] - obspy.clients.fdsn.mass_downloader - INFO: Client 'http://165.98.224.52:8081/' - No data available for request.\n"
     ]
    },
    {
     "name": "stdout",
     "output_type": "stream",
     "text": [
      "Downloaded http://165.98.224.52:8081/fdsnws/dataselect/1/query with HTTP code: 204\n",
      "Downloading http://165.98.224.52:8081/fdsnws/dataselect/1/query with requesting gzip compression\n",
      "Sending along the following payload:\n",
      "----------------------------------------------------------------------\n",
      "NU CSAN -- HHZ 2016-09-15T05:50:00.000000 2016-09-16T05:50:00.000000\n",
      "NU CSAN -- HHN 2016-09-16T05:50:00.000000 2016-09-16T06:15:00.000000\n",
      "----------------------------------------------------------------------\n"
     ]
    },
    {
     "name": "stderr",
     "output_type": "stream",
     "text": [
      "[2016-09-16 14:13:22,608] - obspy.clients.fdsn.mass_downloader - INFO: Client 'http://165.98.224.52:8081/' - No data available for request.\n"
     ]
    },
    {
     "name": "stdout",
     "output_type": "stream",
     "text": [
      "Downloaded http://165.98.224.52:8081/fdsnws/dataselect/1/query with HTTP code: 204\n",
      "Downloading http://165.98.224.52:8081/fdsnws/dataselect/1/query with requesting gzip compression\n",
      "Sending along the following payload:\n",
      "----------------------------------------------------------------------\n",
      "NU CSAN -- HHZ 2016-09-16T05:50:00.000000 2016-09-16T06:15:00.000000\n",
      "NU PMON 00 EHE 2016-09-15T05:50:00.000000 2016-09-16T05:50:00.000000\n",
      "----------------------------------------------------------------------\n"
     ]
    },
    {
     "name": "stderr",
     "output_type": "stream",
     "text": [
      "[2016-09-16 14:13:23,244] - obspy.clients.fdsn.mass_downloader - INFO: Client 'http://165.98.224.52:8081/' - No data available for request.\n"
     ]
    },
    {
     "name": "stdout",
     "output_type": "stream",
     "text": [
      "Downloaded http://165.98.224.52:8081/fdsnws/dataselect/1/query with HTTP code: 204\n",
      "Downloading http://165.98.224.52:8081/fdsnws/dataselect/1/query with requesting gzip compression\n",
      "Sending along the following payload:\n",
      "----------------------------------------------------------------------\n",
      "NU PMON 00 EHN 2016-09-15T05:50:00.000000 2016-09-16T05:50:00.000000\n",
      "NU PMON 00 EHE 2016-09-16T05:50:00.000000 2016-09-16T06:15:00.000000\n",
      "----------------------------------------------------------------------\n"
     ]
    },
    {
     "name": "stderr",
     "output_type": "stream",
     "text": [
      "[2016-09-16 14:13:23,973] - obspy.clients.fdsn.mass_downloader - INFO: Client 'http://165.98.224.52:8081/' - No data available for request.\n"
     ]
    },
    {
     "name": "stdout",
     "output_type": "stream",
     "text": [
      "Downloaded http://165.98.224.52:8081/fdsnws/dataselect/1/query with HTTP code: 204\n",
      "Downloading http://165.98.224.52:8081/fdsnws/dataselect/1/query with requesting gzip compression\n",
      "Sending along the following payload:\n",
      "----------------------------------------------------------------------\n",
      "NU PMON 00 EHZ 2016-09-15T05:50:00.000000 2016-09-16T05:50:00.000000\n",
      "NU PMON 00 EHN 2016-09-16T05:50:00.000000 2016-09-16T06:15:00.000000\n",
      "----------------------------------------------------------------------\n"
     ]
    },
    {
     "name": "stderr",
     "output_type": "stream",
     "text": [
      "[2016-09-16 14:13:24,582] - obspy.clients.fdsn.mass_downloader - INFO: Client 'http://165.98.224.52:8081/' - No data available for request.\n"
     ]
    },
    {
     "name": "stdout",
     "output_type": "stream",
     "text": [
      "Downloaded http://165.98.224.52:8081/fdsnws/dataselect/1/query with HTTP code: 204\n",
      "Downloading http://165.98.224.52:8081/fdsnws/dataselect/1/query with requesting gzip compression\n",
      "Sending along the following payload:\n",
      "----------------------------------------------------------------------\n",
      "NU PMON 00 EHZ 2016-09-16T05:50:00.000000 2016-09-16T06:15:00.000000\n",
      "NU PACN 00 EHE 2016-09-15T05:50:00.000000 2016-09-16T05:50:00.000000\n",
      "----------------------------------------------------------------------\n",
      "Downloaded http://165.98.224.52:8081/fdsnws/dataselect/1/query with HTTP code: 200\n"
     ]
    },
    {
     "name": "stderr",
     "output_type": "stream",
     "text": [
      "[2016-09-16 14:13:43,184] - obspy.clients.fdsn.mass_downloader - INFO: Client 'http://165.98.224.52:8081/' - Successfully downloaded 2 channels (of 2)\n"
     ]
    },
    {
     "name": "stdout",
     "output_type": "stream",
     "text": [
      "Downloading http://165.98.224.52:8081/fdsnws/dataselect/1/query with requesting gzip compression\n",
      "Sending along the following payload:\n",
      "----------------------------------------------------------------------\n",
      "OV COVE -- HHZ 2016-09-16T05:50:00.000000 2016-09-16T06:15:00.000000\n",
      "PC FLAM -- EHE 2016-09-15T05:50:00.000000 2016-09-16T05:50:00.000000\n",
      "----------------------------------------------------------------------\n"
     ]
    },
    {
     "name": "stderr",
     "output_type": "stream",
     "text": [
      "[2016-09-16 14:13:45,123] - obspy.clients.fdsn.mass_downloader - INFO: Client 'http://165.98.224.52:8081/' - Successfully downloaded 1 channels (of 2)\n"
     ]
    },
    {
     "name": "stdout",
     "output_type": "stream",
     "text": [
      "Downloaded http://165.98.224.52:8081/fdsnws/dataselect/1/query with HTTP code: 200\n",
      "Downloading http://165.98.224.52:8081/fdsnws/dataselect/1/query with requesting gzip compression\n",
      "Sending along the following payload:\n",
      "----------------------------------------------------------------------\n",
      "PC FLAM -- EHN 2016-09-15T05:50:00.000000 2016-09-16T05:50:00.000000\n",
      "PC FLAM -- EHE 2016-09-16T05:50:00.000000 2016-09-16T06:15:00.000000\n",
      "----------------------------------------------------------------------\n"
     ]
    },
    {
     "name": "stderr",
     "output_type": "stream",
     "text": [
      "[2016-09-16 14:13:45,627] - obspy.clients.fdsn.mass_downloader - INFO: Client 'http://165.98.224.52:8081/' - No data available for request.\n"
     ]
    },
    {
     "name": "stdout",
     "output_type": "stream",
     "text": [
      "Downloaded http://165.98.224.52:8081/fdsnws/dataselect/1/query with HTTP code: 204\n",
      "Downloading http://165.98.224.52:8081/fdsnws/dataselect/1/query with requesting gzip compression\n",
      "Sending along the following payload:\n",
      "----------------------------------------------------------------------\n",
      "OV SAJU -- HHZ 2016-09-16T05:50:00.000000 2016-09-16T06:15:00.000000\n",
      "TC VPS5 -- HHE 2016-09-15T05:50:00.000000 2016-09-16T05:50:00.000000\n",
      "----------------------------------------------------------------------\n"
     ]
    },
    {
     "name": "stderr",
     "output_type": "stream",
     "text": [
      "[2016-09-16 14:13:47,096] - obspy.clients.fdsn.mass_downloader - INFO: Client 'http://165.98.224.52:8081/' - Successfully downloaded 1 channels (of 2)\n"
     ]
    },
    {
     "name": "stdout",
     "output_type": "stream",
     "text": [
      "Downloaded http://165.98.224.52:8081/fdsnws/dataselect/1/query with HTTP code: 200\n",
      "Downloading http://165.98.224.52:8081/fdsnws/dataselect/1/query with requesting gzip compression\n",
      "Sending along the following payload:\n",
      "----------------------------------------------------------------------\n",
      "TC VPS5 -- HHN 2016-09-15T05:50:00.000000 2016-09-16T05:50:00.000000\n",
      "TC VPS5 -- HHE 2016-09-16T05:50:00.000000 2016-09-16T06:15:00.000000\n",
      "----------------------------------------------------------------------\n"
     ]
    },
    {
     "name": "stderr",
     "output_type": "stream",
     "text": [
      "[2016-09-16 14:13:47,722] - obspy.clients.fdsn.mass_downloader - INFO: Client 'http://165.98.224.52:8081/' - No data available for request.\n"
     ]
    },
    {
     "name": "stdout",
     "output_type": "stream",
     "text": [
      "Downloaded http://165.98.224.52:8081/fdsnws/dataselect/1/query with HTTP code: 204\n",
      "Downloading http://165.98.224.52:8081/fdsnws/dataselect/1/query with requesting gzip compression\n",
      "Sending along the following payload:\n",
      "----------------------------------------------------------------------\n",
      "TC VPS5 -- HHN 2016-09-16T05:50:00.000000 2016-09-16T06:15:00.000000\n",
      "TC VPS5 -- HHZ 2016-09-15T05:50:00.000000 2016-09-16T05:50:00.000000\n",
      "----------------------------------------------------------------------\n"
     ]
    },
    {
     "name": "stderr",
     "output_type": "stream",
     "text": [
      "[2016-09-16 14:13:48,219] - obspy.clients.fdsn.mass_downloader - INFO: Client 'http://165.98.224.52:8081/' - No data available for request.\n"
     ]
    },
    {
     "name": "stdout",
     "output_type": "stream",
     "text": [
      "Downloaded http://165.98.224.52:8081/fdsnws/dataselect/1/query with HTTP code: 200\n",
      "Downloaded http://165.98.224.52:8081/fdsnws/dataselect/1/query with HTTP code: 204\n",
      "Downloading http://165.98.224.52:8081/fdsnws/dataselect/1/query with requesting gzip compression\n",
      "Sending along the following payload:\n",
      "----------------------------------------------------------------------\n",
      "TC VPS5 -- HHZ 2016-09-16T05:50:00.000000 2016-09-16T06:15:00.000000\n",
      "HN YORH -- EHE 2016-09-15T05:50:00.000000 2016-09-16T05:50:00.000000\n",
      "----------------------------------------------------------------------\n"
     ]
    },
    {
     "name": "stderr",
     "output_type": "stream",
     "text": [
      "[2016-09-16 14:13:48,718] - obspy.clients.fdsn.mass_downloader - INFO: Client 'http://165.98.224.52:8081/' - No data available for request.\n"
     ]
    },
    {
     "name": "stdout",
     "output_type": "stream",
     "text": [
      "Downloaded http://165.98.224.52:8081/fdsnws/dataselect/1/query with HTTP code: 204\n",
      "Downloading http://165.98.224.52:8081/fdsnws/dataselect/1/query with requesting gzip compression\n",
      "Sending along the following payload:\n",
      "----------------------------------------------------------------------\n",
      "HN YORH -- EHN 2016-09-15T05:50:00.000000 2016-09-16T05:50:00.000000\n",
      "HN YORH -- EHE 2016-09-16T05:50:00.000000 2016-09-16T06:15:00.000000\n",
      "----------------------------------------------------------------------\n"
     ]
    },
    {
     "name": "stderr",
     "output_type": "stream",
     "text": [
      "[2016-09-16 14:13:49,214] - obspy.clients.fdsn.mass_downloader - INFO: Client 'http://165.98.224.52:8081/' - No data available for request.\n"
     ]
    },
    {
     "name": "stdout",
     "output_type": "stream",
     "text": [
      "Downloaded http://165.98.224.52:8081/fdsnws/dataselect/1/query with HTTP code: 204\n",
      "Downloading http://165.98.224.52:8081/fdsnws/dataselect/1/query with requesting gzip compression\n",
      "Sending along the following payload:\n",
      "----------------------------------------------------------------------\n",
      "HN YORH -- EHZ 2016-09-15T05:50:00.000000 2016-09-16T05:50:00.000000\n",
      "HN YORH -- EHN 2016-09-16T05:50:00.000000 2016-09-16T06:15:00.000000\n",
      "----------------------------------------------------------------------\n"
     ]
    },
    {
     "name": "stderr",
     "output_type": "stream",
     "text": [
      "[2016-09-16 14:13:49,690] - obspy.clients.fdsn.mass_downloader - INFO: Client 'http://165.98.224.52:8081/' - No data available for request.\n"
     ]
    },
    {
     "name": "stdout",
     "output_type": "stream",
     "text": [
      "Downloaded http://165.98.224.52:8081/fdsnws/dataselect/1/query with HTTP code: 204\n",
      "Downloading http://165.98.224.52:8081/fdsnws/dataselect/1/query with requesting gzip compression\n",
      "Sending along the following payload:\n",
      "----------------------------------------------------------------------\n",
      "HN YORH -- EHZ 2016-09-16T05:50:00.000000 2016-09-16T06:15:00.000000\n",
      "NU SIX9 00 EHE 2016-09-15T05:50:00.000000 2016-09-16T05:50:00.000000\n",
      "----------------------------------------------------------------------\n"
     ]
    },
    {
     "name": "stderr",
     "output_type": "stream",
     "text": [
      "[2016-09-16 14:13:50,226] - obspy.clients.fdsn.mass_downloader - INFO: Client 'http://165.98.224.52:8081/' - No data available for request.\n"
     ]
    },
    {
     "name": "stdout",
     "output_type": "stream",
     "text": [
      "Downloaded http://165.98.224.52:8081/fdsnws/dataselect/1/query with HTTP code: 204\n",
      "Downloading http://165.98.224.52:8081/fdsnws/dataselect/1/query with requesting gzip compression\n",
      "Sending along the following payload:\n",
      "----------------------------------------------------------------------\n",
      "NU SIX9 00 EHE 2016-09-16T05:50:00.000000 2016-09-16T06:15:00.000000\n",
      "NU SIX9 00 EHN 2016-09-15T05:50:00.000000 2016-09-16T05:50:00.000000\n",
      "----------------------------------------------------------------------\n"
     ]
    },
    {
     "name": "stderr",
     "output_type": "stream",
     "text": [
      "[2016-09-16 14:13:50,619] - obspy.clients.fdsn.mass_downloader - INFO: Client 'http://165.98.224.52:8081/' - Successfully downloaded 2 channels (of 2)\n",
      "[2016-09-16 14:13:50,786] - obspy.clients.fdsn.mass_downloader - INFO: Client 'http://165.98.224.52:8081/' - No data available for request.\n"
     ]
    },
    {
     "name": "stdout",
     "output_type": "stream",
     "text": [
      "Downloading http://165.98.224.52:8081/fdsnws/dataselect/1/query with requesting gzip compression\n",
      "Sending along the following payload:\n",
      "----------------------------------------------------------------------\n",
      "NU SJON 10 EHE 2016-09-15T05:50:00.000000 2016-09-16T05:50:00.000000\n",
      "PA BRU2 -- HHZ 2016-09-16T05:50:00.000000 2016-09-16T06:15:00.000000\n",
      "----------------------------------------------------------------------\n",
      "Downloaded http://165.98.224.52:8081/fdsnws/dataselect/1/query with HTTP code: 204\n",
      "Downloading http://165.98.224.52:8081/fdsnws/dataselect/1/query with requesting gzip compression\n",
      "Sending along the following payload:\n",
      "----------------------------------------------------------------------\n",
      "NU SIX9 00 EHZ 2016-09-15T05:50:00.000000 2016-09-16T05:50:00.000000\n",
      "NU SIX9 00 EHN 2016-09-16T05:50:00.000000 2016-09-16T06:15:00.000000\n",
      "----------------------------------------------------------------------\n"
     ]
    },
    {
     "name": "stderr",
     "output_type": "stream",
     "text": [
      "[2016-09-16 14:13:51,711] - obspy.clients.fdsn.mass_downloader - INFO: Client 'http://165.98.224.52:8081/' - No data available for request.\n"
     ]
    },
    {
     "name": "stdout",
     "output_type": "stream",
     "text": [
      "Downloaded http://165.98.224.52:8081/fdsnws/dataselect/1/query with HTTP code: 204\n",
      "Downloading http://165.98.224.52:8081/fdsnws/dataselect/1/query with requesting gzip compression\n",
      "Sending along the following payload:\n",
      "----------------------------------------------------------------------\n",
      "NU SIX9 00 EHZ 2016-09-16T05:50:00.000000 2016-09-16T06:15:00.000000\n",
      "OV PEZE -- HHE 2016-09-15T05:50:00.000000 2016-09-16T05:50:00.000000\n",
      "----------------------------------------------------------------------\n"
     ]
    },
    {
     "name": "stderr",
     "output_type": "stream",
     "text": [
      "[2016-09-16 14:13:55,970] - obspy.clients.fdsn.mass_downloader - INFO: Client 'http://165.98.224.52:8081/' - Successfully downloaded 1 channels (of 2)\n"
     ]
    },
    {
     "name": "stdout",
     "output_type": "stream",
     "text": [
      "Downloaded http://165.98.224.52:8081/fdsnws/dataselect/1/query with HTTP code: 200\n",
      "Downloading http://165.98.224.52:8081/fdsnws/dataselect/1/query with requesting gzip compression\n",
      "Sending along the following payload:\n",
      "----------------------------------------------------------------------\n",
      "NU SJON 10 EHN 2016-09-15T05:50:00.000000 2016-09-16T05:50:00.000000\n",
      "NU SJON 10 EHE 2016-09-16T05:50:00.000000 2016-09-16T06:15:00.000000\n",
      "----------------------------------------------------------------------\n"
     ]
    },
    {
     "name": "stderr",
     "output_type": "stream",
     "text": [
      "[2016-09-16 14:13:56,481] - obspy.clients.fdsn.mass_downloader - INFO: Client 'http://165.98.224.52:8081/' - No data available for request.\n"
     ]
    },
    {
     "name": "stdout",
     "output_type": "stream",
     "text": [
      "Downloaded http://165.98.224.52:8081/fdsnws/dataselect/1/query with HTTP code: 204\n",
      "Downloading http://165.98.224.52:8081/fdsnws/dataselect/1/query with requesting gzip compression\n",
      "Sending along the following payload:\n",
      "----------------------------------------------------------------------\n",
      "NU SJON 10 EHZ 2016-09-15T05:50:00.000000 2016-09-16T05:50:00.000000\n",
      "NU SJON 10 EHN 2016-09-16T05:50:00.000000 2016-09-16T06:15:00.000000\n",
      "----------------------------------------------------------------------\n"
     ]
    },
    {
     "name": "stderr",
     "output_type": "stream",
     "text": [
      "[2016-09-16 14:13:57,089] - obspy.clients.fdsn.mass_downloader - INFO: Client 'http://165.98.224.52:8081/' - No data available for request.\n"
     ]
    },
    {
     "name": "stdout",
     "output_type": "stream",
     "text": [
      "Downloaded http://165.98.224.52:8081/fdsnws/dataselect/1/query with HTTP code: 204\n",
      "Downloading http://165.98.224.52:8081/fdsnws/dataselect/1/query with requesting gzip compression\n",
      "Sending along the following payload:\n",
      "----------------------------------------------------------------------\n",
      "NU SJON 10 EHZ 2016-09-16T05:50:00.000000 2016-09-16T06:15:00.000000\n",
      "NU OCON 00 EHE 2016-09-15T05:50:00.000000 2016-09-16T05:50:00.000000\n",
      "----------------------------------------------------------------------\n"
     ]
    },
    {
     "name": "stderr",
     "output_type": "stream",
     "text": [
      "[2016-09-16 14:13:57,765] - obspy.clients.fdsn.mass_downloader - INFO: Client 'http://165.98.224.52:8081/' - No data available for request.\n"
     ]
    },
    {
     "name": "stdout",
     "output_type": "stream",
     "text": [
      "Downloaded http://165.98.224.52:8081/fdsnws/dataselect/1/query with HTTP code: 204\n",
      "Downloading http://165.98.224.52:8081/fdsnws/dataselect/1/query with requesting gzip compression\n",
      "Sending along the following payload:\n",
      "----------------------------------------------------------------------\n",
      "NU OCON 00 EHE 2016-09-16T05:50:00.000000 2016-09-16T06:15:00.000000\n",
      "NU OCON 00 EHN 2016-09-15T05:50:00.000000 2016-09-16T05:50:00.000000\n",
      "----------------------------------------------------------------------\n"
     ]
    },
    {
     "name": "stderr",
     "output_type": "stream",
     "text": [
      "[2016-09-16 14:13:58,346] - obspy.clients.fdsn.mass_downloader - INFO: Client 'http://165.98.224.52:8081/' - No data available for request.\n"
     ]
    },
    {
     "name": "stdout",
     "output_type": "stream",
     "text": [
      "Downloaded http://165.98.224.52:8081/fdsnws/dataselect/1/query with HTTP code: 204\n",
      "Downloading http://165.98.224.52:8081/fdsnws/dataselect/1/query with requesting gzip compression\n",
      "Sending along the following payload:\n",
      "----------------------------------------------------------------------\n",
      "NU OCON 00 EHZ 2016-09-15T05:50:00.000000 2016-09-16T05:50:00.000000\n",
      "NU OCON 00 EHN 2016-09-16T05:50:00.000000 2016-09-16T06:15:00.000000\n",
      "----------------------------------------------------------------------\n"
     ]
    },
    {
     "name": "stderr",
     "output_type": "stream",
     "text": [
      "[2016-09-16 14:13:58,915] - obspy.clients.fdsn.mass_downloader - INFO: Client 'http://165.98.224.52:8081/' - No data available for request.\n"
     ]
    },
    {
     "name": "stdout",
     "output_type": "stream",
     "text": [
      "Downloaded http://165.98.224.52:8081/fdsnws/dataselect/1/query with HTTP code: 204\n",
      "Downloading http://165.98.224.52:8081/fdsnws/dataselect/1/query with requesting gzip compression\n",
      "Sending along the following payload:\n",
      "----------------------------------------------------------------------\n",
      "NU SABN 00 EHZ 2016-09-15T05:50:00.000000 2016-09-16T05:50:00.000000\n",
      "NU OCON 00 EHZ 2016-09-16T05:50:00.000000 2016-09-16T06:15:00.000000\n",
      "----------------------------------------------------------------------\n",
      "Downloaded http://165.98.224.52:8081/fdsnws/dataselect/1/query with HTTP code: 200\n"
     ]
    },
    {
     "name": "stderr",
     "output_type": "stream",
     "text": [
      "[2016-09-16 14:14:14,677] - obspy.clients.fdsn.mass_downloader - INFO: Client 'http://165.98.224.52:8081/' - Successfully downloaded 1 channels (of 2)\n"
     ]
    },
    {
     "name": "stdout",
     "output_type": "stream",
     "text": [
      "Downloading http://165.98.224.52:8081/fdsnws/dataselect/1/query with requesting gzip compression\n",
      "Sending along the following payload:\n",
      "----------------------------------------------------------------------\n",
      "NU PACN 00 EHN 2016-09-15T05:50:00.000000 2016-09-16T05:50:00.000000\n",
      "NU PACN 00 EHE 2016-09-16T05:50:00.000000 2016-09-16T06:15:00.000000\n",
      "----------------------------------------------------------------------\n",
      "Downloaded http://165.98.224.52:8081/fdsnws/dataselect/1/query with HTTP code: 200\n"
     ]
    },
    {
     "name": "stderr",
     "output_type": "stream",
     "text": [
      "[2016-09-16 14:14:37,929] - obspy.clients.fdsn.mass_downloader - INFO: Client 'http://165.98.224.52:8081/' - Successfully downloaded 1 channels (of 2)\n"
     ]
    },
    {
     "name": "stdout",
     "output_type": "stream",
     "text": [
      "Downloading http://165.98.224.52:8081/fdsnws/dataselect/1/query with requesting gzip compression\n",
      "Sending along the following payload:\n",
      "----------------------------------------------------------------------\n",
      "OV PEZE -- HHN 2016-09-15T05:50:00.000000 2016-09-16T05:50:00.000000\n",
      "OV PEZE -- HHE 2016-09-16T05:50:00.000000 2016-09-16T06:15:00.000000\n",
      "----------------------------------------------------------------------\n",
      "Downloaded http://165.98.224.52:8081/fdsnws/dataselect/1/query with HTTP code: 200\n",
      "Downloaded http://165.98.224.52:8081/fdsnws/dataselect/1/query with HTTP code: 200\n"
     ]
    },
    {
     "name": "stderr",
     "output_type": "stream",
     "text": [
      "[2016-09-16 14:14:53,621] - obspy.clients.fdsn.mass_downloader - INFO: Client 'http://165.98.224.52:8081/' - Successfully downloaded 1 channels (of 2)\n"
     ]
    },
    {
     "name": "stdout",
     "output_type": "stream",
     "text": [
      "Downloading http://165.98.224.52:8081/fdsnws/dataselect/1/query with requesting gzip compression\n",
      "Sending along the following payload:\n",
      "----------------------------------------------------------------------\n",
      "NU SABN 00 EHZ 2016-09-16T05:50:00.000000 2016-09-16T06:15:00.000000\n",
      "NU MAS3 00 EHE 2016-09-15T05:50:00.000000 2016-09-16T05:50:00.000000\n",
      "----------------------------------------------------------------------\n"
     ]
    },
    {
     "name": "stderr",
     "output_type": "stream",
     "text": [
      "[2016-09-16 14:14:55,863] - obspy.clients.fdsn.mass_downloader - INFO: Client 'http://165.98.224.52:8081/' - Successfully downloaded 2 channels (of 2)\n"
     ]
    },
    {
     "name": "stdout",
     "output_type": "stream",
     "text": [
      "Downloading http://165.98.224.52:8081/fdsnws/dataselect/1/query with requesting gzip compression\n",
      "Sending along the following payload:\n",
      "----------------------------------------------------------------------\n",
      "NU PACN 00 EHZ 2016-09-15T05:50:00.000000 2016-09-16T05:50:00.000000\n",
      "NU PACN 00 EHN 2016-09-16T05:50:00.000000 2016-09-16T06:15:00.000000\n",
      "----------------------------------------------------------------------\n",
      "Downloaded http://165.98.224.52:8081/fdsnws/dataselect/1/query with HTTP code: 200\n"
     ]
    },
    {
     "name": "stderr",
     "output_type": "stream",
     "text": [
      "[2016-09-16 14:14:56,172] - obspy.clients.fdsn.mass_downloader - INFO: Client 'http://165.98.224.52:8081/' - Successfully downloaded 1 channels (of 2)\n"
     ]
    },
    {
     "name": "stdout",
     "output_type": "stream",
     "text": [
      "Downloading http://165.98.224.52:8081/fdsnws/dataselect/1/query with requesting gzip compression\n",
      "Sending along the following payload:\n",
      "----------------------------------------------------------------------\n",
      "NU MAS3 00 EHE 2016-09-16T05:50:00.000000 2016-09-16T06:15:00.000000\n",
      "NU MAS3 00 EHN 2016-09-15T05:50:00.000000 2016-09-16T05:50:00.000000\n",
      "----------------------------------------------------------------------\n"
     ]
    },
    {
     "name": "stderr",
     "output_type": "stream",
     "text": [
      "[2016-09-16 14:14:59,801] - obspy.clients.fdsn.mass_downloader - INFO: Client 'http://165.98.224.52:8081/' - No data available for request.\n"
     ]
    },
    {
     "name": "stdout",
     "output_type": "stream",
     "text": [
      "Downloaded http://165.98.224.52:8081/fdsnws/dataselect/1/query with HTTP code: 204\n",
      "Downloading http://165.98.224.52:8081/fdsnws/dataselect/1/query with requesting gzip compression\n",
      "Sending along the following payload:\n",
      "----------------------------------------------------------------------\n",
      "NU MAS3 00 EHN 2016-09-16T05:50:00.000000 2016-09-16T06:15:00.000000\n",
      "NU MAS3 00 EHZ 2016-09-15T05:50:00.000000 2016-09-16T05:50:00.000000\n",
      "----------------------------------------------------------------------\n"
     ]
    },
    {
     "name": "stderr",
     "output_type": "stream",
     "text": [
      "[2016-09-16 14:15:00,426] - obspy.clients.fdsn.mass_downloader - INFO: Client 'http://165.98.224.52:8081/' - No data available for request.\n"
     ]
    },
    {
     "name": "stdout",
     "output_type": "stream",
     "text": [
      "Downloaded http://165.98.224.52:8081/fdsnws/dataselect/1/query with HTTP code: 204\n",
      "Downloading http://165.98.224.52:8081/fdsnws/dataselect/1/query with requesting gzip compression\n",
      "Sending along the following payload:\n",
      "----------------------------------------------------------------------\n",
      "OV GRZA -- HHE 2016-09-15T05:50:00.000000 2016-09-16T05:50:00.000000\n",
      "NU MAS3 00 EHZ 2016-09-16T05:50:00.000000 2016-09-16T06:15:00.000000\n",
      "----------------------------------------------------------------------\n"
     ]
    },
    {
     "name": "stderr",
     "output_type": "stream",
     "text": [
      "[2016-09-16 14:15:01,012] - obspy.clients.fdsn.mass_downloader - INFO: Client 'http://165.98.224.52:8081/' - No data available for request.\n"
     ]
    },
    {
     "name": "stdout",
     "output_type": "stream",
     "text": [
      "Downloaded http://165.98.224.52:8081/fdsnws/dataselect/1/query with HTTP code: 204\n",
      "Downloading http://165.98.224.52:8081/fdsnws/dataselect/1/query with requesting gzip compression\n",
      "Sending along the following payload:\n",
      "----------------------------------------------------------------------\n",
      "OV GRZA -- HHE 2016-09-16T05:50:00.000000 2016-09-16T06:15:00.000000\n",
      "OV GRZA -- HHN 2016-09-15T05:50:00.000000 2016-09-16T05:50:00.000000\n",
      "----------------------------------------------------------------------\n"
     ]
    },
    {
     "name": "stderr",
     "output_type": "stream",
     "text": [
      "[2016-09-16 14:15:01,584] - obspy.clients.fdsn.mass_downloader - INFO: Client 'http://165.98.224.52:8081/' - No data available for request.\n"
     ]
    },
    {
     "name": "stdout",
     "output_type": "stream",
     "text": [
      "Downloaded http://165.98.224.52:8081/fdsnws/dataselect/1/query with HTTP code: 204\n",
      "Downloading http://165.98.224.52:8081/fdsnws/dataselect/1/query with requesting gzip compression\n",
      "Sending along the following payload:\n",
      "----------------------------------------------------------------------\n",
      "OV GRZA -- HHN 2016-09-16T05:50:00.000000 2016-09-16T06:15:00.000000\n",
      "OV GRZA -- HHZ 2016-09-15T05:50:00.000000 2016-09-16T05:50:00.000000\n",
      "----------------------------------------------------------------------\n"
     ]
    },
    {
     "name": "stderr",
     "output_type": "stream",
     "text": [
      "[2016-09-16 14:15:02,110] - obspy.clients.fdsn.mass_downloader - INFO: Client 'http://165.98.224.52:8081/' - No data available for request.\n"
     ]
    },
    {
     "name": "stdout",
     "output_type": "stream",
     "text": [
      "Downloaded http://165.98.224.52:8081/fdsnws/dataselect/1/query with HTTP code: 204\n",
      "Downloading http://165.98.224.52:8081/fdsnws/dataselect/1/query with requesting gzip compression\n",
      "Sending along the following payload:\n",
      "----------------------------------------------------------------------\n",
      "OV OCM -- HHE 2016-09-15T05:50:00.000000 2016-09-16T05:50:00.000000\n",
      "OV GRZA -- HHZ 2016-09-16T05:50:00.000000 2016-09-16T06:15:00.000000\n",
      "----------------------------------------------------------------------\n",
      "Downloaded http://165.98.224.52:8081/fdsnws/dataselect/1/query with HTTP code: 200\n"
     ]
    },
    {
     "name": "stderr",
     "output_type": "stream",
     "text": [
      "[2016-09-16 14:15:28,067] - obspy.clients.fdsn.mass_downloader - INFO: Client 'http://165.98.224.52:8081/' - Successfully downloaded 2 channels (of 2)\n"
     ]
    },
    {
     "name": "stdout",
     "output_type": "stream",
     "text": [
      "Downloading http://165.98.224.52:8081/fdsnws/dataselect/1/query with requesting gzip compression\n",
      "Sending along the following payload:\n",
      "----------------------------------------------------------------------\n",
      "NU PACN 00 EHZ 2016-09-16T05:50:00.000000 2016-09-16T06:15:00.000000\n",
      "CM PRV 00 BHZ 2016-09-15T05:50:00.000000 2016-09-16T05:50:00.000000\n",
      "CM PRV 00 BHE 2016-09-15T05:50:00.000000 2016-09-16T06:15:00.000000\n",
      "CM PRV 00 BHN 2016-09-15T05:50:00.000000 2016-09-16T06:15:00.000000\n",
      "----------------------------------------------------------------------\n",
      "Downloaded http://165.98.224.52:8081/fdsnws/dataselect/1/query with HTTP code: 200\n"
     ]
    },
    {
     "name": "stderr",
     "output_type": "stream",
     "text": [
      "[2016-09-16 14:15:38,571] - obspy.clients.fdsn.mass_downloader - INFO: Client 'http://165.98.224.52:8081/' - Successfully downloaded 2 channels (of 2)\n"
     ]
    },
    {
     "name": "stdout",
     "output_type": "stream",
     "text": [
      "Downloading http://165.98.224.52:8081/fdsnws/dataselect/1/query with requesting gzip compression\n",
      "Sending along the following payload:\n",
      "----------------------------------------------------------------------\n",
      "OV PEZE -- HHZ 2016-09-15T05:50:00.000000 2016-09-16T05:50:00.000000\n",
      "OV PEZE -- HHN 2016-09-16T05:50:00.000000 2016-09-16T06:15:00.000000\n",
      "----------------------------------------------------------------------\n",
      "Downloaded http://165.98.224.52:8081/fdsnws/dataselect/1/query with HTTP code: 200\n"
     ]
    },
    {
     "name": "stderr",
     "output_type": "stream",
     "text": [
      "[2016-09-16 14:15:40,488] - obspy.clients.fdsn.mass_downloader - INFO: Client 'http://165.98.224.52:8081/' - Successfully downloaded 6 channels (of 6)\n"
     ]
    },
    {
     "name": "stdout",
     "output_type": "stream",
     "text": [
      "Downloading http://165.98.224.52:8081/fdsnws/dataselect/1/query with requesting gzip compression\n",
      "Sending along the following payload:\n",
      "----------------------------------------------------------------------\n",
      "CM PRV 00 BHZ 2016-09-16T05:50:00.000000 2016-09-16T06:15:00.000000\n",
      "HN ROTH -- EHE 2016-09-15T05:50:00.000000 2016-09-16T05:50:00.000000\n",
      "----------------------------------------------------------------------\n"
     ]
    },
    {
     "name": "stderr",
     "output_type": "stream",
     "text": [
      "[2016-09-16 14:15:44,173] - obspy.clients.fdsn.mass_downloader - INFO: Client 'http://165.98.224.52:8081/' - Successfully downloaded 1 channels (of 2)\n"
     ]
    },
    {
     "name": "stdout",
     "output_type": "stream",
     "text": [
      "Downloaded http://165.98.224.52:8081/fdsnws/dataselect/1/query with HTTP code: 200\n",
      "Downloading http://165.98.224.52:8081/fdsnws/dataselect/1/query with requesting gzip compression\n",
      "Sending along the following payload:\n",
      "----------------------------------------------------------------------\n",
      "HN ROTH -- EHN 2016-09-15T05:50:00.000000 2016-09-16T05:50:00.000000\n",
      "HN ROTH -- EHE 2016-09-16T05:50:00.000000 2016-09-16T06:15:00.000000\n",
      "----------------------------------------------------------------------\n"
     ]
    },
    {
     "name": "stderr",
     "output_type": "stream",
     "text": [
      "[2016-09-16 14:15:44,722] - obspy.clients.fdsn.mass_downloader - INFO: Client 'http://165.98.224.52:8081/' - No data available for request.\n"
     ]
    },
    {
     "name": "stdout",
     "output_type": "stream",
     "text": [
      "Downloaded http://165.98.224.52:8081/fdsnws/dataselect/1/query with HTTP code: 204\n",
      "Downloading http://165.98.224.52:8081/fdsnws/dataselect/1/query with requesting gzip compression\n",
      "Sending along the following payload:\n",
      "----------------------------------------------------------------------\n",
      "HN ROTH -- EHZ 2016-09-15T05:50:00.000000 2016-09-16T05:50:00.000000\n",
      "HN ROTH -- EHN 2016-09-16T05:50:00.000000 2016-09-16T06:15:00.000000\n",
      "----------------------------------------------------------------------\n"
     ]
    },
    {
     "name": "stderr",
     "output_type": "stream",
     "text": [
      "[2016-09-16 14:15:45,286] - obspy.clients.fdsn.mass_downloader - INFO: Client 'http://165.98.224.52:8081/' - No data available for request.\n"
     ]
    },
    {
     "name": "stdout",
     "output_type": "stream",
     "text": [
      "Downloaded http://165.98.224.52:8081/fdsnws/dataselect/1/query with HTTP code: 204\n",
      "Downloading http://165.98.224.52:8081/fdsnws/dataselect/1/query with requesting gzip compression\n",
      "Sending along the following payload:\n",
      "----------------------------------------------------------------------\n",
      "HN ROTH -- EHZ 2016-09-16T05:50:00.000000 2016-09-16T06:15:00.000000\n",
      "NU HOYN 00 EHE 2016-09-15T05:50:00.000000 2016-09-16T05:50:00.000000\n",
      "----------------------------------------------------------------------\n",
      "Downloaded http://165.98.224.52:8081/fdsnws/dataselect/1/query with HTTP code: 200\n"
     ]
    },
    {
     "name": "stderr",
     "output_type": "stream",
     "text": [
      "[2016-09-16 14:16:00,164] - obspy.clients.fdsn.mass_downloader - INFO: Client 'http://165.98.224.52:8081/' - Successfully downloaded 1 channels (of 2)\n"
     ]
    },
    {
     "name": "stdout",
     "output_type": "stream",
     "text": [
      "Downloading http://165.98.224.52:8081/fdsnws/dataselect/1/query with requesting gzip compression\n",
      "Sending along the following payload:\n",
      "----------------------------------------------------------------------\n",
      "OV OCM -- HHE 2016-09-16T05:50:00.000000 2016-09-16T06:15:00.000000\n",
      "OV OCM -- HHN 2016-09-15T05:50:00.000000 2016-09-16T05:50:00.000000\n",
      "----------------------------------------------------------------------\n",
      "Downloaded http://165.98.224.52:8081/fdsnws/dataselect/1/query with HTTP code: 200\n"
     ]
    },
    {
     "name": "stderr",
     "output_type": "stream",
     "text": [
      "[2016-09-16 14:16:20,980] - obspy.clients.fdsn.mass_downloader - INFO: Client 'http://165.98.224.52:8081/' - Successfully downloaded 2 channels (of 2)\n"
     ]
    },
    {
     "name": "stdout",
     "output_type": "stream",
     "text": [
      "Downloading http://165.98.224.52:8081/fdsnws/dataselect/1/query with requesting gzip compression\n",
      "Sending along the following payload:\n",
      "----------------------------------------------------------------------\n",
      "OV PEZE -- HHZ 2016-09-16T05:50:00.000000 2016-09-16T06:15:00.000000\n",
      "NU TELN 00 EHE 2016-09-15T05:50:00.000000 2016-09-16T05:50:00.000000\n",
      "----------------------------------------------------------------------\n",
      "Downloaded http://165.98.224.52:8081/fdsnws/dataselect/1/query with HTTP code: 200\n"
     ]
    },
    {
     "name": "stderr",
     "output_type": "stream",
     "text": [
      "[2016-09-16 14:16:23,206] - obspy.clients.fdsn.mass_downloader - INFO: Client 'http://165.98.224.52:8081/' - Successfully downloaded 1 channels (of 2)\n"
     ]
    },
    {
     "name": "stdout",
     "output_type": "stream",
     "text": [
      "Downloading http://165.98.224.52:8081/fdsnws/dataselect/1/query with requesting gzip compression\n",
      "Sending along the following payload:\n",
      "----------------------------------------------------------------------\n",
      "NU HOYN 00 EHE 2016-09-16T05:50:00.000000 2016-09-16T06:15:00.000000\n",
      "NU HOYN 00 EHN 2016-09-15T05:50:00.000000 2016-09-16T05:50:00.000000\n",
      "----------------------------------------------------------------------\n",
      "Downloaded http://165.98.224.52:8081/fdsnws/dataselect/1/query with HTTP code: 200\n"
     ]
    },
    {
     "name": "stderr",
     "output_type": "stream",
     "text": [
      "[2016-09-16 14:16:52,271] - obspy.clients.fdsn.mass_downloader - INFO: Client 'http://165.98.224.52:8081/' - Successfully downloaded 2 channels (of 2)\n"
     ]
    },
    {
     "name": "stdout",
     "output_type": "stream",
     "text": [
      "Downloading http://165.98.224.52:8081/fdsnws/dataselect/1/query with requesting gzip compression\n",
      "Sending along the following payload:\n",
      "----------------------------------------------------------------------\n",
      "OV OCM -- HHN 2016-09-16T05:50:00.000000 2016-09-16T06:15:00.000000\n",
      "OV OCM -- HHZ 2016-09-15T05:50:00.000000 2016-09-16T05:50:00.000000\n",
      "----------------------------------------------------------------------\n",
      "Downloaded http://165.98.224.52:8081/fdsnws/dataselect/1/query with HTTP code: 200\n"
     ]
    },
    {
     "name": "stderr",
     "output_type": "stream",
     "text": [
      "[2016-09-16 14:17:08,508] - obspy.clients.fdsn.mass_downloader - INFO: Client 'http://165.98.224.52:8081/' - Successfully downloaded 2 channels (of 2)\n"
     ]
    },
    {
     "name": "stdout",
     "output_type": "stream",
     "text": [
      "Downloading http://165.98.224.52:8081/fdsnws/dataselect/1/query with requesting gzip compression\n",
      "Sending along the following payload:\n",
      "----------------------------------------------------------------------\n",
      "NU TELN 00 EHN 2016-09-15T05:50:00.000000 2016-09-16T05:50:00.000000\n",
      "NU TELN 00 EHE 2016-09-16T05:50:00.000000 2016-09-16T06:15:00.000000\n",
      "----------------------------------------------------------------------\n",
      "Downloaded http://165.98.224.52:8081/fdsnws/dataselect/1/query with HTTP code: 200\n"
     ]
    },
    {
     "name": "stderr",
     "output_type": "stream",
     "text": [
      "[2016-09-16 14:17:12,406] - obspy.clients.fdsn.mass_downloader - INFO: Client 'http://165.98.224.52:8081/' - Successfully downloaded 2 channels (of 2)\n"
     ]
    },
    {
     "name": "stdout",
     "output_type": "stream",
     "text": [
      "Downloading http://165.98.224.52:8081/fdsnws/dataselect/1/query with requesting gzip compression\n",
      "Sending along the following payload:\n",
      "----------------------------------------------------------------------\n",
      "NU HOYN 00 EHZ 2016-09-15T05:50:00.000000 2016-09-16T05:50:00.000000\n",
      "NU HOYN 00 EHN 2016-09-16T05:50:00.000000 2016-09-16T06:15:00.000000\n",
      "----------------------------------------------------------------------\n",
      "Downloaded http://165.98.224.52:8081/fdsnws/dataselect/1/query with HTTP code: 200\n"
     ]
    },
    {
     "name": "stderr",
     "output_type": "stream",
     "text": [
      "[2016-09-16 14:17:34,685] - obspy.clients.fdsn.mass_downloader - INFO: Client 'http://165.98.224.52:8081/' - Successfully downloaded 2 channels (of 2)\n"
     ]
    },
    {
     "name": "stdout",
     "output_type": "stream",
     "text": [
      "Downloading http://165.98.224.52:8081/fdsnws/dataselect/1/query with requesting gzip compression\n",
      "Sending along the following payload:\n",
      "----------------------------------------------------------------------\n",
      "OV INDI -- HHE 2016-09-15T05:50:00.000000 2016-09-16T05:50:00.000000\n",
      "OV OCM -- HHZ 2016-09-16T05:50:00.000000 2016-09-16T06:15:00.000000\n",
      "----------------------------------------------------------------------\n",
      "Downloaded http://165.98.224.52:8081/fdsnws/dataselect/1/query with HTTP code: 200\n"
     ]
    },
    {
     "name": "stderr",
     "output_type": "stream",
     "text": [
      "[2016-09-16 14:17:43,901] - obspy.clients.fdsn.mass_downloader - INFO: Client 'http://165.98.224.52:8081/' - Successfully downloaded 2 channels (of 2)\n"
     ]
    },
    {
     "name": "stdout",
     "output_type": "stream",
     "text": [
      "Downloading http://165.98.224.52:8081/fdsnws/dataselect/1/query with requesting gzip compression\n",
      "Sending along the following payload:\n",
      "----------------------------------------------------------------------\n",
      "NU TELN 00 EHZ 2016-09-15T05:50:00.000000 2016-09-16T05:50:00.000000\n",
      "NU TELN 00 EHN 2016-09-16T05:50:00.000000 2016-09-16T06:15:00.000000\n",
      "----------------------------------------------------------------------\n",
      "Downloaded http://165.98.224.52:8081/fdsnws/dataselect/1/query with HTTP code: 200\n"
     ]
    },
    {
     "name": "stderr",
     "output_type": "stream",
     "text": [
      "[2016-09-16 14:17:58,331] - obspy.clients.fdsn.mass_downloader - INFO: Client 'http://165.98.224.52:8081/' - Successfully downloaded 2 channels (of 2)\n"
     ]
    },
    {
     "name": "stdout",
     "output_type": "stream",
     "text": [
      "Downloading http://165.98.224.52:8081/fdsnws/dataselect/1/query with requesting gzip compression\n",
      "Sending along the following payload:\n",
      "----------------------------------------------------------------------\n",
      "CU TGUH 00 BH2 2016-09-15T05:50:00.000000 2016-09-16T06:15:00.000000\n",
      "NU HOYN 00 EHZ 2016-09-16T05:50:00.000000 2016-09-16T06:15:00.000000\n",
      "CU TGUH 00 BH1 2016-09-15T05:50:00.000000 2016-09-16T06:15:00.000000\n",
      "CU TGUH 00 BHZ 2016-09-15T05:50:00.000000 2016-09-16T05:50:00.000000\n",
      "----------------------------------------------------------------------\n",
      "Downloaded http://165.98.224.52:8081/fdsnws/dataselect/1/query with HTTP code: 200\n"
     ]
    },
    {
     "name": "stderr",
     "output_type": "stream",
     "text": [
      "[2016-09-16 14:18:23,320] - obspy.clients.fdsn.mass_downloader - INFO: Client 'http://165.98.224.52:8081/' - Successfully downloaded 2 channels (of 2)\n"
     ]
    },
    {
     "name": "stdout",
     "output_type": "stream",
     "text": [
      "Downloading http://165.98.224.52:8081/fdsnws/dataselect/1/query with requesting gzip compression\n",
      "Sending along the following payload:\n",
      "----------------------------------------------------------------------\n",
      "OV INDI -- HHE 2016-09-16T05:50:00.000000 2016-09-16T06:15:00.000000\n",
      "OV INDI -- HHN 2016-09-15T05:50:00.000000 2016-09-16T05:50:00.000000\n",
      "----------------------------------------------------------------------\n",
      "Downloaded http://165.98.224.52:8081/fdsnws/dataselect/1/query with HTTP code: 200\n"
     ]
    },
    {
     "name": "stderr",
     "output_type": "stream",
     "text": [
      "[2016-09-16 14:18:35,796] - obspy.clients.fdsn.mass_downloader - INFO: Client 'http://165.98.224.52:8081/' - Successfully downloaded 2 channels (of 2)\n"
     ]
    },
    {
     "name": "stdout",
     "output_type": "stream",
     "text": [
      "Downloading http://165.98.224.52:8081/fdsnws/dataselect/1/query with requesting gzip compression\n",
      "Sending along the following payload:\n",
      "----------------------------------------------------------------------\n",
      "NU TELN 00 EHZ 2016-09-16T05:50:00.000000 2016-09-16T06:15:00.000000\n",
      "TC TRT2 -- HHE 2016-09-15T05:50:00.000000 2016-09-16T05:50:00.000000\n",
      "----------------------------------------------------------------------\n",
      "Downloaded http://165.98.224.52:8081/fdsnws/dataselect/1/query with HTTP code: 200\n"
     ]
    },
    {
     "name": "stderr",
     "output_type": "stream",
     "text": [
      "[2016-09-16 14:18:44,124] - obspy.clients.fdsn.mass_downloader - INFO: Client 'http://165.98.224.52:8081/' - Successfully downloaded 6 channels (of 6)\n"
     ]
    },
    {
     "name": "stdout",
     "output_type": "stream",
     "text": [
      "Downloading http://165.98.224.52:8081/fdsnws/dataselect/1/query with requesting gzip compression\n",
      "Sending along the following payload:\n",
      "----------------------------------------------------------------------\n",
      "TC TRT1 -- BHN 2016-09-15T05:50:00.000000 2016-09-16T06:15:00.000000\n",
      "TC TRT1 -- BHE 2016-09-15T05:50:00.000000 2016-09-16T06:15:00.000000\n",
      "TC TRT1 -- BHZ 2016-09-15T05:50:00.000000 2016-09-16T05:50:00.000000\n",
      "CU TGUH 00 BHZ 2016-09-16T05:50:00.000000 2016-09-16T06:15:00.000000\n",
      "----------------------------------------------------------------------\n"
     ]
    },
    {
     "name": "stderr",
     "output_type": "stream",
     "text": [
      "[2016-09-16 14:18:45,577] - obspy.clients.fdsn.mass_downloader - INFO: Client 'http://165.98.224.52:8081/' - Successfully downloaded 1 channels (of 6)\n"
     ]
    },
    {
     "name": "stdout",
     "output_type": "stream",
     "text": [
      "Downloaded http://165.98.224.52:8081/fdsnws/dataselect/1/query with HTTP code: 200\n",
      "Downloading http://165.98.224.52:8081/fdsnws/dataselect/1/query with requesting gzip compression\n",
      "Sending along the following payload:\n",
      "----------------------------------------------------------------------\n",
      "TC TRT1 -- BHZ 2016-09-16T05:50:00.000000 2016-09-16T06:15:00.000000\n",
      "NU MAFN -- EHE 2016-09-15T05:50:00.000000 2016-09-16T05:50:00.000000\n",
      "----------------------------------------------------------------------\n"
     ]
    },
    {
     "name": "stderr",
     "output_type": "stream",
     "text": [
      "[2016-09-16 14:18:46,139] - obspy.clients.fdsn.mass_downloader - INFO: Client 'http://165.98.224.52:8081/' - No data available for request.\n"
     ]
    },
    {
     "name": "stdout",
     "output_type": "stream",
     "text": [
      "Downloaded http://165.98.224.52:8081/fdsnws/dataselect/1/query with HTTP code: 204\n",
      "Downloading http://165.98.224.52:8081/fdsnws/dataselect/1/query with requesting gzip compression\n",
      "Sending along the following payload:\n",
      "----------------------------------------------------------------------\n",
      "NU MAFN -- EHN 2016-09-15T05:50:00.000000 2016-09-16T05:50:00.000000\n",
      "NU MAFN -- EHE 2016-09-16T05:50:00.000000 2016-09-16T06:15:00.000000\n",
      "----------------------------------------------------------------------\n"
     ]
    },
    {
     "name": "stderr",
     "output_type": "stream",
     "text": [
      "[2016-09-16 14:18:46,776] - obspy.clients.fdsn.mass_downloader - INFO: Client 'http://165.98.224.52:8081/' - No data available for request.\n"
     ]
    },
    {
     "name": "stdout",
     "output_type": "stream",
     "text": [
      "Downloaded http://165.98.224.52:8081/fdsnws/dataselect/1/query with HTTP code: 204\n",
      "Downloading http://165.98.224.52:8081/fdsnws/dataselect/1/query with requesting gzip compression\n",
      "Sending along the following payload:\n",
      "----------------------------------------------------------------------\n",
      "NU MAFN -- EHN 2016-09-16T05:50:00.000000 2016-09-16T06:15:00.000000\n",
      "NU MAFN -- EHZ 2016-09-15T05:50:00.000000 2016-09-16T05:50:00.000000\n",
      "----------------------------------------------------------------------\n"
     ]
    },
    {
     "name": "stderr",
     "output_type": "stream",
     "text": [
      "[2016-09-16 14:18:47,440] - obspy.clients.fdsn.mass_downloader - INFO: Client 'http://165.98.224.52:8081/' - No data available for request.\n"
     ]
    },
    {
     "name": "stdout",
     "output_type": "stream",
     "text": [
      "Downloaded http://165.98.224.52:8081/fdsnws/dataselect/1/query with HTTP code: 204\n",
      "Downloading http://165.98.224.52:8081/fdsnws/dataselect/1/query with requesting gzip compression\n",
      "Sending along the following payload:\n",
      "----------------------------------------------------------------------\n",
      "NU MAFN -- EHZ 2016-09-16T05:50:00.000000 2016-09-16T06:15:00.000000\n",
      "NU POZN -- EHE 2016-09-15T05:50:00.000000 2016-09-16T05:50:00.000000\n",
      "----------------------------------------------------------------------\n"
     ]
    },
    {
     "name": "stderr",
     "output_type": "stream",
     "text": [
      "[2016-09-16 14:18:48,071] - obspy.clients.fdsn.mass_downloader - INFO: Client 'http://165.98.224.52:8081/' - No data available for request.\n"
     ]
    },
    {
     "name": "stdout",
     "output_type": "stream",
     "text": [
      "Downloaded http://165.98.224.52:8081/fdsnws/dataselect/1/query with HTTP code: 204\n",
      "Downloading http://165.98.224.52:8081/fdsnws/dataselect/1/query with requesting gzip compression\n",
      "Sending along the following payload:\n",
      "----------------------------------------------------------------------\n",
      "NU POZN -- EHE 2016-09-16T05:50:00.000000 2016-09-16T06:15:00.000000\n",
      "NU POZN -- EHN 2016-09-15T05:50:00.000000 2016-09-16T05:50:00.000000\n",
      "----------------------------------------------------------------------\n"
     ]
    },
    {
     "name": "stderr",
     "output_type": "stream",
     "text": [
      "[2016-09-16 14:18:49,093] - obspy.clients.fdsn.mass_downloader - INFO: Client 'http://165.98.224.52:8081/' - No data available for request.\n"
     ]
    },
    {
     "name": "stdout",
     "output_type": "stream",
     "text": [
      "Downloaded http://165.98.224.52:8081/fdsnws/dataselect/1/query with HTTP code: 204\n",
      "Downloading http://165.98.224.52:8081/fdsnws/dataselect/1/query with requesting gzip compression\n",
      "Sending along the following payload:\n",
      "----------------------------------------------------------------------\n",
      "NU POZN -- EHZ 2016-09-15T05:50:00.000000 2016-09-16T05:50:00.000000\n",
      "NU POZN -- EHN 2016-09-16T05:50:00.000000 2016-09-16T06:15:00.000000\n",
      "----------------------------------------------------------------------\n"
     ]
    },
    {
     "name": "stderr",
     "output_type": "stream",
     "text": [
      "[2016-09-16 14:18:49,679] - obspy.clients.fdsn.mass_downloader - INFO: Client 'http://165.98.224.52:8081/' - No data available for request.\n"
     ]
    },
    {
     "name": "stdout",
     "output_type": "stream",
     "text": [
      "Downloaded http://165.98.224.52:8081/fdsnws/dataselect/1/query with HTTP code: 204\n",
      "Downloading http://165.98.224.52:8081/fdsnws/dataselect/1/query with requesting gzip compression\n",
      "Sending along the following payload:\n",
      "----------------------------------------------------------------------\n",
      "NU POZN -- EHZ 2016-09-16T05:50:00.000000 2016-09-16T06:15:00.000000\n",
      "SV PAVA -- HHE 2016-09-15T05:50:00.000000 2016-09-16T05:50:00.000000\n",
      "----------------------------------------------------------------------\n",
      "Downloaded http://165.98.224.52:8081/fdsnws/dataselect/1/query with HTTP code: 200\n",
      "Downloaded http://165.98.224.52:8081/fdsnws/dataselect/1/query with HTTP code: 200\n"
     ]
    },
    {
     "name": "stderr",
     "output_type": "stream",
     "text": [
      "[2016-09-16 14:19:01,248] - obspy.clients.fdsn.mass_downloader - INFO: Client 'http://165.98.224.52:8081/' - Successfully downloaded 2 channels (of 2)\n",
      "[2016-09-16 14:19:01,391] - obspy.clients.fdsn.mass_downloader - INFO: Client 'http://165.98.224.52:8081/' - Successfully downloaded 2 channels (of 2)\n"
     ]
    },
    {
     "name": "stdout",
     "output_type": "stream",
     "text": [
      "Downloading http://165.98.224.52:8081/fdsnws/dataselect/1/query with requesting gzip compression\n",
      "Sending along the following payload:\n",
      "----------------------------------------------------------------------\n",
      "TC TRT2 -- HHN 2016-09-15T05:50:00.000000 2016-09-16T05:50:00.000000\n",
      "TC TRT2 -- HHE 2016-09-16T05:50:00.000000 2016-09-16T06:15:00.000000\n",
      "----------------------------------------------------------------------\n",
      "Downloading http://165.98.224.52:8081/fdsnws/dataselect/1/query with requesting gzip compression\n",
      "Sending along the following payload:\n",
      "----------------------------------------------------------------------\n",
      "OV INDI -- HHZ 2016-09-15T05:50:00.000000 2016-09-16T05:50:00.000000\n",
      "OV INDI -- HHN 2016-09-16T05:50:00.000000 2016-09-16T06:15:00.000000\n",
      "----------------------------------------------------------------------\n",
      "Downloaded http://165.98.224.52:8081/fdsnws/dataselect/1/query with HTTP code: 200\n"
     ]
    },
    {
     "name": "stderr",
     "output_type": "stream",
     "text": [
      "[2016-09-16 14:19:23,780] - obspy.clients.fdsn.mass_downloader - INFO: Client 'http://165.98.224.52:8081/' - Successfully downloaded 1 channels (of 2)\n"
     ]
    },
    {
     "name": "stdout",
     "output_type": "stream",
     "text": [
      "Downloading http://165.98.224.52:8081/fdsnws/dataselect/1/query with requesting gzip compression\n",
      "Sending along the following payload:\n",
      "----------------------------------------------------------------------\n",
      "TC TRT2 -- HHN 2016-09-16T05:50:00.000000 2016-09-16T06:15:00.000000\n",
      "TC TRT2 -- HHZ 2016-09-15T05:50:00.000000 2016-09-16T05:50:00.000000\n",
      "----------------------------------------------------------------------\n",
      "Downloaded http://165.98.224.52:8081/fdsnws/dataselect/1/query with HTTP code: 200\n"
     ]
    },
    {
     "name": "stderr",
     "output_type": "stream",
     "text": [
      "[2016-09-16 14:19:37,060] - obspy.clients.fdsn.mass_downloader - INFO: Client 'http://165.98.224.52:8081/' - Successfully downloaded 2 channels (of 2)\n"
     ]
    },
    {
     "name": "stdout",
     "output_type": "stream",
     "text": [
      "Downloading http://165.98.224.52:8081/fdsnws/dataselect/1/query with requesting gzip compression\n",
      "Sending along the following payload:\n",
      "----------------------------------------------------------------------\n",
      "OV JUDI -- HHE 2016-09-15T05:50:00.000000 2016-09-16T05:50:00.000000\n",
      "OV INDI -- HHZ 2016-09-16T05:50:00.000000 2016-09-16T06:15:00.000000\n",
      "----------------------------------------------------------------------\n"
     ]
    },
    {
     "name": "stderr",
     "output_type": "stream",
     "text": [
      "[2016-09-16 14:19:40,534] - obspy.clients.fdsn.mass_downloader - INFO: Client 'http://165.98.224.52:8081/' - Successfully downloaded 1 channels (of 2)\n"
     ]
    },
    {
     "name": "stdout",
     "output_type": "stream",
     "text": [
      "Downloaded http://165.98.224.52:8081/fdsnws/dataselect/1/query with HTTP code: 200\n",
      "Downloading http://165.98.224.52:8081/fdsnws/dataselect/1/query with requesting gzip compression\n",
      "Sending along the following payload:\n",
      "----------------------------------------------------------------------\n",
      "OV JUDI -- HHE 2016-09-16T05:50:00.000000 2016-09-16T06:15:00.000000\n",
      "OV JUDI -- HHN 2016-09-15T05:50:00.000000 2016-09-16T05:50:00.000000\n",
      "----------------------------------------------------------------------\n"
     ]
    },
    {
     "name": "stderr",
     "output_type": "stream",
     "text": [
      "[2016-09-16 14:19:41,631] - obspy.clients.fdsn.mass_downloader - INFO: Client 'http://165.98.224.52:8081/' - No data available for request.\n"
     ]
    },
    {
     "name": "stdout",
     "output_type": "stream",
     "text": [
      "Downloaded http://165.98.224.52:8081/fdsnws/dataselect/1/query with HTTP code: 204\n",
      "Downloading http://165.98.224.52:8081/fdsnws/dataselect/1/query with requesting gzip compression\n",
      "Sending along the following payload:\n",
      "----------------------------------------------------------------------\n",
      "OV JUDI -- HHN 2016-09-16T05:50:00.000000 2016-09-16T06:15:00.000000\n",
      "OV JUDI -- HHZ 2016-09-15T05:50:00.000000 2016-09-16T05:50:00.000000\n",
      "----------------------------------------------------------------------\n",
      "Downloaded http://165.98.224.52:8081/fdsnws/dataselect/1/query with HTTP code: 200\n"
     ]
    },
    {
     "name": "stderr",
     "output_type": "stream",
     "text": [
      "[2016-09-16 14:19:42,191] - obspy.clients.fdsn.mass_downloader - INFO: Client 'http://165.98.224.52:8081/' - No data available for request.\n"
     ]
    },
    {
     "name": "stdout",
     "output_type": "stream",
     "text": [
      "Downloaded http://165.98.224.52:8081/fdsnws/dataselect/1/query with HTTP code: 204\n",
      "Downloading http://165.98.224.52:8081/fdsnws/dataselect/1/query with requesting gzip compression\n",
      "Sending along the following payload:\n",
      "----------------------------------------------------------------------\n",
      "OV JUDI -- HHZ 2016-09-16T05:50:00.000000 2016-09-16T06:15:00.000000\n",
      "NU APQ2 00 EHE 2016-09-15T05:50:00.000000 2016-09-16T05:50:00.000000\n",
      "----------------------------------------------------------------------\n"
     ]
    },
    {
     "name": "stderr",
     "output_type": "stream",
     "text": [
      "[2016-09-16 14:19:42,881] - obspy.clients.fdsn.mass_downloader - INFO: Client 'http://165.98.224.52:8081/' - No data available for request.\n",
      "[2016-09-16 14:19:42,912] - obspy.clients.fdsn.mass_downloader - INFO: Client 'http://165.98.224.52:8081/' - Successfully downloaded 1 channels (of 2)\n"
     ]
    },
    {
     "name": "stdout",
     "output_type": "stream",
     "text": [
      "Downloaded http://165.98.224.52:8081/fdsnws/dataselect/1/query with HTTP code: 204\n",
      "Downloading http://165.98.224.52:8081/fdsnws/dataselect/1/query with requesting gzip compression\n",
      "Sending along the following payload:\n",
      "----------------------------------------------------------------------\n",
      "NU APQ2 00 EHN 2016-09-15T05:50:00.000000 2016-09-16T05:50:00.000000\n",
      "NU APQ2 00 EHE 2016-09-16T05:50:00.000000 2016-09-16T06:15:00.000000\n",
      "----------------------------------------------------------------------\n",
      "Downloading http://165.98.224.52:8081/fdsnws/dataselect/1/query with requesting gzip compression\n",
      "Sending along the following payload:\n",
      "----------------------------------------------------------------------\n",
      "TC TRT2 -- HHZ 2016-09-16T05:50:00.000000 2016-09-16T06:15:00.000000\n",
      "PC ZANG -- EHE 2016-09-15T05:50:00.000000 2016-09-16T05:50:00.000000\n",
      "----------------------------------------------------------------------\n"
     ]
    },
    {
     "name": "stderr",
     "output_type": "stream",
     "text": [
      "[2016-09-16 14:19:43,551] - obspy.clients.fdsn.mass_downloader - INFO: Client 'http://165.98.224.52:8081/' - No data available for request.\n"
     ]
    },
    {
     "name": "stdout",
     "output_type": "stream",
     "text": [
      "Downloaded http://165.98.224.52:8081/fdsnws/dataselect/1/query with HTTP code: 204\n",
      "Downloading http://165.98.224.52:8081/fdsnws/dataselect/1/query with requesting gzip compression\n",
      "Sending along the following payload:\n",
      "----------------------------------------------------------------------\n",
      "NU APQ2 00 EHN 2016-09-16T05:50:00.000000 2016-09-16T06:15:00.000000\n",
      "NU APQ2 00 EHZ 2016-09-15T05:50:00.000000 2016-09-16T05:50:00.000000\n",
      "----------------------------------------------------------------------\n"
     ]
    },
    {
     "name": "stderr",
     "output_type": "stream",
     "text": [
      "[2016-09-16 14:19:43,763] - obspy.clients.fdsn.mass_downloader - INFO: Client 'http://165.98.224.52:8081/' - No data available for request.\n"
     ]
    },
    {
     "name": "stdout",
     "output_type": "stream",
     "text": [
      "Downloaded http://165.98.224.52:8081/fdsnws/dataselect/1/query with HTTP code: 204\n",
      "Downloading http://165.98.224.52:8081/fdsnws/dataselect/1/query with requesting gzip compression\n",
      "Sending along the following payload:\n",
      "----------------------------------------------------------------------\n",
      "PC ZANG -- EHN 2016-09-15T05:50:00.000000 2016-09-16T05:50:00.000000\n",
      "PC ZANG -- EHE 2016-09-16T05:50:00.000000 2016-09-16T06:15:00.000000\n",
      "----------------------------------------------------------------------\n"
     ]
    },
    {
     "name": "stderr",
     "output_type": "stream",
     "text": [
      "[2016-09-16 14:19:44,209] - obspy.clients.fdsn.mass_downloader - INFO: Client 'http://165.98.224.52:8081/' - No data available for request.\n",
      "[2016-09-16 14:19:44,390] - obspy.clients.fdsn.mass_downloader - INFO: Client 'http://165.98.224.52:8081/' - No data available for request.\n"
     ]
    },
    {
     "name": "stdout",
     "output_type": "stream",
     "text": [
      "Downloaded http://165.98.224.52:8081/fdsnws/dataselect/1/query with HTTP code: 204\n",
      "Downloading http://165.98.224.52:8081/fdsnws/dataselect/1/query with requesting gzip compression\n",
      "Sending along the following payload:\n",
      "----------------------------------------------------------------------\n",
      "NU APQ2 00 EHZ 2016-09-16T05:50:00.000000 2016-09-16T06:15:00.000000\n",
      "OV QPSB -- HHE 2016-09-15T05:50:00.000000 2016-09-16T05:50:00.000000\n",
      "----------------------------------------------------------------------\n",
      "Downloaded http://165.98.224.52:8081/fdsnws/dataselect/1/query with HTTP code: 204\n",
      "Downloading http://165.98.224.52:8081/fdsnws/dataselect/1/query with requesting gzip compression\n",
      "Sending along the following payload:\n",
      "----------------------------------------------------------------------\n",
      "PC ZANG -- EHZ 2016-09-15T05:50:00.000000 2016-09-16T05:50:00.000000\n",
      "PC ZANG -- EHN 2016-09-16T05:50:00.000000 2016-09-16T06:15:00.000000\n",
      "----------------------------------------------------------------------\n"
     ]
    },
    {
     "name": "stderr",
     "output_type": "stream",
     "text": [
      "[2016-09-16 14:19:47,556] - obspy.clients.fdsn.mass_downloader - INFO: Client 'http://165.98.224.52:8081/' - No data available for request.\n"
     ]
    },
    {
     "name": "stdout",
     "output_type": "stream",
     "text": [
      "Downloaded http://165.98.224.52:8081/fdsnws/dataselect/1/query with HTTP code: 204\n",
      "Downloading http://165.98.224.52:8081/fdsnws/dataselect/1/query with requesting gzip compression\n",
      "Sending along the following payload:\n",
      "----------------------------------------------------------------------\n",
      "PC ZANG -- EHZ 2016-09-16T05:50:00.000000 2016-09-16T06:15:00.000000\n",
      "GI AVPA -- HHE 2016-09-15T05:50:00.000000 2016-09-16T05:50:00.000000\n",
      "----------------------------------------------------------------------\n"
     ]
    },
    {
     "name": "stderr",
     "output_type": "stream",
     "text": [
      "[2016-09-16 14:19:48,089] - obspy.clients.fdsn.mass_downloader - INFO: Client 'http://165.98.224.52:8081/' - No data available for request.\n"
     ]
    },
    {
     "name": "stdout",
     "output_type": "stream",
     "text": [
      "Downloaded http://165.98.224.52:8081/fdsnws/dataselect/1/query with HTTP code: 204\n",
      "Downloading http://165.98.224.52:8081/fdsnws/dataselect/1/query with requesting gzip compression\n",
      "Sending along the following payload:\n",
      "----------------------------------------------------------------------\n",
      "GI AVPA -- HHN 2016-09-15T05:50:00.000000 2016-09-16T05:50:00.000000\n",
      "GI AVPA -- HHE 2016-09-16T05:50:00.000000 2016-09-16T06:15:00.000000\n",
      "----------------------------------------------------------------------\n"
     ]
    },
    {
     "name": "stderr",
     "output_type": "stream",
     "text": [
      "[2016-09-16 14:19:48,637] - obspy.clients.fdsn.mass_downloader - INFO: Client 'http://165.98.224.52:8081/' - No data available for request.\n"
     ]
    },
    {
     "name": "stdout",
     "output_type": "stream",
     "text": [
      "Downloaded http://165.98.224.52:8081/fdsnws/dataselect/1/query with HTTP code: 204\n",
      "Downloading http://165.98.224.52:8081/fdsnws/dataselect/1/query with requesting gzip compression\n",
      "Sending along the following payload:\n",
      "----------------------------------------------------------------------\n",
      "GI AVPA -- HHZ 2016-09-15T05:50:00.000000 2016-09-16T05:50:00.000000\n",
      "GI AVPA -- HHN 2016-09-16T05:50:00.000000 2016-09-16T06:15:00.000000\n",
      "----------------------------------------------------------------------\n"
     ]
    },
    {
     "name": "stderr",
     "output_type": "stream",
     "text": [
      "[2016-09-16 14:19:49,129] - obspy.clients.fdsn.mass_downloader - INFO: Client 'http://165.98.224.52:8081/' - No data available for request.\n"
     ]
    },
    {
     "name": "stdout",
     "output_type": "stream",
     "text": [
      "Downloaded http://165.98.224.52:8081/fdsnws/dataselect/1/query with HTTP code: 204\n",
      "Downloading http://165.98.224.52:8081/fdsnws/dataselect/1/query with requesting gzip compression\n",
      "Sending along the following payload:\n",
      "----------------------------------------------------------------------\n",
      "GI AVPA -- HHZ 2016-09-16T05:50:00.000000 2016-09-16T06:15:00.000000\n",
      "OV HRIU -- HHE 2016-09-15T05:50:00.000000 2016-09-16T05:50:00.000000\n",
      "----------------------------------------------------------------------\n"
     ]
    },
    {
     "name": "stderr",
     "output_type": "stream",
     "text": [
      "[2016-09-16 14:19:49,661] - obspy.clients.fdsn.mass_downloader - INFO: Client 'http://165.98.224.52:8081/' - No data available for request.\n"
     ]
    },
    {
     "name": "stdout",
     "output_type": "stream",
     "text": [
      "Downloaded http://165.98.224.52:8081/fdsnws/dataselect/1/query with HTTP code: 204\n",
      "Downloading http://165.98.224.52:8081/fdsnws/dataselect/1/query with requesting gzip compression\n",
      "Sending along the following payload:\n",
      "----------------------------------------------------------------------\n",
      "OV HRIU -- HHE 2016-09-16T05:50:00.000000 2016-09-16T06:15:00.000000\n",
      "OV HRIU -- HHN 2016-09-15T05:50:00.000000 2016-09-16T05:50:00.000000\n",
      "----------------------------------------------------------------------\n"
     ]
    },
    {
     "name": "stderr",
     "output_type": "stream",
     "text": [
      "[2016-09-16 14:19:50,231] - obspy.clients.fdsn.mass_downloader - INFO: Client 'http://165.98.224.52:8081/' - No data available for request.\n"
     ]
    },
    {
     "name": "stdout",
     "output_type": "stream",
     "text": [
      "Downloaded http://165.98.224.52:8081/fdsnws/dataselect/1/query with HTTP code: 204\n",
      "Downloading http://165.98.224.52:8081/fdsnws/dataselect/1/query with requesting gzip compression\n",
      "Sending along the following payload:\n",
      "----------------------------------------------------------------------\n",
      "OV HRIU -- HHZ 2016-09-15T05:50:00.000000 2016-09-16T05:50:00.000000\n",
      "OV HRIU -- HHN 2016-09-16T05:50:00.000000 2016-09-16T06:15:00.000000\n",
      "----------------------------------------------------------------------\n"
     ]
    },
    {
     "name": "stderr",
     "output_type": "stream",
     "text": [
      "[2016-09-16 14:19:50,799] - obspy.clients.fdsn.mass_downloader - INFO: Client 'http://165.98.224.52:8081/' - No data available for request.\n"
     ]
    },
    {
     "name": "stdout",
     "output_type": "stream",
     "text": [
      "Downloaded http://165.98.224.52:8081/fdsnws/dataselect/1/query with HTTP code: 204\n",
      "Downloading http://165.98.224.52:8081/fdsnws/dataselect/1/query with requesting gzip compression\n",
      "Sending along the following payload:\n",
      "----------------------------------------------------------------------\n",
      "NU APQ5 00 EHE 2016-09-15T05:50:00.000000 2016-09-16T05:50:00.000000\n",
      "OV HRIU -- HHZ 2016-09-16T05:50:00.000000 2016-09-16T06:15:00.000000\n",
      "----------------------------------------------------------------------\n",
      "Downloaded http://165.98.224.52:8081/fdsnws/dataselect/1/query with HTTP code: 200\n"
     ]
    },
    {
     "name": "stderr",
     "output_type": "stream",
     "text": [
      "[2016-09-16 14:19:51,370] - obspy.clients.fdsn.mass_downloader - INFO: Client 'http://165.98.224.52:8081/' - No data available for request.\n"
     ]
    },
    {
     "name": "stdout",
     "output_type": "stream",
     "text": [
      "Downloaded http://165.98.224.52:8081/fdsnws/dataselect/1/query with HTTP code: 204\n",
      "Downloading http://165.98.224.52:8081/fdsnws/dataselect/1/query with requesting gzip compression\n",
      "Sending along the following payload:\n",
      "----------------------------------------------------------------------\n",
      "NU APQ5 00 EHE 2016-09-16T05:50:00.000000 2016-09-16T06:15:00.000000\n",
      "NU APQ5 00 EHN 2016-09-15T05:50:00.000000 2016-09-16T05:50:00.000000\n",
      "----------------------------------------------------------------------\n"
     ]
    },
    {
     "name": "stderr",
     "output_type": "stream",
     "text": [
      "[2016-09-16 14:19:51,961] - obspy.clients.fdsn.mass_downloader - INFO: Client 'http://165.98.224.52:8081/' - No data available for request.\n"
     ]
    },
    {
     "name": "stdout",
     "output_type": "stream",
     "text": [
      "Downloaded http://165.98.224.52:8081/fdsnws/dataselect/1/query with HTTP code: 204\n",
      "Downloading http://165.98.224.52:8081/fdsnws/dataselect/1/query with requesting gzip compression\n",
      "Sending along the following payload:\n",
      "----------------------------------------------------------------------\n",
      "NU APQ5 00 EHN 2016-09-16T05:50:00.000000 2016-09-16T06:15:00.000000\n",
      "NU APQ5 00 EHZ 2016-09-15T05:50:00.000000 2016-09-16T05:50:00.000000\n",
      "----------------------------------------------------------------------\n"
     ]
    },
    {
     "name": "stderr",
     "output_type": "stream",
     "text": [
      "[2016-09-16 14:19:52,521] - obspy.clients.fdsn.mass_downloader - INFO: Client 'http://165.98.224.52:8081/' - No data available for request.\n"
     ]
    },
    {
     "name": "stdout",
     "output_type": "stream",
     "text": [
      "Downloaded http://165.98.224.52:8081/fdsnws/dataselect/1/query with HTTP code: 204\n",
      "Downloading http://165.98.224.52:8081/fdsnws/dataselect/1/query with requesting gzip compression\n",
      "Sending along the following payload:\n",
      "----------------------------------------------------------------------\n",
      "SV CEDA -- HHE 2016-09-15T05:50:00.000000 2016-09-16T05:50:00.000000\n",
      "NU APQ5 00 EHZ 2016-09-16T05:50:00.000000 2016-09-16T06:15:00.000000\n",
      "----------------------------------------------------------------------\n"
     ]
    },
    {
     "name": "stderr",
     "output_type": "stream",
     "text": [
      "[2016-09-16 14:19:54,238] - obspy.clients.fdsn.mass_downloader - INFO: Client 'http://165.98.224.52:8081/' - Successfully downloaded 1 channels (of 2)\n"
     ]
    },
    {
     "name": "stdout",
     "output_type": "stream",
     "text": [
      "Downloading http://165.98.224.52:8081/fdsnws/dataselect/1/query with requesting gzip compression\n",
      "Sending along the following payload:\n",
      "----------------------------------------------------------------------\n",
      "SV PAVA -- HHE 2016-09-16T05:50:00.000000 2016-09-16T06:15:00.000000\n",
      "SV PAVA -- HHN 2016-09-15T05:50:00.000000 2016-09-16T05:50:00.000000\n",
      "----------------------------------------------------------------------\n",
      "Downloaded http://165.98.224.52:8081/fdsnws/dataselect/1/query with HTTP code: 200\n"
     ]
    },
    {
     "name": "stderr",
     "output_type": "stream",
     "text": [
      "[2016-09-16 14:20:24,393] - obspy.clients.fdsn.mass_downloader - INFO: Client 'http://165.98.224.52:8081/' - Successfully downloaded 1 channels (of 2)\n"
     ]
    },
    {
     "name": "stdout",
     "output_type": "stream",
     "text": [
      "Downloading http://165.98.224.52:8081/fdsnws/dataselect/1/query with requesting gzip compression\n",
      "Sending along the following payload:\n",
      "----------------------------------------------------------------------\n",
      "OV QPSB -- HHE 2016-09-16T05:50:00.000000 2016-09-16T06:15:00.000000\n",
      "OV QPSB -- HHN 2016-09-15T05:50:00.000000 2016-09-16T05:50:00.000000\n",
      "----------------------------------------------------------------------\n",
      "Downloaded http://165.98.224.52:8081/fdsnws/dataselect/1/query with HTTP code: 200\n",
      "Downloaded http://165.98.224.52:8081/fdsnws/dataselect/1/query with HTTP code: 200\n"
     ]
    },
    {
     "name": "stderr",
     "output_type": "stream",
     "text": [
      "[2016-09-16 14:20:49,601] - obspy.clients.fdsn.mass_downloader - INFO: Client 'http://165.98.224.52:8081/' - Successfully downloaded 1 channels (of 2)\n"
     ]
    },
    {
     "name": "stdout",
     "output_type": "stream",
     "text": [
      "Downloading http://165.98.224.52:8081/fdsnws/dataselect/1/query with requesting gzip compression\n",
      "Sending along the following payload:\n",
      "----------------------------------------------------------------------\n",
      "SV CEDA -- HHE 2016-09-16T05:50:00.000000 2016-09-16T06:15:00.000000\n",
      "SV CEDA -- HHN 2016-09-15T05:50:00.000000 2016-09-16T05:50:00.000000\n",
      "----------------------------------------------------------------------\n"
     ]
    },
    {
     "name": "stderr",
     "output_type": "stream",
     "text": [
      "[2016-09-16 14:20:51,004] - obspy.clients.fdsn.mass_downloader - INFO: Client 'http://165.98.224.52:8081/' - Successfully downloaded 2 channels (of 2)\n"
     ]
    },
    {
     "name": "stdout",
     "output_type": "stream",
     "text": [
      "Downloading http://165.98.224.52:8081/fdsnws/dataselect/1/query with requesting gzip compression\n",
      "Sending along the following payload:\n",
      "----------------------------------------------------------------------\n",
      "SV PAVA -- HHZ 2016-09-15T05:50:00.000000 2016-09-16T05:50:00.000000\n",
      "SV PAVA -- HHN 2016-09-16T05:50:00.000000 2016-09-16T06:15:00.000000\n",
      "----------------------------------------------------------------------\n",
      "Downloaded http://165.98.224.52:8081/fdsnws/dataselect/1/query with HTTP code: 200\n"
     ]
    },
    {
     "name": "stderr",
     "output_type": "stream",
     "text": [
      "[2016-09-16 14:21:05,873] - obspy.clients.fdsn.mass_downloader - INFO: Client 'http://165.98.224.52:8081/' - Successfully downloaded 2 channels (of 2)\n"
     ]
    },
    {
     "name": "stdout",
     "output_type": "stream",
     "text": [
      "Downloading http://165.98.224.52:8081/fdsnws/dataselect/1/query with requesting gzip compression\n",
      "Sending along the following payload:\n",
      "----------------------------------------------------------------------\n",
      "OV QPSB -- HHZ 2016-09-15T05:50:00.000000 2016-09-16T05:50:00.000000\n",
      "OV QPSB -- HHN 2016-09-16T05:50:00.000000 2016-09-16T06:15:00.000000\n",
      "----------------------------------------------------------------------\n",
      "Downloaded http://165.98.224.52:8081/fdsnws/dataselect/1/query with HTTP code: 200\n"
     ]
    },
    {
     "name": "stderr",
     "output_type": "stream",
     "text": [
      "[2016-09-16 14:21:41,304] - obspy.clients.fdsn.mass_downloader - INFO: Client 'http://165.98.224.52:8081/' - Successfully downloaded 2 channels (of 2)\n"
     ]
    },
    {
     "name": "stdout",
     "output_type": "stream",
     "text": [
      "Downloading http://165.98.224.52:8081/fdsnws/dataselect/1/query with requesting gzip compression\n",
      "Sending along the following payload:\n",
      "----------------------------------------------------------------------\n",
      "HN SAPH -- EHE 2016-09-15T05:50:00.000000 2016-09-16T05:50:00.000000\n",
      "OV QPSB -- HHZ 2016-09-16T05:50:00.000000 2016-09-16T06:15:00.000000\n",
      "----------------------------------------------------------------------\n"
     ]
    },
    {
     "name": "stderr",
     "output_type": "stream",
     "text": [
      "[2016-09-16 14:21:42,685] - obspy.clients.fdsn.mass_downloader - INFO: Client 'http://165.98.224.52:8081/' - Successfully downloaded 1 channels (of 2)\n"
     ]
    },
    {
     "name": "stdout",
     "output_type": "stream",
     "text": [
      "Downloaded http://165.98.224.52:8081/fdsnws/dataselect/1/query with HTTP code: 200\n",
      "Downloading http://165.98.224.52:8081/fdsnws/dataselect/1/query with requesting gzip compression\n",
      "Sending along the following payload:\n",
      "----------------------------------------------------------------------\n",
      "HN SAPH -- EHE 2016-09-16T05:50:00.000000 2016-09-16T06:15:00.000000\n",
      "HN SAPH -- EHN 2016-09-15T05:50:00.000000 2016-09-16T05:50:00.000000\n",
      "----------------------------------------------------------------------\n"
     ]
    },
    {
     "name": "stderr",
     "output_type": "stream",
     "text": [
      "[2016-09-16 14:21:43,209] - obspy.clients.fdsn.mass_downloader - INFO: Client 'http://165.98.224.52:8081/' - No data available for request.\n"
     ]
    },
    {
     "name": "stdout",
     "output_type": "stream",
     "text": [
      "Downloaded http://165.98.224.52:8081/fdsnws/dataselect/1/query with HTTP code: 204\n",
      "Downloading http://165.98.224.52:8081/fdsnws/dataselect/1/query with requesting gzip compression\n",
      "Sending along the following payload:\n",
      "----------------------------------------------------------------------\n",
      "HN SAPH -- EHN 2016-09-16T05:50:00.000000 2016-09-16T06:15:00.000000\n",
      "HN SAPH -- EHZ 2016-09-15T05:50:00.000000 2016-09-16T05:50:00.000000\n",
      "----------------------------------------------------------------------\n"
     ]
    },
    {
     "name": "stderr",
     "output_type": "stream",
     "text": [
      "[2016-09-16 14:21:43,839] - obspy.clients.fdsn.mass_downloader - INFO: Client 'http://165.98.224.52:8081/' - No data available for request.\n"
     ]
    },
    {
     "name": "stdout",
     "output_type": "stream",
     "text": [
      "Downloaded http://165.98.224.52:8081/fdsnws/dataselect/1/query with HTTP code: 200\n",
      "Downloaded http://165.98.224.52:8081/fdsnws/dataselect/1/query with HTTP code: 204\n",
      "Downloading http://165.98.224.52:8081/fdsnws/dataselect/1/query with requesting gzip compression\n",
      "Sending along the following payload:\n",
      "----------------------------------------------------------------------\n",
      "NU RCFN 10 EHE 2016-09-15T05:50:00.000000 2016-09-16T05:50:00.000000\n",
      "HN SAPH -- EHZ 2016-09-16T05:50:00.000000 2016-09-16T06:15:00.000000\n",
      "----------------------------------------------------------------------\n"
     ]
    },
    {
     "name": "stderr",
     "output_type": "stream",
     "text": [
      "[2016-09-16 14:21:44,356] - obspy.clients.fdsn.mass_downloader - INFO: Client 'http://165.98.224.52:8081/' - No data available for request.\n"
     ]
    },
    {
     "name": "stdout",
     "output_type": "stream",
     "text": [
      "Downloaded http://165.98.224.52:8081/fdsnws/dataselect/1/query with HTTP code: 204\n",
      "Downloading http://165.98.224.52:8081/fdsnws/dataselect/1/query with requesting gzip compression\n",
      "Sending along the following payload:\n",
      "----------------------------------------------------------------------\n",
      "NU RCFN 10 EHE 2016-09-16T05:50:00.000000 2016-09-16T06:15:00.000000\n",
      "NU RCFN 10 EHN 2016-09-15T05:50:00.000000 2016-09-16T05:50:00.000000\n",
      "----------------------------------------------------------------------\n"
     ]
    },
    {
     "name": "stderr",
     "output_type": "stream",
     "text": [
      "[2016-09-16 14:21:44,889] - obspy.clients.fdsn.mass_downloader - INFO: Client 'http://165.98.224.52:8081/' - No data available for request.\n"
     ]
    },
    {
     "name": "stdout",
     "output_type": "stream",
     "text": [
      "Downloaded http://165.98.224.52:8081/fdsnws/dataselect/1/query with HTTP code: 204\n",
      "Downloading http://165.98.224.52:8081/fdsnws/dataselect/1/query with requesting gzip compression\n",
      "Sending along the following payload:\n",
      "----------------------------------------------------------------------\n",
      "NU RCFN 10 EHN 2016-09-16T05:50:00.000000 2016-09-16T06:15:00.000000\n",
      "NU RCFN 10 EHZ 2016-09-15T05:50:00.000000 2016-09-16T05:50:00.000000\n",
      "----------------------------------------------------------------------\n"
     ]
    },
    {
     "name": "stderr",
     "output_type": "stream",
     "text": [
      "[2016-09-16 14:21:45,380] - obspy.clients.fdsn.mass_downloader - INFO: Client 'http://165.98.224.52:8081/' - No data available for request.\n"
     ]
    },
    {
     "name": "stdout",
     "output_type": "stream",
     "text": [
      "Downloaded http://165.98.224.52:8081/fdsnws/dataselect/1/query with HTTP code: 204\n",
      "Downloading http://165.98.224.52:8081/fdsnws/dataselect/1/query with requesting gzip compression\n",
      "Sending along the following payload:\n",
      "----------------------------------------------------------------------\n",
      "OV ORTG -- HHE 2016-09-15T05:50:00.000000 2016-09-16T05:50:00.000000\n",
      "NU RCFN 10 EHZ 2016-09-16T05:50:00.000000 2016-09-16T06:15:00.000000\n",
      "----------------------------------------------------------------------\n"
     ]
    },
    {
     "name": "stderr",
     "output_type": "stream",
     "text": [
      "[2016-09-16 14:21:47,692] - obspy.clients.fdsn.mass_downloader - INFO: Client 'http://165.98.224.52:8081/' - Successfully downloaded 2 channels (of 2)\n"
     ]
    },
    {
     "name": "stdout",
     "output_type": "stream",
     "text": [
      "Downloading http://165.98.224.52:8081/fdsnws/dataselect/1/query with requesting gzip compression\n",
      "Sending along the following payload:\n",
      "----------------------------------------------------------------------\n",
      "SV PAVA -- HHZ 2016-09-16T05:50:00.000000 2016-09-16T06:15:00.000000\n",
      "NU COPN 00 EHZ 2016-09-15T05:50:00.000000 2016-09-16T05:50:00.000000\n",
      "----------------------------------------------------------------------\n",
      "Downloaded http://165.98.224.52:8081/fdsnws/dataselect/1/query with HTTP code: 200\n"
     ]
    },
    {
     "name": "stderr",
     "output_type": "stream",
     "text": [
      "[2016-09-16 14:21:59,741] - obspy.clients.fdsn.mass_downloader - INFO: Client 'http://165.98.224.52:8081/' - Successfully downloaded 2 channels (of 2)\n"
     ]
    },
    {
     "name": "stdout",
     "output_type": "stream",
     "text": [
      "Downloading http://165.98.224.52:8081/fdsnws/dataselect/1/query with requesting gzip compression\n",
      "Sending along the following payload:\n",
      "----------------------------------------------------------------------\n",
      "SV CEDA -- HHZ 2016-09-15T05:50:00.000000 2016-09-16T05:50:00.000000\n",
      "SV CEDA -- HHN 2016-09-16T05:50:00.000000 2016-09-16T06:15:00.000000\n",
      "----------------------------------------------------------------------\n",
      "Downloaded http://165.98.224.52:8081/fdsnws/dataselect/1/query with HTTP code: 200\n"
     ]
    },
    {
     "name": "stderr",
     "output_type": "stream",
     "text": [
      "[2016-09-16 14:22:35,340] - obspy.clients.fdsn.mass_downloader - INFO: Client 'http://165.98.224.52:8081/' - Successfully downloaded 2 channels (of 2)\n"
     ]
    },
    {
     "name": "stdout",
     "output_type": "stream",
     "text": [
      "Downloading http://165.98.224.52:8081/fdsnws/dataselect/1/query with requesting gzip compression\n",
      "Sending along the following payload:\n",
      "----------------------------------------------------------------------\n",
      "GI RETA -- HHE 2016-09-15T05:50:00.000000 2016-09-16T05:50:00.000000\n",
      "NU COPN 00 EHZ 2016-09-16T05:50:00.000000 2016-09-16T06:15:00.000000\n",
      "----------------------------------------------------------------------\n",
      "Downloaded http://165.98.224.52:8081/fdsnws/dataselect/1/query with HTTP code: 200\n"
     ]
    },
    {
     "name": "stderr",
     "output_type": "stream",
     "text": [
      "[2016-09-16 14:22:45,619] - obspy.clients.fdsn.mass_downloader - INFO: Client 'http://165.98.224.52:8081/' - Successfully downloaded 1 channels (of 2)\n"
     ]
    },
    {
     "name": "stdout",
     "output_type": "stream",
     "text": [
      "Downloading http://165.98.224.52:8081/fdsnws/dataselect/1/query with requesting gzip compression\n",
      "Sending along the following payload:\n",
      "----------------------------------------------------------------------\n",
      "OV ORTG -- HHN 2016-09-15T05:50:00.000000 2016-09-16T05:50:00.000000\n",
      "OV ORTG -- HHE 2016-09-16T05:50:00.000000 2016-09-16T06:15:00.000000\n",
      "----------------------------------------------------------------------\n",
      "Downloaded http://165.98.224.52:8081/fdsnws/dataselect/1/query with HTTP code: 200\n"
     ]
    },
    {
     "name": "stderr",
     "output_type": "stream",
     "text": [
      "[2016-09-16 14:22:58,814] - obspy.clients.fdsn.mass_downloader - INFO: Client 'http://165.98.224.52:8081/' - Successfully downloaded 2 channels (of 2)\n"
     ]
    },
    {
     "name": "stdout",
     "output_type": "stream",
     "text": [
      "Downloading http://165.98.224.52:8081/fdsnws/dataselect/1/query with requesting gzip compression\n",
      "Sending along the following payload:\n",
      "----------------------------------------------------------------------\n",
      "SV CEDA -- HHZ 2016-09-16T05:50:00.000000 2016-09-16T06:15:00.000000\n",
      "NU HB11 -- EHE 2016-09-15T05:50:00.000000 2016-09-16T05:50:00.000000\n",
      "----------------------------------------------------------------------\n"
     ]
    },
    {
     "name": "stderr",
     "output_type": "stream",
     "text": [
      "[2016-09-16 14:23:01,011] - obspy.clients.fdsn.mass_downloader - INFO: Client 'http://165.98.224.52:8081/' - Successfully downloaded 1 channels (of 2)\n"
     ]
    },
    {
     "name": "stdout",
     "output_type": "stream",
     "text": [
      "Downloaded http://165.98.224.52:8081/fdsnws/dataselect/1/query with HTTP code: 200\n",
      "Downloading http://165.98.224.52:8081/fdsnws/dataselect/1/query with requesting gzip compression\n",
      "Sending along the following payload:\n",
      "----------------------------------------------------------------------\n",
      "NU HB11 -- EHN 2016-09-15T05:50:00.000000 2016-09-16T05:50:00.000000\n",
      "NU HB11 -- EHE 2016-09-16T05:50:00.000000 2016-09-16T06:15:00.000000\n",
      "----------------------------------------------------------------------\n"
     ]
    },
    {
     "name": "stderr",
     "output_type": "stream",
     "text": [
      "[2016-09-16 14:23:01,640] - obspy.clients.fdsn.mass_downloader - INFO: Client 'http://165.98.224.52:8081/' - No data available for request.\n"
     ]
    },
    {
     "name": "stdout",
     "output_type": "stream",
     "text": [
      "Downloaded http://165.98.224.52:8081/fdsnws/dataselect/1/query with HTTP code: 204\n",
      "Downloading http://165.98.224.52:8081/fdsnws/dataselect/1/query with requesting gzip compression\n",
      "Sending along the following payload:\n",
      "----------------------------------------------------------------------\n",
      "NU HB11 -- EHZ 2016-09-15T05:50:00.000000 2016-09-16T05:50:00.000000\n",
      "NU HB11 -- EHN 2016-09-16T05:50:00.000000 2016-09-16T06:15:00.000000\n",
      "----------------------------------------------------------------------\n"
     ]
    },
    {
     "name": "stderr",
     "output_type": "stream",
     "text": [
      "[2016-09-16 14:23:02,253] - obspy.clients.fdsn.mass_downloader - INFO: Client 'http://165.98.224.52:8081/' - No data available for request.\n"
     ]
    },
    {
     "name": "stdout",
     "output_type": "stream",
     "text": [
      "Downloaded http://165.98.224.52:8081/fdsnws/dataselect/1/query with HTTP code: 204\n",
      "Downloading http://165.98.224.52:8081/fdsnws/dataselect/1/query with requesting gzip compression\n",
      "Sending along the following payload:\n",
      "----------------------------------------------------------------------\n",
      "NU HB11 -- EHZ 2016-09-16T05:50:00.000000 2016-09-16T06:15:00.000000\n",
      "TC DRK0 -- HHE 2016-09-15T05:50:00.000000 2016-09-16T05:50:00.000000\n",
      "----------------------------------------------------------------------\n",
      "Downloaded http://165.98.224.52:8081/fdsnws/dataselect/1/query with HTTP code: 200\n"
     ]
    },
    {
     "name": "stderr",
     "output_type": "stream",
     "text": [
      "[2016-09-16 14:23:17,041] - obspy.clients.fdsn.mass_downloader - INFO: Client 'http://165.98.224.52:8081/' - Successfully downloaded 2 channels (of 2)\n"
     ]
    },
    {
     "name": "stdout",
     "output_type": "stream",
     "text": [
      "Downloading http://165.98.224.52:8081/fdsnws/dataselect/1/query with requesting gzip compression\n",
      "Sending along the following payload:\n",
      "----------------------------------------------------------------------\n",
      "GI RETA -- HHE 2016-09-16T05:50:00.000000 2016-09-16T06:15:00.000000\n",
      "GI RETA -- HHN 2016-09-15T05:50:00.000000 2016-09-16T05:50:00.000000\n",
      "----------------------------------------------------------------------\n",
      "Downloaded http://165.98.224.52:8081/fdsnws/dataselect/1/query with HTTP code: 200\n"
     ]
    },
    {
     "name": "stderr",
     "output_type": "stream",
     "text": [
      "[2016-09-16 14:23:27,016] - obspy.clients.fdsn.mass_downloader - INFO: Client 'http://165.98.224.52:8081/' - Successfully downloaded 2 channels (of 2)\n"
     ]
    },
    {
     "name": "stdout",
     "output_type": "stream",
     "text": [
      "Downloading http://165.98.224.52:8081/fdsnws/dataselect/1/query with requesting gzip compression\n",
      "Sending along the following payload:\n",
      "----------------------------------------------------------------------\n",
      "OV ORTG -- HHZ 2016-09-15T05:50:00.000000 2016-09-16T05:50:00.000000\n",
      "OV ORTG -- HHN 2016-09-16T05:50:00.000000 2016-09-16T06:15:00.000000\n",
      "----------------------------------------------------------------------\n",
      "Downloaded http://165.98.224.52:8081/fdsnws/dataselect/1/query with HTTP code: 200\n"
     ]
    },
    {
     "name": "stderr",
     "output_type": "stream",
     "text": [
      "[2016-09-16 14:23:41,516] - obspy.clients.fdsn.mass_downloader - INFO: Client 'http://165.98.224.52:8081/' - Successfully downloaded 1 channels (of 2)\n"
     ]
    },
    {
     "name": "stdout",
     "output_type": "stream",
     "text": [
      "Downloading http://165.98.224.52:8081/fdsnws/dataselect/1/query with requesting gzip compression\n",
      "Sending along the following payload:\n",
      "----------------------------------------------------------------------\n",
      "TC DRK0 -- HHE 2016-09-16T05:50:00.000000 2016-09-16T06:15:00.000000\n",
      "TC DRK0 -- HHN 2016-09-15T05:50:00.000000 2016-09-16T05:50:00.000000\n",
      "----------------------------------------------------------------------\n",
      "Downloaded http://165.98.224.52:8081/fdsnws/dataselect/1/query with HTTP code: 200\n"
     ]
    },
    {
     "name": "stderr",
     "output_type": "stream",
     "text": [
      "[2016-09-16 14:24:01,953] - obspy.clients.fdsn.mass_downloader - INFO: Client 'http://165.98.224.52:8081/' - Successfully downloaded 2 channels (of 2)\n"
     ]
    },
    {
     "name": "stdout",
     "output_type": "stream",
     "text": [
      "Downloading http://165.98.224.52:8081/fdsnws/dataselect/1/query with requesting gzip compression\n",
      "Sending along the following payload:\n",
      "----------------------------------------------------------------------\n",
      "GI RETA -- HHZ 2016-09-15T05:50:00.000000 2016-09-16T05:50:00.000000\n",
      "GI RETA -- HHN 2016-09-16T05:50:00.000000 2016-09-16T06:15:00.000000\n",
      "----------------------------------------------------------------------\n",
      "Downloaded http://165.98.224.52:8081/fdsnws/dataselect/1/query with HTTP code: 200\n"
     ]
    },
    {
     "name": "stderr",
     "output_type": "stream",
     "text": [
      "[2016-09-16 14:24:09,277] - obspy.clients.fdsn.mass_downloader - INFO: Client 'http://165.98.224.52:8081/' - Successfully downloaded 1 channels (of 2)\n"
     ]
    },
    {
     "name": "stdout",
     "output_type": "stream",
     "text": [
      "Downloading http://165.98.224.52:8081/fdsnws/dataselect/1/query with requesting gzip compression\n",
      "Sending along the following payload:\n",
      "----------------------------------------------------------------------\n",
      "TC DRK0 -- HHZ 2016-09-15T05:50:00.000000 2016-09-16T05:50:00.000000\n",
      "TC DRK0 -- HHN 2016-09-16T05:50:00.000000 2016-09-16T06:15:00.000000\n",
      "----------------------------------------------------------------------\n",
      "Downloaded http://165.98.224.52:8081/fdsnws/dataselect/1/query with HTTP code: 200\n",
      "Downloaded http://165.98.224.52:8081/fdsnws/dataselect/1/query with HTTP code: 200\n"
     ]
    },
    {
     "name": "stderr",
     "output_type": "stream",
     "text": [
      "[2016-09-16 14:24:38,539] - obspy.clients.fdsn.mass_downloader - INFO: Client 'http://165.98.224.52:8081/' - Successfully downloaded 2 channels (of 2)\n"
     ]
    },
    {
     "name": "stdout",
     "output_type": "stream",
     "text": [
      "Downloading http://165.98.224.52:8081/fdsnws/dataselect/1/query with requesting gzip compression\n",
      "Sending along the following payload:\n",
      "----------------------------------------------------------------------\n",
      "OV ORTG -- HHZ 2016-09-16T05:50:00.000000 2016-09-16T06:15:00.000000\n",
      "TC ARE1 -- HHE 2016-09-15T05:50:00.000000 2016-09-16T05:50:00.000000\n",
      "----------------------------------------------------------------------\n"
     ]
    },
    {
     "name": "stderr",
     "output_type": "stream",
     "text": [
      "[2016-09-16 14:24:39,066] - obspy.clients.fdsn.mass_downloader - INFO: Client 'http://165.98.224.52:8081/' - Successfully downloaded 2 channels (of 2)\n"
     ]
    },
    {
     "name": "stdout",
     "output_type": "stream",
     "text": [
      "Downloading http://165.98.224.52:8081/fdsnws/dataselect/1/query with requesting gzip compression\n",
      "Sending along the following payload:\n",
      "----------------------------------------------------------------------\n",
      "GI RETA -- HHZ 2016-09-16T05:50:00.000000 2016-09-16T06:15:00.000000\n",
      "OV SAJU -- HHE 2016-09-15T05:50:00.000000 2016-09-16T05:50:00.000000\n",
      "----------------------------------------------------------------------\n"
     ]
    },
    {
     "name": "stderr",
     "output_type": "stream",
     "text": [
      "[2016-09-16 14:24:43,939] - obspy.clients.fdsn.mass_downloader - INFO: Client 'http://165.98.224.52:8081/' - Successfully downloaded 1 channels (of 2)\n"
     ]
    },
    {
     "name": "stdout",
     "output_type": "stream",
     "text": [
      "Downloaded http://165.98.224.52:8081/fdsnws/dataselect/1/query with HTTP code: 200\n",
      "Downloading http://165.98.224.52:8081/fdsnws/dataselect/1/query with requesting gzip compression\n",
      "Sending along the following payload:\n",
      "----------------------------------------------------------------------\n",
      "TC ARE1 -- HHE 2016-09-16T05:50:00.000000 2016-09-16T06:15:00.000000\n",
      "TC ARE1 -- HHN 2016-09-15T05:50:00.000000 2016-09-16T05:50:00.000000\n",
      "----------------------------------------------------------------------\n"
     ]
    },
    {
     "name": "stderr",
     "output_type": "stream",
     "text": [
      "[2016-09-16 14:24:44,444] - obspy.clients.fdsn.mass_downloader - INFO: Client 'http://165.98.224.52:8081/' - No data available for request.\n"
     ]
    },
    {
     "name": "stdout",
     "output_type": "stream",
     "text": [
      "Downloaded http://165.98.224.52:8081/fdsnws/dataselect/1/query with HTTP code: 204\n",
      "Downloading http://165.98.224.52:8081/fdsnws/dataselect/1/query with requesting gzip compression\n",
      "Sending along the following payload:\n",
      "----------------------------------------------------------------------\n",
      "TC ARE1 -- HHZ 2016-09-15T05:50:00.000000 2016-09-16T05:50:00.000000\n",
      "TC ARE1 -- HHN 2016-09-16T05:50:00.000000 2016-09-16T06:15:00.000000\n",
      "----------------------------------------------------------------------\n"
     ]
    },
    {
     "name": "stderr",
     "output_type": "stream",
     "text": [
      "[2016-09-16 14:24:45,007] - obspy.clients.fdsn.mass_downloader - INFO: Client 'http://165.98.224.52:8081/' - No data available for request.\n"
     ]
    },
    {
     "name": "stdout",
     "output_type": "stream",
     "text": [
      "Downloaded http://165.98.224.52:8081/fdsnws/dataselect/1/query with HTTP code: 204\n",
      "Downloading http://165.98.224.52:8081/fdsnws/dataselect/1/query with requesting gzip compression\n",
      "Sending along the following payload:\n",
      "----------------------------------------------------------------------\n",
      "TC ARE1 -- HHZ 2016-09-16T05:50:00.000000 2016-09-16T06:15:00.000000\n",
      "SV MTO3 -- HHE 2016-09-15T05:50:00.000000 2016-09-16T05:50:00.000000\n",
      "----------------------------------------------------------------------\n",
      "Downloaded http://165.98.224.52:8081/fdsnws/dataselect/1/query with HTTP code: 200\n"
     ]
    },
    {
     "name": "stderr",
     "output_type": "stream",
     "text": [
      "[2016-09-16 14:24:47,081] - obspy.clients.fdsn.mass_downloader - INFO: Client 'http://165.98.224.52:8081/' - Successfully downloaded 1 channels (of 2)\n"
     ]
    },
    {
     "name": "stdout",
     "output_type": "stream",
     "text": [
      "Downloading http://165.98.224.52:8081/fdsnws/dataselect/1/query with requesting gzip compression\n",
      "Sending along the following payload:\n",
      "----------------------------------------------------------------------\n",
      "TC DRK0 -- HHZ 2016-09-16T05:50:00.000000 2016-09-16T06:15:00.000000\n",
      "PA BRU2 -- HHE 2016-09-15T05:50:00.000000 2016-09-16T05:50:00.000000\n",
      "----------------------------------------------------------------------\n",
      "Downloaded http://165.98.224.52:8081/fdsnws/dataselect/1/query with HTTP code: 200\n"
     ]
    },
    {
     "name": "stderr",
     "output_type": "stream",
     "text": [
      "[2016-09-16 14:25:02,723] - obspy.clients.fdsn.mass_downloader - INFO: Client 'http://165.98.224.52:8081/' - Successfully downloaded 2 channels (of 2)\n"
     ]
    },
    {
     "name": "stdout",
     "output_type": "stream",
     "text": [
      "Downloading http://165.98.224.52:8081/fdsnws/dataselect/1/query with requesting gzip compression\n",
      "Sending along the following payload:\n",
      "----------------------------------------------------------------------\n",
      "OV SAJU -- HHN 2016-09-15T05:50:00.000000 2016-09-16T05:50:00.000000\n",
      "OV SAJU -- HHE 2016-09-16T05:50:00.000000 2016-09-16T06:15:00.000000\n",
      "----------------------------------------------------------------------\n",
      "Downloaded http://165.98.224.52:8081/fdsnws/dataselect/1/query with HTTP code: 200\n"
     ]
    },
    {
     "name": "stderr",
     "output_type": "stream",
     "text": [
      "[2016-09-16 14:25:16,360] - obspy.clients.fdsn.mass_downloader - INFO: Client 'http://165.98.224.52:8081/' - Successfully downloaded 1 channels (of 2)\n"
     ]
    },
    {
     "name": "stdout",
     "output_type": "stream",
     "text": [
      "Downloading http://165.98.224.52:8081/fdsnws/dataselect/1/query with requesting gzip compression\n",
      "Sending along the following payload:\n",
      "----------------------------------------------------------------------\n",
      "PA BRU2 -- HHN 2016-09-15T05:50:00.000000 2016-09-16T05:50:00.000000\n",
      "PA BRU2 -- HHE 2016-09-16T05:50:00.000000 2016-09-16T06:15:00.000000\n",
      "----------------------------------------------------------------------\n",
      "Downloaded http://165.98.224.52:8081/fdsnws/dataselect/1/query with HTTP code: 200\n"
     ]
    },
    {
     "name": "stderr",
     "output_type": "stream",
     "text": [
      "[2016-09-16 14:25:25,046] - obspy.clients.fdsn.mass_downloader - INFO: Client 'http://165.98.224.52:8081/' - Successfully downloaded 1 channels (of 2)\n"
     ]
    },
    {
     "name": "stdout",
     "output_type": "stream",
     "text": [
      "Downloading http://165.98.224.52:8081/fdsnws/dataselect/1/query with requesting gzip compression\n",
      "Sending along the following payload:\n",
      "----------------------------------------------------------------------\n",
      "SV MTO3 -- HHN 2016-09-15T05:50:00.000000 2016-09-16T05:50:00.000000\n",
      "SV MTO3 -- HHE 2016-09-16T05:50:00.000000 2016-09-16T06:15:00.000000\n",
      "----------------------------------------------------------------------\n",
      "Downloaded http://165.98.224.52:8081/fdsnws/dataselect/1/query with HTTP code: 200\n"
     ]
    },
    {
     "name": "stderr",
     "output_type": "stream",
     "text": [
      "[2016-09-16 14:25:33,065] - obspy.clients.fdsn.mass_downloader - INFO: Client 'http://165.98.224.52:8081/' - Successfully downloaded 2 channels (of 2)\n"
     ]
    },
    {
     "name": "stdout",
     "output_type": "stream",
     "text": [
      "Downloading http://165.98.224.52:8081/fdsnws/dataselect/1/query with requesting gzip compression\n",
      "Sending along the following payload:\n",
      "----------------------------------------------------------------------\n",
      "OV SAJU -- HHZ 2016-09-15T05:50:00.000000 2016-09-16T05:50:00.000000\n",
      "OV SAJU -- HHN 2016-09-16T05:50:00.000000 2016-09-16T06:15:00.000000\n",
      "----------------------------------------------------------------------\n",
      "Downloaded http://165.98.224.52:8081/fdsnws/dataselect/1/query with HTTP code: 200\n",
      "Downloaded http://165.98.224.52:8081/fdsnws/dataselect/1/query with HTTP code: 200\n"
     ]
    },
    {
     "name": "stderr",
     "output_type": "stream",
     "text": [
      "[2016-09-16 14:26:00,964] - obspy.clients.fdsn.mass_downloader - INFO: Client 'http://165.98.224.52:8081/' - Successfully downloaded 2 channels (of 2)\n"
     ]
    },
    {
     "name": "stdout",
     "output_type": "stream",
     "text": [
      "Downloading http://165.98.224.52:8081/fdsnws/dataselect/1/query with requesting gzip compression\n",
      "Sending along the following payload:\n",
      "----------------------------------------------------------------------\n",
      "PA BRU2 -- HHN 2016-09-16T05:50:00.000000 2016-09-16T06:15:00.000000\n",
      "PA BRU2 -- HHZ 2016-09-15T05:50:00.000000 2016-09-16T05:50:00.000000\n",
      "----------------------------------------------------------------------\n"
     ]
    },
    {
     "name": "stderr",
     "output_type": "stream",
     "text": [
      "[2016-09-16 14:26:01,299] - obspy.clients.fdsn.mass_downloader - INFO: Client 'http://165.98.224.52:8081/' - Successfully downloaded 2 channels (of 2)\n"
     ]
    },
    {
     "name": "stdout",
     "output_type": "stream",
     "text": [
      "Downloading http://165.98.224.52:8081/fdsnws/dataselect/1/query with requesting gzip compression\n",
      "Sending along the following payload:\n",
      "----------------------------------------------------------------------\n",
      "SV MTO3 -- HHZ 2016-09-15T05:50:00.000000 2016-09-16T05:50:00.000000\n",
      "SV MTO3 -- HHN 2016-09-16T05:50:00.000000 2016-09-16T06:15:00.000000\n",
      "----------------------------------------------------------------------\n",
      "Downloaded http://165.98.224.52:8081/fdsnws/dataselect/1/query with HTTP code: 200\n"
     ]
    },
    {
     "name": "stderr",
     "output_type": "stream",
     "text": [
      "[2016-09-16 14:26:12,808] - obspy.clients.fdsn.mass_downloader - INFO: Client 'http://165.98.224.52:8081/' - Successfully downloaded 2 channels (of 2)\n"
     ]
    },
    {
     "name": "stdout",
     "output_type": "stream",
     "text": [
      "Downloaded http://165.98.224.52:8081/fdsnws/dataselect/1/query with HTTP code: 200\n"
     ]
    },
    {
     "name": "stderr",
     "output_type": "stream",
     "text": [
      "[2016-09-16 14:26:29,901] - obspy.clients.fdsn.mass_downloader - INFO: Client 'http://165.98.224.52:8081/' - Successfully downloaded 2 channels (of 2)\n"
     ]
    },
    {
     "name": "stdout",
     "output_type": "stream",
     "text": [
      "Downloading http://165.98.224.52:8081/fdsnws/dataselect/1/query with requesting gzip compression\n",
      "Sending along the following payload:\n",
      "----------------------------------------------------------------------\n",
      "SV MTO3 -- HHZ 2016-09-16T05:50:00.000000 2016-09-16T06:15:00.000000\n",
      "OV PUJE -- EHE 2016-09-15T05:50:00.000000 2016-09-16T05:50:00.000000\n",
      "----------------------------------------------------------------------\n"
     ]
    },
    {
     "name": "stderr",
     "output_type": "stream",
     "text": [
      "[2016-09-16 14:26:31,423] - obspy.clients.fdsn.mass_downloader - INFO: Client 'http://165.98.224.52:8081/' - Successfully downloaded 1 channels (of 2)\n"
     ]
    },
    {
     "name": "stdout",
     "output_type": "stream",
     "text": [
      "Downloaded http://165.98.224.52:8081/fdsnws/dataselect/1/query with HTTP code: 200\n",
      "Downloading http://165.98.224.52:8081/fdsnws/dataselect/1/query with requesting gzip compression\n",
      "Sending along the following payload:\n",
      "----------------------------------------------------------------------\n",
      "OV PUJE -- EHE 2016-09-16T05:50:00.000000 2016-09-16T06:15:00.000000\n",
      "OV PUJE -- EHN 2016-09-15T05:50:00.000000 2016-09-16T05:50:00.000000\n",
      "----------------------------------------------------------------------\n"
     ]
    },
    {
     "name": "stderr",
     "output_type": "stream",
     "text": [
      "[2016-09-16 14:26:31,971] - obspy.clients.fdsn.mass_downloader - INFO: Client 'http://165.98.224.52:8081/' - No data available for request.\n"
     ]
    },
    {
     "name": "stdout",
     "output_type": "stream",
     "text": [
      "Downloaded http://165.98.224.52:8081/fdsnws/dataselect/1/query with HTTP code: 204\n",
      "Downloading http://165.98.224.52:8081/fdsnws/dataselect/1/query with requesting gzip compression\n",
      "Sending along the following payload:\n",
      "----------------------------------------------------------------------\n",
      "OV PUJE -- EHZ 2016-09-15T05:50:00.000000 2016-09-16T05:50:00.000000\n",
      "OV PUJE -- EHN 2016-09-16T05:50:00.000000 2016-09-16T06:15:00.000000\n",
      "----------------------------------------------------------------------\n"
     ]
    },
    {
     "name": "stderr",
     "output_type": "stream",
     "text": [
      "[2016-09-16 14:26:32,516] - obspy.clients.fdsn.mass_downloader - INFO: Client 'http://165.98.224.52:8081/' - No data available for request.\n"
     ]
    },
    {
     "name": "stdout",
     "output_type": "stream",
     "text": [
      "Downloaded http://165.98.224.52:8081/fdsnws/dataselect/1/query with HTTP code: 204\n",
      "Downloading http://165.98.224.52:8081/fdsnws/dataselect/1/query with requesting gzip compression\n",
      "Sending along the following payload:\n",
      "----------------------------------------------------------------------\n",
      "OV JACO -- HHE 2016-09-15T05:50:00.000000 2016-09-16T05:50:00.000000\n",
      "OV PUJE -- EHZ 2016-09-16T05:50:00.000000 2016-09-16T06:15:00.000000\n",
      "----------------------------------------------------------------------\n"
     ]
    },
    {
     "name": "stderr",
     "output_type": "stream",
     "text": [
      "[2016-09-16 14:26:33,092] - obspy.clients.fdsn.mass_downloader - INFO: Client 'http://165.98.224.52:8081/' - No data available for request.\n"
     ]
    },
    {
     "name": "stdout",
     "output_type": "stream",
     "text": [
      "Downloaded http://165.98.224.52:8081/fdsnws/dataselect/1/query with HTTP code: 204\n",
      "Downloading http://165.98.224.52:8081/fdsnws/dataselect/1/query with requesting gzip compression\n",
      "Sending along the following payload:\n",
      "----------------------------------------------------------------------\n",
      "OV JACO -- HHN 2016-09-15T05:50:00.000000 2016-09-16T05:50:00.000000\n",
      "OV JACO -- HHE 2016-09-16T05:50:00.000000 2016-09-16T06:15:00.000000\n",
      "----------------------------------------------------------------------\n"
     ]
    },
    {
     "name": "stderr",
     "output_type": "stream",
     "text": [
      "[2016-09-16 14:26:33,654] - obspy.clients.fdsn.mass_downloader - INFO: Client 'http://165.98.224.52:8081/' - No data available for request.\n"
     ]
    },
    {
     "name": "stdout",
     "output_type": "stream",
     "text": [
      "Downloaded http://165.98.224.52:8081/fdsnws/dataselect/1/query with HTTP code: 204\n",
      "Downloading http://165.98.224.52:8081/fdsnws/dataselect/1/query with requesting gzip compression\n",
      "Sending along the following payload:\n",
      "----------------------------------------------------------------------\n",
      "OV JACO -- HHN 2016-09-16T05:50:00.000000 2016-09-16T06:15:00.000000\n",
      "OV JACO -- HHZ 2016-09-15T05:50:00.000000 2016-09-16T05:50:00.000000\n",
      "----------------------------------------------------------------------\n"
     ]
    },
    {
     "name": "stderr",
     "output_type": "stream",
     "text": [
      "[2016-09-16 14:26:34,220] - obspy.clients.fdsn.mass_downloader - INFO: Client 'http://165.98.224.52:8081/' - No data available for request.\n"
     ]
    },
    {
     "name": "stdout",
     "output_type": "stream",
     "text": [
      "Downloaded http://165.98.224.52:8081/fdsnws/dataselect/1/query with HTTP code: 204\n",
      "Downloading http://165.98.224.52:8081/fdsnws/dataselect/1/query with requesting gzip compression\n",
      "Sending along the following payload:\n",
      "----------------------------------------------------------------------\n",
      "GI GUNB -- HHE 2016-09-15T05:50:00.000000 2016-09-16T05:50:00.000000\n",
      "OV JACO -- HHZ 2016-09-16T05:50:00.000000 2016-09-16T06:15:00.000000\n",
      "----------------------------------------------------------------------\n",
      "Downloaded http://165.98.224.52:8081/fdsnws/dataselect/1/query with HTTP code: 200\n"
     ]
    },
    {
     "name": "stderr",
     "output_type": "stream",
     "text": [
      "[2016-09-16 14:26:35,888] - obspy.clients.fdsn.mass_downloader - INFO: Client 'http://165.98.224.52:8081/' - Successfully downloaded 2 channels (of 2)\n"
     ]
    },
    {
     "name": "stdout",
     "output_type": "stream",
     "text": [
      "Downloaded http://165.98.224.52:8081/fdsnws/dataselect/1/query with HTTP code: 200\n"
     ]
    },
    {
     "name": "stderr",
     "output_type": "stream",
     "text": [
      "[2016-09-16 14:27:04,907] - obspy.clients.fdsn.mass_downloader - INFO: Client 'http://165.98.224.52:8081/' - Successfully downloaded 1 channels (of 2)\n"
     ]
    },
    {
     "name": "stdout",
     "output_type": "stream",
     "text": [
      "Downloading http://165.98.224.52:8081/fdsnws/dataselect/1/query with requesting gzip compression\n",
      "Sending along the following payload:\n",
      "----------------------------------------------------------------------\n",
      "GI GUNB -- HHE 2016-09-16T05:50:00.000000 2016-09-16T06:15:00.000000\n",
      "GI GUNB -- HHN 2016-09-15T05:50:00.000000 2016-09-16T05:50:00.000000\n",
      "----------------------------------------------------------------------\n",
      "Downloaded http://165.98.224.52:8081/fdsnws/dataselect/1/query with HTTP code: 200\n"
     ]
    },
    {
     "name": "stderr",
     "output_type": "stream",
     "text": [
      "[2016-09-16 14:27:39,202] - obspy.clients.fdsn.mass_downloader - INFO: Client 'http://165.98.224.52:8081/' - Successfully downloaded 2 channels (of 2)\n"
     ]
    },
    {
     "name": "stdout",
     "output_type": "stream",
     "text": [
      "Downloading http://165.98.224.52:8081/fdsnws/dataselect/1/query with requesting gzip compression\n",
      "Sending along the following payload:\n",
      "----------------------------------------------------------------------\n",
      "GI GUNB -- HHN 2016-09-16T05:50:00.000000 2016-09-16T06:15:00.000000\n",
      "GI GUNB -- HHZ 2016-09-15T05:50:00.000000 2016-09-16T05:50:00.000000\n",
      "----------------------------------------------------------------------\n",
      "Downloaded http://165.98.224.52:8081/fdsnws/dataselect/1/query with HTTP code: 200\n"
     ]
    },
    {
     "name": "stderr",
     "output_type": "stream",
     "text": [
      "[2016-09-16 14:28:14,840] - obspy.clients.fdsn.mass_downloader - INFO: Client 'http://165.98.224.52:8081/' - Successfully downloaded 2 channels (of 2)\n"
     ]
    },
    {
     "name": "stdout",
     "output_type": "stream",
     "text": [
      "Downloading http://165.98.224.52:8081/fdsnws/dataselect/1/query with requesting gzip compression\n",
      "Sending along the following payload:\n",
      "----------------------------------------------------------------------\n",
      "GI HUEH -- HHE 2016-09-15T05:50:00.000000 2016-09-16T05:50:00.000000\n",
      "GI GUNB -- HHZ 2016-09-16T05:50:00.000000 2016-09-16T06:15:00.000000\n",
      "----------------------------------------------------------------------\n",
      "Downloaded http://165.98.224.52:8081/fdsnws/dataselect/1/query with HTTP code: 200\n"
     ]
    },
    {
     "name": "stderr",
     "output_type": "stream",
     "text": [
      "[2016-09-16 14:29:10,060] - obspy.clients.fdsn.mass_downloader - INFO: Client 'http://165.98.224.52:8081/' - Successfully downloaded 2 channels (of 2)\n"
     ]
    },
    {
     "name": "stdout",
     "output_type": "stream",
     "text": [
      "Downloading http://165.98.224.52:8081/fdsnws/dataselect/1/query with requesting gzip compression\n",
      "Sending along the following payload:\n",
      "----------------------------------------------------------------------\n",
      "GI HUEH -- HHE 2016-09-16T05:50:00.000000 2016-09-16T06:15:00.000000\n",
      "GI HUEH -- HHN 2016-09-15T05:50:00.000000 2016-09-16T05:50:00.000000\n",
      "----------------------------------------------------------------------\n",
      "Downloaded http://165.98.224.52:8081/fdsnws/dataselect/1/query with HTTP code: 200\n"
     ]
    },
    {
     "name": "stderr",
     "output_type": "stream",
     "text": [
      "[2016-09-16 14:30:01,971] - obspy.clients.fdsn.mass_downloader - INFO: Client 'http://165.98.224.52:8081/' - Successfully downloaded 2 channels (of 2)\n"
     ]
    },
    {
     "name": "stdout",
     "output_type": "stream",
     "text": [
      "Downloading http://165.98.224.52:8081/fdsnws/dataselect/1/query with requesting gzip compression\n",
      "Sending along the following payload:\n",
      "----------------------------------------------------------------------\n",
      "GI HUEH -- HHZ 2016-09-15T05:50:00.000000 2016-09-16T05:50:00.000000\n",
      "GI HUEH -- HHN 2016-09-16T05:50:00.000000 2016-09-16T06:15:00.000000\n",
      "----------------------------------------------------------------------\n",
      "Downloaded http://165.98.224.52:8081/fdsnws/dataselect/1/query with HTTP code: 200\n"
     ]
    },
    {
     "name": "stderr",
     "output_type": "stream",
     "text": [
      "[2016-09-16 14:30:56,142] - obspy.clients.fdsn.mass_downloader - INFO: Client 'http://165.98.224.52:8081/' - Successfully downloaded 2 channels (of 2)\n"
     ]
    },
    {
     "name": "stdout",
     "output_type": "stream",
     "text": [
      "Downloading http://165.98.224.52:8081/fdsnws/dataselect/1/query with requesting gzip compression\n",
      "Sending along the following payload:\n",
      "----------------------------------------------------------------------\n",
      "OV DUNO -- HHE 2016-09-15T05:50:00.000000 2016-09-16T05:50:00.000000\n",
      "GI HUEH -- HHZ 2016-09-16T05:50:00.000000 2016-09-16T06:15:00.000000\n",
      "----------------------------------------------------------------------\n",
      "Downloaded http://165.98.224.52:8081/fdsnws/dataselect/1/query with HTTP code: 200\n"
     ]
    },
    {
     "name": "stderr",
     "output_type": "stream",
     "text": [
      "[2016-09-16 14:31:44,132] - obspy.clients.fdsn.mass_downloader - INFO: Client 'http://165.98.224.52:8081/' - Successfully downloaded 2 channels (of 2)\n"
     ]
    },
    {
     "name": "stdout",
     "output_type": "stream",
     "text": [
      "Downloading http://165.98.224.52:8081/fdsnws/dataselect/1/query with requesting gzip compression\n",
      "Sending along the following payload:\n",
      "----------------------------------------------------------------------\n",
      "OV DUNO -- HHE 2016-09-16T05:50:00.000000 2016-09-16T06:15:00.000000\n",
      "OV DUNO -- HHN 2016-09-15T05:50:00.000000 2016-09-16T05:50:00.000000\n",
      "----------------------------------------------------------------------\n",
      "Downloaded http://165.98.224.52:8081/fdsnws/dataselect/1/query with HTTP code: 200\n"
     ]
    },
    {
     "name": "stderr",
     "output_type": "stream",
     "text": [
      "[2016-09-16 14:32:41,141] - obspy.clients.fdsn.mass_downloader - INFO: Client 'http://165.98.224.52:8081/' - Successfully downloaded 2 channels (of 2)\n"
     ]
    },
    {
     "name": "stdout",
     "output_type": "stream",
     "text": [
      "Downloading http://165.98.224.52:8081/fdsnws/dataselect/1/query with requesting gzip compression\n",
      "Sending along the following payload:\n",
      "----------------------------------------------------------------------\n",
      "OV DUNO -- HHN 2016-09-16T05:50:00.000000 2016-09-16T06:15:00.000000\n",
      "OV DUNO -- HHZ 2016-09-15T05:50:00.000000 2016-09-16T05:50:00.000000\n",
      "----------------------------------------------------------------------\n",
      "Downloaded http://165.98.224.52:8081/fdsnws/dataselect/1/query with HTTP code: 200\n"
     ]
    },
    {
     "name": "stderr",
     "output_type": "stream",
     "text": [
      "[2016-09-16 14:33:24,300] - obspy.clients.fdsn.mass_downloader - INFO: Client 'http://165.98.224.52:8081/' - Successfully downloaded 2 channels (of 2)\n"
     ]
    },
    {
     "name": "stdout",
     "output_type": "stream",
     "text": [
      "Downloading http://165.98.224.52:8081/fdsnws/dataselect/1/query with requesting gzip compression\n",
      "Sending along the following payload:\n",
      "----------------------------------------------------------------------\n",
      "OV CCOL -- HHE 2016-09-15T05:50:00.000000 2016-09-16T05:50:00.000000\n",
      "OV DUNO -- HHZ 2016-09-16T05:50:00.000000 2016-09-16T06:15:00.000000\n",
      "----------------------------------------------------------------------\n",
      "Downloaded http://165.98.224.52:8081/fdsnws/dataselect/1/query with HTTP code: 200\n"
     ]
    },
    {
     "name": "stderr",
     "output_type": "stream",
     "text": [
      "[2016-09-16 14:34:23,208] - obspy.clients.fdsn.mass_downloader - INFO: Client 'http://165.98.224.52:8081/' - Successfully downloaded 2 channels (of 2)\n"
     ]
    },
    {
     "name": "stdout",
     "output_type": "stream",
     "text": [
      "Downloading http://165.98.224.52:8081/fdsnws/dataselect/1/query with requesting gzip compression\n",
      "Sending along the following payload:\n",
      "----------------------------------------------------------------------\n",
      "OV CCOL -- HHE 2016-09-16T05:50:00.000000 2016-09-16T06:15:00.000000\n",
      "OV CCOL -- HHN 2016-09-15T05:50:00.000000 2016-09-16T05:50:00.000000\n",
      "----------------------------------------------------------------------\n",
      "Downloaded http://165.98.224.52:8081/fdsnws/dataselect/1/query with HTTP code: 200\n"
     ]
    },
    {
     "name": "stderr",
     "output_type": "stream",
     "text": [
      "[2016-09-16 14:35:25,571] - obspy.clients.fdsn.mass_downloader - INFO: Client 'http://165.98.224.52:8081/' - Successfully downloaded 2 channels (of 2)\n"
     ]
    },
    {
     "name": "stdout",
     "output_type": "stream",
     "text": [
      "Downloading http://165.98.224.52:8081/fdsnws/dataselect/1/query with requesting gzip compression\n",
      "Sending along the following payload:\n",
      "----------------------------------------------------------------------\n",
      "OV CCOL -- HHN 2016-09-16T05:50:00.000000 2016-09-16T06:15:00.000000\n",
      "OV CCOL -- HHZ 2016-09-15T05:50:00.000000 2016-09-16T05:50:00.000000\n",
      "----------------------------------------------------------------------\n",
      "Downloaded http://165.98.224.52:8081/fdsnws/dataselect/1/query with HTTP code: 200\n"
     ]
    },
    {
     "name": "stderr",
     "output_type": "stream",
     "text": [
      "[2016-09-16 14:36:09,599] - obspy.clients.fdsn.mass_downloader - INFO: Client 'http://165.98.224.52:8081/' - Successfully downloaded 2 channels (of 2)\n"
     ]
    },
    {
     "name": "stdout",
     "output_type": "stream",
     "text": [
      "Downloading http://165.98.224.52:8081/fdsnws/dataselect/1/query with requesting gzip compression\n",
      "Sending along the following payload:\n",
      "----------------------------------------------------------------------\n",
      "OV CCOL -- HHZ 2016-09-16T05:50:00.000000 2016-09-16T06:15:00.000000\n",
      "NU MOM1 00 EHE 2016-09-15T05:50:00.000000 2016-09-16T05:50:00.000000\n",
      "----------------------------------------------------------------------\n",
      "Downloaded http://165.98.224.52:8081/fdsnws/dataselect/1/query with HTTP code: 200\n"
     ]
    },
    {
     "name": "stderr",
     "output_type": "stream",
     "text": [
      "[2016-09-16 14:36:19,851] - obspy.clients.fdsn.mass_downloader - INFO: Client 'http://165.98.224.52:8081/' - Successfully downloaded 2 channels (of 2)\n"
     ]
    },
    {
     "name": "stdout",
     "output_type": "stream",
     "text": [
      "Downloading http://165.98.224.52:8081/fdsnws/dataselect/1/query with requesting gzip compression\n",
      "Sending along the following payload:\n",
      "----------------------------------------------------------------------\n",
      "NU MOM1 00 EHN 2016-09-15T05:50:00.000000 2016-09-16T05:50:00.000000\n",
      "NU MOM1 00 EHE 2016-09-16T05:50:00.000000 2016-09-16T06:15:00.000000\n",
      "----------------------------------------------------------------------\n",
      "Downloaded http://165.98.224.52:8081/fdsnws/dataselect/1/query with HTTP code: 200\n"
     ]
    },
    {
     "name": "stderr",
     "output_type": "stream",
     "text": [
      "[2016-09-16 14:36:30,728] - obspy.clients.fdsn.mass_downloader - INFO: Client 'http://165.98.224.52:8081/' - Successfully downloaded 2 channels (of 2)\n"
     ]
    },
    {
     "name": "stdout",
     "output_type": "stream",
     "text": [
      "Downloading http://165.98.224.52:8081/fdsnws/dataselect/1/query with requesting gzip compression\n",
      "Sending along the following payload:\n",
      "----------------------------------------------------------------------\n",
      "NU MOM1 00 EHZ 2016-09-15T05:50:00.000000 2016-09-16T05:50:00.000000\n",
      "NU MOM1 00 EHN 2016-09-16T05:50:00.000000 2016-09-16T06:15:00.000000\n",
      "----------------------------------------------------------------------\n",
      "Downloaded http://165.98.224.52:8081/fdsnws/dataselect/1/query with HTTP code: 200\n"
     ]
    },
    {
     "name": "stderr",
     "output_type": "stream",
     "text": [
      "[2016-09-16 14:36:49,736] - obspy.clients.fdsn.mass_downloader - INFO: Client 'http://165.98.224.52:8081/' - Successfully downloaded 2 channels (of 2)\n"
     ]
    },
    {
     "name": "stdout",
     "output_type": "stream",
     "text": [
      "Downloading http://165.98.224.52:8081/fdsnws/dataselect/1/query with requesting gzip compression\n",
      "Sending along the following payload:\n",
      "----------------------------------------------------------------------\n",
      "NU MOM1 00 EHZ 2016-09-16T05:50:00.000000 2016-09-16T06:15:00.000000\n",
      "NU MACN 00 EHE 2016-09-15T05:50:00.000000 2016-09-16T05:50:00.000000\n",
      "----------------------------------------------------------------------\n"
     ]
    },
    {
     "name": "stderr",
     "output_type": "stream",
     "text": [
      "[2016-09-16 14:36:51,106] - obspy.clients.fdsn.mass_downloader - INFO: Client 'http://165.98.224.52:8081/' - Successfully downloaded 1 channels (of 2)\n"
     ]
    },
    {
     "name": "stdout",
     "output_type": "stream",
     "text": [
      "Downloaded http://165.98.224.52:8081/fdsnws/dataselect/1/query with HTTP code: 200\n",
      "Downloading http://165.98.224.52:8081/fdsnws/dataselect/1/query with requesting gzip compression\n",
      "Sending along the following payload:\n",
      "----------------------------------------------------------------------\n",
      "NU MACN 00 EHN 2016-09-15T05:50:00.000000 2016-09-16T05:50:00.000000\n",
      "NU MACN 00 EHE 2016-09-16T05:50:00.000000 2016-09-16T06:15:00.000000\n",
      "----------------------------------------------------------------------\n"
     ]
    },
    {
     "name": "stderr",
     "output_type": "stream",
     "text": [
      "[2016-09-16 14:36:51,671] - obspy.clients.fdsn.mass_downloader - INFO: Client 'http://165.98.224.52:8081/' - No data available for request.\n"
     ]
    },
    {
     "name": "stdout",
     "output_type": "stream",
     "text": [
      "Downloaded http://165.98.224.52:8081/fdsnws/dataselect/1/query with HTTP code: 204\n",
      "Downloading http://165.98.224.52:8081/fdsnws/dataselect/1/query with requesting gzip compression\n",
      "Sending along the following payload:\n",
      "----------------------------------------------------------------------\n",
      "NU MACN 00 EHN 2016-09-16T05:50:00.000000 2016-09-16T06:15:00.000000\n",
      "NU MACN 00 EHZ 2016-09-15T05:50:00.000000 2016-09-16T05:50:00.000000\n",
      "----------------------------------------------------------------------\n"
     ]
    },
    {
     "name": "stderr",
     "output_type": "stream",
     "text": [
      "[2016-09-16 14:36:52,223] - obspy.clients.fdsn.mass_downloader - INFO: Client 'http://165.98.224.52:8081/' - No data available for request.\n"
     ]
    },
    {
     "name": "stdout",
     "output_type": "stream",
     "text": [
      "Downloaded http://165.98.224.52:8081/fdsnws/dataselect/1/query with HTTP code: 204\n",
      "Downloading http://165.98.224.52:8081/fdsnws/dataselect/1/query with requesting gzip compression\n",
      "Sending along the following payload:\n",
      "----------------------------------------------------------------------\n",
      "NU MACN 00 EHZ 2016-09-16T05:50:00.000000 2016-09-16T06:15:00.000000\n",
      "NU ACON -- HHE 2016-09-15T05:50:00.000000 2016-09-16T05:50:00.000000\n",
      "----------------------------------------------------------------------\n",
      "Downloaded http://165.98.224.52:8081/fdsnws/dataselect/1/query with HTTP code: 200\n"
     ]
    },
    {
     "name": "stderr",
     "output_type": "stream",
     "text": [
      "[2016-09-16 14:37:38,945] - obspy.clients.fdsn.mass_downloader - INFO: Client 'http://165.98.224.52:8081/' - Successfully downloaded 1 channels (of 2)\n"
     ]
    },
    {
     "name": "stdout",
     "output_type": "stream",
     "text": [
      "Downloading http://165.98.224.52:8081/fdsnws/dataselect/1/query with requesting gzip compression\n",
      "Sending along the following payload:\n",
      "----------------------------------------------------------------------\n",
      "NU ACON -- HHN 2016-09-15T05:50:00.000000 2016-09-16T05:50:00.000000\n",
      "NU ACON -- HHE 2016-09-16T05:50:00.000000 2016-09-16T06:15:00.000000\n",
      "----------------------------------------------------------------------\n",
      "Downloaded http://165.98.224.52:8081/fdsnws/dataselect/1/query with HTTP code: 200\n"
     ]
    },
    {
     "name": "stderr",
     "output_type": "stream",
     "text": [
      "[2016-09-16 14:38:30,398] - obspy.clients.fdsn.mass_downloader - INFO: Client 'http://165.98.224.52:8081/' - Successfully downloaded 2 channels (of 2)\n"
     ]
    },
    {
     "name": "stdout",
     "output_type": "stream",
     "text": [
      "Downloading http://165.98.224.52:8081/fdsnws/dataselect/1/query with requesting gzip compression\n",
      "Sending along the following payload:\n",
      "----------------------------------------------------------------------\n",
      "NU ACON -- HHZ 2016-09-15T05:50:00.000000 2016-09-16T05:50:00.000000\n",
      "NU ACON -- HHN 2016-09-16T05:50:00.000000 2016-09-16T06:15:00.000000\n",
      "----------------------------------------------------------------------\n",
      "Downloaded http://165.98.224.52:8081/fdsnws/dataselect/1/query with HTTP code: 200\n"
     ]
    },
    {
     "name": "stderr",
     "output_type": "stream",
     "text": [
      "[2016-09-16 14:39:41,159] - obspy.clients.fdsn.mass_downloader - INFO: Client 'http://165.98.224.52:8081/' - Successfully downloaded 2 channels (of 2)\n"
     ]
    },
    {
     "name": "stdout",
     "output_type": "stream",
     "text": [
      "Downloading http://165.98.224.52:8081/fdsnws/dataselect/1/query with requesting gzip compression\n",
      "Sending along the following payload:\n",
      "----------------------------------------------------------------------\n",
      "NU ACON -- HHZ 2016-09-16T05:50:00.000000 2016-09-16T06:15:00.000000\n",
      "OV VRLE -- HHE 2016-09-15T05:50:00.000000 2016-09-16T05:50:00.000000\n",
      "----------------------------------------------------------------------\n",
      "Downloaded http://165.98.224.52:8081/fdsnws/dataselect/1/query with HTTP code: 200\n"
     ]
    },
    {
     "name": "stderr",
     "output_type": "stream",
     "text": [
      "[2016-09-16 14:40:09,356] - obspy.clients.fdsn.mass_downloader - INFO: Client 'http://165.98.224.52:8081/' - Successfully downloaded 2 channels (of 2)\n"
     ]
    },
    {
     "name": "stdout",
     "output_type": "stream",
     "text": [
      "Downloading http://165.98.224.52:8081/fdsnws/dataselect/1/query with requesting gzip compression\n",
      "Sending along the following payload:\n",
      "----------------------------------------------------------------------\n",
      "OV VRLE -- HHN 2016-09-15T05:50:00.000000 2016-09-16T05:50:00.000000\n",
      "OV VRLE -- HHE 2016-09-16T05:50:00.000000 2016-09-16T06:15:00.000000\n",
      "----------------------------------------------------------------------\n",
      "Downloaded http://165.98.224.52:8081/fdsnws/dataselect/1/query with HTTP code: 200\n"
     ]
    },
    {
     "name": "stderr",
     "output_type": "stream",
     "text": [
      "[2016-09-16 14:40:31,313] - obspy.clients.fdsn.mass_downloader - INFO: Client 'http://165.98.224.52:8081/' - Successfully downloaded 2 channels (of 2)\n"
     ]
    },
    {
     "name": "stdout",
     "output_type": "stream",
     "text": [
      "Downloading http://165.98.224.52:8081/fdsnws/dataselect/1/query with requesting gzip compression\n",
      "Sending along the following payload:\n",
      "----------------------------------------------------------------------\n",
      "OV VRLE -- HHN 2016-09-16T05:50:00.000000 2016-09-16T06:15:00.000000\n",
      "OV VRLE -- HHZ 2016-09-15T05:50:00.000000 2016-09-16T05:50:00.000000\n",
      "----------------------------------------------------------------------\n",
      "Downloaded http://165.98.224.52:8081/fdsnws/dataselect/1/query with HTTP code: 200\n"
     ]
    },
    {
     "name": "stderr",
     "output_type": "stream",
     "text": [
      "[2016-09-16 14:40:55,890] - obspy.clients.fdsn.mass_downloader - INFO: Client 'http://165.98.224.52:8081/' - Successfully downloaded 2 channels (of 2)\n"
     ]
    },
    {
     "name": "stdout",
     "output_type": "stream",
     "text": [
      "Downloading http://165.98.224.52:8081/fdsnws/dataselect/1/query with requesting gzip compression\n",
      "Sending along the following payload:\n",
      "----------------------------------------------------------------------\n",
      "OV VRLE -- HHZ 2016-09-16T05:50:00.000000 2016-09-16T06:15:00.000000\n",
      "NU RCVN -- EHE 2016-09-15T05:50:00.000000 2016-09-16T05:50:00.000000\n",
      "----------------------------------------------------------------------\n",
      "Downloaded http://165.98.224.52:8081/fdsnws/dataselect/1/query with HTTP code: 200\n"
     ]
    },
    {
     "name": "stderr",
     "output_type": "stream",
     "text": [
      "[2016-09-16 14:41:23,777] - obspy.clients.fdsn.mass_downloader - INFO: Client 'http://165.98.224.52:8081/' - Successfully downloaded 2 channels (of 2)\n"
     ]
    },
    {
     "name": "stdout",
     "output_type": "stream",
     "text": [
      "Downloading http://165.98.224.52:8081/fdsnws/dataselect/1/query with requesting gzip compression\n",
      "Sending along the following payload:\n",
      "----------------------------------------------------------------------\n",
      "NU RCVN -- EHN 2016-09-15T05:50:00.000000 2016-09-16T05:50:00.000000\n",
      "NU RCVN -- EHE 2016-09-16T05:50:00.000000 2016-09-16T06:15:00.000000\n",
      "----------------------------------------------------------------------\n",
      "Downloaded http://165.98.224.52:8081/fdsnws/dataselect/1/query with HTTP code: 200\n"
     ]
    },
    {
     "name": "stderr",
     "output_type": "stream",
     "text": [
      "[2016-09-16 14:42:07,846] - obspy.clients.fdsn.mass_downloader - INFO: Client 'http://165.98.224.52:8081/' - Successfully downloaded 2 channels (of 2)\n"
     ]
    },
    {
     "name": "stdout",
     "output_type": "stream",
     "text": [
      "Downloading http://165.98.224.52:8081/fdsnws/dataselect/1/query with requesting gzip compression\n",
      "Sending along the following payload:\n",
      "----------------------------------------------------------------------\n",
      "NU RCVN -- EHN 2016-09-16T05:50:00.000000 2016-09-16T06:15:00.000000\n",
      "NU RCVN -- EHZ 2016-09-15T05:50:00.000000 2016-09-16T05:50:00.000000\n",
      "----------------------------------------------------------------------\n",
      "Downloaded http://165.98.224.52:8081/fdsnws/dataselect/1/query with HTTP code: 200\n"
     ]
    },
    {
     "name": "stderr",
     "output_type": "stream",
     "text": [
      "[2016-09-16 14:42:46,680] - obspy.clients.fdsn.mass_downloader - INFO: Client 'http://165.98.224.52:8081/' - Successfully downloaded 2 channels (of 2)\n"
     ]
    },
    {
     "name": "stdout",
     "output_type": "stream",
     "text": [
      "Downloading http://165.98.224.52:8081/fdsnws/dataselect/1/query with requesting gzip compression\n",
      "Sending along the following payload:\n",
      "----------------------------------------------------------------------\n",
      "NU RCVN -- EHZ 2016-09-16T05:50:00.000000 2016-09-16T06:15:00.000000\n",
      "OV LAFE -- HHE 2016-09-15T05:50:00.000000 2016-09-16T05:50:00.000000\n",
      "----------------------------------------------------------------------\n",
      "Downloaded http://165.98.224.52:8081/fdsnws/dataselect/1/query with HTTP code: 200\n"
     ]
    },
    {
     "name": "stderr",
     "output_type": "stream",
     "text": [
      "[2016-09-16 14:43:18,038] - obspy.clients.fdsn.mass_downloader - INFO: Client 'http://165.98.224.52:8081/' - Successfully downloaded 2 channels (of 2)\n"
     ]
    },
    {
     "name": "stdout",
     "output_type": "stream",
     "text": [
      "Downloading http://165.98.224.52:8081/fdsnws/dataselect/1/query with requesting gzip compression\n",
      "Sending along the following payload:\n",
      "----------------------------------------------------------------------\n",
      "OV LAFE -- HHN 2016-09-15T05:50:00.000000 2016-09-16T05:50:00.000000\n",
      "OV LAFE -- HHE 2016-09-16T05:50:00.000000 2016-09-16T06:15:00.000000\n",
      "----------------------------------------------------------------------\n",
      "Downloaded http://165.98.224.52:8081/fdsnws/dataselect/1/query with HTTP code: 200\n"
     ]
    },
    {
     "name": "stderr",
     "output_type": "stream",
     "text": [
      "[2016-09-16 14:44:24,174] - obspy.clients.fdsn.mass_downloader - INFO: Client 'http://165.98.224.52:8081/' - Successfully downloaded 2 channels (of 2)\n"
     ]
    },
    {
     "name": "stdout",
     "output_type": "stream",
     "text": [
      "Downloading http://165.98.224.52:8081/fdsnws/dataselect/1/query with requesting gzip compression\n",
      "Sending along the following payload:\n",
      "----------------------------------------------------------------------\n",
      "OV LAFE -- HHZ 2016-09-15T05:50:00.000000 2016-09-16T05:50:00.000000\n",
      "OV LAFE -- HHN 2016-09-16T05:50:00.000000 2016-09-16T06:15:00.000000\n",
      "----------------------------------------------------------------------\n",
      "Downloaded http://165.98.224.52:8081/fdsnws/dataselect/1/query with HTTP code: 200\n"
     ]
    },
    {
     "name": "stderr",
     "output_type": "stream",
     "text": [
      "[2016-09-16 14:44:59,002] - obspy.clients.fdsn.mass_downloader - INFO: Client 'http://165.98.224.52:8081/' - Successfully downloaded 2 channels (of 2)\n"
     ]
    },
    {
     "name": "stdout",
     "output_type": "stream",
     "text": [
      "Downloading http://165.98.224.52:8081/fdsnws/dataselect/1/query with requesting gzip compression\n",
      "Sending along the following payload:\n",
      "----------------------------------------------------------------------\n",
      "OV LAFE -- HHZ 2016-09-16T05:50:00.000000 2016-09-16T06:15:00.000000\n",
      "----------------------------------------------------------------------\n"
     ]
    },
    {
     "name": "stderr",
     "output_type": "stream",
     "text": [
      "[2016-09-16 14:45:00,449] - obspy.clients.fdsn.mass_downloader - INFO: Client 'http://165.98.224.52:8081/' - Successfully downloaded 1 channels (of 1)\n",
      "[2016-09-16 14:45:00,451] - obspy.clients.fdsn.mass_downloader - INFO: Client 'http://165.98.224.52:8081/' - Launching basic QC checks...\n"
     ]
    },
    {
     "name": "stdout",
     "output_type": "stream",
     "text": [
      "Downloaded http://165.98.224.52:8081/fdsnws/dataselect/1/query with HTTP code: 200\n"
     ]
    },
    {
     "name": "stderr",
     "output_type": "stream",
     "text": [
      "[2016-09-16 14:45:18,095] - obspy.clients.fdsn.mass_downloader - INFO: Client 'http://165.98.224.52:8081/' - Downloaded 3360.6 MB [743.00 KB/sec] of data, 0.0 MB of which were discarded afterwards.\n",
      "[2016-09-16 14:45:18,096] - obspy.clients.fdsn.mass_downloader - INFO: Client 'http://165.98.224.52:8081/' - Status for 551 time intervals/channels after downloading: DOWNLOAD_FAILED\n",
      "[2016-09-16 14:45:18,097] - obspy.clients.fdsn.mass_downloader - INFO: Client 'http://165.98.224.52:8081/' - Status for 475 time intervals/channels after downloading: DOWNLOADED\n"
     ]
    },
    {
     "name": "stdout",
     "output_type": "stream",
     "text": [
      "Downloading http://165.98.224.52:8081/fdsnws/station/1/query with requesting gzip compression\n",
      "Sending along the following payload:\n",
      "----------------------------------------------------------------------\n",
      "level=response\n",
      "NU COPN 00 EHZ 2016-09-15T05:50:00.000000 2016-09-16T06:15:00.000000\n",
      "----------------------------------------------------------------------\n"
     ]
    },
    {
     "name": "stderr",
     "output_type": "stream",
     "text": [
      "[2016-09-16 14:45:19,113] - obspy.clients.fdsn.mass_downloader - INFO: Client 'http://165.98.224.52:8081/' - Successfully downloaded 'stations/NU.COPN.xml'.\n",
      "[2016-09-16 14:45:19,116] - obspy.clients.fdsn.mass_downloader - INFO: Client 'http://165.98.224.52:8081/' - Downloaded 1 station files [0.0 MB] in 0.8 seconds [3.29 KB/sec].\n",
      "[2016-09-16 14:45:19,119] - obspy.clients.fdsn.mass_downloader - INFO: ============================== Final report\n",
      "[2016-09-16 14:45:19,120] - obspy.clients.fdsn.mass_downloader - INFO: 0 MiniSEED files [0.0 MB] already existed.\n",
      "[2016-09-16 14:45:19,121] - obspy.clients.fdsn.mass_downloader - INFO: 85 StationXML files [4.6 MB] already existed.\n",
      "[2016-09-16 14:45:19,125] - obspy.clients.fdsn.mass_downloader - INFO: Client 'http://165.98.224.52:8081/' - Acquired 475 MiniSEED files [3360.6 MB].\n",
      "[2016-09-16 14:45:19,126] - obspy.clients.fdsn.mass_downloader - INFO: Client 'http://165.98.224.52:8081/' - Acquired 1 StationXML files [0.0 MB].\n",
      "[2016-09-16 14:45:19,127] - obspy.clients.fdsn.mass_downloader - INFO: Downloaded 3360.6 MB in total.\n"
     ]
    },
    {
     "name": "stdout",
     "output_type": "stream",
     "text": [
      "Downloaded http://165.98.224.52:8081/fdsnws/station/1/query with HTTP code: 200\n"
     ]
    },
    {
     "data": {
      "text/plain": [
       "{'http://165.98.224.52:8081/': <obspy.clients.fdsn.mass_downloader.download_helpers.ClientDownloadHelper at 0x10f941160>}"
      ]
     },
     "execution_count": 3,
     "metadata": {},
     "output_type": "execute_result"
    }
   ],
   "source": [
    "import obspy\n",
    "from obspy.clients.fdsn.mass_downloader import RectangularDomain, \\\n",
    "    Restrictions, MassDownloader\n",
    "\n",
    "# Rectangular domain containing parts of southern Germany.\n",
    "domain = RectangularDomain(minlatitude=5., maxlatitude=20.,\n",
    "                           minlongitude=-100., maxlongitude=-75)\n",
    "\n",
    "restrictions = Restrictions(\n",
    "    # Get data for a few days.\n",
    "    starttime=obspy.UTCDateTime(2016, 9, 15, 5, 50, 0),\n",
    "    endtime=obspy.UTCDateTime(2016, 9, 16, 6, 15, 0),\n",
    "    # Chunk it to have one file per day.\n",
    "    chunklength_in_sec=86400,\n",
    "    # Considering the enormous amount of data associated with continuous\n",
    "    # requests, you might want to limit the data based on SEED identifiers.\n",
    "    # If the location code is specified, the location priority list is not\n",
    "    # used; the same is true for the channel argument and priority list.\n",
    "    network=\"*\", station=\"*\", location=\"*\", channel=\"*\",\n",
    "    # The typical use case for such a data set are noise correlations where\n",
    "    # gaps are dealt with at a later stage.\n",
    "    reject_channels_with_gaps=False,\n",
    "    # Same is true with the minimum length. All data might be useful.\n",
    "    minimum_length=0.0,\n",
    "    # Guard against the same station having different names.\n",
    "    minimum_interstation_distance_in_m=100.0)\n",
    "\n",
    "# Restrict the number of providers if you know which serve the desired\n",
    "# data. If in doubt just don't specify - then all providers will be\n",
    "# queried.\n",
    "mdl = MassDownloader(providers=['http://165.98.224.52:8081/'], debug=True) #providers=[\"LMU\", \"GFZ\"])\n",
    "mdl.download(domain, restrictions, mseed_storage=\"waveforms\",\n",
    "             stationxml_storage=\"stations\")"
   ]
  },
  {
   "cell_type": "markdown",
   "metadata": {},
   "source": [
    "# The stations infos\n",
    "All the stations metadata are loaded and a summary is printed"
   ]
  },
  {
   "cell_type": "code",
   "execution_count": 4,
   "metadata": {
    "collapsed": false
   },
   "outputs": [
    {
     "name": "stdout",
     "output_type": "stream",
     "text": [
      "Inventory created at 2016-09-16T13:10:39.658722Z\n",
      "\tCreated by: ObsPy 1.0.2\n",
      "\t\t    https://www.obspy.org\n",
      "\tSending institution: Erdbebendienst Bayern,SeisComP3 (INETER)\n",
      "\tContains:\n",
      "\t\tNetworks (89):\n",
      "\t\t\tGR\n",
      "\t\t\tBW\n",
      "\t\t\tCM\n",
      "\t\t\tCM\n",
      "\t\t\tCU\n",
      "\t\t\tCU\n",
      "\t\t\tGE\n",
      "\t\t\tGI\n",
      "\t\t\tGI\n",
      "\t\t\tGI\n",
      "\t\t\tGI\n",
      "\t\t\tGI\n",
      "\t\t\tMX\n",
      "\t\t\tNU\n",
      "\t\t\tNU\n",
      "\t\t\tNU\n",
      "\t\t\tNU\n",
      "\t\t\tNU\n",
      "\t\t\tNU\n",
      "\t\t\tNU\n",
      "\t\t\tNU\n",
      "\t\t\tNU\n",
      "\t\t\tNU\n",
      "\t\t\tNU\n",
      "\t\t\tNU\n",
      "\t\t\tNU\n",
      "\t\t\tNU\n",
      "\t\t\tNU\n",
      "\t\t\tNU\n",
      "\t\t\tNU\n",
      "\t\t\tNU\n",
      "\t\t\tNU\n",
      "\t\t\tNU\n",
      "\t\t\tNU\n",
      "\t\t\tNU\n",
      "\t\t\tNU\n",
      "\t\t\tNU\n",
      "\t\t\tNU\n",
      "\t\t\tNU\n",
      "\t\t\tNU\n",
      "\t\t\tNU\n",
      "\t\t\tNU\n",
      "\t\t\tNU\n",
      "\t\t\tNU\n",
      "\t\t\tNU\n",
      "\t\t\tNU\n",
      "\t\t\tNU\n",
      "\t\t\tOV\n",
      "\t\t\tOV\n",
      "\t\t\tOV\n",
      "\t\t\tOV\n",
      "\t\t\tOV\n",
      "\t\t\tOV\n",
      "\t\t\tOV\n",
      "\t\t\tOV\n",
      "\t\t\tOV\n",
      "\t\t\tOV\n",
      "\t\t\tOV\n",
      "\t\t\tOV\n",
      "\t\t\tOV\n",
      "\t\t\tOV\n",
      "\t\t\tOV\n",
      "\t\t\tOV\n",
      "\t\t\tOV\n",
      "\t\t\tOV\n",
      "\t\t\tOV\n",
      "\t\t\tOV\n",
      "\t\t\tOV\n",
      "\t\t\tOV\n",
      "\t\t\tOV\n",
      "\t\t\tOV\n",
      "\t\t\tOV\n",
      "\t\t\tOV\n",
      "\t\t\tOV\n",
      "\t\t\tOV\n",
      "\t\t\tOV\n",
      "\t\t\tOV\n",
      "\t\t\tOV\n",
      "\t\t\tPA\n",
      "\t\t\tSV\n",
      "\t\t\tSV\n",
      "\t\t\tSV\n",
      "\t\t\tSV\n",
      "\t\t\tSV\n",
      "\t\t\tSV\n",
      "\t\t\tTC\n",
      "\t\t\tTC\n",
      "\t\t\tTC\n",
      "\t\t\tTC\n",
      "\t\tStations (92):\n",
      "\t\t\tBW.RJOB (Jochberg, Bavaria, BW-Net)\n",
      "\t\t\tBW.RJOB (Jochberg, Bavaria, BW-Net)\n",
      "\t\t\tBW.RJOB (Jochberg, Bavaria, BW-Net)\n",
      "\t\t\tCM.HEL (Santa Helena, Antioquia,Colombia)\n",
      "\t\t\tCM.PRV (Providencia, Archipelago de San Andres, Colombia)\n",
      "\t\t\tCU.BCIP (Isla Barro Colorado, Panama)\n",
      "\t\t\tCU.TGUH (Tegucigalpa, Honduras)\n",
      "\t\t\tGE.BOAB (INETER/GEOFON Station Boaco, Nicaragua)\n",
      "\t\t\tGI.CHIE (Esquipulas, Chiquimula)\n",
      "\t\t\tGI.GUNB (GUNB)\n",
      "\t\t\tGI.HUEH (Huehuetenango, Huehuetenango)\n",
      "\t\t\tGI.PETF (Flores, Peten)\n",
      "\t\t\tGI.RETA (Retalhuleu, Retalhuleu)\n",
      "\t\t\tGR.FUR (Fuerstenfeldbruck, Bavaria, GR-Net)\n",
      "\t\t\tGR.WET (Wettzell, Bavaria, GR-Net)\n",
      "\t\t\tMX.CCIG (Comitan, Chis. MX)\n",
      "\t\t\tNU.ACON (Acoyapa, Nicaragua)\n",
      "\t\t\tNU.ALTN (Altagracia, Isla de ometepe)\n",
      "\t\t\tNU.APQ3 (Volcan Apoyeque sitio 3, Nicaragua)\n",
      "\t\t\tNU.APQ4 (Volcan Apoyeque sitio 4, Nicaragua)\n",
      "\t\t\tNU.APYN (Volcan Apoyeque)\n",
      "\t\t\tNU.CNGA (Al SSO del Volcan Cerro Negro)\n",
      "\t\t\tNU.CNGN (Volcan Cerro Negro, Nicaragua)\n",
      "\t\t\tNU.COPN (Copaltepe)\n",
      "\t\t\tNU.CRIN (volcan San Cristobal, Nicaragua)\n",
      "\t\t\tNU.CRUN (El Crucero)\n",
      "\t\t\tNU.CSGN (COSIGUINA)\n",
      "\t\t\tNU.HERN (Volcan Telica, Nicaragua)\n",
      "\t\t\tNU.HOYN (Al Sur del Volcan Telica)\n",
      "\t\t\tNU.HUEN (BB Puenta Huete, Nicaragua)\n",
      "\t\t\tNU.JAPN (Al SSO del Volcan Masaya)\n",
      "\t\t\tNU.LIMN (Finca el Limon)\n",
      "\t\t\tNU.MAS3 (Al N del Volcan Masaya)\n",
      "\t\t\tNU.MATN (Matagalpa City, Nicaragua)\n",
      "\t\t\tNU.MGAN (Managua, Nicaragua)\n",
      "\t\t\tNU.MOM1 (Volcan Momotombo, Nicaragua)\n",
      "\t\t\tNU.MOM3 (MOM3)\n",
      "\t\t\tNU.MORN (Al O del Volcan Concepcion)\n",
      "\t\t\tNU.NADN (ENATREL Nandaime)\n",
      "\t\t\tNU.OMEN (Al SSO del Volcan Concepcion)\n",
      "\t\t\tNU.PACN (Al O del Volcan Cerro Negro)\n",
      "\t\t\tNU.PLRN (Al O del Volcan Concepcion)\n",
      "\t\t\tNU.RCPN (Sur Rio San Juan del Rio Coco)\n",
      "\t\t\tNU.RCVN (varillal2)\n",
      "\t\t\tNU.ROCN (ROTA CERRO NEGRO)\n",
      "\t\t\tNU.SABN (Asentamiento de Miramar)\n",
      "\t\t\tNU.SIUN (SIUNA)\n",
      "\t\t\tNU.TEL3 (Al SSE del Volcan Telica)\n",
      "\t\t\tNU.TELN (Al E del Volcan Telica)\n",
      "\t\t\tNU.TISN (Estado Mayor, Ejercito Nacional)\n",
      "\t\t\tOV.BATAN (BATAN, Limon)\n",
      "\t\t\tOV.CCOL (Caracol de Corredores, Puntarenas)\n",
      "\t\t\tOV.CDITO (COLORADITO, Corredores)\n",
      "\t\t\tOV.CDM (CERRO DE LA MUERTE, San Jose)\n",
      "\t\t\tOV.COVE (COOPE VEGA, San Carlos, Alajuela)\n",
      "\t\t\tOV.DUNO (DULCE NOMBRE, Nicoya, Guanacaste)\n",
      "\t\t\tOV.HATI (HATILLO)\n",
      "\t\t\tOV.HDC3 (HEREDIA, Heredia)\n",
      "\t\t\tOV.HZTE (HORIZONTES, Guanacaste)\n",
      "\t\t\tOV.INDI (INDI, Punta Indio, Guanacaste)\n",
      "\t\t\tOV.LAFE (Finca La Fe,Paquera, Puntarenas)\n",
      "\t\t\tOV.MRVA (Moravia de Chirripo, San Jose)\n",
      "\t\t\tOV.OCM (Ochomogo, Cartago)\n",
      "\t\t\tOV.ORTG (Ortega, Santa Cruz, Guanacaste)\n",
      "\t\t\tOV.PEZE (PEREZ ZELEDON, Campus UNA, Perez Zeledon, San Jose)\n",
      "\t\t\tOV.POTG (Potrero Grande  , Buenos Aires , Puntarenas)\n",
      "\t\t\tOV.QPSB (QUEPOS, Puntarenas)\n",
      "\t\t\tOV.RIMA (Rio Macho)\n",
      "\t\t\tOV.SAJU (San Juanillo, Guanacaste)\n",
      "\t\t\tOV.SRBA (San Rafael, Buenos Aires, Costa Rica)\n",
      "\t\t\tOV.VICA (Crater Activo, Volcan Irazu)\n",
      "\t\t\tOV.VIRE (Volcan irazu hacienda Retes)\n",
      "\t\t\tOV.VPTE (Terranova, Volcan Poas)\n",
      "\t\t\tOV.VPVF (VPVF, von Frantzius)\n",
      "\t\t\tOV.VRLE (La Escondida, Volcán Rincón de la Vieja, Guanaca)\n",
      "\t\t\tOV.VTCE (CRATER ESTE, Volcan Turrialba)\n",
      "\t\t\tOV.VTCG (CASA GUARDA, Volcan Turrialba)\n",
      "\t\t\tOV.VTCV (VTCV, Calle Vargas, Turrialba)\n",
      "\t\t\tOV.VTLA (VTLA, Volcan Turrialba)\n",
      "\t\t\tOV.VTUC (CRATER, Volcan Turrialba, Cartago)\n",
      "\t\t\tOV.VTUN (CRATER CENTRAL, Volcan Turrialba, Cartago)\n",
      "\t\t\tPA.BRU2 (bru2, Barilles, OSOP, Panama)\n",
      "\t\t\tSV.CEDA (Z)\n",
      "\t\t\tSV.CNCH (Conchagua, El Salvador)\n",
      "\t\t\tSV.MTO3 (Montecristo, El Salvador)\n",
      "\t\t\tSV.PACA (Pacayal, El Salvador)\n",
      "\t\t\tSV.PAVA (Z)\n",
      "\t\t\tSV.SNET (Montecristo, El Salvador)\n",
      "\t\t\tTC.CVTR (Volcan Turrialba, Cartago)\n",
      "\t\t\tTC.DRK0 (Cerro Durika Talamanca, Buenos Aires, Puntarenas)\n",
      "\t\t\tTC.RGM0 (Gandoca, Puntarenas)\n",
      "\t\t\tTC.TRT2 (Tortugero, Limon)\n",
      "\t\tChannels (277):\n",
      "\t\t\tBW.RJOB..EHE, BW.RJOB..EHE, BW.RJOB..EHE, BW.RJOB..EHN,\n",
      "\t\t\tBW.RJOB..EHN, BW.RJOB..EHN, BW.RJOB..EHZ, BW.RJOB..EHZ,\n",
      "\t\t\tBW.RJOB..EHZ, CM.HEL.00.BHE, CM.HEL.00.BHN, CM.HEL.00.BHZ,\n",
      "\t\t\tCM.PRV.00.BHE, CM.PRV.00.BHN, CM.PRV.00.BHZ, CU.BCIP.00.BH1,\n",
      "\t\t\tCU.BCIP.00.BH2, CU.BCIP.00.BHZ, CU.TGUH.00.BH1, CU.TGUH.00.BH2,\n",
      "\t\t\tCU.TGUH.00.BHZ, GE.BOAB..HHE, GE.BOAB..HHN, GE.BOAB..HHZ,\n",
      "\t\t\tGI.CHIE..HHE, GI.CHIE..HHN, GI.CHIE..HHZ, GI.GUNB..HHE,\n",
      "\t\t\tGI.GUNB..HHN, GI.GUNB..HHZ, GI.HUEH..HHE, GI.HUEH..HHN,\n",
      "\t\t\tGI.HUEH..HHZ, GI.PETF..HHE, GI.PETF..HHN, GI.PETF..HHZ,\n",
      "\t\t\tGI.RETA..HHE, GI.RETA..HHN, GI.RETA..HHZ, GR.FUR..BHE, GR.FUR..BHN,\n",
      "\t\t\tGR.FUR..BHZ, GR.FUR..HHE, GR.FUR..HHN, GR.FUR..HHZ, GR.FUR..LHE,\n",
      "\t\t\tGR.FUR..LHN, GR.FUR..LHZ, GR.FUR..VHE, GR.FUR..VHN, GR.FUR..VHZ,\n",
      "\t\t\tGR.WET..BHE, GR.WET..BHN, GR.WET..BHZ, GR.WET..HHE, GR.WET..HHN,\n",
      "\t\t\tGR.WET..HHZ, GR.WET..LHE, GR.WET..LHN, GR.WET..LHZ, MX.CCIG..BHE,\n",
      "\t\t\tMX.CCIG..BHN, MX.CCIG..BHZ, NU.ACON..HHE, NU.ACON..HHN,\n",
      "\t\t\tNU.ACON..HHZ, NU.ALTN.00.EHZ, NU.APQ3.00.EHE, NU.APQ3.00.EHN,\n",
      "\t\t\tNU.APQ3.00.EHZ, NU.APQ4.00.EHE, NU.APQ4.00.EHN, NU.APQ4.00.EHZ,\n",
      "\t\t\tNU.APYN.00.EHE, NU.APYN.00.EHN, NU.APYN.00.EHZ, NU.CNGA.00.EHE,\n",
      "\t\t\tNU.CNGA.00.EHN, NU.CNGA.00.EHZ, NU.CNGN..HHE, NU.CNGN..HHN,\n",
      "\t\t\tNU.CNGN..HHZ, NU.COPN.00.EHZ, NU.CRIN..HHE, NU.CRIN..HHN,\n",
      "\t\t\tNU.CRIN..HHZ, NU.CRUN.00.EHZ, NU.CSGN.00.EHZ, NU.HERN..HHE,\n",
      "\t\t\tNU.HERN..HHN, NU.HERN..HHZ, NU.HOYN.00.EHE, NU.HOYN.00.EHN,\n",
      "\t\t\tNU.HOYN.00.EHZ, NU.HUEN..HHE, NU.HUEN..HHN, NU.HUEN..HHZ,\n",
      "\t\t\tNU.JAPN.00.EHE, NU.JAPN.00.EHN, NU.JAPN.00.EHZ, NU.LIMN..HHE,\n",
      "\t\t\tNU.LIMN..HHN, NU.LIMN..HHZ, NU.MAS3.00.EHE, NU.MAS3.00.EHN,\n",
      "\t\t\tNU.MAS3.00.EHZ, NU.MATN..HHE, NU.MATN..HHN, NU.MATN..HHZ,\n",
      "\t\t\tNU.MGAN..HHE, NU.MGAN..HHN, NU.MGAN..HHZ, NU.MOM1.00.EHE,\n",
      "\t\t\tNU.MOM1.00.EHN, NU.MOM1.00.EHZ, NU.MOM3.00.EHE, NU.MOM3.00.EHN,\n",
      "\t\t\tNU.MOM3.00.EHZ, NU.MORN.00.EHE, NU.MORN.00.EHN, NU.MORN.00.EHZ,\n",
      "\t\t\tNU.NADN.00.EHE, NU.NADN.00.EHN, NU.NADN.00.EHZ, NU.OMEN.00.EHE,\n",
      "\t\t\tNU.OMEN.00.EHN, NU.OMEN.00.EHZ, NU.PACN.00.EHE, NU.PACN.00.EHN,\n",
      "\t\t\tNU.PACN.00.EHZ, NU.PLRN.00.EHE, NU.PLRN.00.EHN, NU.PLRN.00.EHZ,\n",
      "\t\t\tNU.RCPN..EHE, NU.RCPN..EHN, NU.RCPN..EHZ, NU.RCVN..EHE,\n",
      "\t\t\tNU.RCVN..EHN, NU.RCVN..EHZ, NU.ROCN.00.EHE, NU.ROCN.00.EHN,\n",
      "\t\t\tNU.ROCN.00.EHZ, NU.SABN.00.EHZ, NU.SIUN..EHE, NU.SIUN..EHN,\n",
      "\t\t\tNU.SIUN..EHZ, NU.TEL3.00.EHZ, NU.TELN.00.EHE, NU.TELN.00.EHN,\n",
      "\t\t\tNU.TELN.00.EHZ, NU.TISN.00.EHZ, OV.BATAN..HHE, OV.BATAN..HHN,\n",
      "\t\t\tOV.BATAN..HHZ, OV.CCOL..HHE, OV.CCOL..HHN, OV.CCOL..HHZ,\n",
      "\t\t\tOV.CDITO..HHE, OV.CDITO..HHN, OV.CDITO..HHZ, OV.CDM..HHE,\n",
      "\t\t\tOV.CDM..HHN, OV.CDM..HHZ, OV.COVE..HHE, OV.COVE..HHN, OV.COVE..HHZ,\n",
      "\t\t\tOV.DUNO..HHE, OV.DUNO..HHN, OV.DUNO..HHZ, OV.HATI..HHE,\n",
      "\t\t\tOV.HATI..HHN, OV.HATI..HHZ, OV.HDC3..HHE, OV.HDC3..HHN,\n",
      "\t\t\tOV.HDC3..HHZ, OV.HZTE..HHE, OV.HZTE..HHN, OV.HZTE..HHZ,\n",
      "\t\t\tOV.INDI..HHE, OV.INDI..HHN, OV.INDI..HHZ, OV.LAFE..HHE,\n",
      "\t\t\tOV.LAFE..HHN, OV.LAFE..HHZ, OV.MRVA..HHE, OV.MRVA..HHN,\n",
      "\t\t\tOV.MRVA..HHZ, OV.OCM..HHE, OV.OCM..HHN, OV.OCM..HHZ, OV.ORTG..HHE,\n",
      "\t\t\tOV.ORTG..HHN, OV.ORTG..HHZ, OV.PEZE..HHE, OV.PEZE..HHN,\n",
      "\t\t\tOV.PEZE..HHZ, OV.POTG..HHE, OV.POTG..HHN, OV.POTG..HHZ,\n",
      "\t\t\tOV.QPSB..HHE, OV.QPSB..HHN, OV.QPSB..HHZ, OV.RIMA..HHE,\n",
      "\t\t\tOV.RIMA..HHN, OV.RIMA..HHZ, OV.SAJU..HHE, OV.SAJU..HHN,\n",
      "\t\t\tOV.SAJU..HHZ, OV.SRBA..HHE, OV.SRBA..HHN, OV.SRBA..HHZ,\n",
      "\t\t\tOV.VICA..HHE, OV.VICA..HHN, OV.VICA..HHZ, OV.VIRE..HHE,\n",
      "\t\t\tOV.VIRE..HHN, OV.VIRE..HHZ, OV.VPTE..HHE, OV.VPTE..HHN,\n",
      "\t\t\tOV.VPTE..HHZ, OV.VPVF..HHE, OV.VPVF..HHN, OV.VPVF..HHZ,\n",
      "\t\t\tOV.VRLE..HHE, OV.VRLE..HHN, OV.VRLE..HHZ, OV.VTCE..HHE,\n",
      "\t\t\tOV.VTCE..HHN, OV.VTCE..HHZ, OV.VTCG..HHE, OV.VTCG..HHN,\n",
      "\t\t\tOV.VTCG..HHZ, OV.VTCV..HHE, OV.VTCV..HHN, OV.VTCV..HHZ,\n",
      "\t\t\tOV.VTLA..HHE, OV.VTLA..HHN, OV.VTLA..HHZ, OV.VTUC..HHE,\n",
      "\t\t\tOV.VTUC..HHN, OV.VTUC..HHZ, OV.VTUN..HHE, OV.VTUN..HHN,\n",
      "\t\t\tOV.VTUN..HHZ, PA.BRU2..HHE, PA.BRU2..HHN, PA.BRU2..HHZ,\n",
      "\t\t\tSV.CEDA..HHE, SV.CEDA..HHN, SV.CEDA..HHZ, SV.CNCH..HHE,\n",
      "\t\t\tSV.CNCH..HHN, SV.CNCH..HHZ, SV.MTO3..HHE, SV.MTO3..HHN,\n",
      "\t\t\tSV.MTO3..HHZ, SV.PACA..HHE, SV.PACA..HHN, SV.PACA..HHZ,\n",
      "\t\t\tSV.PAVA..HHE, SV.PAVA..HHN, SV.PAVA..HHZ, SV.SNET..HHE,\n",
      "\t\t\tSV.SNET..HHN, SV.SNET..HHZ, TC.CVTR..HHE, TC.CVTR..HHN,\n",
      "\t\t\tTC.CVTR..HHZ, TC.DRK0..HHE, TC.DRK0..HHN, TC.DRK0..HHZ,\n",
      "\t\t\tTC.RGM0..HHE, TC.RGM0..HHN, TC.RGM0..HHZ, TC.TRT2..HHE,\n",
      "\t\t\tTC.TRT2..HHN, TC.TRT2..HHZ\n"
     ]
    }
   ],
   "source": [
    "from obspy import read_inventory\n",
    "import glob\n",
    "inv = read_inventory()\n",
    "for i,f in enumerate(glob.glob(\"stations/*xml\")):\n",
    "    inv += read_inventory(f)\n",
    "print(inv)"
   ]
  },
  {
   "cell_type": "markdown",
   "metadata": {},
   "source": [
    "# A day plot\n",
    "One random data file is read and ploted."
   ]
  },
  {
   "cell_type": "code",
   "execution_count": null,
   "metadata": {
    "collapsed": true
   },
   "outputs": [],
   "source": [
    "%matplotlib notebook \n",
    "from obspy.core import read"
   ]
  },
  {
   "cell_type": "code",
   "execution_count": 16,
   "metadata": {
    "collapsed": false,
    "scrolled": false
   },
   "outputs": [
    {
     "data": {
      "application/javascript": [
       "/* Put everything inside the global mpl namespace */\n",
       "window.mpl = {};\n",
       "\n",
       "mpl.get_websocket_type = function() {\n",
       "    if (typeof(WebSocket) !== 'undefined') {\n",
       "        return WebSocket;\n",
       "    } else if (typeof(MozWebSocket) !== 'undefined') {\n",
       "        return MozWebSocket;\n",
       "    } else {\n",
       "        alert('Your browser does not have WebSocket support.' +\n",
       "              'Please try Chrome, Safari or Firefox ≥ 6. ' +\n",
       "              'Firefox 4 and 5 are also supported but you ' +\n",
       "              'have to enable WebSockets in about:config.');\n",
       "    };\n",
       "}\n",
       "\n",
       "mpl.figure = function(figure_id, websocket, ondownload, parent_element) {\n",
       "    this.id = figure_id;\n",
       "\n",
       "    this.ws = websocket;\n",
       "\n",
       "    this.supports_binary = (this.ws.binaryType != undefined);\n",
       "\n",
       "    if (!this.supports_binary) {\n",
       "        var warnings = document.getElementById(\"mpl-warnings\");\n",
       "        if (warnings) {\n",
       "            warnings.style.display = 'block';\n",
       "            warnings.textContent = (\n",
       "                \"This browser does not support binary websocket messages. \" +\n",
       "                    \"Performance may be slow.\");\n",
       "        }\n",
       "    }\n",
       "\n",
       "    this.imageObj = new Image();\n",
       "\n",
       "    this.context = undefined;\n",
       "    this.message = undefined;\n",
       "    this.canvas = undefined;\n",
       "    this.rubberband_canvas = undefined;\n",
       "    this.rubberband_context = undefined;\n",
       "    this.format_dropdown = undefined;\n",
       "\n",
       "    this.image_mode = 'full';\n",
       "\n",
       "    this.root = $('<div/>');\n",
       "    this._root_extra_style(this.root)\n",
       "    this.root.attr('style', 'display: inline-block');\n",
       "\n",
       "    $(parent_element).append(this.root);\n",
       "\n",
       "    this._init_header(this);\n",
       "    this._init_canvas(this);\n",
       "    this._init_toolbar(this);\n",
       "\n",
       "    var fig = this;\n",
       "\n",
       "    this.waiting = false;\n",
       "\n",
       "    this.ws.onopen =  function () {\n",
       "            fig.send_message(\"supports_binary\", {value: fig.supports_binary});\n",
       "            fig.send_message(\"send_image_mode\", {});\n",
       "            fig.send_message(\"refresh\", {});\n",
       "        }\n",
       "\n",
       "    this.imageObj.onload = function() {\n",
       "            if (fig.image_mode == 'full') {\n",
       "                // Full images could contain transparency (where diff images\n",
       "                // almost always do), so we need to clear the canvas so that\n",
       "                // there is no ghosting.\n",
       "                fig.context.clearRect(0, 0, fig.canvas.width, fig.canvas.height);\n",
       "            }\n",
       "            fig.context.drawImage(fig.imageObj, 0, 0);\n",
       "        };\n",
       "\n",
       "    this.imageObj.onunload = function() {\n",
       "        this.ws.close();\n",
       "    }\n",
       "\n",
       "    this.ws.onmessage = this._make_on_message_function(this);\n",
       "\n",
       "    this.ondownload = ondownload;\n",
       "}\n",
       "\n",
       "mpl.figure.prototype._init_header = function() {\n",
       "    var titlebar = $(\n",
       "        '<div class=\"ui-dialog-titlebar ui-widget-header ui-corner-all ' +\n",
       "        'ui-helper-clearfix\"/>');\n",
       "    var titletext = $(\n",
       "        '<div class=\"ui-dialog-title\" style=\"width: 100%; ' +\n",
       "        'text-align: center; padding: 3px;\"/>');\n",
       "    titlebar.append(titletext)\n",
       "    this.root.append(titlebar);\n",
       "    this.header = titletext[0];\n",
       "}\n",
       "\n",
       "\n",
       "\n",
       "mpl.figure.prototype._canvas_extra_style = function(canvas_div) {\n",
       "\n",
       "}\n",
       "\n",
       "\n",
       "mpl.figure.prototype._root_extra_style = function(canvas_div) {\n",
       "\n",
       "}\n",
       "\n",
       "mpl.figure.prototype._init_canvas = function() {\n",
       "    var fig = this;\n",
       "\n",
       "    var canvas_div = $('<div/>');\n",
       "\n",
       "    canvas_div.attr('style', 'position: relative; clear: both; outline: 0');\n",
       "\n",
       "    function canvas_keyboard_event(event) {\n",
       "        return fig.key_event(event, event['data']);\n",
       "    }\n",
       "\n",
       "    canvas_div.keydown('key_press', canvas_keyboard_event);\n",
       "    canvas_div.keyup('key_release', canvas_keyboard_event);\n",
       "    this.canvas_div = canvas_div\n",
       "    this._canvas_extra_style(canvas_div)\n",
       "    this.root.append(canvas_div);\n",
       "\n",
       "    var canvas = $('<canvas/>');\n",
       "    canvas.addClass('mpl-canvas');\n",
       "    canvas.attr('style', \"left: 0; top: 0; z-index: 0; outline: 0\")\n",
       "\n",
       "    this.canvas = canvas[0];\n",
       "    this.context = canvas[0].getContext(\"2d\");\n",
       "\n",
       "    var rubberband = $('<canvas/>');\n",
       "    rubberband.attr('style', \"position: absolute; left: 0; top: 0; z-index: 1;\")\n",
       "\n",
       "    var pass_mouse_events = true;\n",
       "\n",
       "    canvas_div.resizable({\n",
       "        start: function(event, ui) {\n",
       "            pass_mouse_events = false;\n",
       "        },\n",
       "        resize: function(event, ui) {\n",
       "            fig.request_resize(ui.size.width, ui.size.height);\n",
       "        },\n",
       "        stop: function(event, ui) {\n",
       "            pass_mouse_events = true;\n",
       "            fig.request_resize(ui.size.width, ui.size.height);\n",
       "        },\n",
       "    });\n",
       "\n",
       "    function mouse_event_fn(event) {\n",
       "        if (pass_mouse_events)\n",
       "            return fig.mouse_event(event, event['data']);\n",
       "    }\n",
       "\n",
       "    rubberband.mousedown('button_press', mouse_event_fn);\n",
       "    rubberband.mouseup('button_release', mouse_event_fn);\n",
       "    // Throttle sequential mouse events to 1 every 20ms.\n",
       "    rubberband.mousemove('motion_notify', mouse_event_fn);\n",
       "\n",
       "    rubberband.mouseenter('figure_enter', mouse_event_fn);\n",
       "    rubberband.mouseleave('figure_leave', mouse_event_fn);\n",
       "\n",
       "    canvas_div.on(\"wheel\", function (event) {\n",
       "        event = event.originalEvent;\n",
       "        event['data'] = 'scroll'\n",
       "        if (event.deltaY < 0) {\n",
       "            event.step = 1;\n",
       "        } else {\n",
       "            event.step = -1;\n",
       "        }\n",
       "        mouse_event_fn(event);\n",
       "    });\n",
       "\n",
       "    canvas_div.append(canvas);\n",
       "    canvas_div.append(rubberband);\n",
       "\n",
       "    this.rubberband = rubberband;\n",
       "    this.rubberband_canvas = rubberband[0];\n",
       "    this.rubberband_context = rubberband[0].getContext(\"2d\");\n",
       "    this.rubberband_context.strokeStyle = \"#000000\";\n",
       "\n",
       "    this._resize_canvas = function(width, height) {\n",
       "        // Keep the size of the canvas, canvas container, and rubber band\n",
       "        // canvas in synch.\n",
       "        canvas_div.css('width', width)\n",
       "        canvas_div.css('height', height)\n",
       "\n",
       "        canvas.attr('width', width);\n",
       "        canvas.attr('height', height);\n",
       "\n",
       "        rubberband.attr('width', width);\n",
       "        rubberband.attr('height', height);\n",
       "    }\n",
       "\n",
       "    // Set the figure to an initial 600x600px, this will subsequently be updated\n",
       "    // upon first draw.\n",
       "    this._resize_canvas(600, 600);\n",
       "\n",
       "    // Disable right mouse context menu.\n",
       "    $(this.rubberband_canvas).bind(\"contextmenu\",function(e){\n",
       "        return false;\n",
       "    });\n",
       "\n",
       "    function set_focus () {\n",
       "        canvas.focus();\n",
       "        canvas_div.focus();\n",
       "    }\n",
       "\n",
       "    window.setTimeout(set_focus, 100);\n",
       "}\n",
       "\n",
       "mpl.figure.prototype._init_toolbar = function() {\n",
       "    var fig = this;\n",
       "\n",
       "    var nav_element = $('<div/>')\n",
       "    nav_element.attr('style', 'width: 100%');\n",
       "    this.root.append(nav_element);\n",
       "\n",
       "    // Define a callback function for later on.\n",
       "    function toolbar_event(event) {\n",
       "        return fig.toolbar_button_onclick(event['data']);\n",
       "    }\n",
       "    function toolbar_mouse_event(event) {\n",
       "        return fig.toolbar_button_onmouseover(event['data']);\n",
       "    }\n",
       "\n",
       "    for(var toolbar_ind in mpl.toolbar_items) {\n",
       "        var name = mpl.toolbar_items[toolbar_ind][0];\n",
       "        var tooltip = mpl.toolbar_items[toolbar_ind][1];\n",
       "        var image = mpl.toolbar_items[toolbar_ind][2];\n",
       "        var method_name = mpl.toolbar_items[toolbar_ind][3];\n",
       "\n",
       "        if (!name) {\n",
       "            // put a spacer in here.\n",
       "            continue;\n",
       "        }\n",
       "        var button = $('<button/>');\n",
       "        button.addClass('ui-button ui-widget ui-state-default ui-corner-all ' +\n",
       "                        'ui-button-icon-only');\n",
       "        button.attr('role', 'button');\n",
       "        button.attr('aria-disabled', 'false');\n",
       "        button.click(method_name, toolbar_event);\n",
       "        button.mouseover(tooltip, toolbar_mouse_event);\n",
       "\n",
       "        var icon_img = $('<span/>');\n",
       "        icon_img.addClass('ui-button-icon-primary ui-icon');\n",
       "        icon_img.addClass(image);\n",
       "        icon_img.addClass('ui-corner-all');\n",
       "\n",
       "        var tooltip_span = $('<span/>');\n",
       "        tooltip_span.addClass('ui-button-text');\n",
       "        tooltip_span.html(tooltip);\n",
       "\n",
       "        button.append(icon_img);\n",
       "        button.append(tooltip_span);\n",
       "\n",
       "        nav_element.append(button);\n",
       "    }\n",
       "\n",
       "    var fmt_picker_span = $('<span/>');\n",
       "\n",
       "    var fmt_picker = $('<select/>');\n",
       "    fmt_picker.addClass('mpl-toolbar-option ui-widget ui-widget-content');\n",
       "    fmt_picker_span.append(fmt_picker);\n",
       "    nav_element.append(fmt_picker_span);\n",
       "    this.format_dropdown = fmt_picker[0];\n",
       "\n",
       "    for (var ind in mpl.extensions) {\n",
       "        var fmt = mpl.extensions[ind];\n",
       "        var option = $(\n",
       "            '<option/>', {selected: fmt === mpl.default_extension}).html(fmt);\n",
       "        fmt_picker.append(option)\n",
       "    }\n",
       "\n",
       "    // Add hover states to the ui-buttons\n",
       "    $( \".ui-button\" ).hover(\n",
       "        function() { $(this).addClass(\"ui-state-hover\");},\n",
       "        function() { $(this).removeClass(\"ui-state-hover\");}\n",
       "    );\n",
       "\n",
       "    var status_bar = $('<span class=\"mpl-message\"/>');\n",
       "    nav_element.append(status_bar);\n",
       "    this.message = status_bar[0];\n",
       "}\n",
       "\n",
       "mpl.figure.prototype.request_resize = function(x_pixels, y_pixels) {\n",
       "    // Request matplotlib to resize the figure. Matplotlib will then trigger a resize in the client,\n",
       "    // which will in turn request a refresh of the image.\n",
       "    this.send_message('resize', {'width': x_pixels, 'height': y_pixels});\n",
       "}\n",
       "\n",
       "mpl.figure.prototype.send_message = function(type, properties) {\n",
       "    properties['type'] = type;\n",
       "    properties['figure_id'] = this.id;\n",
       "    this.ws.send(JSON.stringify(properties));\n",
       "}\n",
       "\n",
       "mpl.figure.prototype.send_draw_message = function() {\n",
       "    if (!this.waiting) {\n",
       "        this.waiting = true;\n",
       "        this.ws.send(JSON.stringify({type: \"draw\", figure_id: this.id}));\n",
       "    }\n",
       "}\n",
       "\n",
       "\n",
       "mpl.figure.prototype.handle_save = function(fig, msg) {\n",
       "    var format_dropdown = fig.format_dropdown;\n",
       "    var format = format_dropdown.options[format_dropdown.selectedIndex].value;\n",
       "    fig.ondownload(fig, format);\n",
       "}\n",
       "\n",
       "\n",
       "mpl.figure.prototype.handle_resize = function(fig, msg) {\n",
       "    var size = msg['size'];\n",
       "    if (size[0] != fig.canvas.width || size[1] != fig.canvas.height) {\n",
       "        fig._resize_canvas(size[0], size[1]);\n",
       "        fig.send_message(\"refresh\", {});\n",
       "    };\n",
       "}\n",
       "\n",
       "mpl.figure.prototype.handle_rubberband = function(fig, msg) {\n",
       "    var x0 = msg['x0'];\n",
       "    var y0 = fig.canvas.height - msg['y0'];\n",
       "    var x1 = msg['x1'];\n",
       "    var y1 = fig.canvas.height - msg['y1'];\n",
       "    x0 = Math.floor(x0) + 0.5;\n",
       "    y0 = Math.floor(y0) + 0.5;\n",
       "    x1 = Math.floor(x1) + 0.5;\n",
       "    y1 = Math.floor(y1) + 0.5;\n",
       "    var min_x = Math.min(x0, x1);\n",
       "    var min_y = Math.min(y0, y1);\n",
       "    var width = Math.abs(x1 - x0);\n",
       "    var height = Math.abs(y1 - y0);\n",
       "\n",
       "    fig.rubberband_context.clearRect(\n",
       "        0, 0, fig.canvas.width, fig.canvas.height);\n",
       "\n",
       "    fig.rubberband_context.strokeRect(min_x, min_y, width, height);\n",
       "}\n",
       "\n",
       "mpl.figure.prototype.handle_figure_label = function(fig, msg) {\n",
       "    // Updates the figure title.\n",
       "    fig.header.textContent = msg['label'];\n",
       "}\n",
       "\n",
       "mpl.figure.prototype.handle_cursor = function(fig, msg) {\n",
       "    var cursor = msg['cursor'];\n",
       "    switch(cursor)\n",
       "    {\n",
       "    case 0:\n",
       "        cursor = 'pointer';\n",
       "        break;\n",
       "    case 1:\n",
       "        cursor = 'default';\n",
       "        break;\n",
       "    case 2:\n",
       "        cursor = 'crosshair';\n",
       "        break;\n",
       "    case 3:\n",
       "        cursor = 'move';\n",
       "        break;\n",
       "    }\n",
       "    fig.rubberband_canvas.style.cursor = cursor;\n",
       "}\n",
       "\n",
       "mpl.figure.prototype.handle_message = function(fig, msg) {\n",
       "    fig.message.textContent = msg['message'];\n",
       "}\n",
       "\n",
       "mpl.figure.prototype.handle_draw = function(fig, msg) {\n",
       "    // Request the server to send over a new figure.\n",
       "    fig.send_draw_message();\n",
       "}\n",
       "\n",
       "mpl.figure.prototype.handle_image_mode = function(fig, msg) {\n",
       "    fig.image_mode = msg['mode'];\n",
       "}\n",
       "\n",
       "mpl.figure.prototype.updated_canvas_event = function() {\n",
       "    // Called whenever the canvas gets updated.\n",
       "    this.send_message(\"ack\", {});\n",
       "}\n",
       "\n",
       "// A function to construct a web socket function for onmessage handling.\n",
       "// Called in the figure constructor.\n",
       "mpl.figure.prototype._make_on_message_function = function(fig) {\n",
       "    return function socket_on_message(evt) {\n",
       "        if (evt.data instanceof Blob) {\n",
       "            /* FIXME: We get \"Resource interpreted as Image but\n",
       "             * transferred with MIME type text/plain:\" errors on\n",
       "             * Chrome.  But how to set the MIME type?  It doesn't seem\n",
       "             * to be part of the websocket stream */\n",
       "            evt.data.type = \"image/png\";\n",
       "\n",
       "            /* Free the memory for the previous frames */\n",
       "            if (fig.imageObj.src) {\n",
       "                (window.URL || window.webkitURL).revokeObjectURL(\n",
       "                    fig.imageObj.src);\n",
       "            }\n",
       "\n",
       "            fig.imageObj.src = (window.URL || window.webkitURL).createObjectURL(\n",
       "                evt.data);\n",
       "            fig.updated_canvas_event();\n",
       "            fig.waiting = false;\n",
       "            return;\n",
       "        }\n",
       "        else if (typeof evt.data === 'string' && evt.data.slice(0, 21) == \"data:image/png;base64\") {\n",
       "            fig.imageObj.src = evt.data;\n",
       "            fig.updated_canvas_event();\n",
       "            fig.waiting = false;\n",
       "            return;\n",
       "        }\n",
       "\n",
       "        var msg = JSON.parse(evt.data);\n",
       "        var msg_type = msg['type'];\n",
       "\n",
       "        // Call the  \"handle_{type}\" callback, which takes\n",
       "        // the figure and JSON message as its only arguments.\n",
       "        try {\n",
       "            var callback = fig[\"handle_\" + msg_type];\n",
       "        } catch (e) {\n",
       "            console.log(\"No handler for the '\" + msg_type + \"' message type: \", msg);\n",
       "            return;\n",
       "        }\n",
       "\n",
       "        if (callback) {\n",
       "            try {\n",
       "                // console.log(\"Handling '\" + msg_type + \"' message: \", msg);\n",
       "                callback(fig, msg);\n",
       "            } catch (e) {\n",
       "                console.log(\"Exception inside the 'handler_\" + msg_type + \"' callback:\", e, e.stack, msg);\n",
       "            }\n",
       "        }\n",
       "    };\n",
       "}\n",
       "\n",
       "// from http://stackoverflow.com/questions/1114465/getting-mouse-location-in-canvas\n",
       "mpl.findpos = function(e) {\n",
       "    //this section is from http://www.quirksmode.org/js/events_properties.html\n",
       "    var targ;\n",
       "    if (!e)\n",
       "        e = window.event;\n",
       "    if (e.target)\n",
       "        targ = e.target;\n",
       "    else if (e.srcElement)\n",
       "        targ = e.srcElement;\n",
       "    if (targ.nodeType == 3) // defeat Safari bug\n",
       "        targ = targ.parentNode;\n",
       "\n",
       "    // jQuery normalizes the pageX and pageY\n",
       "    // pageX,Y are the mouse positions relative to the document\n",
       "    // offset() returns the position of the element relative to the document\n",
       "    var x = e.pageX - $(targ).offset().left;\n",
       "    var y = e.pageY - $(targ).offset().top;\n",
       "\n",
       "    return {\"x\": x, \"y\": y};\n",
       "};\n",
       "\n",
       "/*\n",
       " * return a copy of an object with only non-object keys\n",
       " * we need this to avoid circular references\n",
       " * http://stackoverflow.com/a/24161582/3208463\n",
       " */\n",
       "function simpleKeys (original) {\n",
       "  return Object.keys(original).reduce(function (obj, key) {\n",
       "    if (typeof original[key] !== 'object')\n",
       "        obj[key] = original[key]\n",
       "    return obj;\n",
       "  }, {});\n",
       "}\n",
       "\n",
       "mpl.figure.prototype.mouse_event = function(event, name) {\n",
       "    var canvas_pos = mpl.findpos(event)\n",
       "\n",
       "    if (name === 'button_press')\n",
       "    {\n",
       "        this.canvas.focus();\n",
       "        this.canvas_div.focus();\n",
       "    }\n",
       "\n",
       "    var x = canvas_pos.x;\n",
       "    var y = canvas_pos.y;\n",
       "\n",
       "    this.send_message(name, {x: x, y: y, button: event.button,\n",
       "                             step: event.step,\n",
       "                             guiEvent: simpleKeys(event)});\n",
       "\n",
       "    /* This prevents the web browser from automatically changing to\n",
       "     * the text insertion cursor when the button is pressed.  We want\n",
       "     * to control all of the cursor setting manually through the\n",
       "     * 'cursor' event from matplotlib */\n",
       "    event.preventDefault();\n",
       "    return false;\n",
       "}\n",
       "\n",
       "mpl.figure.prototype._key_event_extra = function(event, name) {\n",
       "    // Handle any extra behaviour associated with a key event\n",
       "}\n",
       "\n",
       "mpl.figure.prototype.key_event = function(event, name) {\n",
       "\n",
       "    // Prevent repeat events\n",
       "    if (name == 'key_press')\n",
       "    {\n",
       "        if (event.which === this._key)\n",
       "            return;\n",
       "        else\n",
       "            this._key = event.which;\n",
       "    }\n",
       "    if (name == 'key_release')\n",
       "        this._key = null;\n",
       "\n",
       "    var value = '';\n",
       "    if (event.ctrlKey && event.which != 17)\n",
       "        value += \"ctrl+\";\n",
       "    if (event.altKey && event.which != 18)\n",
       "        value += \"alt+\";\n",
       "    if (event.shiftKey && event.which != 16)\n",
       "        value += \"shift+\";\n",
       "\n",
       "    value += 'k';\n",
       "    value += event.which.toString();\n",
       "\n",
       "    this._key_event_extra(event, name);\n",
       "\n",
       "    this.send_message(name, {key: value,\n",
       "                             guiEvent: simpleKeys(event)});\n",
       "    return false;\n",
       "}\n",
       "\n",
       "mpl.figure.prototype.toolbar_button_onclick = function(name) {\n",
       "    if (name == 'download') {\n",
       "        this.handle_save(this, null);\n",
       "    } else {\n",
       "        this.send_message(\"toolbar_button\", {name: name});\n",
       "    }\n",
       "};\n",
       "\n",
       "mpl.figure.prototype.toolbar_button_onmouseover = function(tooltip) {\n",
       "    this.message.textContent = tooltip;\n",
       "};\n",
       "mpl.toolbar_items = [[\"Home\", \"Reset original view\", \"fa fa-home icon-home\", \"home\"], [\"Back\", \"Back to  previous view\", \"fa fa-arrow-left icon-arrow-left\", \"back\"], [\"Forward\", \"Forward to next view\", \"fa fa-arrow-right icon-arrow-right\", \"forward\"], [\"\", \"\", \"\", \"\"], [\"Pan\", \"Pan axes with left mouse, zoom with right\", \"fa fa-arrows icon-move\", \"pan\"], [\"Zoom\", \"Zoom to rectangle\", \"fa fa-square-o icon-check-empty\", \"zoom\"], [\"\", \"\", \"\", \"\"], [\"Download\", \"Download plot\", \"fa fa-floppy-o icon-save\", \"download\"]];\n",
       "\n",
       "mpl.extensions = [\"eps\", \"jpeg\", \"pdf\", \"png\", \"ps\", \"raw\", \"svg\", \"tif\"];\n",
       "\n",
       "mpl.default_extension = \"png\";var comm_websocket_adapter = function(comm) {\n",
       "    // Create a \"websocket\"-like object which calls the given IPython comm\n",
       "    // object with the appropriate methods. Currently this is a non binary\n",
       "    // socket, so there is still some room for performance tuning.\n",
       "    var ws = {};\n",
       "\n",
       "    ws.close = function() {\n",
       "        comm.close()\n",
       "    };\n",
       "    ws.send = function(m) {\n",
       "        //console.log('sending', m);\n",
       "        comm.send(m);\n",
       "    };\n",
       "    // Register the callback with on_msg.\n",
       "    comm.on_msg(function(msg) {\n",
       "        //console.log('receiving', msg['content']['data'], msg);\n",
       "        // Pass the mpl event to the overriden (by mpl) onmessage function.\n",
       "        ws.onmessage(msg['content']['data'])\n",
       "    });\n",
       "    return ws;\n",
       "}\n",
       "\n",
       "mpl.mpl_figure_comm = function(comm, msg) {\n",
       "    // This is the function which gets called when the mpl process\n",
       "    // starts-up an IPython Comm through the \"matplotlib\" channel.\n",
       "\n",
       "    var id = msg.content.data.id;\n",
       "    // Get hold of the div created by the display call when the Comm\n",
       "    // socket was opened in Python.\n",
       "    var element = $(\"#\" + id);\n",
       "    var ws_proxy = comm_websocket_adapter(comm)\n",
       "\n",
       "    function ondownload(figure, format) {\n",
       "        window.open(figure.imageObj.src);\n",
       "    }\n",
       "\n",
       "    var fig = new mpl.figure(id, ws_proxy,\n",
       "                           ondownload,\n",
       "                           element.get(0));\n",
       "\n",
       "    // Call onopen now - mpl needs it, as it is assuming we've passed it a real\n",
       "    // web socket which is closed, not our websocket->open comm proxy.\n",
       "    ws_proxy.onopen();\n",
       "\n",
       "    fig.parent_element = element.get(0);\n",
       "    fig.cell_info = mpl.find_output_cell(\"<div id='\" + id + \"'></div>\");\n",
       "    if (!fig.cell_info) {\n",
       "        console.error(\"Failed to find cell for figure\", id, fig);\n",
       "        return;\n",
       "    }\n",
       "\n",
       "    var output_index = fig.cell_info[2]\n",
       "    var cell = fig.cell_info[0];\n",
       "\n",
       "};\n",
       "\n",
       "mpl.figure.prototype.handle_close = function(fig, msg) {\n",
       "    fig.root.unbind('remove')\n",
       "\n",
       "    // Update the output cell to use the data from the current canvas.\n",
       "    fig.push_to_output();\n",
       "    var dataURL = fig.canvas.toDataURL();\n",
       "    // Re-enable the keyboard manager in IPython - without this line, in FF,\n",
       "    // the notebook keyboard shortcuts fail.\n",
       "    IPython.keyboard_manager.enable()\n",
       "    $(fig.parent_element).html('<img src=\"' + dataURL + '\">');\n",
       "    fig.close_ws(fig, msg);\n",
       "}\n",
       "\n",
       "mpl.figure.prototype.close_ws = function(fig, msg){\n",
       "    fig.send_message('closing', msg);\n",
       "    // fig.ws.close()\n",
       "}\n",
       "\n",
       "mpl.figure.prototype.push_to_output = function(remove_interactive) {\n",
       "    // Turn the data on the canvas into data in the output cell.\n",
       "    var dataURL = this.canvas.toDataURL();\n",
       "    this.cell_info[1]['text/html'] = '<img src=\"' + dataURL + '\">';\n",
       "}\n",
       "\n",
       "mpl.figure.prototype.updated_canvas_event = function() {\n",
       "    // Tell IPython that the notebook contents must change.\n",
       "    IPython.notebook.set_dirty(true);\n",
       "    this.send_message(\"ack\", {});\n",
       "    var fig = this;\n",
       "    // Wait a second, then push the new image to the DOM so\n",
       "    // that it is saved nicely (might be nice to debounce this).\n",
       "    setTimeout(function () { fig.push_to_output() }, 1000);\n",
       "}\n",
       "\n",
       "mpl.figure.prototype._init_toolbar = function() {\n",
       "    var fig = this;\n",
       "\n",
       "    var nav_element = $('<div/>')\n",
       "    nav_element.attr('style', 'width: 100%');\n",
       "    this.root.append(nav_element);\n",
       "\n",
       "    // Define a callback function for later on.\n",
       "    function toolbar_event(event) {\n",
       "        return fig.toolbar_button_onclick(event['data']);\n",
       "    }\n",
       "    function toolbar_mouse_event(event) {\n",
       "        return fig.toolbar_button_onmouseover(event['data']);\n",
       "    }\n",
       "\n",
       "    for(var toolbar_ind in mpl.toolbar_items){\n",
       "        var name = mpl.toolbar_items[toolbar_ind][0];\n",
       "        var tooltip = mpl.toolbar_items[toolbar_ind][1];\n",
       "        var image = mpl.toolbar_items[toolbar_ind][2];\n",
       "        var method_name = mpl.toolbar_items[toolbar_ind][3];\n",
       "\n",
       "        if (!name) { continue; };\n",
       "\n",
       "        var button = $('<button class=\"btn btn-default\" href=\"#\" title=\"' + name + '\"><i class=\"fa ' + image + ' fa-lg\"></i></button>');\n",
       "        button.click(method_name, toolbar_event);\n",
       "        button.mouseover(tooltip, toolbar_mouse_event);\n",
       "        nav_element.append(button);\n",
       "    }\n",
       "\n",
       "    // Add the status bar.\n",
       "    var status_bar = $('<span class=\"mpl-message\" style=\"text-align:right; float: right;\"/>');\n",
       "    nav_element.append(status_bar);\n",
       "    this.message = status_bar[0];\n",
       "\n",
       "    // Add the close button to the window.\n",
       "    var buttongrp = $('<div class=\"btn-group inline pull-right\"></div>');\n",
       "    var button = $('<button class=\"btn btn-mini btn-primary\" href=\"#\" title=\"Stop Interaction\"><i class=\"fa fa-power-off icon-remove icon-large\"></i></button>');\n",
       "    button.click(function (evt) { fig.handle_close(fig, {}); } );\n",
       "    button.mouseover('Stop Interaction', toolbar_mouse_event);\n",
       "    buttongrp.append(button);\n",
       "    var titlebar = this.root.find($('.ui-dialog-titlebar'));\n",
       "    titlebar.prepend(buttongrp);\n",
       "}\n",
       "\n",
       "mpl.figure.prototype._root_extra_style = function(el){\n",
       "    var fig = this\n",
       "    el.on(\"remove\", function(){\n",
       "\tfig.close_ws(fig, {});\n",
       "    });\n",
       "}\n",
       "\n",
       "mpl.figure.prototype._canvas_extra_style = function(el){\n",
       "    // this is important to make the div 'focusable\n",
       "    el.attr('tabindex', 0)\n",
       "    // reach out to IPython and tell the keyboard manager to turn it's self\n",
       "    // off when our div gets focus\n",
       "\n",
       "    // location in version 3\n",
       "    if (IPython.notebook.keyboard_manager) {\n",
       "        IPython.notebook.keyboard_manager.register_events(el);\n",
       "    }\n",
       "    else {\n",
       "        // location in version 2\n",
       "        IPython.keyboard_manager.register_events(el);\n",
       "    }\n",
       "\n",
       "}\n",
       "\n",
       "mpl.figure.prototype._key_event_extra = function(event, name) {\n",
       "    var manager = IPython.notebook.keyboard_manager;\n",
       "    if (!manager)\n",
       "        manager = IPython.keyboard_manager;\n",
       "\n",
       "    // Check for shift+enter\n",
       "    if (event.shiftKey && event.which == 13) {\n",
       "        this.canvas_div.blur();\n",
       "        event.shiftKey = false;\n",
       "        // Send a \"J\" for go to next cell\n",
       "        event.which = 74;\n",
       "        event.keyCode = 74;\n",
       "        manager.command_mode();\n",
       "        manager.handle_keydown(event);\n",
       "    }\n",
       "}\n",
       "\n",
       "mpl.figure.prototype.handle_save = function(fig, msg) {\n",
       "    fig.ondownload(fig, null);\n",
       "}\n",
       "\n",
       "\n",
       "mpl.find_output_cell = function(html_output) {\n",
       "    // Return the cell and output element which can be found *uniquely* in the notebook.\n",
       "    // Note - this is a bit hacky, but it is done because the \"notebook_saving.Notebook\"\n",
       "    // IPython event is triggered only after the cells have been serialised, which for\n",
       "    // our purposes (turning an active figure into a static one), is too late.\n",
       "    var cells = IPython.notebook.get_cells();\n",
       "    var ncells = cells.length;\n",
       "    for (var i=0; i<ncells; i++) {\n",
       "        var cell = cells[i];\n",
       "        if (cell.cell_type === 'code'){\n",
       "            for (var j=0; j<cell.output_area.outputs.length; j++) {\n",
       "                var data = cell.output_area.outputs[j];\n",
       "                if (data.data) {\n",
       "                    // IPython >= 3 moved mimebundle to data attribute of output\n",
       "                    data = data.data;\n",
       "                }\n",
       "                if (data['text/html'] == html_output) {\n",
       "                    return [cell, data, j];\n",
       "                }\n",
       "            }\n",
       "        }\n",
       "    }\n",
       "}\n",
       "\n",
       "// Register the function which deals with the matplotlib target/channel.\n",
       "// The kernel may be null if the page has been refreshed.\n",
       "if (IPython.notebook.kernel != null) {\n",
       "    IPython.notebook.kernel.comm_manager.register_target('matplotlib', mpl.mpl_figure_comm);\n",
       "}\n"
      ],
      "text/plain": [
       "<IPython.core.display.Javascript object>"
      ]
     },
     "metadata": {},
     "output_type": "display_data"
    },
    {
     "data": {
      "text/html": [
       "<img src=\"data:image/png;base64,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\">"
      ],
      "text/plain": [
       "<IPython.core.display.HTML object>"
      ]
     },
     "metadata": {},
     "output_type": "display_data"
    }
   ],
   "source": [
    "singlechannel = read(glob.glob('waveforms/*.mseed')[-3] ) \n",
    "#'waveforms/NU.MAS3.00.EHZ__20160906T000000Z__20160907T000000Z.mseed')\n",
    "singlechannel.plot(type='dayplot')"
   ]
  }
 ],
 "metadata": {
  "anaconda-cloud": {},
  "kernelspec": {
   "display_name": "Python [default]",
   "language": "python",
   "name": "python3"
  },
  "language_info": {
   "codemirror_mode": {
    "name": "ipython",
    "version": 3
   },
   "file_extension": ".py",
   "mimetype": "text/x-python",
   "name": "python",
   "nbconvert_exporter": "python",
   "pygments_lexer": "ipython3",
   "version": "3.5.2"
  }
 },
 "nbformat": 4,
 "nbformat_minor": 0
}
